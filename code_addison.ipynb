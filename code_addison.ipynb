{
 "cells": [
  {
   "cell_type": "code",
   "execution_count": 1,
   "metadata": {},
   "outputs": [],
   "source": [
    "from utils import *\n",
    "\n",
    "train = pd.read_csv('data/train.csv')\n",
    "test = pd.read_csv('data/test.csv')"
   ]
  },
  {
   "cell_type": "markdown",
   "metadata": {},
   "source": [
    "## Perform Sanity Checks\n",
    "\n",
    "### Check for missing values in the datasets\n",
    "\n",
    "Check if the train dataset contains any missing values in its columns."
   ]
  },
  {
   "cell_type": "code",
   "execution_count": 2,
   "metadata": {},
   "outputs": [
    {
     "data": {
      "text/plain": [
       "id                False\n",
       "industry           True\n",
       "state             False\n",
       "request_date      False\n",
       "term              False\n",
       "employee_count    False\n",
       "business_new      False\n",
       "business_type     False\n",
       "location          False\n",
       "other_loans       False\n",
       "loan_amount       False\n",
       "insured_amount    False\n",
       "default_status    False\n",
       "dtype: bool"
      ]
     },
     "execution_count": 2,
     "metadata": {},
     "output_type": "execute_result"
    }
   ],
   "source": [
    "check_missing_columns(train)"
   ]
  },
  {
   "cell_type": "markdown",
   "metadata": {},
   "source": [
    "Industry column in train dataset contains missing values. Let's dive deeper to see how many records contains missing industry."
   ]
  },
  {
   "cell_type": "code",
   "execution_count": 3,
   "metadata": {},
   "outputs": [
    {
     "data": {
      "text/html": [
       "<div>\n",
       "<style scoped>\n",
       "    .dataframe tbody tr th:only-of-type {\n",
       "        vertical-align: middle;\n",
       "    }\n",
       "\n",
       "    .dataframe tbody tr th {\n",
       "        vertical-align: top;\n",
       "    }\n",
       "\n",
       "    .dataframe thead th {\n",
       "        text-align: right;\n",
       "    }\n",
       "</style>\n",
       "<table border=\"1\" class=\"dataframe\">\n",
       "  <thead>\n",
       "    <tr style=\"text-align: right;\">\n",
       "      <th></th>\n",
       "      <th>id</th>\n",
       "      <th>industry</th>\n",
       "      <th>state</th>\n",
       "      <th>request_date</th>\n",
       "      <th>term</th>\n",
       "      <th>employee_count</th>\n",
       "      <th>business_new</th>\n",
       "      <th>business_type</th>\n",
       "      <th>location</th>\n",
       "      <th>other_loans</th>\n",
       "      <th>loan_amount</th>\n",
       "      <th>insured_amount</th>\n",
       "      <th>default_status</th>\n",
       "    </tr>\n",
       "  </thead>\n",
       "  <tbody>\n",
       "    <tr>\n",
       "      <th>1946</th>\n",
       "      <td>3771775001</td>\n",
       "      <td>NaN</td>\n",
       "      <td>NH</td>\n",
       "      <td>20-Nov-09</td>\n",
       "      <td>12</td>\n",
       "      <td>1</td>\n",
       "      <td>New</td>\n",
       "      <td>0</td>\n",
       "      <td>Rural</td>\n",
       "      <td>N</td>\n",
       "      <td>$100.00</td>\n",
       "      <td>$75,000.00</td>\n",
       "      <td>0</td>\n",
       "    </tr>\n",
       "  </tbody>\n",
       "</table>\n",
       "</div>"
      ],
      "text/plain": [
       "              id industry state request_date  term  employee_count  \\\n",
       "1946  3771775001      NaN    NH    20-Nov-09    12               1   \n",
       "\n",
       "     business_new  business_type location other_loans loan_amount  \\\n",
       "1946          New              0    Rural           N     $100.00   \n",
       "\n",
       "     insured_amount  default_status  \n",
       "1946     $75,000.00               0  "
      ]
     },
     "execution_count": 3,
     "metadata": {},
     "output_type": "execute_result"
    }
   ],
   "source": [
    "train[train.industry.isna()]"
   ]
  },
  {
   "cell_type": "markdown",
   "metadata": {},
   "source": [
    "1 record contains missing industry value. Let's drop that record."
   ]
  },
  {
   "cell_type": "code",
   "execution_count": 4,
   "metadata": {},
   "outputs": [
    {
     "data": {
      "text/plain": [
       "(2401, 13)"
      ]
     },
     "execution_count": 4,
     "metadata": {},
     "output_type": "execute_result"
    }
   ],
   "source": [
    "train = train.dropna()\n",
    "train.shape"
   ]
  },
  {
   "cell_type": "markdown",
   "metadata": {},
   "source": [
    "\n",
    "Check if the test dataset contains any missing values in its columns."
   ]
  },
  {
   "cell_type": "code",
   "execution_count": 5,
   "metadata": {},
   "outputs": [
    {
     "data": {
      "text/plain": [
       "id                False\n",
       "industry          False\n",
       "state             False\n",
       "request_date      False\n",
       "term              False\n",
       "employee_count    False\n",
       "business_new      False\n",
       "business_type     False\n",
       "location          False\n",
       "other_loans       False\n",
       "loan_amount       False\n",
       "insured_amount    False\n",
       "dtype: bool"
      ]
     },
     "execution_count": 5,
     "metadata": {},
     "output_type": "execute_result"
    }
   ],
   "source": [
    "check_missing_columns(test)"
   ]
  },
  {
   "cell_type": "markdown",
   "metadata": {},
   "source": [
    "Test dataset does not contain any missing values."
   ]
  },
  {
   "cell_type": "markdown",
   "metadata": {},
   "source": [
    "### Check if the test dataset contains categorical values that are not present in train dataset."
   ]
  },
  {
   "cell_type": "code",
   "execution_count": 6,
   "metadata": {},
   "outputs": [
    {
     "name": "stdout",
     "output_type": "stream",
     "text": [
      "Checking categorical column: industry\n",
      "Unique categories in train: {'Energy', 'Construction', 'Healthcare', 'Hotel', 'Trading', 'Engineering', 'Transportation', 'Entertainment', 'Consulting', 'Others', 'Education', 'Administration', 'Finance', 'Manufacturing', 'Real Estate', 'Agriculture'}\n",
      "Unique categories in test: {'Energy', 'Construction', 'Healthcare', 'Hotel', 'Trading', 'Entertainment', 'Transportation', 'Engineering', 'Consulting', 'Others', 'Education', 'Administration', 'Finance', 'Manufacturing', 'Real Estate', 'Agriculture'}\n",
      "Categories in test but not train: set()\n",
      "\n",
      "Checking categorical column: state\n",
      "Unique categories in train: {'IN', 'PA', 'ND', 'HI', 'NJ', 'NV', 'ME', 'NY', 'MS', 'AK', 'VT', 'WI', 'AR', 'IL', 'IA', 'MT', 'RI', 'AZ', 'DE', 'OK', 'AL', 'WY', 'UT', 'NH', 'LA', 'WA', 'CT', 'SC', 'WV', 'OH', 'NE', 'TX', 'CO', 'NC', 'KS', 'FL', 'ID', 'MN', 'TN', 'MO', 'CA', 'MI', 'KY', 'MA', 'OR', 'MD', 'NM', 'VA', 'GA', 'SD'}\n",
      "Unique categories in test: {'IN', 'PA', 'ND', 'HI', 'NJ', 'NV', 'ME', 'NY', 'MS', 'AK', 'VT', 'WI', 'AR', 'IL', 'MT', 'IA', 'AZ', 'DE', 'OK', 'AL', 'UT', 'NH', 'LA', 'WA', 'CT', 'SC', 'OH', 'NE', 'TX', 'CO', 'NC', 'KS', 'ID', 'FL', 'MN', 'MD', 'MO', 'CA', 'TN', 'MI', 'MA', 'KY', 'OR', 'NM', 'VA', 'GA', 'SD'}\n",
      "Categories in test but not train: set()\n",
      "\n",
      "Checking categorical column: business_new\n",
      "Unique categories in train: {'New', 'Existing'}\n",
      "Unique categories in test: {'New', 'Existing'}\n",
      "Categories in test but not train: set()\n",
      "\n",
      "Checking categorical column: business_type\n",
      "Unique categories in train: {0, 1}\n",
      "Unique categories in test: {0, 1}\n",
      "Categories in test but not train: set()\n",
      "\n",
      "Checking categorical column: location\n",
      "Unique categories in train: {'Rural'}\n",
      "Unique categories in test: {'Rural'}\n",
      "Categories in test but not train: set()\n",
      "\n",
      "Checking categorical column: other_loans\n",
      "Unique categories in train: {'Y', 'N'}\n",
      "Unique categories in test: {'Y', 'N'}\n",
      "Categories in test but not train: set()\n",
      "\n"
     ]
    },
    {
     "data": {
      "text/plain": [
       "[]"
      ]
     },
     "execution_count": 6,
     "metadata": {},
     "output_type": "execute_result"
    }
   ],
   "source": [
    "columns_missing_categories = check_categories(\n",
    "    test, train, \n",
    "    categorical_fields = ['industry', 'state', 'business_new', 'business_type', 'location', 'other_loans']\n",
    ")\n",
    "columns_missing_categories"
   ]
  },
  {
   "cell_type": "markdown",
   "metadata": {},
   "source": [
    "All of the categorical values present in test dataset can also be found in the train dataset. Additionally, it could be observed that the location field only has one unique value, 'Rural' in both the train and test datasets. Since every record has the same location 'Rural', the location field would not have any discriminative power over default_status. Hence, let's drop the location field from the potential list of features to include in the model."
   ]
  },
  {
   "cell_type": "code",
   "execution_count": 7,
   "metadata": {},
   "outputs": [],
   "source": [
    "train = train.drop(columns = ['location'])\n",
    "test = test.drop(columns = ['location'])"
   ]
  },
  {
   "cell_type": "markdown",
   "metadata": {},
   "source": [
    "## Perform Data Preprocessing\n",
    "\n",
    "### Preprocessing Steps:\n",
    "\n",
    "1) Cast request_date to a datetime object.\n",
    "2) Cast loan_amount and insured_amount to float."
   ]
  },
  {
   "cell_type": "code",
   "execution_count": 8,
   "metadata": {},
   "outputs": [
    {
     "name": "stdout",
     "output_type": "stream",
     "text": [
      "loan_amount\n",
      "<class 'str'>    2401\n",
      "Name: count, dtype: int64\n",
      "count    2.401000e+03\n",
      "mean     2.045728e+05\n",
      "std      3.643876e+05\n",
      "min      3.000000e+03\n",
      "25%      2.500000e+04\n",
      "50%      5.000000e+04\n",
      "75%      2.169900e+05\n",
      "max      4.000000e+06\n",
      "Name: loan_amount, dtype: float64\n",
      "\n",
      "insured_amount\n",
      "<class 'str'>    2401\n",
      "Name: count, dtype: int64\n",
      "count    2.401000e+03\n",
      "mean     1.550500e+05\n",
      "std      3.114833e+05\n",
      "min      1.700000e+03\n",
      "25%      1.275000e+04\n",
      "50%      3.500000e+04\n",
      "75%      1.250000e+05\n",
      "max      4.000000e+06\n",
      "Name: insured_amount, dtype: float64\n",
      "\n"
     ]
    },
    {
     "data": {
      "text/html": [
       "<div>\n",
       "<style scoped>\n",
       "    .dataframe tbody tr th:only-of-type {\n",
       "        vertical-align: middle;\n",
       "    }\n",
       "\n",
       "    .dataframe tbody tr th {\n",
       "        vertical-align: top;\n",
       "    }\n",
       "\n",
       "    .dataframe thead th {\n",
       "        text-align: right;\n",
       "    }\n",
       "</style>\n",
       "<table border=\"1\" class=\"dataframe\">\n",
       "  <thead>\n",
       "    <tr style=\"text-align: right;\">\n",
       "      <th></th>\n",
       "      <th>id</th>\n",
       "      <th>industry</th>\n",
       "      <th>state</th>\n",
       "      <th>request_date</th>\n",
       "      <th>term</th>\n",
       "      <th>employee_count</th>\n",
       "      <th>business_new</th>\n",
       "      <th>business_type</th>\n",
       "      <th>other_loans</th>\n",
       "      <th>loan_amount</th>\n",
       "      <th>insured_amount</th>\n",
       "      <th>default_status</th>\n",
       "    </tr>\n",
       "  </thead>\n",
       "  <tbody>\n",
       "    <tr>\n",
       "      <th>0</th>\n",
       "      <td>4050975007</td>\n",
       "      <td>Others</td>\n",
       "      <td>VA</td>\n",
       "      <td>2010-04-27</td>\n",
       "      <td>34</td>\n",
       "      <td>4</td>\n",
       "      <td>New</td>\n",
       "      <td>0</td>\n",
       "      <td>N</td>\n",
       "      <td>35000.0</td>\n",
       "      <td>35000.0</td>\n",
       "      <td>1</td>\n",
       "    </tr>\n",
       "    <tr>\n",
       "      <th>1</th>\n",
       "      <td>3735095001</td>\n",
       "      <td>Manufacturing</td>\n",
       "      <td>CA</td>\n",
       "      <td>2009-11-05</td>\n",
       "      <td>107</td>\n",
       "      <td>1</td>\n",
       "      <td>New</td>\n",
       "      <td>0</td>\n",
       "      <td>N</td>\n",
       "      <td>15000.0</td>\n",
       "      <td>13500.0</td>\n",
       "      <td>1</td>\n",
       "    </tr>\n",
       "  </tbody>\n",
       "</table>\n",
       "</div>"
      ],
      "text/plain": [
       "           id       industry state request_date  term  employee_count  \\\n",
       "0  4050975007         Others    VA   2010-04-27    34               4   \n",
       "1  3735095001  Manufacturing    CA   2009-11-05   107               1   \n",
       "\n",
       "  business_new  business_type other_loans  loan_amount  insured_amount  \\\n",
       "0          New              0           N      35000.0         35000.0   \n",
       "1          New              0           N      15000.0         13500.0   \n",
       "\n",
       "   default_status  \n",
       "0               1  \n",
       "1               1  "
      ]
     },
     "execution_count": 8,
     "metadata": {},
     "output_type": "execute_result"
    }
   ],
   "source": [
    "train = convert_to_datetime(train)\n",
    "train = convert_amt_cols_to_float(train, amt_cols = ['loan_amount', 'insured_amount'])\n",
    "train.head(2)"
   ]
  },
  {
   "cell_type": "code",
   "execution_count": 9,
   "metadata": {},
   "outputs": [
    {
     "name": "stdout",
     "output_type": "stream",
     "text": [
      "loan_amount\n",
      "<class 'str'>    601\n",
      "Name: count, dtype: int64\n",
      "count    6.010000e+02\n",
      "mean     1.885422e+05\n",
      "std      3.085025e+05\n",
      "min      2.000000e+03\n",
      "25%      2.500000e+04\n",
      "50%      5.194000e+04\n",
      "75%      2.180000e+05\n",
      "max      2.000000e+06\n",
      "Name: loan_amount, dtype: float64\n",
      "\n",
      "insured_amount\n",
      "<class 'str'>    601\n",
      "Name: count, dtype: int64\n",
      "count    6.010000e+02\n",
      "mean     1.469891e+05\n",
      "std      2.720625e+05\n",
      "min      1.000000e+03\n",
      "25%      1.275000e+04\n",
      "50%      3.500000e+04\n",
      "75%      1.275000e+05\n",
      "max      1.500000e+06\n",
      "Name: insured_amount, dtype: float64\n",
      "\n"
     ]
    },
    {
     "data": {
      "text/html": [
       "<div>\n",
       "<style scoped>\n",
       "    .dataframe tbody tr th:only-of-type {\n",
       "        vertical-align: middle;\n",
       "    }\n",
       "\n",
       "    .dataframe tbody tr th {\n",
       "        vertical-align: top;\n",
       "    }\n",
       "\n",
       "    .dataframe thead th {\n",
       "        text-align: right;\n",
       "    }\n",
       "</style>\n",
       "<table border=\"1\" class=\"dataframe\">\n",
       "  <thead>\n",
       "    <tr style=\"text-align: right;\">\n",
       "      <th></th>\n",
       "      <th>id</th>\n",
       "      <th>industry</th>\n",
       "      <th>state</th>\n",
       "      <th>request_date</th>\n",
       "      <th>term</th>\n",
       "      <th>employee_count</th>\n",
       "      <th>business_new</th>\n",
       "      <th>business_type</th>\n",
       "      <th>other_loans</th>\n",
       "      <th>loan_amount</th>\n",
       "      <th>insured_amount</th>\n",
       "    </tr>\n",
       "  </thead>\n",
       "  <tbody>\n",
       "    <tr>\n",
       "      <th>0</th>\n",
       "      <td>3999155010</td>\n",
       "      <td>Hotel</td>\n",
       "      <td>CA</td>\n",
       "      <td>2010-03-26</td>\n",
       "      <td>91</td>\n",
       "      <td>1</td>\n",
       "      <td>Existing</td>\n",
       "      <td>1</td>\n",
       "      <td>N</td>\n",
       "      <td>270000.0</td>\n",
       "      <td>243000.0</td>\n",
       "    </tr>\n",
       "    <tr>\n",
       "      <th>1</th>\n",
       "      <td>4035035009</td>\n",
       "      <td>Hotel</td>\n",
       "      <td>WA</td>\n",
       "      <td>2010-04-19</td>\n",
       "      <td>124</td>\n",
       "      <td>0</td>\n",
       "      <td>Existing</td>\n",
       "      <td>0</td>\n",
       "      <td>N</td>\n",
       "      <td>443574.0</td>\n",
       "      <td>432000.0</td>\n",
       "    </tr>\n",
       "  </tbody>\n",
       "</table>\n",
       "</div>"
      ],
      "text/plain": [
       "           id industry state request_date  term  employee_count business_new  \\\n",
       "0  3999155010    Hotel    CA   2010-03-26    91               1     Existing   \n",
       "1  4035035009    Hotel    WA   2010-04-19   124               0     Existing   \n",
       "\n",
       "   business_type other_loans  loan_amount  insured_amount  \n",
       "0              1           N     270000.0        243000.0  \n",
       "1              0           N     443574.0        432000.0  "
      ]
     },
     "execution_count": 9,
     "metadata": {},
     "output_type": "execute_result"
    }
   ],
   "source": [
    "test = convert_to_datetime(test)\n",
    "test = convert_amt_cols_to_float(test, amt_cols = ['loan_amount', 'insured_amount'])\n",
    "test.head(2)"
   ]
  },
  {
   "cell_type": "markdown",
   "metadata": {},
   "source": [
    "## Perform Feature Engineering \n",
    "\n",
    "### Features to create\n",
    "\n",
    "1. loan_insured_amount_diff: Difference between loan_amount and insured_amount (i.e. loan_amount - insured_amount)\n",
    "2. insured_loan_ratio: Ratio between insured_amount and loan_amount (i.e. insured_amount / loan_amount)"
   ]
  },
  {
   "cell_type": "code",
   "execution_count": 10,
   "metadata": {},
   "outputs": [
    {
     "data": {
      "text/html": [
       "<div>\n",
       "<style scoped>\n",
       "    .dataframe tbody tr th:only-of-type {\n",
       "        vertical-align: middle;\n",
       "    }\n",
       "\n",
       "    .dataframe tbody tr th {\n",
       "        vertical-align: top;\n",
       "    }\n",
       "\n",
       "    .dataframe thead th {\n",
       "        text-align: right;\n",
       "    }\n",
       "</style>\n",
       "<table border=\"1\" class=\"dataframe\">\n",
       "  <thead>\n",
       "    <tr style=\"text-align: right;\">\n",
       "      <th></th>\n",
       "      <th>id</th>\n",
       "      <th>industry</th>\n",
       "      <th>state</th>\n",
       "      <th>request_date</th>\n",
       "      <th>term</th>\n",
       "      <th>employee_count</th>\n",
       "      <th>business_new</th>\n",
       "      <th>business_type</th>\n",
       "      <th>other_loans</th>\n",
       "      <th>loan_amount</th>\n",
       "      <th>insured_amount</th>\n",
       "      <th>default_status</th>\n",
       "      <th>loan_insured_amount_diff</th>\n",
       "      <th>insured_loan_ratio</th>\n",
       "    </tr>\n",
       "  </thead>\n",
       "  <tbody>\n",
       "    <tr>\n",
       "      <th>0</th>\n",
       "      <td>4050975007</td>\n",
       "      <td>Others</td>\n",
       "      <td>VA</td>\n",
       "      <td>2010-04-27</td>\n",
       "      <td>34</td>\n",
       "      <td>4</td>\n",
       "      <td>New</td>\n",
       "      <td>0</td>\n",
       "      <td>N</td>\n",
       "      <td>35000.0</td>\n",
       "      <td>35000.0</td>\n",
       "      <td>1</td>\n",
       "      <td>0.0</td>\n",
       "      <td>1.0</td>\n",
       "    </tr>\n",
       "    <tr>\n",
       "      <th>1</th>\n",
       "      <td>3735095001</td>\n",
       "      <td>Manufacturing</td>\n",
       "      <td>CA</td>\n",
       "      <td>2009-11-05</td>\n",
       "      <td>107</td>\n",
       "      <td>1</td>\n",
       "      <td>New</td>\n",
       "      <td>0</td>\n",
       "      <td>N</td>\n",
       "      <td>15000.0</td>\n",
       "      <td>13500.0</td>\n",
       "      <td>1</td>\n",
       "      <td>1500.0</td>\n",
       "      <td>0.9</td>\n",
       "    </tr>\n",
       "  </tbody>\n",
       "</table>\n",
       "</div>"
      ],
      "text/plain": [
       "           id       industry state request_date  term  employee_count  \\\n",
       "0  4050975007         Others    VA   2010-04-27    34               4   \n",
       "1  3735095001  Manufacturing    CA   2009-11-05   107               1   \n",
       "\n",
       "  business_new  business_type other_loans  loan_amount  insured_amount  \\\n",
       "0          New              0           N      35000.0         35000.0   \n",
       "1          New              0           N      15000.0         13500.0   \n",
       "\n",
       "   default_status  loan_insured_amount_diff  insured_loan_ratio  \n",
       "0               1                       0.0                 1.0  \n",
       "1               1                    1500.0                 0.9  "
      ]
     },
     "execution_count": 10,
     "metadata": {},
     "output_type": "execute_result"
    }
   ],
   "source": [
    "train = create_loan_insured_features(train)\n",
    "train.head(2)"
   ]
  },
  {
   "cell_type": "code",
   "execution_count": 11,
   "metadata": {},
   "outputs": [
    {
     "data": {
      "text/html": [
       "<div>\n",
       "<style scoped>\n",
       "    .dataframe tbody tr th:only-of-type {\n",
       "        vertical-align: middle;\n",
       "    }\n",
       "\n",
       "    .dataframe tbody tr th {\n",
       "        vertical-align: top;\n",
       "    }\n",
       "\n",
       "    .dataframe thead th {\n",
       "        text-align: right;\n",
       "    }\n",
       "</style>\n",
       "<table border=\"1\" class=\"dataframe\">\n",
       "  <thead>\n",
       "    <tr style=\"text-align: right;\">\n",
       "      <th></th>\n",
       "      <th>id</th>\n",
       "      <th>industry</th>\n",
       "      <th>state</th>\n",
       "      <th>request_date</th>\n",
       "      <th>term</th>\n",
       "      <th>employee_count</th>\n",
       "      <th>business_new</th>\n",
       "      <th>business_type</th>\n",
       "      <th>other_loans</th>\n",
       "      <th>loan_amount</th>\n",
       "      <th>insured_amount</th>\n",
       "      <th>loan_insured_amount_diff</th>\n",
       "      <th>insured_loan_ratio</th>\n",
       "    </tr>\n",
       "  </thead>\n",
       "  <tbody>\n",
       "    <tr>\n",
       "      <th>0</th>\n",
       "      <td>3999155010</td>\n",
       "      <td>Hotel</td>\n",
       "      <td>CA</td>\n",
       "      <td>2010-03-26</td>\n",
       "      <td>91</td>\n",
       "      <td>1</td>\n",
       "      <td>Existing</td>\n",
       "      <td>1</td>\n",
       "      <td>N</td>\n",
       "      <td>270000.0</td>\n",
       "      <td>243000.0</td>\n",
       "      <td>27000.0</td>\n",
       "      <td>0.900000</td>\n",
       "    </tr>\n",
       "    <tr>\n",
       "      <th>1</th>\n",
       "      <td>4035035009</td>\n",
       "      <td>Hotel</td>\n",
       "      <td>WA</td>\n",
       "      <td>2010-04-19</td>\n",
       "      <td>124</td>\n",
       "      <td>0</td>\n",
       "      <td>Existing</td>\n",
       "      <td>0</td>\n",
       "      <td>N</td>\n",
       "      <td>443574.0</td>\n",
       "      <td>432000.0</td>\n",
       "      <td>11574.0</td>\n",
       "      <td>0.973907</td>\n",
       "    </tr>\n",
       "  </tbody>\n",
       "</table>\n",
       "</div>"
      ],
      "text/plain": [
       "           id industry state request_date  term  employee_count business_new  \\\n",
       "0  3999155010    Hotel    CA   2010-03-26    91               1     Existing   \n",
       "1  4035035009    Hotel    WA   2010-04-19   124               0     Existing   \n",
       "\n",
       "   business_type other_loans  loan_amount  insured_amount  \\\n",
       "0              1           N     270000.0        243000.0   \n",
       "1              0           N     443574.0        432000.0   \n",
       "\n",
       "   loan_insured_amount_diff  insured_loan_ratio  \n",
       "0                   27000.0            0.900000  \n",
       "1                   11574.0            0.973907  "
      ]
     },
     "execution_count": 11,
     "metadata": {},
     "output_type": "execute_result"
    }
   ],
   "source": [
    "test = create_loan_insured_features(test)\n",
    "test.head(2)"
   ]
  },
  {
   "cell_type": "markdown",
   "metadata": {},
   "source": [
    "## Perform Exploratory Data Analysis\n",
    "\n",
    "### Analyse the request date distributions in train and test datasets."
   ]
  },
  {
   "cell_type": "code",
   "execution_count": 12,
   "metadata": {},
   "outputs": [
    {
     "data": {
      "text/plain": [
       "count                             2401\n",
       "mean     2010-03-15 00:34:47.130362368\n",
       "min                2009-10-01 00:00:00\n",
       "25%                2009-12-14 00:00:00\n",
       "50%                2010-03-11 00:00:00\n",
       "75%                2010-06-02 00:00:00\n",
       "max                2010-09-30 00:00:00\n",
       "Name: request_date, dtype: object"
      ]
     },
     "execution_count": 12,
     "metadata": {},
     "output_type": "execute_result"
    }
   ],
   "source": [
    "train.request_date.describe()"
   ]
  },
  {
   "cell_type": "code",
   "execution_count": 13,
   "metadata": {},
   "outputs": [
    {
     "data": {
      "text/plain": [
       "count                              601\n",
       "mean     2010-03-11 00:38:20.166389248\n",
       "min                2009-10-01 00:00:00\n",
       "25%                2009-12-09 00:00:00\n",
       "50%                2010-03-04 00:00:00\n",
       "75%                2010-06-07 00:00:00\n",
       "max                2010-09-30 00:00:00\n",
       "Name: request_date, dtype: object"
      ]
     },
     "execution_count": 13,
     "metadata": {},
     "output_type": "execute_result"
    }
   ],
   "source": [
    "test.request_date.describe()"
   ]
  },
  {
   "cell_type": "markdown",
   "metadata": {},
   "source": [
    "The request_date range for both the train and test datasets are the same, starting from 2009-10-01 and ending on 2010-09-30. request_date wise, it seems that both the train and test datasets were drawn from the same distribution."
   ]
  },
  {
   "cell_type": "markdown",
   "metadata": {},
   "source": [
    "### Analyse the distribution of target variable, default_status"
   ]
  },
  {
   "cell_type": "code",
   "execution_count": 14,
   "metadata": {},
   "outputs": [
    {
     "data": {
      "application/vnd.plotly.v1+json": {
       "config": {
        "plotlyServerURL": "https://plot.ly"
       },
       "data": [
        {
         "alignmentgroup": "True",
         "hovertemplate": "percentage=%{x}<br>default_status=%{y}<extra></extra>",
         "legendgroup": "",
         "marker": {
          "color": "#636efa",
          "pattern": {
           "shape": ""
          }
         },
         "name": "",
         "offsetgroup": "",
         "orientation": "h",
         "showlegend": false,
         "textposition": "auto",
         "type": "bar",
         "x": [
          32.194918783840066,
          67.80508121615993
         ],
         "xaxis": "x",
         "y": [
          "1",
          "0"
         ],
         "yaxis": "y"
        }
       ],
       "layout": {
        "barmode": "relative",
        "height": 400,
        "legend": {
         "tracegroupgap": 0
        },
        "template": {
         "data": {
          "bar": [
           {
            "error_x": {
             "color": "#2a3f5f"
            },
            "error_y": {
             "color": "#2a3f5f"
            },
            "marker": {
             "line": {
              "color": "#E5ECF6",
              "width": 0.5
             },
             "pattern": {
              "fillmode": "overlay",
              "size": 10,
              "solidity": 0.2
             }
            },
            "type": "bar"
           }
          ],
          "barpolar": [
           {
            "marker": {
             "line": {
              "color": "#E5ECF6",
              "width": 0.5
             },
             "pattern": {
              "fillmode": "overlay",
              "size": 10,
              "solidity": 0.2
             }
            },
            "type": "barpolar"
           }
          ],
          "carpet": [
           {
            "aaxis": {
             "endlinecolor": "#2a3f5f",
             "gridcolor": "white",
             "linecolor": "white",
             "minorgridcolor": "white",
             "startlinecolor": "#2a3f5f"
            },
            "baxis": {
             "endlinecolor": "#2a3f5f",
             "gridcolor": "white",
             "linecolor": "white",
             "minorgridcolor": "white",
             "startlinecolor": "#2a3f5f"
            },
            "type": "carpet"
           }
          ],
          "choropleth": [
           {
            "colorbar": {
             "outlinewidth": 0,
             "ticks": ""
            },
            "type": "choropleth"
           }
          ],
          "contour": [
           {
            "colorbar": {
             "outlinewidth": 0,
             "ticks": ""
            },
            "colorscale": [
             [
              0,
              "#0d0887"
             ],
             [
              0.1111111111111111,
              "#46039f"
             ],
             [
              0.2222222222222222,
              "#7201a8"
             ],
             [
              0.3333333333333333,
              "#9c179e"
             ],
             [
              0.4444444444444444,
              "#bd3786"
             ],
             [
              0.5555555555555556,
              "#d8576b"
             ],
             [
              0.6666666666666666,
              "#ed7953"
             ],
             [
              0.7777777777777778,
              "#fb9f3a"
             ],
             [
              0.8888888888888888,
              "#fdca26"
             ],
             [
              1,
              "#f0f921"
             ]
            ],
            "type": "contour"
           }
          ],
          "contourcarpet": [
           {
            "colorbar": {
             "outlinewidth": 0,
             "ticks": ""
            },
            "type": "contourcarpet"
           }
          ],
          "heatmap": [
           {
            "colorbar": {
             "outlinewidth": 0,
             "ticks": ""
            },
            "colorscale": [
             [
              0,
              "#0d0887"
             ],
             [
              0.1111111111111111,
              "#46039f"
             ],
             [
              0.2222222222222222,
              "#7201a8"
             ],
             [
              0.3333333333333333,
              "#9c179e"
             ],
             [
              0.4444444444444444,
              "#bd3786"
             ],
             [
              0.5555555555555556,
              "#d8576b"
             ],
             [
              0.6666666666666666,
              "#ed7953"
             ],
             [
              0.7777777777777778,
              "#fb9f3a"
             ],
             [
              0.8888888888888888,
              "#fdca26"
             ],
             [
              1,
              "#f0f921"
             ]
            ],
            "type": "heatmap"
           }
          ],
          "heatmapgl": [
           {
            "colorbar": {
             "outlinewidth": 0,
             "ticks": ""
            },
            "colorscale": [
             [
              0,
              "#0d0887"
             ],
             [
              0.1111111111111111,
              "#46039f"
             ],
             [
              0.2222222222222222,
              "#7201a8"
             ],
             [
              0.3333333333333333,
              "#9c179e"
             ],
             [
              0.4444444444444444,
              "#bd3786"
             ],
             [
              0.5555555555555556,
              "#d8576b"
             ],
             [
              0.6666666666666666,
              "#ed7953"
             ],
             [
              0.7777777777777778,
              "#fb9f3a"
             ],
             [
              0.8888888888888888,
              "#fdca26"
             ],
             [
              1,
              "#f0f921"
             ]
            ],
            "type": "heatmapgl"
           }
          ],
          "histogram": [
           {
            "marker": {
             "pattern": {
              "fillmode": "overlay",
              "size": 10,
              "solidity": 0.2
             }
            },
            "type": "histogram"
           }
          ],
          "histogram2d": [
           {
            "colorbar": {
             "outlinewidth": 0,
             "ticks": ""
            },
            "colorscale": [
             [
              0,
              "#0d0887"
             ],
             [
              0.1111111111111111,
              "#46039f"
             ],
             [
              0.2222222222222222,
              "#7201a8"
             ],
             [
              0.3333333333333333,
              "#9c179e"
             ],
             [
              0.4444444444444444,
              "#bd3786"
             ],
             [
              0.5555555555555556,
              "#d8576b"
             ],
             [
              0.6666666666666666,
              "#ed7953"
             ],
             [
              0.7777777777777778,
              "#fb9f3a"
             ],
             [
              0.8888888888888888,
              "#fdca26"
             ],
             [
              1,
              "#f0f921"
             ]
            ],
            "type": "histogram2d"
           }
          ],
          "histogram2dcontour": [
           {
            "colorbar": {
             "outlinewidth": 0,
             "ticks": ""
            },
            "colorscale": [
             [
              0,
              "#0d0887"
             ],
             [
              0.1111111111111111,
              "#46039f"
             ],
             [
              0.2222222222222222,
              "#7201a8"
             ],
             [
              0.3333333333333333,
              "#9c179e"
             ],
             [
              0.4444444444444444,
              "#bd3786"
             ],
             [
              0.5555555555555556,
              "#d8576b"
             ],
             [
              0.6666666666666666,
              "#ed7953"
             ],
             [
              0.7777777777777778,
              "#fb9f3a"
             ],
             [
              0.8888888888888888,
              "#fdca26"
             ],
             [
              1,
              "#f0f921"
             ]
            ],
            "type": "histogram2dcontour"
           }
          ],
          "mesh3d": [
           {
            "colorbar": {
             "outlinewidth": 0,
             "ticks": ""
            },
            "type": "mesh3d"
           }
          ],
          "parcoords": [
           {
            "line": {
             "colorbar": {
              "outlinewidth": 0,
              "ticks": ""
             }
            },
            "type": "parcoords"
           }
          ],
          "pie": [
           {
            "automargin": true,
            "type": "pie"
           }
          ],
          "scatter": [
           {
            "fillpattern": {
             "fillmode": "overlay",
             "size": 10,
             "solidity": 0.2
            },
            "type": "scatter"
           }
          ],
          "scatter3d": [
           {
            "line": {
             "colorbar": {
              "outlinewidth": 0,
              "ticks": ""
             }
            },
            "marker": {
             "colorbar": {
              "outlinewidth": 0,
              "ticks": ""
             }
            },
            "type": "scatter3d"
           }
          ],
          "scattercarpet": [
           {
            "marker": {
             "colorbar": {
              "outlinewidth": 0,
              "ticks": ""
             }
            },
            "type": "scattercarpet"
           }
          ],
          "scattergeo": [
           {
            "marker": {
             "colorbar": {
              "outlinewidth": 0,
              "ticks": ""
             }
            },
            "type": "scattergeo"
           }
          ],
          "scattergl": [
           {
            "marker": {
             "colorbar": {
              "outlinewidth": 0,
              "ticks": ""
             }
            },
            "type": "scattergl"
           }
          ],
          "scattermapbox": [
           {
            "marker": {
             "colorbar": {
              "outlinewidth": 0,
              "ticks": ""
             }
            },
            "type": "scattermapbox"
           }
          ],
          "scatterpolar": [
           {
            "marker": {
             "colorbar": {
              "outlinewidth": 0,
              "ticks": ""
             }
            },
            "type": "scatterpolar"
           }
          ],
          "scatterpolargl": [
           {
            "marker": {
             "colorbar": {
              "outlinewidth": 0,
              "ticks": ""
             }
            },
            "type": "scatterpolargl"
           }
          ],
          "scatterternary": [
           {
            "marker": {
             "colorbar": {
              "outlinewidth": 0,
              "ticks": ""
             }
            },
            "type": "scatterternary"
           }
          ],
          "surface": [
           {
            "colorbar": {
             "outlinewidth": 0,
             "ticks": ""
            },
            "colorscale": [
             [
              0,
              "#0d0887"
             ],
             [
              0.1111111111111111,
              "#46039f"
             ],
             [
              0.2222222222222222,
              "#7201a8"
             ],
             [
              0.3333333333333333,
              "#9c179e"
             ],
             [
              0.4444444444444444,
              "#bd3786"
             ],
             [
              0.5555555555555556,
              "#d8576b"
             ],
             [
              0.6666666666666666,
              "#ed7953"
             ],
             [
              0.7777777777777778,
              "#fb9f3a"
             ],
             [
              0.8888888888888888,
              "#fdca26"
             ],
             [
              1,
              "#f0f921"
             ]
            ],
            "type": "surface"
           }
          ],
          "table": [
           {
            "cells": {
             "fill": {
              "color": "#EBF0F8"
             },
             "line": {
              "color": "white"
             }
            },
            "header": {
             "fill": {
              "color": "#C8D4E3"
             },
             "line": {
              "color": "white"
             }
            },
            "type": "table"
           }
          ]
         },
         "layout": {
          "annotationdefaults": {
           "arrowcolor": "#2a3f5f",
           "arrowhead": 0,
           "arrowwidth": 1
          },
          "autotypenumbers": "strict",
          "coloraxis": {
           "colorbar": {
            "outlinewidth": 0,
            "ticks": ""
           }
          },
          "colorscale": {
           "diverging": [
            [
             0,
             "#8e0152"
            ],
            [
             0.1,
             "#c51b7d"
            ],
            [
             0.2,
             "#de77ae"
            ],
            [
             0.3,
             "#f1b6da"
            ],
            [
             0.4,
             "#fde0ef"
            ],
            [
             0.5,
             "#f7f7f7"
            ],
            [
             0.6,
             "#e6f5d0"
            ],
            [
             0.7,
             "#b8e186"
            ],
            [
             0.8,
             "#7fbc41"
            ],
            [
             0.9,
             "#4d9221"
            ],
            [
             1,
             "#276419"
            ]
           ],
           "sequential": [
            [
             0,
             "#0d0887"
            ],
            [
             0.1111111111111111,
             "#46039f"
            ],
            [
             0.2222222222222222,
             "#7201a8"
            ],
            [
             0.3333333333333333,
             "#9c179e"
            ],
            [
             0.4444444444444444,
             "#bd3786"
            ],
            [
             0.5555555555555556,
             "#d8576b"
            ],
            [
             0.6666666666666666,
             "#ed7953"
            ],
            [
             0.7777777777777778,
             "#fb9f3a"
            ],
            [
             0.8888888888888888,
             "#fdca26"
            ],
            [
             1,
             "#f0f921"
            ]
           ],
           "sequentialminus": [
            [
             0,
             "#0d0887"
            ],
            [
             0.1111111111111111,
             "#46039f"
            ],
            [
             0.2222222222222222,
             "#7201a8"
            ],
            [
             0.3333333333333333,
             "#9c179e"
            ],
            [
             0.4444444444444444,
             "#bd3786"
            ],
            [
             0.5555555555555556,
             "#d8576b"
            ],
            [
             0.6666666666666666,
             "#ed7953"
            ],
            [
             0.7777777777777778,
             "#fb9f3a"
            ],
            [
             0.8888888888888888,
             "#fdca26"
            ],
            [
             1,
             "#f0f921"
            ]
           ]
          },
          "colorway": [
           "#636efa",
           "#EF553B",
           "#00cc96",
           "#ab63fa",
           "#FFA15A",
           "#19d3f3",
           "#FF6692",
           "#B6E880",
           "#FF97FF",
           "#FECB52"
          ],
          "font": {
           "color": "#2a3f5f"
          },
          "geo": {
           "bgcolor": "white",
           "lakecolor": "white",
           "landcolor": "#E5ECF6",
           "showlakes": true,
           "showland": true,
           "subunitcolor": "white"
          },
          "hoverlabel": {
           "align": "left"
          },
          "hovermode": "closest",
          "mapbox": {
           "style": "light"
          },
          "paper_bgcolor": "white",
          "plot_bgcolor": "#E5ECF6",
          "polar": {
           "angularaxis": {
            "gridcolor": "white",
            "linecolor": "white",
            "ticks": ""
           },
           "bgcolor": "#E5ECF6",
           "radialaxis": {
            "gridcolor": "white",
            "linecolor": "white",
            "ticks": ""
           }
          },
          "scene": {
           "xaxis": {
            "backgroundcolor": "#E5ECF6",
            "gridcolor": "white",
            "gridwidth": 2,
            "linecolor": "white",
            "showbackground": true,
            "ticks": "",
            "zerolinecolor": "white"
           },
           "yaxis": {
            "backgroundcolor": "#E5ECF6",
            "gridcolor": "white",
            "gridwidth": 2,
            "linecolor": "white",
            "showbackground": true,
            "ticks": "",
            "zerolinecolor": "white"
           },
           "zaxis": {
            "backgroundcolor": "#E5ECF6",
            "gridcolor": "white",
            "gridwidth": 2,
            "linecolor": "white",
            "showbackground": true,
            "ticks": "",
            "zerolinecolor": "white"
           }
          },
          "shapedefaults": {
           "line": {
            "color": "#2a3f5f"
           }
          },
          "ternary": {
           "aaxis": {
            "gridcolor": "white",
            "linecolor": "white",
            "ticks": ""
           },
           "baxis": {
            "gridcolor": "white",
            "linecolor": "white",
            "ticks": ""
           },
           "bgcolor": "#E5ECF6",
           "caxis": {
            "gridcolor": "white",
            "linecolor": "white",
            "ticks": ""
           }
          },
          "title": {
           "x": 0.05
          },
          "xaxis": {
           "automargin": true,
           "gridcolor": "white",
           "linecolor": "white",
           "ticks": "",
           "title": {
            "standoff": 15
           },
           "zerolinecolor": "white",
           "zerolinewidth": 2
          },
          "yaxis": {
           "automargin": true,
           "gridcolor": "white",
           "linecolor": "white",
           "ticks": "",
           "title": {
            "standoff": 15
           },
           "zerolinecolor": "white",
           "zerolinewidth": 2
          }
         }
        },
        "title": {
         "text": "Percentage of each default_status in train dataset"
        },
        "width": 800,
        "xaxis": {
         "anchor": "y",
         "domain": [
          0,
          1
         ],
         "title": {
          "text": "percentage"
         }
        },
        "yaxis": {
         "anchor": "x",
         "domain": [
          0,
          1
         ],
         "tickmode": "linear",
         "title": {
          "text": "default_status"
         }
        }
       }
      }
     },
     "metadata": {},
     "output_type": "display_data"
    }
   ],
   "source": [
    "plot_categories_distribution(train, 'default_status', width = 800, height = 400)"
   ]
  },
  {
   "cell_type": "markdown",
   "metadata": {},
   "source": [
    "It could be observed that the train dataset is imbalanced in terms of the target variable, default status. The number of companies that do not default (i.e. default_status = 0) is ~2x of the number of companies that default (i.e. default_status = 1). In such a case, accuracy might not be the most appropriate performance metric to use, as it is bias towards the majority class (i.e. default_status = 0). Instead f1 might be a more appropriate performance metric to use, as it is the harmonic mean of precision and recall, and hence unbiased towards either of the classes."
   ]
  },
  {
   "cell_type": "markdown",
   "metadata": {},
   "source": [
    "### Analyse the probability of default given a categorical value"
   ]
  },
  {
   "cell_type": "code",
   "execution_count": 15,
   "metadata": {},
   "outputs": [
    {
     "data": {
      "application/vnd.plotly.v1+json": {
       "config": {
        "plotlyServerURL": "https://plot.ly"
       },
       "data": [
        {
         "alignmentgroup": "True",
         "hovertemplate": "Probability=%{x}<br>industry=%{y}<extra></extra>",
         "legendgroup": "",
         "marker": {
          "color": "#636efa",
          "pattern": {
           "shape": ""
          }
         },
         "name": "",
         "offsetgroup": "",
         "orientation": "h",
         "showlegend": false,
         "textposition": "auto",
         "type": "bar",
         "x": [
          0.1111111111111111,
          0.182648401826484,
          0.1896551724137931,
          0.20689655172413793,
          0.23265306122448978,
          0.25471698113207547,
          0.25806451612903225,
          0.32,
          0.3333333333333333,
          0.3409090909090909,
          0.34375,
          0.3562992125984252,
          0.3630952380952381,
          0.375,
          0.3836734693877551,
          0.4254545454545455
         ],
         "xaxis": "x",
         "y": [
          "Energy",
          "Healthcare",
          "Agriculture",
          "Education",
          "Manufacturing",
          "Transportation",
          "Entertainment",
          "Administration",
          "Consulting",
          "Real Estate",
          "Finance",
          "Trading",
          "Others",
          "Engineering",
          "Hotel",
          "Construction"
         ],
         "yaxis": "y"
        }
       ],
       "layout": {
        "barmode": "relative",
        "height": 800,
        "legend": {
         "tracegroupgap": 0
        },
        "template": {
         "data": {
          "bar": [
           {
            "error_x": {
             "color": "#2a3f5f"
            },
            "error_y": {
             "color": "#2a3f5f"
            },
            "marker": {
             "line": {
              "color": "#E5ECF6",
              "width": 0.5
             },
             "pattern": {
              "fillmode": "overlay",
              "size": 10,
              "solidity": 0.2
             }
            },
            "type": "bar"
           }
          ],
          "barpolar": [
           {
            "marker": {
             "line": {
              "color": "#E5ECF6",
              "width": 0.5
             },
             "pattern": {
              "fillmode": "overlay",
              "size": 10,
              "solidity": 0.2
             }
            },
            "type": "barpolar"
           }
          ],
          "carpet": [
           {
            "aaxis": {
             "endlinecolor": "#2a3f5f",
             "gridcolor": "white",
             "linecolor": "white",
             "minorgridcolor": "white",
             "startlinecolor": "#2a3f5f"
            },
            "baxis": {
             "endlinecolor": "#2a3f5f",
             "gridcolor": "white",
             "linecolor": "white",
             "minorgridcolor": "white",
             "startlinecolor": "#2a3f5f"
            },
            "type": "carpet"
           }
          ],
          "choropleth": [
           {
            "colorbar": {
             "outlinewidth": 0,
             "ticks": ""
            },
            "type": "choropleth"
           }
          ],
          "contour": [
           {
            "colorbar": {
             "outlinewidth": 0,
             "ticks": ""
            },
            "colorscale": [
             [
              0,
              "#0d0887"
             ],
             [
              0.1111111111111111,
              "#46039f"
             ],
             [
              0.2222222222222222,
              "#7201a8"
             ],
             [
              0.3333333333333333,
              "#9c179e"
             ],
             [
              0.4444444444444444,
              "#bd3786"
             ],
             [
              0.5555555555555556,
              "#d8576b"
             ],
             [
              0.6666666666666666,
              "#ed7953"
             ],
             [
              0.7777777777777778,
              "#fb9f3a"
             ],
             [
              0.8888888888888888,
              "#fdca26"
             ],
             [
              1,
              "#f0f921"
             ]
            ],
            "type": "contour"
           }
          ],
          "contourcarpet": [
           {
            "colorbar": {
             "outlinewidth": 0,
             "ticks": ""
            },
            "type": "contourcarpet"
           }
          ],
          "heatmap": [
           {
            "colorbar": {
             "outlinewidth": 0,
             "ticks": ""
            },
            "colorscale": [
             [
              0,
              "#0d0887"
             ],
             [
              0.1111111111111111,
              "#46039f"
             ],
             [
              0.2222222222222222,
              "#7201a8"
             ],
             [
              0.3333333333333333,
              "#9c179e"
             ],
             [
              0.4444444444444444,
              "#bd3786"
             ],
             [
              0.5555555555555556,
              "#d8576b"
             ],
             [
              0.6666666666666666,
              "#ed7953"
             ],
             [
              0.7777777777777778,
              "#fb9f3a"
             ],
             [
              0.8888888888888888,
              "#fdca26"
             ],
             [
              1,
              "#f0f921"
             ]
            ],
            "type": "heatmap"
           }
          ],
          "heatmapgl": [
           {
            "colorbar": {
             "outlinewidth": 0,
             "ticks": ""
            },
            "colorscale": [
             [
              0,
              "#0d0887"
             ],
             [
              0.1111111111111111,
              "#46039f"
             ],
             [
              0.2222222222222222,
              "#7201a8"
             ],
             [
              0.3333333333333333,
              "#9c179e"
             ],
             [
              0.4444444444444444,
              "#bd3786"
             ],
             [
              0.5555555555555556,
              "#d8576b"
             ],
             [
              0.6666666666666666,
              "#ed7953"
             ],
             [
              0.7777777777777778,
              "#fb9f3a"
             ],
             [
              0.8888888888888888,
              "#fdca26"
             ],
             [
              1,
              "#f0f921"
             ]
            ],
            "type": "heatmapgl"
           }
          ],
          "histogram": [
           {
            "marker": {
             "pattern": {
              "fillmode": "overlay",
              "size": 10,
              "solidity": 0.2
             }
            },
            "type": "histogram"
           }
          ],
          "histogram2d": [
           {
            "colorbar": {
             "outlinewidth": 0,
             "ticks": ""
            },
            "colorscale": [
             [
              0,
              "#0d0887"
             ],
             [
              0.1111111111111111,
              "#46039f"
             ],
             [
              0.2222222222222222,
              "#7201a8"
             ],
             [
              0.3333333333333333,
              "#9c179e"
             ],
             [
              0.4444444444444444,
              "#bd3786"
             ],
             [
              0.5555555555555556,
              "#d8576b"
             ],
             [
              0.6666666666666666,
              "#ed7953"
             ],
             [
              0.7777777777777778,
              "#fb9f3a"
             ],
             [
              0.8888888888888888,
              "#fdca26"
             ],
             [
              1,
              "#f0f921"
             ]
            ],
            "type": "histogram2d"
           }
          ],
          "histogram2dcontour": [
           {
            "colorbar": {
             "outlinewidth": 0,
             "ticks": ""
            },
            "colorscale": [
             [
              0,
              "#0d0887"
             ],
             [
              0.1111111111111111,
              "#46039f"
             ],
             [
              0.2222222222222222,
              "#7201a8"
             ],
             [
              0.3333333333333333,
              "#9c179e"
             ],
             [
              0.4444444444444444,
              "#bd3786"
             ],
             [
              0.5555555555555556,
              "#d8576b"
             ],
             [
              0.6666666666666666,
              "#ed7953"
             ],
             [
              0.7777777777777778,
              "#fb9f3a"
             ],
             [
              0.8888888888888888,
              "#fdca26"
             ],
             [
              1,
              "#f0f921"
             ]
            ],
            "type": "histogram2dcontour"
           }
          ],
          "mesh3d": [
           {
            "colorbar": {
             "outlinewidth": 0,
             "ticks": ""
            },
            "type": "mesh3d"
           }
          ],
          "parcoords": [
           {
            "line": {
             "colorbar": {
              "outlinewidth": 0,
              "ticks": ""
             }
            },
            "type": "parcoords"
           }
          ],
          "pie": [
           {
            "automargin": true,
            "type": "pie"
           }
          ],
          "scatter": [
           {
            "fillpattern": {
             "fillmode": "overlay",
             "size": 10,
             "solidity": 0.2
            },
            "type": "scatter"
           }
          ],
          "scatter3d": [
           {
            "line": {
             "colorbar": {
              "outlinewidth": 0,
              "ticks": ""
             }
            },
            "marker": {
             "colorbar": {
              "outlinewidth": 0,
              "ticks": ""
             }
            },
            "type": "scatter3d"
           }
          ],
          "scattercarpet": [
           {
            "marker": {
             "colorbar": {
              "outlinewidth": 0,
              "ticks": ""
             }
            },
            "type": "scattercarpet"
           }
          ],
          "scattergeo": [
           {
            "marker": {
             "colorbar": {
              "outlinewidth": 0,
              "ticks": ""
             }
            },
            "type": "scattergeo"
           }
          ],
          "scattergl": [
           {
            "marker": {
             "colorbar": {
              "outlinewidth": 0,
              "ticks": ""
             }
            },
            "type": "scattergl"
           }
          ],
          "scattermapbox": [
           {
            "marker": {
             "colorbar": {
              "outlinewidth": 0,
              "ticks": ""
             }
            },
            "type": "scattermapbox"
           }
          ],
          "scatterpolar": [
           {
            "marker": {
             "colorbar": {
              "outlinewidth": 0,
              "ticks": ""
             }
            },
            "type": "scatterpolar"
           }
          ],
          "scatterpolargl": [
           {
            "marker": {
             "colorbar": {
              "outlinewidth": 0,
              "ticks": ""
             }
            },
            "type": "scatterpolargl"
           }
          ],
          "scatterternary": [
           {
            "marker": {
             "colorbar": {
              "outlinewidth": 0,
              "ticks": ""
             }
            },
            "type": "scatterternary"
           }
          ],
          "surface": [
           {
            "colorbar": {
             "outlinewidth": 0,
             "ticks": ""
            },
            "colorscale": [
             [
              0,
              "#0d0887"
             ],
             [
              0.1111111111111111,
              "#46039f"
             ],
             [
              0.2222222222222222,
              "#7201a8"
             ],
             [
              0.3333333333333333,
              "#9c179e"
             ],
             [
              0.4444444444444444,
              "#bd3786"
             ],
             [
              0.5555555555555556,
              "#d8576b"
             ],
             [
              0.6666666666666666,
              "#ed7953"
             ],
             [
              0.7777777777777778,
              "#fb9f3a"
             ],
             [
              0.8888888888888888,
              "#fdca26"
             ],
             [
              1,
              "#f0f921"
             ]
            ],
            "type": "surface"
           }
          ],
          "table": [
           {
            "cells": {
             "fill": {
              "color": "#EBF0F8"
             },
             "line": {
              "color": "white"
             }
            },
            "header": {
             "fill": {
              "color": "#C8D4E3"
             },
             "line": {
              "color": "white"
             }
            },
            "type": "table"
           }
          ]
         },
         "layout": {
          "annotationdefaults": {
           "arrowcolor": "#2a3f5f",
           "arrowhead": 0,
           "arrowwidth": 1
          },
          "autotypenumbers": "strict",
          "coloraxis": {
           "colorbar": {
            "outlinewidth": 0,
            "ticks": ""
           }
          },
          "colorscale": {
           "diverging": [
            [
             0,
             "#8e0152"
            ],
            [
             0.1,
             "#c51b7d"
            ],
            [
             0.2,
             "#de77ae"
            ],
            [
             0.3,
             "#f1b6da"
            ],
            [
             0.4,
             "#fde0ef"
            ],
            [
             0.5,
             "#f7f7f7"
            ],
            [
             0.6,
             "#e6f5d0"
            ],
            [
             0.7,
             "#b8e186"
            ],
            [
             0.8,
             "#7fbc41"
            ],
            [
             0.9,
             "#4d9221"
            ],
            [
             1,
             "#276419"
            ]
           ],
           "sequential": [
            [
             0,
             "#0d0887"
            ],
            [
             0.1111111111111111,
             "#46039f"
            ],
            [
             0.2222222222222222,
             "#7201a8"
            ],
            [
             0.3333333333333333,
             "#9c179e"
            ],
            [
             0.4444444444444444,
             "#bd3786"
            ],
            [
             0.5555555555555556,
             "#d8576b"
            ],
            [
             0.6666666666666666,
             "#ed7953"
            ],
            [
             0.7777777777777778,
             "#fb9f3a"
            ],
            [
             0.8888888888888888,
             "#fdca26"
            ],
            [
             1,
             "#f0f921"
            ]
           ],
           "sequentialminus": [
            [
             0,
             "#0d0887"
            ],
            [
             0.1111111111111111,
             "#46039f"
            ],
            [
             0.2222222222222222,
             "#7201a8"
            ],
            [
             0.3333333333333333,
             "#9c179e"
            ],
            [
             0.4444444444444444,
             "#bd3786"
            ],
            [
             0.5555555555555556,
             "#d8576b"
            ],
            [
             0.6666666666666666,
             "#ed7953"
            ],
            [
             0.7777777777777778,
             "#fb9f3a"
            ],
            [
             0.8888888888888888,
             "#fdca26"
            ],
            [
             1,
             "#f0f921"
            ]
           ]
          },
          "colorway": [
           "#636efa",
           "#EF553B",
           "#00cc96",
           "#ab63fa",
           "#FFA15A",
           "#19d3f3",
           "#FF6692",
           "#B6E880",
           "#FF97FF",
           "#FECB52"
          ],
          "font": {
           "color": "#2a3f5f"
          },
          "geo": {
           "bgcolor": "white",
           "lakecolor": "white",
           "landcolor": "#E5ECF6",
           "showlakes": true,
           "showland": true,
           "subunitcolor": "white"
          },
          "hoverlabel": {
           "align": "left"
          },
          "hovermode": "closest",
          "mapbox": {
           "style": "light"
          },
          "paper_bgcolor": "white",
          "plot_bgcolor": "#E5ECF6",
          "polar": {
           "angularaxis": {
            "gridcolor": "white",
            "linecolor": "white",
            "ticks": ""
           },
           "bgcolor": "#E5ECF6",
           "radialaxis": {
            "gridcolor": "white",
            "linecolor": "white",
            "ticks": ""
           }
          },
          "scene": {
           "xaxis": {
            "backgroundcolor": "#E5ECF6",
            "gridcolor": "white",
            "gridwidth": 2,
            "linecolor": "white",
            "showbackground": true,
            "ticks": "",
            "zerolinecolor": "white"
           },
           "yaxis": {
            "backgroundcolor": "#E5ECF6",
            "gridcolor": "white",
            "gridwidth": 2,
            "linecolor": "white",
            "showbackground": true,
            "ticks": "",
            "zerolinecolor": "white"
           },
           "zaxis": {
            "backgroundcolor": "#E5ECF6",
            "gridcolor": "white",
            "gridwidth": 2,
            "linecolor": "white",
            "showbackground": true,
            "ticks": "",
            "zerolinecolor": "white"
           }
          },
          "shapedefaults": {
           "line": {
            "color": "#2a3f5f"
           }
          },
          "ternary": {
           "aaxis": {
            "gridcolor": "white",
            "linecolor": "white",
            "ticks": ""
           },
           "baxis": {
            "gridcolor": "white",
            "linecolor": "white",
            "ticks": ""
           },
           "bgcolor": "#E5ECF6",
           "caxis": {
            "gridcolor": "white",
            "linecolor": "white",
            "ticks": ""
           }
          },
          "title": {
           "x": 0.05
          },
          "xaxis": {
           "automargin": true,
           "gridcolor": "white",
           "linecolor": "white",
           "ticks": "",
           "title": {
            "standoff": 15
           },
           "zerolinecolor": "white",
           "zerolinewidth": 2
          },
          "yaxis": {
           "automargin": true,
           "gridcolor": "white",
           "linecolor": "white",
           "ticks": "",
           "title": {
            "standoff": 15
           },
           "zerolinecolor": "white",
           "zerolinewidth": 2
          }
         }
        },
        "title": {
         "text": "Probability of default_status = 1 given industry"
        },
        "width": 600,
        "xaxis": {
         "anchor": "y",
         "domain": [
          0,
          1
         ],
         "title": {
          "text": "Probability"
         }
        },
        "yaxis": {
         "anchor": "x",
         "domain": [
          0,
          1
         ],
         "tickmode": "linear",
         "title": {
          "text": "industry"
         }
        }
       }
      }
     },
     "metadata": {},
     "output_type": "display_data"
    }
   ],
   "source": [
    "plot_category_default_distribution(train, 'industry')"
   ]
  },
  {
   "cell_type": "markdown",
   "metadata": {},
   "source": [
    "The plot above suggests that there is a strong correlation between the industry and the default status. Some industries are significantly more prone to default as compared to others.\n",
    "\n",
    "For example, it could be observed that the top 3 industries most likely to default are Construction, Hotel and Engineering, each having more than or equal to 0.375 probability of default. On the other hand, the Energy industry is the least likely to default, with only a 0.11 probability of default."
   ]
  },
  {
   "cell_type": "code",
   "execution_count": 16,
   "metadata": {},
   "outputs": [
    {
     "data": {
      "application/vnd.plotly.v1+json": {
       "config": {
        "plotlyServerURL": "https://plot.ly"
       },
       "data": [
        {
         "alignmentgroup": "True",
         "hovertemplate": "Probability=%{x}<br>state=%{y}<extra></extra>",
         "legendgroup": "",
         "marker": {
          "color": "#636efa",
          "pattern": {
           "shape": ""
          }
         },
         "name": "",
         "offsetgroup": "",
         "orientation": "h",
         "showlegend": false,
         "textposition": "auto",
         "type": "bar",
         "x": [
          0.1111111111111111,
          0.11764705882352941,
          0.125,
          0.14285714285714285,
          0.18518518518518517,
          0.2,
          0.20270270270270271,
          0.20689655172413793,
          0.20689655172413793,
          0.21428571428571427,
          0.225,
          0.23529411764705882,
          0.25,
          0.26666666666666666,
          0.2702702702702703,
          0.2706766917293233,
          0.2711864406779661,
          0.2727272727272727,
          0.27450980392156865,
          0.27472527472527475,
          0.27586206896551724,
          0.2830188679245283,
          0.2857142857142857,
          0.29411764705882354,
          0.2962962962962963,
          0.3,
          0.31413612565445026,
          0.33766233766233766,
          0.34615384615384615,
          0.35,
          0.35714285714285715,
          0.3583617747440273,
          0.3611111111111111,
          0.3617021276595745,
          0.37681159420289856,
          0.379746835443038,
          0.38095238095238093,
          0.3888888888888889,
          0.4166666666666667,
          0.42857142857142855,
          0.42857142857142855,
          0.43548387096774194,
          0.45263157894736844,
          0.46153846153846156,
          0.5454545454545454,
          0.5581395348837209,
          0.6181818181818182,
          0.75
         ],
         "xaxis": "x",
         "y": [
          "CT",
          "VT",
          "NM",
          "RI",
          "NH",
          "ND",
          "MA",
          "OK",
          "NJ",
          "SD",
          "WI",
          "MI",
          "ME",
          "CO",
          "OR",
          "NY",
          "PA",
          "KS",
          "OH",
          "MN",
          "NE",
          "IN",
          "LA",
          "KY",
          "MT",
          "VA",
          "TX",
          "UT",
          "ID",
          "AL",
          "HI",
          "CA",
          "MS",
          "NC",
          "MO",
          "IL",
          "IA",
          "NV",
          "SC",
          "TN",
          "WV",
          "WA",
          "FL",
          "MD",
          "AR",
          "GA",
          "AZ",
          "DE"
         ],
         "yaxis": "y"
        }
       ],
       "layout": {
        "barmode": "relative",
        "height": 800,
        "legend": {
         "tracegroupgap": 0
        },
        "template": {
         "data": {
          "bar": [
           {
            "error_x": {
             "color": "#2a3f5f"
            },
            "error_y": {
             "color": "#2a3f5f"
            },
            "marker": {
             "line": {
              "color": "#E5ECF6",
              "width": 0.5
             },
             "pattern": {
              "fillmode": "overlay",
              "size": 10,
              "solidity": 0.2
             }
            },
            "type": "bar"
           }
          ],
          "barpolar": [
           {
            "marker": {
             "line": {
              "color": "#E5ECF6",
              "width": 0.5
             },
             "pattern": {
              "fillmode": "overlay",
              "size": 10,
              "solidity": 0.2
             }
            },
            "type": "barpolar"
           }
          ],
          "carpet": [
           {
            "aaxis": {
             "endlinecolor": "#2a3f5f",
             "gridcolor": "white",
             "linecolor": "white",
             "minorgridcolor": "white",
             "startlinecolor": "#2a3f5f"
            },
            "baxis": {
             "endlinecolor": "#2a3f5f",
             "gridcolor": "white",
             "linecolor": "white",
             "minorgridcolor": "white",
             "startlinecolor": "#2a3f5f"
            },
            "type": "carpet"
           }
          ],
          "choropleth": [
           {
            "colorbar": {
             "outlinewidth": 0,
             "ticks": ""
            },
            "type": "choropleth"
           }
          ],
          "contour": [
           {
            "colorbar": {
             "outlinewidth": 0,
             "ticks": ""
            },
            "colorscale": [
             [
              0,
              "#0d0887"
             ],
             [
              0.1111111111111111,
              "#46039f"
             ],
             [
              0.2222222222222222,
              "#7201a8"
             ],
             [
              0.3333333333333333,
              "#9c179e"
             ],
             [
              0.4444444444444444,
              "#bd3786"
             ],
             [
              0.5555555555555556,
              "#d8576b"
             ],
             [
              0.6666666666666666,
              "#ed7953"
             ],
             [
              0.7777777777777778,
              "#fb9f3a"
             ],
             [
              0.8888888888888888,
              "#fdca26"
             ],
             [
              1,
              "#f0f921"
             ]
            ],
            "type": "contour"
           }
          ],
          "contourcarpet": [
           {
            "colorbar": {
             "outlinewidth": 0,
             "ticks": ""
            },
            "type": "contourcarpet"
           }
          ],
          "heatmap": [
           {
            "colorbar": {
             "outlinewidth": 0,
             "ticks": ""
            },
            "colorscale": [
             [
              0,
              "#0d0887"
             ],
             [
              0.1111111111111111,
              "#46039f"
             ],
             [
              0.2222222222222222,
              "#7201a8"
             ],
             [
              0.3333333333333333,
              "#9c179e"
             ],
             [
              0.4444444444444444,
              "#bd3786"
             ],
             [
              0.5555555555555556,
              "#d8576b"
             ],
             [
              0.6666666666666666,
              "#ed7953"
             ],
             [
              0.7777777777777778,
              "#fb9f3a"
             ],
             [
              0.8888888888888888,
              "#fdca26"
             ],
             [
              1,
              "#f0f921"
             ]
            ],
            "type": "heatmap"
           }
          ],
          "heatmapgl": [
           {
            "colorbar": {
             "outlinewidth": 0,
             "ticks": ""
            },
            "colorscale": [
             [
              0,
              "#0d0887"
             ],
             [
              0.1111111111111111,
              "#46039f"
             ],
             [
              0.2222222222222222,
              "#7201a8"
             ],
             [
              0.3333333333333333,
              "#9c179e"
             ],
             [
              0.4444444444444444,
              "#bd3786"
             ],
             [
              0.5555555555555556,
              "#d8576b"
             ],
             [
              0.6666666666666666,
              "#ed7953"
             ],
             [
              0.7777777777777778,
              "#fb9f3a"
             ],
             [
              0.8888888888888888,
              "#fdca26"
             ],
             [
              1,
              "#f0f921"
             ]
            ],
            "type": "heatmapgl"
           }
          ],
          "histogram": [
           {
            "marker": {
             "pattern": {
              "fillmode": "overlay",
              "size": 10,
              "solidity": 0.2
             }
            },
            "type": "histogram"
           }
          ],
          "histogram2d": [
           {
            "colorbar": {
             "outlinewidth": 0,
             "ticks": ""
            },
            "colorscale": [
             [
              0,
              "#0d0887"
             ],
             [
              0.1111111111111111,
              "#46039f"
             ],
             [
              0.2222222222222222,
              "#7201a8"
             ],
             [
              0.3333333333333333,
              "#9c179e"
             ],
             [
              0.4444444444444444,
              "#bd3786"
             ],
             [
              0.5555555555555556,
              "#d8576b"
             ],
             [
              0.6666666666666666,
              "#ed7953"
             ],
             [
              0.7777777777777778,
              "#fb9f3a"
             ],
             [
              0.8888888888888888,
              "#fdca26"
             ],
             [
              1,
              "#f0f921"
             ]
            ],
            "type": "histogram2d"
           }
          ],
          "histogram2dcontour": [
           {
            "colorbar": {
             "outlinewidth": 0,
             "ticks": ""
            },
            "colorscale": [
             [
              0,
              "#0d0887"
             ],
             [
              0.1111111111111111,
              "#46039f"
             ],
             [
              0.2222222222222222,
              "#7201a8"
             ],
             [
              0.3333333333333333,
              "#9c179e"
             ],
             [
              0.4444444444444444,
              "#bd3786"
             ],
             [
              0.5555555555555556,
              "#d8576b"
             ],
             [
              0.6666666666666666,
              "#ed7953"
             ],
             [
              0.7777777777777778,
              "#fb9f3a"
             ],
             [
              0.8888888888888888,
              "#fdca26"
             ],
             [
              1,
              "#f0f921"
             ]
            ],
            "type": "histogram2dcontour"
           }
          ],
          "mesh3d": [
           {
            "colorbar": {
             "outlinewidth": 0,
             "ticks": ""
            },
            "type": "mesh3d"
           }
          ],
          "parcoords": [
           {
            "line": {
             "colorbar": {
              "outlinewidth": 0,
              "ticks": ""
             }
            },
            "type": "parcoords"
           }
          ],
          "pie": [
           {
            "automargin": true,
            "type": "pie"
           }
          ],
          "scatter": [
           {
            "fillpattern": {
             "fillmode": "overlay",
             "size": 10,
             "solidity": 0.2
            },
            "type": "scatter"
           }
          ],
          "scatter3d": [
           {
            "line": {
             "colorbar": {
              "outlinewidth": 0,
              "ticks": ""
             }
            },
            "marker": {
             "colorbar": {
              "outlinewidth": 0,
              "ticks": ""
             }
            },
            "type": "scatter3d"
           }
          ],
          "scattercarpet": [
           {
            "marker": {
             "colorbar": {
              "outlinewidth": 0,
              "ticks": ""
             }
            },
            "type": "scattercarpet"
           }
          ],
          "scattergeo": [
           {
            "marker": {
             "colorbar": {
              "outlinewidth": 0,
              "ticks": ""
             }
            },
            "type": "scattergeo"
           }
          ],
          "scattergl": [
           {
            "marker": {
             "colorbar": {
              "outlinewidth": 0,
              "ticks": ""
             }
            },
            "type": "scattergl"
           }
          ],
          "scattermapbox": [
           {
            "marker": {
             "colorbar": {
              "outlinewidth": 0,
              "ticks": ""
             }
            },
            "type": "scattermapbox"
           }
          ],
          "scatterpolar": [
           {
            "marker": {
             "colorbar": {
              "outlinewidth": 0,
              "ticks": ""
             }
            },
            "type": "scatterpolar"
           }
          ],
          "scatterpolargl": [
           {
            "marker": {
             "colorbar": {
              "outlinewidth": 0,
              "ticks": ""
             }
            },
            "type": "scatterpolargl"
           }
          ],
          "scatterternary": [
           {
            "marker": {
             "colorbar": {
              "outlinewidth": 0,
              "ticks": ""
             }
            },
            "type": "scatterternary"
           }
          ],
          "surface": [
           {
            "colorbar": {
             "outlinewidth": 0,
             "ticks": ""
            },
            "colorscale": [
             [
              0,
              "#0d0887"
             ],
             [
              0.1111111111111111,
              "#46039f"
             ],
             [
              0.2222222222222222,
              "#7201a8"
             ],
             [
              0.3333333333333333,
              "#9c179e"
             ],
             [
              0.4444444444444444,
              "#bd3786"
             ],
             [
              0.5555555555555556,
              "#d8576b"
             ],
             [
              0.6666666666666666,
              "#ed7953"
             ],
             [
              0.7777777777777778,
              "#fb9f3a"
             ],
             [
              0.8888888888888888,
              "#fdca26"
             ],
             [
              1,
              "#f0f921"
             ]
            ],
            "type": "surface"
           }
          ],
          "table": [
           {
            "cells": {
             "fill": {
              "color": "#EBF0F8"
             },
             "line": {
              "color": "white"
             }
            },
            "header": {
             "fill": {
              "color": "#C8D4E3"
             },
             "line": {
              "color": "white"
             }
            },
            "type": "table"
           }
          ]
         },
         "layout": {
          "annotationdefaults": {
           "arrowcolor": "#2a3f5f",
           "arrowhead": 0,
           "arrowwidth": 1
          },
          "autotypenumbers": "strict",
          "coloraxis": {
           "colorbar": {
            "outlinewidth": 0,
            "ticks": ""
           }
          },
          "colorscale": {
           "diverging": [
            [
             0,
             "#8e0152"
            ],
            [
             0.1,
             "#c51b7d"
            ],
            [
             0.2,
             "#de77ae"
            ],
            [
             0.3,
             "#f1b6da"
            ],
            [
             0.4,
             "#fde0ef"
            ],
            [
             0.5,
             "#f7f7f7"
            ],
            [
             0.6,
             "#e6f5d0"
            ],
            [
             0.7,
             "#b8e186"
            ],
            [
             0.8,
             "#7fbc41"
            ],
            [
             0.9,
             "#4d9221"
            ],
            [
             1,
             "#276419"
            ]
           ],
           "sequential": [
            [
             0,
             "#0d0887"
            ],
            [
             0.1111111111111111,
             "#46039f"
            ],
            [
             0.2222222222222222,
             "#7201a8"
            ],
            [
             0.3333333333333333,
             "#9c179e"
            ],
            [
             0.4444444444444444,
             "#bd3786"
            ],
            [
             0.5555555555555556,
             "#d8576b"
            ],
            [
             0.6666666666666666,
             "#ed7953"
            ],
            [
             0.7777777777777778,
             "#fb9f3a"
            ],
            [
             0.8888888888888888,
             "#fdca26"
            ],
            [
             1,
             "#f0f921"
            ]
           ],
           "sequentialminus": [
            [
             0,
             "#0d0887"
            ],
            [
             0.1111111111111111,
             "#46039f"
            ],
            [
             0.2222222222222222,
             "#7201a8"
            ],
            [
             0.3333333333333333,
             "#9c179e"
            ],
            [
             0.4444444444444444,
             "#bd3786"
            ],
            [
             0.5555555555555556,
             "#d8576b"
            ],
            [
             0.6666666666666666,
             "#ed7953"
            ],
            [
             0.7777777777777778,
             "#fb9f3a"
            ],
            [
             0.8888888888888888,
             "#fdca26"
            ],
            [
             1,
             "#f0f921"
            ]
           ]
          },
          "colorway": [
           "#636efa",
           "#EF553B",
           "#00cc96",
           "#ab63fa",
           "#FFA15A",
           "#19d3f3",
           "#FF6692",
           "#B6E880",
           "#FF97FF",
           "#FECB52"
          ],
          "font": {
           "color": "#2a3f5f"
          },
          "geo": {
           "bgcolor": "white",
           "lakecolor": "white",
           "landcolor": "#E5ECF6",
           "showlakes": true,
           "showland": true,
           "subunitcolor": "white"
          },
          "hoverlabel": {
           "align": "left"
          },
          "hovermode": "closest",
          "mapbox": {
           "style": "light"
          },
          "paper_bgcolor": "white",
          "plot_bgcolor": "#E5ECF6",
          "polar": {
           "angularaxis": {
            "gridcolor": "white",
            "linecolor": "white",
            "ticks": ""
           },
           "bgcolor": "#E5ECF6",
           "radialaxis": {
            "gridcolor": "white",
            "linecolor": "white",
            "ticks": ""
           }
          },
          "scene": {
           "xaxis": {
            "backgroundcolor": "#E5ECF6",
            "gridcolor": "white",
            "gridwidth": 2,
            "linecolor": "white",
            "showbackground": true,
            "ticks": "",
            "zerolinecolor": "white"
           },
           "yaxis": {
            "backgroundcolor": "#E5ECF6",
            "gridcolor": "white",
            "gridwidth": 2,
            "linecolor": "white",
            "showbackground": true,
            "ticks": "",
            "zerolinecolor": "white"
           },
           "zaxis": {
            "backgroundcolor": "#E5ECF6",
            "gridcolor": "white",
            "gridwidth": 2,
            "linecolor": "white",
            "showbackground": true,
            "ticks": "",
            "zerolinecolor": "white"
           }
          },
          "shapedefaults": {
           "line": {
            "color": "#2a3f5f"
           }
          },
          "ternary": {
           "aaxis": {
            "gridcolor": "white",
            "linecolor": "white",
            "ticks": ""
           },
           "baxis": {
            "gridcolor": "white",
            "linecolor": "white",
            "ticks": ""
           },
           "bgcolor": "#E5ECF6",
           "caxis": {
            "gridcolor": "white",
            "linecolor": "white",
            "ticks": ""
           }
          },
          "title": {
           "x": 0.05
          },
          "xaxis": {
           "automargin": true,
           "gridcolor": "white",
           "linecolor": "white",
           "ticks": "",
           "title": {
            "standoff": 15
           },
           "zerolinecolor": "white",
           "zerolinewidth": 2
          },
          "yaxis": {
           "automargin": true,
           "gridcolor": "white",
           "linecolor": "white",
           "ticks": "",
           "title": {
            "standoff": 15
           },
           "zerolinecolor": "white",
           "zerolinewidth": 2
          }
         }
        },
        "title": {
         "text": "Probability of default_status = 1 given state"
        },
        "width": 600,
        "xaxis": {
         "anchor": "y",
         "domain": [
          0,
          1
         ],
         "title": {
          "text": "Probability"
         }
        },
        "yaxis": {
         "anchor": "x",
         "domain": [
          0,
          1
         ],
         "tickmode": "linear",
         "title": {
          "text": "state"
         }
        }
       }
      }
     },
     "metadata": {},
     "output_type": "display_data"
    }
   ],
   "source": [
    "plot_category_default_distribution(train, 'state')"
   ]
  },
  {
   "cell_type": "markdown",
   "metadata": {},
   "source": [
    "The plot above suggests that there is a strong correlation between the state and the default status. Some states are significantly more prone to default as compared to others.\n",
    "\n",
    "For example, it could be observed that companies in the states DE, AZ, GA and AR are likely to default more than 50% of the time (i.e. their probability of default is greater than 0.5), whereas companies in the state CT are likely to default only 11% of the time (i.e. their probability of default = 0.11)"
   ]
  },
  {
   "cell_type": "code",
   "execution_count": 17,
   "metadata": {},
   "outputs": [
    {
     "data": {
      "application/vnd.plotly.v1+json": {
       "config": {
        "plotlyServerURL": "https://plot.ly"
       },
       "data": [
        {
         "alignmentgroup": "True",
         "hovertemplate": "Probability=%{x}<br>business_new=%{y}<extra></extra>",
         "legendgroup": "",
         "marker": {
          "color": "#636efa",
          "pattern": {
           "shape": ""
          }
         },
         "name": "",
         "offsetgroup": "",
         "orientation": "h",
         "showlegend": false,
         "textposition": "auto",
         "type": "bar",
         "x": [
          0.3034965034965035,
          0.32977461447212336
         ],
         "xaxis": "x",
         "y": [
          "Existing",
          "New"
         ],
         "yaxis": "y"
        }
       ],
       "layout": {
        "barmode": "relative",
        "height": 400,
        "legend": {
         "tracegroupgap": 0
        },
        "template": {
         "data": {
          "bar": [
           {
            "error_x": {
             "color": "#2a3f5f"
            },
            "error_y": {
             "color": "#2a3f5f"
            },
            "marker": {
             "line": {
              "color": "#E5ECF6",
              "width": 0.5
             },
             "pattern": {
              "fillmode": "overlay",
              "size": 10,
              "solidity": 0.2
             }
            },
            "type": "bar"
           }
          ],
          "barpolar": [
           {
            "marker": {
             "line": {
              "color": "#E5ECF6",
              "width": 0.5
             },
             "pattern": {
              "fillmode": "overlay",
              "size": 10,
              "solidity": 0.2
             }
            },
            "type": "barpolar"
           }
          ],
          "carpet": [
           {
            "aaxis": {
             "endlinecolor": "#2a3f5f",
             "gridcolor": "white",
             "linecolor": "white",
             "minorgridcolor": "white",
             "startlinecolor": "#2a3f5f"
            },
            "baxis": {
             "endlinecolor": "#2a3f5f",
             "gridcolor": "white",
             "linecolor": "white",
             "minorgridcolor": "white",
             "startlinecolor": "#2a3f5f"
            },
            "type": "carpet"
           }
          ],
          "choropleth": [
           {
            "colorbar": {
             "outlinewidth": 0,
             "ticks": ""
            },
            "type": "choropleth"
           }
          ],
          "contour": [
           {
            "colorbar": {
             "outlinewidth": 0,
             "ticks": ""
            },
            "colorscale": [
             [
              0,
              "#0d0887"
             ],
             [
              0.1111111111111111,
              "#46039f"
             ],
             [
              0.2222222222222222,
              "#7201a8"
             ],
             [
              0.3333333333333333,
              "#9c179e"
             ],
             [
              0.4444444444444444,
              "#bd3786"
             ],
             [
              0.5555555555555556,
              "#d8576b"
             ],
             [
              0.6666666666666666,
              "#ed7953"
             ],
             [
              0.7777777777777778,
              "#fb9f3a"
             ],
             [
              0.8888888888888888,
              "#fdca26"
             ],
             [
              1,
              "#f0f921"
             ]
            ],
            "type": "contour"
           }
          ],
          "contourcarpet": [
           {
            "colorbar": {
             "outlinewidth": 0,
             "ticks": ""
            },
            "type": "contourcarpet"
           }
          ],
          "heatmap": [
           {
            "colorbar": {
             "outlinewidth": 0,
             "ticks": ""
            },
            "colorscale": [
             [
              0,
              "#0d0887"
             ],
             [
              0.1111111111111111,
              "#46039f"
             ],
             [
              0.2222222222222222,
              "#7201a8"
             ],
             [
              0.3333333333333333,
              "#9c179e"
             ],
             [
              0.4444444444444444,
              "#bd3786"
             ],
             [
              0.5555555555555556,
              "#d8576b"
             ],
             [
              0.6666666666666666,
              "#ed7953"
             ],
             [
              0.7777777777777778,
              "#fb9f3a"
             ],
             [
              0.8888888888888888,
              "#fdca26"
             ],
             [
              1,
              "#f0f921"
             ]
            ],
            "type": "heatmap"
           }
          ],
          "heatmapgl": [
           {
            "colorbar": {
             "outlinewidth": 0,
             "ticks": ""
            },
            "colorscale": [
             [
              0,
              "#0d0887"
             ],
             [
              0.1111111111111111,
              "#46039f"
             ],
             [
              0.2222222222222222,
              "#7201a8"
             ],
             [
              0.3333333333333333,
              "#9c179e"
             ],
             [
              0.4444444444444444,
              "#bd3786"
             ],
             [
              0.5555555555555556,
              "#d8576b"
             ],
             [
              0.6666666666666666,
              "#ed7953"
             ],
             [
              0.7777777777777778,
              "#fb9f3a"
             ],
             [
              0.8888888888888888,
              "#fdca26"
             ],
             [
              1,
              "#f0f921"
             ]
            ],
            "type": "heatmapgl"
           }
          ],
          "histogram": [
           {
            "marker": {
             "pattern": {
              "fillmode": "overlay",
              "size": 10,
              "solidity": 0.2
             }
            },
            "type": "histogram"
           }
          ],
          "histogram2d": [
           {
            "colorbar": {
             "outlinewidth": 0,
             "ticks": ""
            },
            "colorscale": [
             [
              0,
              "#0d0887"
             ],
             [
              0.1111111111111111,
              "#46039f"
             ],
             [
              0.2222222222222222,
              "#7201a8"
             ],
             [
              0.3333333333333333,
              "#9c179e"
             ],
             [
              0.4444444444444444,
              "#bd3786"
             ],
             [
              0.5555555555555556,
              "#d8576b"
             ],
             [
              0.6666666666666666,
              "#ed7953"
             ],
             [
              0.7777777777777778,
              "#fb9f3a"
             ],
             [
              0.8888888888888888,
              "#fdca26"
             ],
             [
              1,
              "#f0f921"
             ]
            ],
            "type": "histogram2d"
           }
          ],
          "histogram2dcontour": [
           {
            "colorbar": {
             "outlinewidth": 0,
             "ticks": ""
            },
            "colorscale": [
             [
              0,
              "#0d0887"
             ],
             [
              0.1111111111111111,
              "#46039f"
             ],
             [
              0.2222222222222222,
              "#7201a8"
             ],
             [
              0.3333333333333333,
              "#9c179e"
             ],
             [
              0.4444444444444444,
              "#bd3786"
             ],
             [
              0.5555555555555556,
              "#d8576b"
             ],
             [
              0.6666666666666666,
              "#ed7953"
             ],
             [
              0.7777777777777778,
              "#fb9f3a"
             ],
             [
              0.8888888888888888,
              "#fdca26"
             ],
             [
              1,
              "#f0f921"
             ]
            ],
            "type": "histogram2dcontour"
           }
          ],
          "mesh3d": [
           {
            "colorbar": {
             "outlinewidth": 0,
             "ticks": ""
            },
            "type": "mesh3d"
           }
          ],
          "parcoords": [
           {
            "line": {
             "colorbar": {
              "outlinewidth": 0,
              "ticks": ""
             }
            },
            "type": "parcoords"
           }
          ],
          "pie": [
           {
            "automargin": true,
            "type": "pie"
           }
          ],
          "scatter": [
           {
            "fillpattern": {
             "fillmode": "overlay",
             "size": 10,
             "solidity": 0.2
            },
            "type": "scatter"
           }
          ],
          "scatter3d": [
           {
            "line": {
             "colorbar": {
              "outlinewidth": 0,
              "ticks": ""
             }
            },
            "marker": {
             "colorbar": {
              "outlinewidth": 0,
              "ticks": ""
             }
            },
            "type": "scatter3d"
           }
          ],
          "scattercarpet": [
           {
            "marker": {
             "colorbar": {
              "outlinewidth": 0,
              "ticks": ""
             }
            },
            "type": "scattercarpet"
           }
          ],
          "scattergeo": [
           {
            "marker": {
             "colorbar": {
              "outlinewidth": 0,
              "ticks": ""
             }
            },
            "type": "scattergeo"
           }
          ],
          "scattergl": [
           {
            "marker": {
             "colorbar": {
              "outlinewidth": 0,
              "ticks": ""
             }
            },
            "type": "scattergl"
           }
          ],
          "scattermapbox": [
           {
            "marker": {
             "colorbar": {
              "outlinewidth": 0,
              "ticks": ""
             }
            },
            "type": "scattermapbox"
           }
          ],
          "scatterpolar": [
           {
            "marker": {
             "colorbar": {
              "outlinewidth": 0,
              "ticks": ""
             }
            },
            "type": "scatterpolar"
           }
          ],
          "scatterpolargl": [
           {
            "marker": {
             "colorbar": {
              "outlinewidth": 0,
              "ticks": ""
             }
            },
            "type": "scatterpolargl"
           }
          ],
          "scatterternary": [
           {
            "marker": {
             "colorbar": {
              "outlinewidth": 0,
              "ticks": ""
             }
            },
            "type": "scatterternary"
           }
          ],
          "surface": [
           {
            "colorbar": {
             "outlinewidth": 0,
             "ticks": ""
            },
            "colorscale": [
             [
              0,
              "#0d0887"
             ],
             [
              0.1111111111111111,
              "#46039f"
             ],
             [
              0.2222222222222222,
              "#7201a8"
             ],
             [
              0.3333333333333333,
              "#9c179e"
             ],
             [
              0.4444444444444444,
              "#bd3786"
             ],
             [
              0.5555555555555556,
              "#d8576b"
             ],
             [
              0.6666666666666666,
              "#ed7953"
             ],
             [
              0.7777777777777778,
              "#fb9f3a"
             ],
             [
              0.8888888888888888,
              "#fdca26"
             ],
             [
              1,
              "#f0f921"
             ]
            ],
            "type": "surface"
           }
          ],
          "table": [
           {
            "cells": {
             "fill": {
              "color": "#EBF0F8"
             },
             "line": {
              "color": "white"
             }
            },
            "header": {
             "fill": {
              "color": "#C8D4E3"
             },
             "line": {
              "color": "white"
             }
            },
            "type": "table"
           }
          ]
         },
         "layout": {
          "annotationdefaults": {
           "arrowcolor": "#2a3f5f",
           "arrowhead": 0,
           "arrowwidth": 1
          },
          "autotypenumbers": "strict",
          "coloraxis": {
           "colorbar": {
            "outlinewidth": 0,
            "ticks": ""
           }
          },
          "colorscale": {
           "diverging": [
            [
             0,
             "#8e0152"
            ],
            [
             0.1,
             "#c51b7d"
            ],
            [
             0.2,
             "#de77ae"
            ],
            [
             0.3,
             "#f1b6da"
            ],
            [
             0.4,
             "#fde0ef"
            ],
            [
             0.5,
             "#f7f7f7"
            ],
            [
             0.6,
             "#e6f5d0"
            ],
            [
             0.7,
             "#b8e186"
            ],
            [
             0.8,
             "#7fbc41"
            ],
            [
             0.9,
             "#4d9221"
            ],
            [
             1,
             "#276419"
            ]
           ],
           "sequential": [
            [
             0,
             "#0d0887"
            ],
            [
             0.1111111111111111,
             "#46039f"
            ],
            [
             0.2222222222222222,
             "#7201a8"
            ],
            [
             0.3333333333333333,
             "#9c179e"
            ],
            [
             0.4444444444444444,
             "#bd3786"
            ],
            [
             0.5555555555555556,
             "#d8576b"
            ],
            [
             0.6666666666666666,
             "#ed7953"
            ],
            [
             0.7777777777777778,
             "#fb9f3a"
            ],
            [
             0.8888888888888888,
             "#fdca26"
            ],
            [
             1,
             "#f0f921"
            ]
           ],
           "sequentialminus": [
            [
             0,
             "#0d0887"
            ],
            [
             0.1111111111111111,
             "#46039f"
            ],
            [
             0.2222222222222222,
             "#7201a8"
            ],
            [
             0.3333333333333333,
             "#9c179e"
            ],
            [
             0.4444444444444444,
             "#bd3786"
            ],
            [
             0.5555555555555556,
             "#d8576b"
            ],
            [
             0.6666666666666666,
             "#ed7953"
            ],
            [
             0.7777777777777778,
             "#fb9f3a"
            ],
            [
             0.8888888888888888,
             "#fdca26"
            ],
            [
             1,
             "#f0f921"
            ]
           ]
          },
          "colorway": [
           "#636efa",
           "#EF553B",
           "#00cc96",
           "#ab63fa",
           "#FFA15A",
           "#19d3f3",
           "#FF6692",
           "#B6E880",
           "#FF97FF",
           "#FECB52"
          ],
          "font": {
           "color": "#2a3f5f"
          },
          "geo": {
           "bgcolor": "white",
           "lakecolor": "white",
           "landcolor": "#E5ECF6",
           "showlakes": true,
           "showland": true,
           "subunitcolor": "white"
          },
          "hoverlabel": {
           "align": "left"
          },
          "hovermode": "closest",
          "mapbox": {
           "style": "light"
          },
          "paper_bgcolor": "white",
          "plot_bgcolor": "#E5ECF6",
          "polar": {
           "angularaxis": {
            "gridcolor": "white",
            "linecolor": "white",
            "ticks": ""
           },
           "bgcolor": "#E5ECF6",
           "radialaxis": {
            "gridcolor": "white",
            "linecolor": "white",
            "ticks": ""
           }
          },
          "scene": {
           "xaxis": {
            "backgroundcolor": "#E5ECF6",
            "gridcolor": "white",
            "gridwidth": 2,
            "linecolor": "white",
            "showbackground": true,
            "ticks": "",
            "zerolinecolor": "white"
           },
           "yaxis": {
            "backgroundcolor": "#E5ECF6",
            "gridcolor": "white",
            "gridwidth": 2,
            "linecolor": "white",
            "showbackground": true,
            "ticks": "",
            "zerolinecolor": "white"
           },
           "zaxis": {
            "backgroundcolor": "#E5ECF6",
            "gridcolor": "white",
            "gridwidth": 2,
            "linecolor": "white",
            "showbackground": true,
            "ticks": "",
            "zerolinecolor": "white"
           }
          },
          "shapedefaults": {
           "line": {
            "color": "#2a3f5f"
           }
          },
          "ternary": {
           "aaxis": {
            "gridcolor": "white",
            "linecolor": "white",
            "ticks": ""
           },
           "baxis": {
            "gridcolor": "white",
            "linecolor": "white",
            "ticks": ""
           },
           "bgcolor": "#E5ECF6",
           "caxis": {
            "gridcolor": "white",
            "linecolor": "white",
            "ticks": ""
           }
          },
          "title": {
           "x": 0.05
          },
          "xaxis": {
           "automargin": true,
           "gridcolor": "white",
           "linecolor": "white",
           "ticks": "",
           "title": {
            "standoff": 15
           },
           "zerolinecolor": "white",
           "zerolinewidth": 2
          },
          "yaxis": {
           "automargin": true,
           "gridcolor": "white",
           "linecolor": "white",
           "ticks": "",
           "title": {
            "standoff": 15
           },
           "zerolinecolor": "white",
           "zerolinewidth": 2
          }
         }
        },
        "title": {
         "text": "Probability of default_status = 1 given business_new"
        },
        "width": 600,
        "xaxis": {
         "anchor": "y",
         "domain": [
          0,
          1
         ],
         "title": {
          "text": "Probability"
         }
        },
        "yaxis": {
         "anchor": "x",
         "domain": [
          0,
          1
         ],
         "tickmode": "linear",
         "title": {
          "text": "business_new"
         }
        }
       }
      }
     },
     "metadata": {},
     "output_type": "display_data"
    }
   ],
   "source": [
    "plot_category_default_distribution(train, 'business_new', height = 400)"
   ]
  },
  {
   "cell_type": "markdown",
   "metadata": {},
   "source": [
    "The plot above suggests that there is no strong correlation between business_new and the default status, given that the probability of default for New and Existing businesses is approximately the same at 0.3; New and Existing businesses are equally likely to default."
   ]
  },
  {
   "cell_type": "code",
   "execution_count": 18,
   "metadata": {},
   "outputs": [
    {
     "data": {
      "application/vnd.plotly.v1+json": {
       "config": {
        "plotlyServerURL": "https://plot.ly"
       },
       "data": [
        {
         "alignmentgroup": "True",
         "hovertemplate": "Probability=%{x}<br>business_type=%{y}<extra></extra>",
         "legendgroup": "",
         "marker": {
          "color": "#636efa",
          "pattern": {
           "shape": ""
          }
         },
         "name": "",
         "offsetgroup": "",
         "orientation": "h",
         "showlegend": false,
         "textposition": "auto",
         "type": "bar",
         "x": [
          0.26515151515151514,
          0.3252534156015866
         ],
         "xaxis": "x",
         "y": [
          "1",
          "0"
         ],
         "yaxis": "y"
        }
       ],
       "layout": {
        "barmode": "relative",
        "height": 400,
        "legend": {
         "tracegroupgap": 0
        },
        "template": {
         "data": {
          "bar": [
           {
            "error_x": {
             "color": "#2a3f5f"
            },
            "error_y": {
             "color": "#2a3f5f"
            },
            "marker": {
             "line": {
              "color": "#E5ECF6",
              "width": 0.5
             },
             "pattern": {
              "fillmode": "overlay",
              "size": 10,
              "solidity": 0.2
             }
            },
            "type": "bar"
           }
          ],
          "barpolar": [
           {
            "marker": {
             "line": {
              "color": "#E5ECF6",
              "width": 0.5
             },
             "pattern": {
              "fillmode": "overlay",
              "size": 10,
              "solidity": 0.2
             }
            },
            "type": "barpolar"
           }
          ],
          "carpet": [
           {
            "aaxis": {
             "endlinecolor": "#2a3f5f",
             "gridcolor": "white",
             "linecolor": "white",
             "minorgridcolor": "white",
             "startlinecolor": "#2a3f5f"
            },
            "baxis": {
             "endlinecolor": "#2a3f5f",
             "gridcolor": "white",
             "linecolor": "white",
             "minorgridcolor": "white",
             "startlinecolor": "#2a3f5f"
            },
            "type": "carpet"
           }
          ],
          "choropleth": [
           {
            "colorbar": {
             "outlinewidth": 0,
             "ticks": ""
            },
            "type": "choropleth"
           }
          ],
          "contour": [
           {
            "colorbar": {
             "outlinewidth": 0,
             "ticks": ""
            },
            "colorscale": [
             [
              0,
              "#0d0887"
             ],
             [
              0.1111111111111111,
              "#46039f"
             ],
             [
              0.2222222222222222,
              "#7201a8"
             ],
             [
              0.3333333333333333,
              "#9c179e"
             ],
             [
              0.4444444444444444,
              "#bd3786"
             ],
             [
              0.5555555555555556,
              "#d8576b"
             ],
             [
              0.6666666666666666,
              "#ed7953"
             ],
             [
              0.7777777777777778,
              "#fb9f3a"
             ],
             [
              0.8888888888888888,
              "#fdca26"
             ],
             [
              1,
              "#f0f921"
             ]
            ],
            "type": "contour"
           }
          ],
          "contourcarpet": [
           {
            "colorbar": {
             "outlinewidth": 0,
             "ticks": ""
            },
            "type": "contourcarpet"
           }
          ],
          "heatmap": [
           {
            "colorbar": {
             "outlinewidth": 0,
             "ticks": ""
            },
            "colorscale": [
             [
              0,
              "#0d0887"
             ],
             [
              0.1111111111111111,
              "#46039f"
             ],
             [
              0.2222222222222222,
              "#7201a8"
             ],
             [
              0.3333333333333333,
              "#9c179e"
             ],
             [
              0.4444444444444444,
              "#bd3786"
             ],
             [
              0.5555555555555556,
              "#d8576b"
             ],
             [
              0.6666666666666666,
              "#ed7953"
             ],
             [
              0.7777777777777778,
              "#fb9f3a"
             ],
             [
              0.8888888888888888,
              "#fdca26"
             ],
             [
              1,
              "#f0f921"
             ]
            ],
            "type": "heatmap"
           }
          ],
          "heatmapgl": [
           {
            "colorbar": {
             "outlinewidth": 0,
             "ticks": ""
            },
            "colorscale": [
             [
              0,
              "#0d0887"
             ],
             [
              0.1111111111111111,
              "#46039f"
             ],
             [
              0.2222222222222222,
              "#7201a8"
             ],
             [
              0.3333333333333333,
              "#9c179e"
             ],
             [
              0.4444444444444444,
              "#bd3786"
             ],
             [
              0.5555555555555556,
              "#d8576b"
             ],
             [
              0.6666666666666666,
              "#ed7953"
             ],
             [
              0.7777777777777778,
              "#fb9f3a"
             ],
             [
              0.8888888888888888,
              "#fdca26"
             ],
             [
              1,
              "#f0f921"
             ]
            ],
            "type": "heatmapgl"
           }
          ],
          "histogram": [
           {
            "marker": {
             "pattern": {
              "fillmode": "overlay",
              "size": 10,
              "solidity": 0.2
             }
            },
            "type": "histogram"
           }
          ],
          "histogram2d": [
           {
            "colorbar": {
             "outlinewidth": 0,
             "ticks": ""
            },
            "colorscale": [
             [
              0,
              "#0d0887"
             ],
             [
              0.1111111111111111,
              "#46039f"
             ],
             [
              0.2222222222222222,
              "#7201a8"
             ],
             [
              0.3333333333333333,
              "#9c179e"
             ],
             [
              0.4444444444444444,
              "#bd3786"
             ],
             [
              0.5555555555555556,
              "#d8576b"
             ],
             [
              0.6666666666666666,
              "#ed7953"
             ],
             [
              0.7777777777777778,
              "#fb9f3a"
             ],
             [
              0.8888888888888888,
              "#fdca26"
             ],
             [
              1,
              "#f0f921"
             ]
            ],
            "type": "histogram2d"
           }
          ],
          "histogram2dcontour": [
           {
            "colorbar": {
             "outlinewidth": 0,
             "ticks": ""
            },
            "colorscale": [
             [
              0,
              "#0d0887"
             ],
             [
              0.1111111111111111,
              "#46039f"
             ],
             [
              0.2222222222222222,
              "#7201a8"
             ],
             [
              0.3333333333333333,
              "#9c179e"
             ],
             [
              0.4444444444444444,
              "#bd3786"
             ],
             [
              0.5555555555555556,
              "#d8576b"
             ],
             [
              0.6666666666666666,
              "#ed7953"
             ],
             [
              0.7777777777777778,
              "#fb9f3a"
             ],
             [
              0.8888888888888888,
              "#fdca26"
             ],
             [
              1,
              "#f0f921"
             ]
            ],
            "type": "histogram2dcontour"
           }
          ],
          "mesh3d": [
           {
            "colorbar": {
             "outlinewidth": 0,
             "ticks": ""
            },
            "type": "mesh3d"
           }
          ],
          "parcoords": [
           {
            "line": {
             "colorbar": {
              "outlinewidth": 0,
              "ticks": ""
             }
            },
            "type": "parcoords"
           }
          ],
          "pie": [
           {
            "automargin": true,
            "type": "pie"
           }
          ],
          "scatter": [
           {
            "fillpattern": {
             "fillmode": "overlay",
             "size": 10,
             "solidity": 0.2
            },
            "type": "scatter"
           }
          ],
          "scatter3d": [
           {
            "line": {
             "colorbar": {
              "outlinewidth": 0,
              "ticks": ""
             }
            },
            "marker": {
             "colorbar": {
              "outlinewidth": 0,
              "ticks": ""
             }
            },
            "type": "scatter3d"
           }
          ],
          "scattercarpet": [
           {
            "marker": {
             "colorbar": {
              "outlinewidth": 0,
              "ticks": ""
             }
            },
            "type": "scattercarpet"
           }
          ],
          "scattergeo": [
           {
            "marker": {
             "colorbar": {
              "outlinewidth": 0,
              "ticks": ""
             }
            },
            "type": "scattergeo"
           }
          ],
          "scattergl": [
           {
            "marker": {
             "colorbar": {
              "outlinewidth": 0,
              "ticks": ""
             }
            },
            "type": "scattergl"
           }
          ],
          "scattermapbox": [
           {
            "marker": {
             "colorbar": {
              "outlinewidth": 0,
              "ticks": ""
             }
            },
            "type": "scattermapbox"
           }
          ],
          "scatterpolar": [
           {
            "marker": {
             "colorbar": {
              "outlinewidth": 0,
              "ticks": ""
             }
            },
            "type": "scatterpolar"
           }
          ],
          "scatterpolargl": [
           {
            "marker": {
             "colorbar": {
              "outlinewidth": 0,
              "ticks": ""
             }
            },
            "type": "scatterpolargl"
           }
          ],
          "scatterternary": [
           {
            "marker": {
             "colorbar": {
              "outlinewidth": 0,
              "ticks": ""
             }
            },
            "type": "scatterternary"
           }
          ],
          "surface": [
           {
            "colorbar": {
             "outlinewidth": 0,
             "ticks": ""
            },
            "colorscale": [
             [
              0,
              "#0d0887"
             ],
             [
              0.1111111111111111,
              "#46039f"
             ],
             [
              0.2222222222222222,
              "#7201a8"
             ],
             [
              0.3333333333333333,
              "#9c179e"
             ],
             [
              0.4444444444444444,
              "#bd3786"
             ],
             [
              0.5555555555555556,
              "#d8576b"
             ],
             [
              0.6666666666666666,
              "#ed7953"
             ],
             [
              0.7777777777777778,
              "#fb9f3a"
             ],
             [
              0.8888888888888888,
              "#fdca26"
             ],
             [
              1,
              "#f0f921"
             ]
            ],
            "type": "surface"
           }
          ],
          "table": [
           {
            "cells": {
             "fill": {
              "color": "#EBF0F8"
             },
             "line": {
              "color": "white"
             }
            },
            "header": {
             "fill": {
              "color": "#C8D4E3"
             },
             "line": {
              "color": "white"
             }
            },
            "type": "table"
           }
          ]
         },
         "layout": {
          "annotationdefaults": {
           "arrowcolor": "#2a3f5f",
           "arrowhead": 0,
           "arrowwidth": 1
          },
          "autotypenumbers": "strict",
          "coloraxis": {
           "colorbar": {
            "outlinewidth": 0,
            "ticks": ""
           }
          },
          "colorscale": {
           "diverging": [
            [
             0,
             "#8e0152"
            ],
            [
             0.1,
             "#c51b7d"
            ],
            [
             0.2,
             "#de77ae"
            ],
            [
             0.3,
             "#f1b6da"
            ],
            [
             0.4,
             "#fde0ef"
            ],
            [
             0.5,
             "#f7f7f7"
            ],
            [
             0.6,
             "#e6f5d0"
            ],
            [
             0.7,
             "#b8e186"
            ],
            [
             0.8,
             "#7fbc41"
            ],
            [
             0.9,
             "#4d9221"
            ],
            [
             1,
             "#276419"
            ]
           ],
           "sequential": [
            [
             0,
             "#0d0887"
            ],
            [
             0.1111111111111111,
             "#46039f"
            ],
            [
             0.2222222222222222,
             "#7201a8"
            ],
            [
             0.3333333333333333,
             "#9c179e"
            ],
            [
             0.4444444444444444,
             "#bd3786"
            ],
            [
             0.5555555555555556,
             "#d8576b"
            ],
            [
             0.6666666666666666,
             "#ed7953"
            ],
            [
             0.7777777777777778,
             "#fb9f3a"
            ],
            [
             0.8888888888888888,
             "#fdca26"
            ],
            [
             1,
             "#f0f921"
            ]
           ],
           "sequentialminus": [
            [
             0,
             "#0d0887"
            ],
            [
             0.1111111111111111,
             "#46039f"
            ],
            [
             0.2222222222222222,
             "#7201a8"
            ],
            [
             0.3333333333333333,
             "#9c179e"
            ],
            [
             0.4444444444444444,
             "#bd3786"
            ],
            [
             0.5555555555555556,
             "#d8576b"
            ],
            [
             0.6666666666666666,
             "#ed7953"
            ],
            [
             0.7777777777777778,
             "#fb9f3a"
            ],
            [
             0.8888888888888888,
             "#fdca26"
            ],
            [
             1,
             "#f0f921"
            ]
           ]
          },
          "colorway": [
           "#636efa",
           "#EF553B",
           "#00cc96",
           "#ab63fa",
           "#FFA15A",
           "#19d3f3",
           "#FF6692",
           "#B6E880",
           "#FF97FF",
           "#FECB52"
          ],
          "font": {
           "color": "#2a3f5f"
          },
          "geo": {
           "bgcolor": "white",
           "lakecolor": "white",
           "landcolor": "#E5ECF6",
           "showlakes": true,
           "showland": true,
           "subunitcolor": "white"
          },
          "hoverlabel": {
           "align": "left"
          },
          "hovermode": "closest",
          "mapbox": {
           "style": "light"
          },
          "paper_bgcolor": "white",
          "plot_bgcolor": "#E5ECF6",
          "polar": {
           "angularaxis": {
            "gridcolor": "white",
            "linecolor": "white",
            "ticks": ""
           },
           "bgcolor": "#E5ECF6",
           "radialaxis": {
            "gridcolor": "white",
            "linecolor": "white",
            "ticks": ""
           }
          },
          "scene": {
           "xaxis": {
            "backgroundcolor": "#E5ECF6",
            "gridcolor": "white",
            "gridwidth": 2,
            "linecolor": "white",
            "showbackground": true,
            "ticks": "",
            "zerolinecolor": "white"
           },
           "yaxis": {
            "backgroundcolor": "#E5ECF6",
            "gridcolor": "white",
            "gridwidth": 2,
            "linecolor": "white",
            "showbackground": true,
            "ticks": "",
            "zerolinecolor": "white"
           },
           "zaxis": {
            "backgroundcolor": "#E5ECF6",
            "gridcolor": "white",
            "gridwidth": 2,
            "linecolor": "white",
            "showbackground": true,
            "ticks": "",
            "zerolinecolor": "white"
           }
          },
          "shapedefaults": {
           "line": {
            "color": "#2a3f5f"
           }
          },
          "ternary": {
           "aaxis": {
            "gridcolor": "white",
            "linecolor": "white",
            "ticks": ""
           },
           "baxis": {
            "gridcolor": "white",
            "linecolor": "white",
            "ticks": ""
           },
           "bgcolor": "#E5ECF6",
           "caxis": {
            "gridcolor": "white",
            "linecolor": "white",
            "ticks": ""
           }
          },
          "title": {
           "x": 0.05
          },
          "xaxis": {
           "automargin": true,
           "gridcolor": "white",
           "linecolor": "white",
           "ticks": "",
           "title": {
            "standoff": 15
           },
           "zerolinecolor": "white",
           "zerolinewidth": 2
          },
          "yaxis": {
           "automargin": true,
           "gridcolor": "white",
           "linecolor": "white",
           "ticks": "",
           "title": {
            "standoff": 15
           },
           "zerolinecolor": "white",
           "zerolinewidth": 2
          }
         }
        },
        "title": {
         "text": "Probability of default_status = 1 given business_type"
        },
        "width": 600,
        "xaxis": {
         "anchor": "y",
         "domain": [
          0,
          1
         ],
         "title": {
          "text": "Probability"
         }
        },
        "yaxis": {
         "anchor": "x",
         "domain": [
          0,
          1
         ],
         "tickmode": "linear",
         "title": {
          "text": "business_type"
         }
        }
       }
      }
     },
     "metadata": {},
     "output_type": "display_data"
    }
   ],
   "source": [
    "plot_category_default_distribution(train, 'business_type', height = 400)"
   ]
  },
  {
   "cell_type": "markdown",
   "metadata": {},
   "source": [
    "The plot above suggests a weak correlation between business_type and the default status, given that the probability of default for business_type = 0 (i.e. 0.33) is slightly higher than business_type = 1 (i.e. 0.27)."
   ]
  },
  {
   "cell_type": "code",
   "execution_count": 19,
   "metadata": {},
   "outputs": [
    {
     "data": {
      "application/vnd.plotly.v1+json": {
       "config": {
        "plotlyServerURL": "https://plot.ly"
       },
       "data": [
        {
         "alignmentgroup": "True",
         "hovertemplate": "Probability=%{x}<br>other_loans=%{y}<extra></extra>",
         "legendgroup": "",
         "marker": {
          "color": "#636efa",
          "pattern": {
           "shape": ""
          }
         },
         "name": "",
         "offsetgroup": "",
         "orientation": "h",
         "showlegend": false,
         "textposition": "auto",
         "type": "bar",
         "x": [
          0.21936459909228442,
          0.36091954022988504
         ],
         "xaxis": "x",
         "y": [
          "Y",
          "N"
         ],
         "yaxis": "y"
        }
       ],
       "layout": {
        "barmode": "relative",
        "height": 400,
        "legend": {
         "tracegroupgap": 0
        },
        "template": {
         "data": {
          "bar": [
           {
            "error_x": {
             "color": "#2a3f5f"
            },
            "error_y": {
             "color": "#2a3f5f"
            },
            "marker": {
             "line": {
              "color": "#E5ECF6",
              "width": 0.5
             },
             "pattern": {
              "fillmode": "overlay",
              "size": 10,
              "solidity": 0.2
             }
            },
            "type": "bar"
           }
          ],
          "barpolar": [
           {
            "marker": {
             "line": {
              "color": "#E5ECF6",
              "width": 0.5
             },
             "pattern": {
              "fillmode": "overlay",
              "size": 10,
              "solidity": 0.2
             }
            },
            "type": "barpolar"
           }
          ],
          "carpet": [
           {
            "aaxis": {
             "endlinecolor": "#2a3f5f",
             "gridcolor": "white",
             "linecolor": "white",
             "minorgridcolor": "white",
             "startlinecolor": "#2a3f5f"
            },
            "baxis": {
             "endlinecolor": "#2a3f5f",
             "gridcolor": "white",
             "linecolor": "white",
             "minorgridcolor": "white",
             "startlinecolor": "#2a3f5f"
            },
            "type": "carpet"
           }
          ],
          "choropleth": [
           {
            "colorbar": {
             "outlinewidth": 0,
             "ticks": ""
            },
            "type": "choropleth"
           }
          ],
          "contour": [
           {
            "colorbar": {
             "outlinewidth": 0,
             "ticks": ""
            },
            "colorscale": [
             [
              0,
              "#0d0887"
             ],
             [
              0.1111111111111111,
              "#46039f"
             ],
             [
              0.2222222222222222,
              "#7201a8"
             ],
             [
              0.3333333333333333,
              "#9c179e"
             ],
             [
              0.4444444444444444,
              "#bd3786"
             ],
             [
              0.5555555555555556,
              "#d8576b"
             ],
             [
              0.6666666666666666,
              "#ed7953"
             ],
             [
              0.7777777777777778,
              "#fb9f3a"
             ],
             [
              0.8888888888888888,
              "#fdca26"
             ],
             [
              1,
              "#f0f921"
             ]
            ],
            "type": "contour"
           }
          ],
          "contourcarpet": [
           {
            "colorbar": {
             "outlinewidth": 0,
             "ticks": ""
            },
            "type": "contourcarpet"
           }
          ],
          "heatmap": [
           {
            "colorbar": {
             "outlinewidth": 0,
             "ticks": ""
            },
            "colorscale": [
             [
              0,
              "#0d0887"
             ],
             [
              0.1111111111111111,
              "#46039f"
             ],
             [
              0.2222222222222222,
              "#7201a8"
             ],
             [
              0.3333333333333333,
              "#9c179e"
             ],
             [
              0.4444444444444444,
              "#bd3786"
             ],
             [
              0.5555555555555556,
              "#d8576b"
             ],
             [
              0.6666666666666666,
              "#ed7953"
             ],
             [
              0.7777777777777778,
              "#fb9f3a"
             ],
             [
              0.8888888888888888,
              "#fdca26"
             ],
             [
              1,
              "#f0f921"
             ]
            ],
            "type": "heatmap"
           }
          ],
          "heatmapgl": [
           {
            "colorbar": {
             "outlinewidth": 0,
             "ticks": ""
            },
            "colorscale": [
             [
              0,
              "#0d0887"
             ],
             [
              0.1111111111111111,
              "#46039f"
             ],
             [
              0.2222222222222222,
              "#7201a8"
             ],
             [
              0.3333333333333333,
              "#9c179e"
             ],
             [
              0.4444444444444444,
              "#bd3786"
             ],
             [
              0.5555555555555556,
              "#d8576b"
             ],
             [
              0.6666666666666666,
              "#ed7953"
             ],
             [
              0.7777777777777778,
              "#fb9f3a"
             ],
             [
              0.8888888888888888,
              "#fdca26"
             ],
             [
              1,
              "#f0f921"
             ]
            ],
            "type": "heatmapgl"
           }
          ],
          "histogram": [
           {
            "marker": {
             "pattern": {
              "fillmode": "overlay",
              "size": 10,
              "solidity": 0.2
             }
            },
            "type": "histogram"
           }
          ],
          "histogram2d": [
           {
            "colorbar": {
             "outlinewidth": 0,
             "ticks": ""
            },
            "colorscale": [
             [
              0,
              "#0d0887"
             ],
             [
              0.1111111111111111,
              "#46039f"
             ],
             [
              0.2222222222222222,
              "#7201a8"
             ],
             [
              0.3333333333333333,
              "#9c179e"
             ],
             [
              0.4444444444444444,
              "#bd3786"
             ],
             [
              0.5555555555555556,
              "#d8576b"
             ],
             [
              0.6666666666666666,
              "#ed7953"
             ],
             [
              0.7777777777777778,
              "#fb9f3a"
             ],
             [
              0.8888888888888888,
              "#fdca26"
             ],
             [
              1,
              "#f0f921"
             ]
            ],
            "type": "histogram2d"
           }
          ],
          "histogram2dcontour": [
           {
            "colorbar": {
             "outlinewidth": 0,
             "ticks": ""
            },
            "colorscale": [
             [
              0,
              "#0d0887"
             ],
             [
              0.1111111111111111,
              "#46039f"
             ],
             [
              0.2222222222222222,
              "#7201a8"
             ],
             [
              0.3333333333333333,
              "#9c179e"
             ],
             [
              0.4444444444444444,
              "#bd3786"
             ],
             [
              0.5555555555555556,
              "#d8576b"
             ],
             [
              0.6666666666666666,
              "#ed7953"
             ],
             [
              0.7777777777777778,
              "#fb9f3a"
             ],
             [
              0.8888888888888888,
              "#fdca26"
             ],
             [
              1,
              "#f0f921"
             ]
            ],
            "type": "histogram2dcontour"
           }
          ],
          "mesh3d": [
           {
            "colorbar": {
             "outlinewidth": 0,
             "ticks": ""
            },
            "type": "mesh3d"
           }
          ],
          "parcoords": [
           {
            "line": {
             "colorbar": {
              "outlinewidth": 0,
              "ticks": ""
             }
            },
            "type": "parcoords"
           }
          ],
          "pie": [
           {
            "automargin": true,
            "type": "pie"
           }
          ],
          "scatter": [
           {
            "fillpattern": {
             "fillmode": "overlay",
             "size": 10,
             "solidity": 0.2
            },
            "type": "scatter"
           }
          ],
          "scatter3d": [
           {
            "line": {
             "colorbar": {
              "outlinewidth": 0,
              "ticks": ""
             }
            },
            "marker": {
             "colorbar": {
              "outlinewidth": 0,
              "ticks": ""
             }
            },
            "type": "scatter3d"
           }
          ],
          "scattercarpet": [
           {
            "marker": {
             "colorbar": {
              "outlinewidth": 0,
              "ticks": ""
             }
            },
            "type": "scattercarpet"
           }
          ],
          "scattergeo": [
           {
            "marker": {
             "colorbar": {
              "outlinewidth": 0,
              "ticks": ""
             }
            },
            "type": "scattergeo"
           }
          ],
          "scattergl": [
           {
            "marker": {
             "colorbar": {
              "outlinewidth": 0,
              "ticks": ""
             }
            },
            "type": "scattergl"
           }
          ],
          "scattermapbox": [
           {
            "marker": {
             "colorbar": {
              "outlinewidth": 0,
              "ticks": ""
             }
            },
            "type": "scattermapbox"
           }
          ],
          "scatterpolar": [
           {
            "marker": {
             "colorbar": {
              "outlinewidth": 0,
              "ticks": ""
             }
            },
            "type": "scatterpolar"
           }
          ],
          "scatterpolargl": [
           {
            "marker": {
             "colorbar": {
              "outlinewidth": 0,
              "ticks": ""
             }
            },
            "type": "scatterpolargl"
           }
          ],
          "scatterternary": [
           {
            "marker": {
             "colorbar": {
              "outlinewidth": 0,
              "ticks": ""
             }
            },
            "type": "scatterternary"
           }
          ],
          "surface": [
           {
            "colorbar": {
             "outlinewidth": 0,
             "ticks": ""
            },
            "colorscale": [
             [
              0,
              "#0d0887"
             ],
             [
              0.1111111111111111,
              "#46039f"
             ],
             [
              0.2222222222222222,
              "#7201a8"
             ],
             [
              0.3333333333333333,
              "#9c179e"
             ],
             [
              0.4444444444444444,
              "#bd3786"
             ],
             [
              0.5555555555555556,
              "#d8576b"
             ],
             [
              0.6666666666666666,
              "#ed7953"
             ],
             [
              0.7777777777777778,
              "#fb9f3a"
             ],
             [
              0.8888888888888888,
              "#fdca26"
             ],
             [
              1,
              "#f0f921"
             ]
            ],
            "type": "surface"
           }
          ],
          "table": [
           {
            "cells": {
             "fill": {
              "color": "#EBF0F8"
             },
             "line": {
              "color": "white"
             }
            },
            "header": {
             "fill": {
              "color": "#C8D4E3"
             },
             "line": {
              "color": "white"
             }
            },
            "type": "table"
           }
          ]
         },
         "layout": {
          "annotationdefaults": {
           "arrowcolor": "#2a3f5f",
           "arrowhead": 0,
           "arrowwidth": 1
          },
          "autotypenumbers": "strict",
          "coloraxis": {
           "colorbar": {
            "outlinewidth": 0,
            "ticks": ""
           }
          },
          "colorscale": {
           "diverging": [
            [
             0,
             "#8e0152"
            ],
            [
             0.1,
             "#c51b7d"
            ],
            [
             0.2,
             "#de77ae"
            ],
            [
             0.3,
             "#f1b6da"
            ],
            [
             0.4,
             "#fde0ef"
            ],
            [
             0.5,
             "#f7f7f7"
            ],
            [
             0.6,
             "#e6f5d0"
            ],
            [
             0.7,
             "#b8e186"
            ],
            [
             0.8,
             "#7fbc41"
            ],
            [
             0.9,
             "#4d9221"
            ],
            [
             1,
             "#276419"
            ]
           ],
           "sequential": [
            [
             0,
             "#0d0887"
            ],
            [
             0.1111111111111111,
             "#46039f"
            ],
            [
             0.2222222222222222,
             "#7201a8"
            ],
            [
             0.3333333333333333,
             "#9c179e"
            ],
            [
             0.4444444444444444,
             "#bd3786"
            ],
            [
             0.5555555555555556,
             "#d8576b"
            ],
            [
             0.6666666666666666,
             "#ed7953"
            ],
            [
             0.7777777777777778,
             "#fb9f3a"
            ],
            [
             0.8888888888888888,
             "#fdca26"
            ],
            [
             1,
             "#f0f921"
            ]
           ],
           "sequentialminus": [
            [
             0,
             "#0d0887"
            ],
            [
             0.1111111111111111,
             "#46039f"
            ],
            [
             0.2222222222222222,
             "#7201a8"
            ],
            [
             0.3333333333333333,
             "#9c179e"
            ],
            [
             0.4444444444444444,
             "#bd3786"
            ],
            [
             0.5555555555555556,
             "#d8576b"
            ],
            [
             0.6666666666666666,
             "#ed7953"
            ],
            [
             0.7777777777777778,
             "#fb9f3a"
            ],
            [
             0.8888888888888888,
             "#fdca26"
            ],
            [
             1,
             "#f0f921"
            ]
           ]
          },
          "colorway": [
           "#636efa",
           "#EF553B",
           "#00cc96",
           "#ab63fa",
           "#FFA15A",
           "#19d3f3",
           "#FF6692",
           "#B6E880",
           "#FF97FF",
           "#FECB52"
          ],
          "font": {
           "color": "#2a3f5f"
          },
          "geo": {
           "bgcolor": "white",
           "lakecolor": "white",
           "landcolor": "#E5ECF6",
           "showlakes": true,
           "showland": true,
           "subunitcolor": "white"
          },
          "hoverlabel": {
           "align": "left"
          },
          "hovermode": "closest",
          "mapbox": {
           "style": "light"
          },
          "paper_bgcolor": "white",
          "plot_bgcolor": "#E5ECF6",
          "polar": {
           "angularaxis": {
            "gridcolor": "white",
            "linecolor": "white",
            "ticks": ""
           },
           "bgcolor": "#E5ECF6",
           "radialaxis": {
            "gridcolor": "white",
            "linecolor": "white",
            "ticks": ""
           }
          },
          "scene": {
           "xaxis": {
            "backgroundcolor": "#E5ECF6",
            "gridcolor": "white",
            "gridwidth": 2,
            "linecolor": "white",
            "showbackground": true,
            "ticks": "",
            "zerolinecolor": "white"
           },
           "yaxis": {
            "backgroundcolor": "#E5ECF6",
            "gridcolor": "white",
            "gridwidth": 2,
            "linecolor": "white",
            "showbackground": true,
            "ticks": "",
            "zerolinecolor": "white"
           },
           "zaxis": {
            "backgroundcolor": "#E5ECF6",
            "gridcolor": "white",
            "gridwidth": 2,
            "linecolor": "white",
            "showbackground": true,
            "ticks": "",
            "zerolinecolor": "white"
           }
          },
          "shapedefaults": {
           "line": {
            "color": "#2a3f5f"
           }
          },
          "ternary": {
           "aaxis": {
            "gridcolor": "white",
            "linecolor": "white",
            "ticks": ""
           },
           "baxis": {
            "gridcolor": "white",
            "linecolor": "white",
            "ticks": ""
           },
           "bgcolor": "#E5ECF6",
           "caxis": {
            "gridcolor": "white",
            "linecolor": "white",
            "ticks": ""
           }
          },
          "title": {
           "x": 0.05
          },
          "xaxis": {
           "automargin": true,
           "gridcolor": "white",
           "linecolor": "white",
           "ticks": "",
           "title": {
            "standoff": 15
           },
           "zerolinecolor": "white",
           "zerolinewidth": 2
          },
          "yaxis": {
           "automargin": true,
           "gridcolor": "white",
           "linecolor": "white",
           "ticks": "",
           "title": {
            "standoff": 15
           },
           "zerolinecolor": "white",
           "zerolinewidth": 2
          }
         }
        },
        "title": {
         "text": "Probability of default_status = 1 given other_loans"
        },
        "width": 600,
        "xaxis": {
         "anchor": "y",
         "domain": [
          0,
          1
         ],
         "title": {
          "text": "Probability"
         }
        },
        "yaxis": {
         "anchor": "x",
         "domain": [
          0,
          1
         ],
         "tickmode": "linear",
         "title": {
          "text": "other_loans"
         }
        }
       }
      }
     },
     "metadata": {},
     "output_type": "display_data"
    }
   ],
   "source": [
    "plot_category_default_distribution(train, 'other_loans', height = 400)"
   ]
  },
  {
   "cell_type": "markdown",
   "metadata": {},
   "source": [
    "The plot above suggests a moderate correlation between other_loans and the default status, given that the probability of default for no other loans = 0 (i.e. 0.36) is moderately higher than with other loans (i.e. 0.22)."
   ]
  },
  {
   "cell_type": "markdown",
   "metadata": {},
   "source": [
    "### Analyse the correlation between numerical feature values and default status"
   ]
  },
  {
   "cell_type": "code",
   "execution_count": 20,
   "metadata": {},
   "outputs": [
    {
     "data": {
      "application/vnd.plotly.v1+json": {
       "config": {
        "plotlyServerURL": "https://plot.ly"
       },
       "data": [
        {
         "alignmentgroup": "True",
         "hovertemplate": "default_status=1<br>term=%{x}<extra></extra>",
         "legendgroup": "1",
         "marker": {
          "color": "#636efa"
         },
         "name": "1",
         "notched": false,
         "offsetgroup": "1",
         "orientation": "h",
         "showlegend": true,
         "type": "box",
         "x": [
          34,
          107,
          109,
          54,
          106,
          88,
          24,
          65,
          29,
          64,
          93,
          35,
          100,
          111,
          7,
          78,
          61,
          64,
          91,
          36,
          103,
          120,
          38,
          73,
          120,
          98,
          53,
          44,
          52,
          43,
          109,
          78,
          65,
          66,
          88,
          67,
          84,
          32,
          80,
          71,
          106,
          52,
          75,
          55,
          5,
          53,
          97,
          53,
          32,
          63,
          107,
          60,
          58,
          31,
          11,
          41,
          60,
          59,
          39,
          105,
          44,
          93,
          48,
          53,
          76,
          64,
          60,
          49,
          69,
          55,
          3,
          50,
          47,
          57,
          35,
          48,
          49,
          22,
          83,
          34,
          29,
          83,
          63,
          16,
          59,
          64,
          75,
          96,
          46,
          99,
          49,
          112,
          111,
          37,
          99,
          97,
          80,
          31,
          69,
          47,
          51,
          110,
          73,
          103,
          48,
          1,
          53,
          19,
          29,
          37,
          71,
          36,
          101,
          79,
          271,
          115,
          48,
          50,
          96,
          73,
          291,
          99,
          49,
          59,
          39,
          65,
          35,
          40,
          58,
          44,
          47,
          113,
          91,
          259,
          13,
          110,
          44,
          40,
          51,
          89,
          40,
          63,
          49,
          49,
          95,
          57,
          101,
          65,
          78,
          39,
          95,
          63,
          42,
          77,
          76,
          108,
          33,
          55,
          63,
          58,
          25,
          73,
          49,
          101,
          31,
          61,
          46,
          32,
          28,
          61,
          101,
          84,
          97,
          60,
          46,
          63,
          12,
          57,
          30,
          33,
          94,
          40,
          103,
          54,
          83,
          81,
          49,
          101,
          82,
          85,
          54,
          1,
          37,
          84,
          106,
          93,
          1,
          56,
          47,
          29,
          1,
          98,
          38,
          85,
          95,
          103,
          100,
          74,
          55,
          34,
          107,
          8,
          63,
          21,
          78,
          44,
          34,
          54,
          86,
          49,
          108,
          33,
          78,
          94,
          100,
          31,
          37,
          55,
          108,
          37,
          57,
          58,
          69,
          31,
          68,
          91,
          37,
          31,
          45,
          70,
          39,
          39,
          54,
          107,
          74,
          39,
          84,
          103,
          114,
          96,
          38,
          113,
          52,
          52,
          65,
          36,
          60,
          101,
          46,
          62,
          50,
          46,
          41,
          42,
          49,
          114,
          49,
          108,
          104,
          78,
          13,
          17,
          70,
          23,
          33,
          64,
          58,
          50,
          102,
          10,
          84,
          152,
          64,
          53,
          59,
          38,
          51,
          47,
          86,
          82,
          105,
          71,
          102,
          51,
          72,
          34,
          82,
          53,
          94,
          52,
          51,
          68,
          27,
          38,
          102,
          120,
          92,
          94,
          65,
          91,
          51,
          101,
          40,
          59,
          115,
          55,
          25,
          25,
          68,
          27,
          112,
          104,
          100,
          47,
          89,
          38,
          42,
          54,
          34,
          76,
          103,
          53,
          31,
          92,
          26,
          78,
          111,
          107,
          84,
          95,
          82,
          18,
          55,
          41,
          68,
          15,
          21,
          68,
          112,
          153,
          65,
          101,
          99,
          83,
          105,
          32,
          56,
          50,
          45,
          47,
          34,
          62,
          75,
          49,
          88,
          55,
          26,
          112,
          31,
          39,
          52,
          46,
          46,
          37,
          53,
          108,
          84,
          64,
          46,
          61,
          32,
          69,
          75,
          11,
          31,
          44,
          42,
          57,
          59,
          90,
          76,
          101,
          37,
          113,
          30,
          94,
          94,
          19,
          40,
          110,
          53,
          88,
          39,
          54,
          6,
          39,
          46,
          95,
          89,
          102,
          57,
          22,
          108,
          48,
          101,
          12,
          48,
          49,
          35,
          34,
          29,
          85,
          43,
          33,
          108,
          43,
          59,
          51,
          296,
          60,
          112,
          103,
          104,
          56,
          71,
          43,
          8,
          97,
          48,
          55,
          38,
          86,
          84,
          50,
          103,
          113,
          57,
          97,
          54,
          83,
          54,
          51,
          57,
          93,
          47,
          45,
          37,
          98,
          120,
          66,
          98,
          60,
          17,
          103,
          75,
          86,
          42,
          113,
          55,
          80,
          5,
          94,
          100,
          105,
          46,
          69,
          96,
          52,
          108,
          25,
          113,
          83,
          41,
          30,
          55,
          42,
          41,
          71,
          29,
          18,
          103,
          86,
          47,
          114,
          49,
          15,
          34,
          40,
          108,
          42,
          93,
          50,
          120,
          100,
          57,
          50,
          49,
          6,
          29,
          4,
          32,
          58,
          54,
          91,
          37,
          19,
          51,
          71,
          47,
          117,
          111,
          89,
          62,
          36,
          109,
          62,
          45,
          30,
          96,
          82,
          99,
          52,
          73,
          28,
          107,
          56,
          65,
          90,
          43,
          51,
          84,
          151,
          111,
          51,
          120,
          54,
          19,
          56,
          85,
          29,
          72,
          96,
          57,
          52,
          29,
          84,
          91,
          23,
          50,
          59,
          248,
          36,
          107,
          88,
          34,
          31,
          32,
          120,
          86,
          102,
          63,
          57,
          144,
          46,
          55,
          85,
          81,
          27,
          51,
          93,
          49,
          96,
          63,
          105,
          114,
          105,
          55,
          110,
          26,
          52,
          19,
          48,
          80,
          280,
          105,
          25,
          52,
          83,
          48,
          107,
          62,
          44,
          41,
          28,
          80,
          84,
          200,
          44,
          92,
          3,
          54,
          78,
          88,
          71,
          29,
          71,
          59,
          272,
          48,
          116,
          43,
          42,
          64,
          54,
          102,
          54,
          77,
          98,
          105,
          80,
          33,
          43,
          49,
          36,
          106,
          84,
          88,
          120,
          113,
          114,
          99,
          75,
          70,
          104,
          57,
          78,
          55,
          46,
          33,
          90,
          56,
          54,
          54,
          69,
          40,
          132,
          27,
          62,
          4,
          108,
          80,
          75,
          104,
          66,
          97,
          49,
          49,
          104,
          80,
          40,
          46,
          83,
          82,
          5,
          44,
          45,
          61,
          46,
          36,
          64,
          42,
          18,
          41,
          76,
          31,
          70,
          52,
          91,
          55,
          33,
          16,
          22,
          64,
          57,
          42,
          120,
          55,
          55,
          68,
          12,
          94,
          4,
          107,
          32,
          95,
          89,
          33,
          48,
          54,
          37,
          16,
          48,
          90,
          55,
          52,
          68,
          7,
          76,
          66,
          45,
          18,
          51,
          61,
          42,
          53,
          55,
          32,
          94,
          43,
          51,
          52,
          40,
          71,
          3,
          38,
          100,
          25,
          89,
          4,
          92,
          42,
          100,
          43,
          62,
          46,
          5,
          86,
          31,
          46,
          56,
          43,
          116,
          35,
          57,
          49,
          36,
          31,
          104,
          21,
          103,
          64,
          60,
          107,
          67,
          52,
          31,
          59,
          50,
          54,
          252,
          88,
          55,
          47
         ],
         "x0": " ",
         "xaxis": "x",
         "y0": " ",
         "yaxis": "y"
        },
        {
         "alignmentgroup": "True",
         "hovertemplate": "default_status=0<br>term=%{x}<extra></extra>",
         "legendgroup": "0",
         "marker": {
          "color": "#EF553B"
         },
         "name": "0",
         "notched": false,
         "offsetgroup": "0",
         "orientation": "h",
         "showlegend": true,
         "type": "box",
         "x": [
          84,
          240,
          36,
          60,
          24,
          120,
          24,
          240,
          12,
          60,
          24,
          60,
          179,
          120,
          13,
          84,
          36,
          120,
          312,
          48,
          84,
          120,
          84,
          60,
          180,
          240,
          180,
          84,
          78,
          240,
          303,
          12,
          60,
          88,
          60,
          84,
          180,
          240,
          84,
          12,
          72,
          24,
          60,
          90,
          84,
          84,
          12,
          84,
          32,
          36,
          120,
          120,
          240,
          75,
          96,
          240,
          240,
          14,
          84,
          48,
          180,
          48,
          84,
          312,
          36,
          84,
          240,
          60,
          12,
          300,
          300,
          90,
          84,
          84,
          84,
          12,
          84,
          120,
          84,
          120,
          168,
          300,
          84,
          240,
          6,
          120,
          60,
          60,
          84,
          73,
          84,
          78,
          60,
          84,
          78,
          120,
          64,
          84,
          84,
          18,
          60,
          84,
          84,
          72,
          60,
          78,
          240,
          78,
          36,
          12,
          84,
          84,
          84,
          60,
          84,
          84,
          84,
          120,
          240,
          84,
          36,
          12,
          246,
          84,
          84,
          78,
          36,
          84,
          60,
          300,
          13,
          84,
          62,
          60,
          84,
          78,
          120,
          37,
          180,
          8,
          120,
          78,
          7,
          36,
          84,
          84,
          84,
          300,
          84,
          84,
          84,
          60,
          84,
          84,
          60,
          123,
          72,
          84,
          39,
          60,
          300,
          123,
          120,
          60,
          240,
          240,
          96,
          60,
          129,
          24,
          120,
          40,
          6,
          300,
          78,
          84,
          240,
          36,
          120,
          84,
          300,
          60,
          120,
          78,
          61,
          84,
          120,
          84,
          84,
          120,
          60,
          12,
          90,
          84,
          120,
          240,
          13,
          60,
          36,
          75,
          84,
          95,
          84,
          60,
          84,
          60,
          78,
          36,
          84,
          60,
          240,
          84,
          84,
          84,
          48,
          60,
          36,
          78,
          72,
          84,
          36,
          60,
          120,
          120,
          48,
          78,
          120,
          84,
          93,
          78,
          12,
          60,
          84,
          300,
          120,
          120,
          36,
          180,
          120,
          84,
          120,
          84,
          12,
          36,
          192,
          36,
          120,
          84,
          72,
          84,
          113,
          126,
          120,
          84,
          24,
          60,
          13,
          131,
          309,
          60,
          120,
          24,
          84,
          24,
          48,
          84,
          240,
          96,
          84,
          180,
          24,
          240,
          120,
          60,
          60,
          96,
          120,
          12,
          126,
          60,
          84,
          120,
          300,
          120,
          84,
          300,
          60,
          24,
          84,
          36,
          84,
          84,
          84,
          78,
          240,
          60,
          84,
          22,
          120,
          240,
          120,
          24,
          84,
          120,
          60,
          120,
          60,
          30,
          34,
          60,
          48,
          240,
          84,
          48,
          36,
          48,
          240,
          84,
          300,
          120,
          43,
          84,
          73,
          48,
          60,
          240,
          300,
          120,
          12,
          240,
          60,
          300,
          96,
          48,
          120,
          84,
          60,
          3,
          36,
          120,
          60,
          84,
          24,
          60,
          84,
          84,
          84,
          120,
          12,
          60,
          60,
          84,
          82,
          84,
          84,
          240,
          84,
          84,
          84,
          84,
          15,
          84,
          168,
          60,
          77,
          18,
          84,
          84,
          144,
          84,
          120,
          84,
          84,
          300,
          13,
          36,
          60,
          84,
          84,
          84,
          84,
          4,
          84,
          96,
          300,
          60,
          78,
          60,
          51,
          84,
          84,
          126,
          84,
          240,
          240,
          300,
          78,
          84,
          84,
          300,
          120,
          72,
          84,
          84,
          84,
          300,
          78,
          84,
          300,
          120,
          84,
          120,
          84,
          38,
          48,
          84,
          12,
          60,
          36,
          72,
          84,
          84,
          114,
          90,
          60,
          120,
          120,
          84,
          73,
          84,
          34,
          18,
          3,
          120,
          120,
          300,
          84,
          60,
          84,
          25,
          36,
          84,
          120,
          24,
          78,
          60,
          84,
          120,
          12,
          84,
          60,
          78,
          78,
          84,
          73,
          96,
          84,
          72,
          84,
          120,
          39,
          84,
          300,
          84,
          12,
          105,
          240,
          24,
          60,
          36,
          60,
          78,
          84,
          300,
          60,
          120,
          240,
          66,
          84,
          120,
          84,
          84,
          84,
          60,
          84,
          63,
          39,
          120,
          84,
          90,
          108,
          78,
          36,
          84,
          309,
          78,
          78,
          60,
          84,
          120,
          120,
          300,
          300,
          84,
          240,
          84,
          87,
          85,
          300,
          48,
          84,
          24,
          120,
          60,
          84,
          300,
          84,
          120,
          84,
          42,
          84,
          27,
          84,
          120,
          84,
          125,
          60,
          39,
          12,
          78,
          120,
          24,
          186,
          60,
          120,
          96,
          240,
          60,
          84,
          240,
          42,
          84,
          120,
          84,
          84,
          84,
          84,
          120,
          60,
          24,
          144,
          84,
          180,
          60,
          60,
          120,
          84,
          78,
          240,
          60,
          240,
          120,
          66,
          48,
          120,
          60,
          84,
          36,
          120,
          84,
          66,
          84,
          48,
          36,
          84,
          60,
          120,
          36,
          84,
          84,
          120,
          120,
          60,
          84,
          84,
          84,
          84,
          78,
          13,
          84,
          12,
          240,
          60,
          84,
          60,
          60,
          99,
          120,
          84,
          78,
          300,
          78,
          84,
          168,
          120,
          96,
          84,
          66,
          84,
          180,
          120,
          24,
          72,
          84,
          120,
          90,
          60,
          25,
          24,
          84,
          120,
          300,
          120,
          300,
          60,
          12,
          84,
          60,
          60,
          23,
          120,
          60,
          240,
          12,
          84,
          36,
          95,
          60,
          300,
          96,
          84,
          90,
          12,
          78,
          78,
          84,
          24,
          77,
          36,
          240,
          240,
          60,
          84,
          24,
          84,
          12,
          303,
          240,
          84,
          24,
          60,
          78,
          84,
          84,
          144,
          84,
          36,
          84,
          84,
          78,
          300,
          300,
          36,
          84,
          240,
          240,
          84,
          60,
          84,
          120,
          84,
          84,
          120,
          84,
          180,
          60,
          84,
          120,
          84,
          300,
          120,
          120,
          27,
          60,
          240,
          300,
          84,
          84,
          60,
          36,
          73,
          26,
          84,
          84,
          84,
          84,
          78,
          84,
          34,
          120,
          84,
          84,
          90,
          84,
          60,
          84,
          78,
          120,
          84,
          84,
          84,
          120,
          84,
          84,
          60,
          240,
          83,
          84,
          36,
          84,
          84,
          120,
          24,
          180,
          120,
          60,
          120,
          48,
          60,
          37,
          84,
          72,
          120,
          60,
          24,
          240,
          38,
          60,
          84,
          84,
          84,
          84,
          84,
          36,
          120,
          84,
          60,
          144,
          84,
          15,
          84,
          84,
          120,
          84,
          84,
          84,
          281,
          48,
          24,
          73,
          84,
          114,
          24,
          18,
          84,
          84,
          84,
          60,
          66,
          96,
          60,
          300,
          85,
          84,
          84,
          84,
          84,
          24,
          60,
          84,
          240,
          73,
          78,
          84,
          84,
          84,
          23,
          84,
          48,
          240,
          84,
          36,
          84,
          84,
          78,
          84,
          84,
          84,
          84,
          60,
          84,
          84,
          300,
          78,
          60,
          120,
          84,
          13,
          176,
          300,
          60,
          96,
          84,
          84,
          72,
          66,
          78,
          60,
          84,
          120,
          84,
          120,
          300,
          36,
          84,
          83,
          60,
          84,
          84,
          84,
          25,
          62,
          240,
          84,
          84,
          60,
          84,
          84,
          12,
          84,
          60,
          48,
          78,
          84,
          60,
          24,
          312,
          60,
          60,
          36,
          240,
          72,
          120,
          12,
          12,
          84,
          276,
          36,
          84,
          84,
          120,
          84,
          48,
          84,
          120,
          240,
          120,
          84,
          84,
          84,
          60,
          120,
          84,
          78,
          120,
          120,
          84,
          84,
          240,
          12,
          60,
          78,
          78,
          120,
          76,
          66,
          84,
          13,
          12,
          60,
          84,
          60,
          84,
          12,
          84,
          12,
          84,
          120,
          120,
          72,
          84,
          24,
          24,
          300,
          84,
          60,
          72,
          24,
          240,
          60,
          84,
          120,
          48,
          48,
          72,
          84,
          84,
          84,
          12,
          228,
          13,
          84,
          312,
          84,
          84,
          84,
          84,
          73,
          42,
          40,
          60,
          78,
          84,
          24,
          84,
          84,
          120,
          240,
          84,
          300,
          84,
          63,
          300,
          84,
          60,
          84,
          84,
          84,
          120,
          60,
          30,
          240,
          84,
          84,
          84,
          120,
          36,
          60,
          120,
          300,
          240,
          84,
          60,
          84,
          84,
          60,
          84,
          84,
          84,
          84,
          60,
          240,
          78,
          24,
          84,
          84,
          309,
          84,
          84,
          120,
          83,
          36,
          156,
          63,
          60,
          60,
          41,
          84,
          24,
          84,
          84,
          300,
          60,
          84,
          84,
          84,
          84,
          84,
          60,
          93,
          78,
          84,
          84,
          84,
          120,
          240,
          240,
          84,
          84,
          78,
          84,
          120,
          84,
          18,
          72,
          240,
          300,
          84,
          84,
          84,
          36,
          60,
          84,
          39,
          300,
          78,
          120,
          84,
          120,
          60,
          312,
          306,
          72,
          84,
          36,
          252,
          84,
          120,
          24,
          84,
          14,
          84,
          84,
          84,
          84,
          60,
          84,
          84,
          60,
          3,
          87,
          84,
          78,
          73,
          60,
          39,
          60,
          60,
          84,
          13,
          84,
          84,
          300,
          240,
          84,
          60,
          33,
          84,
          120,
          120,
          84,
          240,
          72,
          36,
          300,
          84,
          120,
          78,
          120,
          240,
          36,
          60,
          61,
          30,
          72,
          87,
          60,
          90,
          60,
          84,
          84,
          60,
          240,
          84,
          120,
          12,
          78,
          84,
          84,
          84,
          60,
          60,
          84,
          72,
          84,
          84,
          78,
          120,
          125,
          120,
          60,
          60,
          144,
          120,
          84,
          120,
          13,
          60,
          60,
          84,
          60,
          66,
          90,
          84,
          13,
          84,
          84,
          240,
          60,
          120,
          84,
          84,
          120,
          90,
          240,
          240,
          60,
          36,
          36,
          72,
          24,
          84,
          60,
          24,
          246,
          84,
          84,
          84,
          240,
          300,
          84,
          60,
          84,
          60,
          120,
          12,
          84,
          84,
          36,
          39,
          84,
          300,
          300,
          84,
          60,
          78,
          72,
          96,
          60,
          84,
          60,
          60,
          84,
          78,
          84,
          240,
          48,
          6,
          300,
          60,
          240,
          78,
          36,
          12,
          84,
          108,
          84,
          48,
          60,
          60,
          180,
          84,
          120,
          120,
          60,
          84,
          84,
          84,
          84,
          84,
          84,
          120,
          60,
          36,
          36,
          37,
          120,
          240,
          84,
          120,
          60,
          240,
          84,
          84,
          60,
          84,
          84,
          84,
          78,
          300,
          120,
          60,
          300,
          84,
          300,
          120,
          120,
          78,
          73,
          84,
          240,
          24,
          12,
          125,
          84,
          78,
          84,
          120,
          84,
          60,
          60,
          6,
          78,
          84,
          84,
          72,
          24,
          60,
          84,
          48,
          120,
          120,
          84,
          90,
          36,
          120,
          84,
          78,
          84,
          300,
          84,
          120,
          240,
          84,
          84,
          84,
          84,
          60,
          84,
          72,
          84,
          84,
          83,
          84,
          300,
          84,
          300,
          36,
          84,
          60,
          60,
          84,
          12,
          60,
          60,
          72,
          120,
          120,
          192,
          180,
          120,
          122,
          47,
          120,
          60,
          300,
          15,
          84,
          12,
          84,
          87,
          60,
          13,
          24,
          90,
          84,
          102,
          120,
          120,
          48,
          240,
          120,
          84,
          84,
          300,
          84,
          84,
          120,
          51,
          300,
          84,
          13,
          36,
          120,
          84,
          312,
          84,
          36,
          84,
          84,
          60,
          78,
          78,
          120,
          120,
          84,
          72,
          240,
          84,
          300,
          240,
          60,
          48,
          84,
          84,
          84,
          84,
          84,
          120,
          48,
          134,
          66,
          84,
          15,
          60,
          36,
          18,
          84,
          120,
          122,
          48,
          84,
          84,
          120,
          84,
          78,
          78,
          180,
          36,
          78,
          60,
          84,
          84,
          300,
          300,
          84,
          240,
          84,
          120,
          84,
          276,
          24,
          78,
          36,
          24,
          48,
          13,
          84,
          36,
          84,
          48,
          60,
          120,
          12,
          84,
          306,
          84,
          300,
          6,
          60,
          96,
          84,
          84,
          84,
          84,
          120,
          36,
          84,
          84,
          36,
          12,
          120,
          13,
          72,
          84,
          60,
          60,
          84,
          120,
          83,
          240,
          12,
          120,
          120,
          84,
          84,
          24,
          60,
          84,
          84,
          120,
          24,
          300,
          84,
          25,
          72,
          300,
          120,
          40,
          185,
          240,
          12,
          84,
          240,
          84,
          84,
          120,
          120,
          78,
          84,
          120,
          60,
          78,
          87,
          84,
          66,
          60,
          84,
          24,
          300,
          120,
          84,
          120,
          84,
          120,
          48,
          60,
          84,
          60,
          36,
          72,
          32,
          84,
          88,
          240,
          84,
          120,
          264,
          120,
          84,
          60,
          36,
          84,
          60,
          84,
          240,
          120,
          84,
          180,
          84,
          60,
          36,
          84,
          87,
          300,
          84,
          60,
          84,
          84,
          66,
          60,
          84,
          240,
          60,
          87,
          84,
          22,
          60,
          60,
          84,
          84,
          144,
          42,
          48,
          84,
          61,
          180,
          27,
          66,
          120,
          240,
          54,
          60,
          96,
          24,
          60,
          12,
          84,
          84,
          300,
          84,
          120,
          84,
          123,
          84,
          84,
          120,
          60,
          60,
          16,
          300,
          120,
          300,
          60,
          90,
          84,
          17,
          84,
          120,
          84,
          300,
          48,
          60,
          180,
          240,
          84,
          36,
          24,
          60,
          87,
          180,
          36,
          84,
          12,
          84,
          78,
          240,
          36,
          84,
          24,
          84,
          84,
          120,
          48,
          240,
          36,
          84,
          84,
          192,
          84,
          84,
          60,
          60,
          84,
          84,
          84,
          120,
          84,
          62,
          19,
          84,
          84,
          84,
          84,
          84,
          300,
          48,
          303,
          36,
          84,
          84,
          84,
          84,
          84,
          84,
          84,
          84,
          39,
          60,
          60,
          120,
          84,
          66,
          84,
          62,
          60,
          240,
          87
         ],
         "x0": " ",
         "xaxis": "x",
         "y0": " ",
         "yaxis": "y"
        }
       ],
       "layout": {
        "boxmode": "group",
        "legend": {
         "title": {
          "text": "default_status"
         },
         "tracegroupgap": 0
        },
        "margin": {
         "t": 60
        },
        "template": {
         "data": {
          "bar": [
           {
            "error_x": {
             "color": "#2a3f5f"
            },
            "error_y": {
             "color": "#2a3f5f"
            },
            "marker": {
             "line": {
              "color": "#E5ECF6",
              "width": 0.5
             },
             "pattern": {
              "fillmode": "overlay",
              "size": 10,
              "solidity": 0.2
             }
            },
            "type": "bar"
           }
          ],
          "barpolar": [
           {
            "marker": {
             "line": {
              "color": "#E5ECF6",
              "width": 0.5
             },
             "pattern": {
              "fillmode": "overlay",
              "size": 10,
              "solidity": 0.2
             }
            },
            "type": "barpolar"
           }
          ],
          "carpet": [
           {
            "aaxis": {
             "endlinecolor": "#2a3f5f",
             "gridcolor": "white",
             "linecolor": "white",
             "minorgridcolor": "white",
             "startlinecolor": "#2a3f5f"
            },
            "baxis": {
             "endlinecolor": "#2a3f5f",
             "gridcolor": "white",
             "linecolor": "white",
             "minorgridcolor": "white",
             "startlinecolor": "#2a3f5f"
            },
            "type": "carpet"
           }
          ],
          "choropleth": [
           {
            "colorbar": {
             "outlinewidth": 0,
             "ticks": ""
            },
            "type": "choropleth"
           }
          ],
          "contour": [
           {
            "colorbar": {
             "outlinewidth": 0,
             "ticks": ""
            },
            "colorscale": [
             [
              0,
              "#0d0887"
             ],
             [
              0.1111111111111111,
              "#46039f"
             ],
             [
              0.2222222222222222,
              "#7201a8"
             ],
             [
              0.3333333333333333,
              "#9c179e"
             ],
             [
              0.4444444444444444,
              "#bd3786"
             ],
             [
              0.5555555555555556,
              "#d8576b"
             ],
             [
              0.6666666666666666,
              "#ed7953"
             ],
             [
              0.7777777777777778,
              "#fb9f3a"
             ],
             [
              0.8888888888888888,
              "#fdca26"
             ],
             [
              1,
              "#f0f921"
             ]
            ],
            "type": "contour"
           }
          ],
          "contourcarpet": [
           {
            "colorbar": {
             "outlinewidth": 0,
             "ticks": ""
            },
            "type": "contourcarpet"
           }
          ],
          "heatmap": [
           {
            "colorbar": {
             "outlinewidth": 0,
             "ticks": ""
            },
            "colorscale": [
             [
              0,
              "#0d0887"
             ],
             [
              0.1111111111111111,
              "#46039f"
             ],
             [
              0.2222222222222222,
              "#7201a8"
             ],
             [
              0.3333333333333333,
              "#9c179e"
             ],
             [
              0.4444444444444444,
              "#bd3786"
             ],
             [
              0.5555555555555556,
              "#d8576b"
             ],
             [
              0.6666666666666666,
              "#ed7953"
             ],
             [
              0.7777777777777778,
              "#fb9f3a"
             ],
             [
              0.8888888888888888,
              "#fdca26"
             ],
             [
              1,
              "#f0f921"
             ]
            ],
            "type": "heatmap"
           }
          ],
          "heatmapgl": [
           {
            "colorbar": {
             "outlinewidth": 0,
             "ticks": ""
            },
            "colorscale": [
             [
              0,
              "#0d0887"
             ],
             [
              0.1111111111111111,
              "#46039f"
             ],
             [
              0.2222222222222222,
              "#7201a8"
             ],
             [
              0.3333333333333333,
              "#9c179e"
             ],
             [
              0.4444444444444444,
              "#bd3786"
             ],
             [
              0.5555555555555556,
              "#d8576b"
             ],
             [
              0.6666666666666666,
              "#ed7953"
             ],
             [
              0.7777777777777778,
              "#fb9f3a"
             ],
             [
              0.8888888888888888,
              "#fdca26"
             ],
             [
              1,
              "#f0f921"
             ]
            ],
            "type": "heatmapgl"
           }
          ],
          "histogram": [
           {
            "marker": {
             "pattern": {
              "fillmode": "overlay",
              "size": 10,
              "solidity": 0.2
             }
            },
            "type": "histogram"
           }
          ],
          "histogram2d": [
           {
            "colorbar": {
             "outlinewidth": 0,
             "ticks": ""
            },
            "colorscale": [
             [
              0,
              "#0d0887"
             ],
             [
              0.1111111111111111,
              "#46039f"
             ],
             [
              0.2222222222222222,
              "#7201a8"
             ],
             [
              0.3333333333333333,
              "#9c179e"
             ],
             [
              0.4444444444444444,
              "#bd3786"
             ],
             [
              0.5555555555555556,
              "#d8576b"
             ],
             [
              0.6666666666666666,
              "#ed7953"
             ],
             [
              0.7777777777777778,
              "#fb9f3a"
             ],
             [
              0.8888888888888888,
              "#fdca26"
             ],
             [
              1,
              "#f0f921"
             ]
            ],
            "type": "histogram2d"
           }
          ],
          "histogram2dcontour": [
           {
            "colorbar": {
             "outlinewidth": 0,
             "ticks": ""
            },
            "colorscale": [
             [
              0,
              "#0d0887"
             ],
             [
              0.1111111111111111,
              "#46039f"
             ],
             [
              0.2222222222222222,
              "#7201a8"
             ],
             [
              0.3333333333333333,
              "#9c179e"
             ],
             [
              0.4444444444444444,
              "#bd3786"
             ],
             [
              0.5555555555555556,
              "#d8576b"
             ],
             [
              0.6666666666666666,
              "#ed7953"
             ],
             [
              0.7777777777777778,
              "#fb9f3a"
             ],
             [
              0.8888888888888888,
              "#fdca26"
             ],
             [
              1,
              "#f0f921"
             ]
            ],
            "type": "histogram2dcontour"
           }
          ],
          "mesh3d": [
           {
            "colorbar": {
             "outlinewidth": 0,
             "ticks": ""
            },
            "type": "mesh3d"
           }
          ],
          "parcoords": [
           {
            "line": {
             "colorbar": {
              "outlinewidth": 0,
              "ticks": ""
             }
            },
            "type": "parcoords"
           }
          ],
          "pie": [
           {
            "automargin": true,
            "type": "pie"
           }
          ],
          "scatter": [
           {
            "fillpattern": {
             "fillmode": "overlay",
             "size": 10,
             "solidity": 0.2
            },
            "type": "scatter"
           }
          ],
          "scatter3d": [
           {
            "line": {
             "colorbar": {
              "outlinewidth": 0,
              "ticks": ""
             }
            },
            "marker": {
             "colorbar": {
              "outlinewidth": 0,
              "ticks": ""
             }
            },
            "type": "scatter3d"
           }
          ],
          "scattercarpet": [
           {
            "marker": {
             "colorbar": {
              "outlinewidth": 0,
              "ticks": ""
             }
            },
            "type": "scattercarpet"
           }
          ],
          "scattergeo": [
           {
            "marker": {
             "colorbar": {
              "outlinewidth": 0,
              "ticks": ""
             }
            },
            "type": "scattergeo"
           }
          ],
          "scattergl": [
           {
            "marker": {
             "colorbar": {
              "outlinewidth": 0,
              "ticks": ""
             }
            },
            "type": "scattergl"
           }
          ],
          "scattermapbox": [
           {
            "marker": {
             "colorbar": {
              "outlinewidth": 0,
              "ticks": ""
             }
            },
            "type": "scattermapbox"
           }
          ],
          "scatterpolar": [
           {
            "marker": {
             "colorbar": {
              "outlinewidth": 0,
              "ticks": ""
             }
            },
            "type": "scatterpolar"
           }
          ],
          "scatterpolargl": [
           {
            "marker": {
             "colorbar": {
              "outlinewidth": 0,
              "ticks": ""
             }
            },
            "type": "scatterpolargl"
           }
          ],
          "scatterternary": [
           {
            "marker": {
             "colorbar": {
              "outlinewidth": 0,
              "ticks": ""
             }
            },
            "type": "scatterternary"
           }
          ],
          "surface": [
           {
            "colorbar": {
             "outlinewidth": 0,
             "ticks": ""
            },
            "colorscale": [
             [
              0,
              "#0d0887"
             ],
             [
              0.1111111111111111,
              "#46039f"
             ],
             [
              0.2222222222222222,
              "#7201a8"
             ],
             [
              0.3333333333333333,
              "#9c179e"
             ],
             [
              0.4444444444444444,
              "#bd3786"
             ],
             [
              0.5555555555555556,
              "#d8576b"
             ],
             [
              0.6666666666666666,
              "#ed7953"
             ],
             [
              0.7777777777777778,
              "#fb9f3a"
             ],
             [
              0.8888888888888888,
              "#fdca26"
             ],
             [
              1,
              "#f0f921"
             ]
            ],
            "type": "surface"
           }
          ],
          "table": [
           {
            "cells": {
             "fill": {
              "color": "#EBF0F8"
             },
             "line": {
              "color": "white"
             }
            },
            "header": {
             "fill": {
              "color": "#C8D4E3"
             },
             "line": {
              "color": "white"
             }
            },
            "type": "table"
           }
          ]
         },
         "layout": {
          "annotationdefaults": {
           "arrowcolor": "#2a3f5f",
           "arrowhead": 0,
           "arrowwidth": 1
          },
          "autotypenumbers": "strict",
          "coloraxis": {
           "colorbar": {
            "outlinewidth": 0,
            "ticks": ""
           }
          },
          "colorscale": {
           "diverging": [
            [
             0,
             "#8e0152"
            ],
            [
             0.1,
             "#c51b7d"
            ],
            [
             0.2,
             "#de77ae"
            ],
            [
             0.3,
             "#f1b6da"
            ],
            [
             0.4,
             "#fde0ef"
            ],
            [
             0.5,
             "#f7f7f7"
            ],
            [
             0.6,
             "#e6f5d0"
            ],
            [
             0.7,
             "#b8e186"
            ],
            [
             0.8,
             "#7fbc41"
            ],
            [
             0.9,
             "#4d9221"
            ],
            [
             1,
             "#276419"
            ]
           ],
           "sequential": [
            [
             0,
             "#0d0887"
            ],
            [
             0.1111111111111111,
             "#46039f"
            ],
            [
             0.2222222222222222,
             "#7201a8"
            ],
            [
             0.3333333333333333,
             "#9c179e"
            ],
            [
             0.4444444444444444,
             "#bd3786"
            ],
            [
             0.5555555555555556,
             "#d8576b"
            ],
            [
             0.6666666666666666,
             "#ed7953"
            ],
            [
             0.7777777777777778,
             "#fb9f3a"
            ],
            [
             0.8888888888888888,
             "#fdca26"
            ],
            [
             1,
             "#f0f921"
            ]
           ],
           "sequentialminus": [
            [
             0,
             "#0d0887"
            ],
            [
             0.1111111111111111,
             "#46039f"
            ],
            [
             0.2222222222222222,
             "#7201a8"
            ],
            [
             0.3333333333333333,
             "#9c179e"
            ],
            [
             0.4444444444444444,
             "#bd3786"
            ],
            [
             0.5555555555555556,
             "#d8576b"
            ],
            [
             0.6666666666666666,
             "#ed7953"
            ],
            [
             0.7777777777777778,
             "#fb9f3a"
            ],
            [
             0.8888888888888888,
             "#fdca26"
            ],
            [
             1,
             "#f0f921"
            ]
           ]
          },
          "colorway": [
           "#636efa",
           "#EF553B",
           "#00cc96",
           "#ab63fa",
           "#FFA15A",
           "#19d3f3",
           "#FF6692",
           "#B6E880",
           "#FF97FF",
           "#FECB52"
          ],
          "font": {
           "color": "#2a3f5f"
          },
          "geo": {
           "bgcolor": "white",
           "lakecolor": "white",
           "landcolor": "#E5ECF6",
           "showlakes": true,
           "showland": true,
           "subunitcolor": "white"
          },
          "hoverlabel": {
           "align": "left"
          },
          "hovermode": "closest",
          "mapbox": {
           "style": "light"
          },
          "paper_bgcolor": "white",
          "plot_bgcolor": "#E5ECF6",
          "polar": {
           "angularaxis": {
            "gridcolor": "white",
            "linecolor": "white",
            "ticks": ""
           },
           "bgcolor": "#E5ECF6",
           "radialaxis": {
            "gridcolor": "white",
            "linecolor": "white",
            "ticks": ""
           }
          },
          "scene": {
           "xaxis": {
            "backgroundcolor": "#E5ECF6",
            "gridcolor": "white",
            "gridwidth": 2,
            "linecolor": "white",
            "showbackground": true,
            "ticks": "",
            "zerolinecolor": "white"
           },
           "yaxis": {
            "backgroundcolor": "#E5ECF6",
            "gridcolor": "white",
            "gridwidth": 2,
            "linecolor": "white",
            "showbackground": true,
            "ticks": "",
            "zerolinecolor": "white"
           },
           "zaxis": {
            "backgroundcolor": "#E5ECF6",
            "gridcolor": "white",
            "gridwidth": 2,
            "linecolor": "white",
            "showbackground": true,
            "ticks": "",
            "zerolinecolor": "white"
           }
          },
          "shapedefaults": {
           "line": {
            "color": "#2a3f5f"
           }
          },
          "ternary": {
           "aaxis": {
            "gridcolor": "white",
            "linecolor": "white",
            "ticks": ""
           },
           "baxis": {
            "gridcolor": "white",
            "linecolor": "white",
            "ticks": ""
           },
           "bgcolor": "#E5ECF6",
           "caxis": {
            "gridcolor": "white",
            "linecolor": "white",
            "ticks": ""
           }
          },
          "title": {
           "x": 0.05
          },
          "xaxis": {
           "automargin": true,
           "gridcolor": "white",
           "linecolor": "white",
           "ticks": "",
           "title": {
            "standoff": 15
           },
           "zerolinecolor": "white",
           "zerolinewidth": 2
          },
          "yaxis": {
           "automargin": true,
           "gridcolor": "white",
           "linecolor": "white",
           "ticks": "",
           "title": {
            "standoff": 15
           },
           "zerolinecolor": "white",
           "zerolinewidth": 2
          }
         }
        },
        "xaxis": {
         "anchor": "y",
         "domain": [
          0,
          1
         ],
         "title": {
          "text": "term"
         }
        },
        "yaxis": {
         "anchor": "x",
         "domain": [
          0,
          1
         ]
        }
       }
      }
     },
     "metadata": {},
     "output_type": "display_data"
    }
   ],
   "source": [
    "px.box(train, x = 'term', color = 'default_status')"
   ]
  },
  {
   "cell_type": "markdown",
   "metadata": {},
   "source": [
    "From the plot above, it could be observed that in general, companies tend to default on loans with shorter terms. The median loan term for default is 57 whereas the median loan term for non-default is 84."
   ]
  },
  {
   "cell_type": "code",
   "execution_count": 21,
   "metadata": {},
   "outputs": [
    {
     "data": {
      "application/vnd.plotly.v1+json": {
       "config": {
        "plotlyServerURL": "https://plot.ly"
       },
       "data": [
        {
         "alignmentgroup": "True",
         "hovertemplate": "default_status=1<br>employee_count=%{x}<extra></extra>",
         "legendgroup": "1",
         "marker": {
          "color": "#636efa"
         },
         "name": "1",
         "notched": false,
         "offsetgroup": "1",
         "orientation": "h",
         "showlegend": true,
         "type": "box",
         "x": [
          4,
          1,
          1,
          3,
          3,
          2,
          2,
          3,
          2,
          1,
          30,
          2,
          5,
          5,
          7,
          1,
          6,
          4,
          2,
          2,
          5,
          3,
          2,
          4,
          1,
          5,
          10,
          1,
          1,
          1,
          4,
          1,
          2,
          6,
          3,
          0,
          3,
          1,
          20,
          4,
          2,
          6,
          0,
          3,
          30,
          2,
          1,
          2,
          2,
          25,
          4,
          2,
          3,
          9,
          4,
          0,
          7,
          1,
          0,
          11,
          2,
          3,
          6,
          4,
          2,
          25,
          4,
          13,
          4,
          6,
          30,
          4,
          2,
          1,
          4,
          0,
          2,
          6,
          3,
          4,
          1,
          3,
          2,
          3,
          1,
          6,
          2,
          5,
          4,
          1,
          1,
          1,
          7,
          2,
          2,
          2,
          1,
          4,
          6,
          3,
          1,
          28,
          3,
          3,
          8,
          3,
          13,
          9,
          3,
          4,
          2,
          10,
          1,
          1,
          6,
          2,
          16,
          2,
          2,
          1,
          18,
          20,
          2,
          2,
          30,
          1,
          2,
          4,
          2,
          2,
          2,
          1,
          6,
          9,
          4,
          4,
          2,
          10,
          1,
          8,
          4,
          20,
          1,
          3,
          2,
          5,
          3,
          13,
          1,
          2,
          1,
          5,
          4,
          5,
          2,
          2,
          1,
          1,
          8,
          1,
          20,
          2,
          0,
          4,
          17,
          4,
          2,
          1,
          20,
          10,
          1,
          1,
          1,
          7,
          10,
          4,
          2,
          17,
          2,
          1,
          4,
          1,
          2,
          11,
          5,
          4,
          0,
          3,
          2,
          1,
          0,
          2,
          30,
          3,
          2,
          1,
          4,
          7,
          6,
          8,
          1,
          4,
          7,
          1,
          1,
          1,
          1,
          3,
          3,
          6,
          6,
          9,
          8,
          2,
          1,
          4,
          1,
          10,
          4,
          1,
          1,
          17,
          3,
          14,
          6,
          5,
          1,
          5,
          5,
          65,
          1,
          2,
          8,
          3,
          11,
          2,
          1,
          19,
          2,
          1,
          5,
          1,
          2,
          1,
          2,
          2,
          10,
          2,
          1,
          2,
          4,
          1,
          1,
          60,
          1,
          2,
          3,
          4,
          1,
          5,
          2,
          8,
          3,
          2,
          1,
          5,
          18,
          6,
          1,
          7,
          1,
          4,
          8,
          0,
          12,
          1,
          6,
          1,
          2,
          7,
          1,
          32,
          4,
          0,
          5,
          1,
          2,
          3,
          2,
          2,
          3,
          3,
          4,
          1,
          4,
          2,
          1,
          3,
          1,
          6,
          4,
          5,
          5,
          3,
          6,
          4,
          2,
          5,
          1,
          1,
          8,
          20,
          7,
          2,
          6,
          2,
          5,
          2,
          1,
          3,
          4,
          2,
          8,
          1,
          7,
          2,
          2,
          0,
          2,
          1,
          4,
          2,
          1,
          1,
          2,
          3,
          1,
          2,
          1,
          2,
          1,
          8,
          3,
          8,
          3,
          4,
          1,
          4,
          23,
          2,
          1,
          15,
          1,
          21,
          6,
          10,
          9,
          5,
          2,
          2,
          2,
          2,
          15,
          13,
          25,
          3,
          1,
          3,
          4,
          1,
          2,
          8,
          2,
          1,
          1,
          2,
          2,
          2,
          2,
          7,
          1,
          4,
          2,
          1,
          12,
          3,
          9,
          2,
          3,
          1,
          1,
          1,
          4,
          1,
          4,
          1,
          1,
          28,
          28,
          2,
          4,
          1,
          20,
          1,
          5,
          1,
          2,
          1,
          2,
          5,
          8,
          1,
          1,
          1,
          0,
          6,
          2,
          2,
          1,
          2,
          20,
          3,
          2,
          1,
          3,
          4,
          0,
          0,
          2,
          1,
          2,
          2,
          4,
          5,
          6,
          2,
          18,
          6,
          2,
          7,
          65,
          9,
          8,
          6,
          1,
          1,
          1,
          1,
          1,
          1,
          4,
          0,
          4,
          1,
          1,
          2,
          35,
          3,
          3,
          7,
          3,
          6,
          0,
          5,
          1,
          1,
          3,
          3,
          7,
          4,
          6,
          3,
          4,
          13,
          6,
          43,
          8,
          1,
          1,
          13,
          2,
          2,
          6,
          7,
          1,
          1,
          3,
          14,
          1,
          1,
          3,
          2,
          3,
          5,
          2,
          6,
          1,
          3,
          4,
          6,
          1,
          5,
          5,
          1,
          1,
          1,
          5,
          4,
          1,
          6,
          1,
          5,
          5,
          18,
          1,
          2,
          72,
          2,
          2,
          2,
          1,
          1,
          3,
          1,
          21,
          3,
          13,
          30,
          5,
          1,
          1,
          3,
          2,
          2,
          12,
          37,
          1,
          4,
          3,
          2,
          4,
          8,
          1,
          1,
          3,
          4,
          1,
          5,
          2,
          1,
          1,
          13,
          2,
          1,
          2,
          5,
          1,
          3,
          9,
          1,
          6,
          2,
          2,
          1,
          1,
          7,
          3,
          36,
          4,
          3,
          4,
          2,
          2,
          4,
          25,
          1,
          1,
          3,
          0,
          1,
          0,
          3,
          42,
          6,
          1,
          1,
          1,
          4,
          3,
          1,
          0,
          3,
          3,
          4,
          1,
          0,
          1,
          4,
          1,
          3,
          3,
          2,
          5,
          2,
          5,
          10,
          2,
          10,
          1,
          6,
          1,
          2,
          5,
          10,
          2,
          3,
          1,
          2,
          1,
          2,
          1,
          4,
          1,
          2,
          3,
          1,
          5,
          4,
          2,
          12,
          2,
          5,
          3,
          5,
          3,
          3,
          2,
          3,
          3,
          2,
          2,
          3,
          10,
          2,
          5,
          11,
          3,
          3,
          4,
          2,
          3,
          4,
          1,
          2,
          4,
          1,
          9,
          5,
          3,
          1,
          27,
          7,
          1,
          15,
          1,
          2,
          3,
          1,
          1,
          3,
          2,
          1,
          3,
          1,
          4,
          9,
          6,
          1,
          1,
          0,
          4,
          8,
          1,
          3,
          10,
          10,
          3,
          5,
          4,
          3,
          1,
          2,
          2,
          3,
          6,
          5,
          4,
          3,
          0,
          2,
          2,
          15,
          5,
          2,
          2,
          7,
          2,
          1,
          7,
          16,
          5,
          2,
          4,
          2,
          6,
          4,
          15,
          8,
          10,
          4,
          12,
          2,
          4,
          0,
          2,
          6,
          2,
          1,
          4,
          3,
          4,
          1,
          2,
          9,
          8,
          2,
          2,
          2,
          30,
          3,
          1,
          2,
          2,
          2,
          1,
          1,
          4,
          1,
          5,
          1,
          1,
          2,
          25,
          1,
          2,
          4,
          5,
          34,
          0,
          3,
          5,
          2,
          10,
          4,
          4,
          1,
          2,
          8,
          1,
          1,
          6,
          7,
          6
         ],
         "x0": " ",
         "xaxis": "x",
         "y0": " ",
         "yaxis": "y"
        },
        {
         "alignmentgroup": "True",
         "hovertemplate": "default_status=0<br>employee_count=%{x}<extra></extra>",
         "legendgroup": "0",
         "marker": {
          "color": "#EF553B"
         },
         "name": "0",
         "notched": false,
         "offsetgroup": "0",
         "orientation": "h",
         "showlegend": true,
         "type": "box",
         "x": [
          1,
          21,
          1,
          42,
          5,
          1,
          11,
          10,
          1,
          4,
          1,
          5,
          6,
          1,
          3,
          1,
          50,
          1,
          1,
          1,
          7,
          80,
          10,
          3,
          11,
          54,
          1,
          4,
          4,
          12,
          18,
          55,
          2,
          0,
          3,
          45,
          2,
          3,
          1,
          3,
          7,
          2,
          2,
          1,
          1,
          1,
          4,
          20,
          1,
          25,
          2,
          70,
          8,
          25,
          28,
          7,
          5,
          32,
          1,
          2,
          27,
          59,
          2,
          10,
          1,
          10,
          52,
          0,
          22,
          9,
          12,
          1,
          1,
          2,
          2,
          2,
          2,
          2,
          35,
          7,
          51,
          1,
          10,
          330,
          18,
          2,
          2,
          2,
          9,
          13,
          1,
          10,
          24,
          30,
          2,
          1,
          3,
          7,
          2,
          9,
          5,
          23,
          2,
          4,
          20,
          3,
          6,
          1,
          6,
          5,
          12,
          5,
          1,
          5,
          30,
          200,
          150,
          1,
          4,
          1,
          2,
          5,
          4,
          8,
          2,
          9,
          1,
          4,
          11,
          19,
          29,
          2,
          4,
          5,
          4,
          4,
          3,
          80,
          2,
          30,
          2,
          2,
          7,
          10,
          7,
          6,
          30,
          10,
          10,
          5,
          14,
          14,
          1,
          3,
          2,
          0,
          6,
          0,
          0,
          12,
          17,
          19,
          98,
          2,
          19,
          6,
          21,
          4,
          2,
          30,
          12,
          2,
          2,
          11,
          5,
          0,
          13,
          5,
          6,
          4,
          10,
          9,
          3,
          9,
          0,
          1,
          7,
          4,
          10,
          2,
          15,
          3,
          2,
          1,
          3,
          8,
          9,
          8,
          1,
          4,
          3,
          2,
          15,
          26,
          6,
          100,
          25,
          3,
          2,
          12,
          3,
          2,
          3,
          88,
          1,
          0,
          32,
          12,
          2,
          7,
          6,
          6,
          1,
          5,
          1,
          3,
          1,
          3,
          135,
          1,
          3,
          8,
          24,
          3,
          6,
          62,
          8,
          2,
          3,
          5,
          3,
          6,
          7,
          11,
          1,
          2,
          10,
          2,
          6,
          4,
          2,
          3,
          1,
          1,
          18,
          1,
          2,
          1,
          2,
          2,
          21,
          6,
          5,
          8,
          1,
          6,
          6,
          3,
          1,
          25,
          27,
          1,
          3,
          3,
          0,
          3,
          22,
          2,
          116,
          6,
          1,
          1,
          4,
          1,
          0,
          8,
          5,
          5,
          1,
          1,
          27,
          4,
          2,
          9,
          10,
          6,
          2,
          4,
          1,
          8,
          0,
          7,
          5,
          3,
          1,
          1,
          1,
          0,
          20,
          7,
          5,
          6,
          2,
          1,
          4,
          3,
          12,
          1,
          3,
          1,
          4,
          0,
          2,
          120,
          2,
          5,
          3,
          6,
          12,
          8,
          4,
          10,
          3,
          1,
          2,
          75,
          2,
          5,
          40,
          1,
          1,
          5,
          1,
          15,
          1,
          3,
          1,
          4,
          5,
          8,
          13,
          15,
          7,
          15,
          19,
          1,
          2,
          3,
          3,
          5,
          1,
          2,
          10,
          0,
          1,
          5,
          6,
          1,
          20,
          16,
          12,
          20,
          4,
          1,
          2,
          5,
          1,
          1,
          8,
          3,
          10,
          7,
          0,
          2,
          16,
          9,
          5,
          4,
          5,
          4,
          2,
          0,
          10,
          5,
          6,
          30,
          7,
          1,
          2,
          2,
          250,
          2,
          2,
          5,
          1,
          27,
          2,
          1,
          0,
          96,
          32,
          5,
          2,
          6,
          2,
          1,
          6,
          1,
          2,
          2,
          3,
          15,
          12,
          6,
          2,
          5,
          5,
          4,
          6,
          5,
          3,
          13,
          12,
          25,
          5,
          4,
          60,
          4,
          18,
          3,
          1,
          1,
          13,
          2,
          1,
          1,
          2,
          2,
          5,
          18,
          4,
          1,
          5,
          84,
          9,
          3,
          1,
          9,
          2,
          3,
          0,
          1,
          50,
          25,
          10,
          5,
          14,
          1,
          2,
          13,
          120,
          3,
          5,
          1,
          3,
          2,
          15,
          102,
          1,
          2,
          3,
          13,
          8,
          6,
          4,
          1,
          2,
          3,
          2,
          1,
          11,
          8,
          2,
          3,
          0,
          2,
          3,
          2,
          1,
          12,
          75,
          5,
          2,
          7,
          9,
          2,
          0,
          2,
          10,
          15,
          3,
          2,
          40,
          2,
          4,
          12,
          4,
          2,
          2,
          2,
          3,
          21,
          1,
          4,
          20,
          2,
          24,
          1,
          2,
          5,
          5,
          1,
          20,
          9,
          5,
          1,
          35,
          2,
          6,
          25,
          0,
          4,
          2,
          2,
          1,
          2,
          0,
          2,
          10,
          8,
          35,
          7,
          1,
          1,
          1,
          2,
          2,
          9,
          10,
          1,
          10,
          5,
          5,
          2,
          2,
          7,
          2,
          22,
          4,
          1,
          5,
          4,
          1,
          3,
          9,
          3,
          14,
          0,
          0,
          1,
          220,
          25,
          2,
          21,
          1,
          4,
          1,
          4,
          1,
          1,
          1,
          3,
          4,
          2,
          4,
          8,
          5,
          0,
          3,
          4,
          1,
          2,
          24,
          55,
          19,
          1,
          1,
          0,
          4,
          1,
          2,
          4,
          8,
          33,
          1,
          1,
          1,
          5,
          1,
          0,
          1,
          35,
          2,
          9,
          0,
          28,
          20,
          500,
          3,
          4,
          1,
          52,
          25,
          6,
          4,
          5,
          24,
          13,
          4,
          2,
          4,
          1,
          3,
          4,
          3,
          5,
          17,
          8,
          1,
          1,
          80,
          2,
          7,
          15,
          1,
          2,
          1,
          2,
          3,
          1,
          6,
          4,
          10,
          52,
          70,
          6,
          14,
          2,
          2,
          1,
          8,
          5,
          50,
          8,
          18,
          40,
          3,
          12,
          19,
          7,
          4,
          1,
          12,
          1,
          1,
          1,
          7,
          4,
          3,
          1,
          15,
          7,
          6,
          1,
          30,
          4,
          20,
          1,
          4,
          35,
          6,
          15,
          2,
          104,
          1,
          15,
          5,
          7,
          130,
          5,
          6,
          12,
          2,
          2,
          1,
          1,
          5,
          2,
          15,
          0,
          1,
          6,
          0,
          1,
          10,
          12,
          1,
          1,
          1,
          1,
          1,
          0,
          1,
          2,
          6,
          6,
          13,
          2,
          12,
          1,
          1,
          4,
          0,
          2,
          16,
          21,
          6,
          2,
          6,
          1,
          1,
          14,
          10,
          2,
          1,
          3,
          3,
          1,
          40,
          20,
          29,
          1,
          1,
          44,
          13,
          2,
          13,
          0,
          0,
          20,
          1,
          1,
          1,
          24,
          1,
          2,
          2,
          15,
          10,
          33,
          3,
          1,
          9,
          16,
          1,
          16,
          0,
          20,
          27,
          1,
          5,
          23,
          19,
          1,
          5,
          1,
          7,
          18,
          0,
          15,
          1,
          26,
          2,
          10,
          5,
          1,
          2,
          1,
          50,
          1,
          5,
          11,
          40,
          4,
          8,
          25,
          3,
          2,
          6,
          2,
          4,
          2,
          22,
          2,
          1,
          5,
          27,
          0,
          20,
          9,
          6,
          2,
          1,
          9,
          3,
          2,
          6,
          1,
          20,
          1,
          16,
          3,
          10,
          1,
          12,
          6,
          5,
          9,
          4,
          0,
          1,
          1,
          1,
          17,
          2,
          2,
          12,
          1,
          1,
          2,
          2,
          7,
          12,
          15,
          3,
          3,
          2,
          5,
          3,
          1,
          1,
          8,
          14,
          13,
          51,
          10,
          90,
          1,
          14,
          1,
          1,
          20,
          7,
          15,
          0,
          2,
          3,
          1,
          6,
          4,
          60,
          2,
          15,
          0,
          14,
          12,
          6,
          30,
          10,
          2,
          1,
          1,
          1,
          4,
          44,
          3,
          3,
          60,
          15,
          1,
          17,
          4,
          1,
          17,
          13,
          14,
          2,
          1,
          60,
          52,
          2,
          3,
          7,
          2,
          9,
          2,
          2,
          2,
          0,
          9,
          13,
          0,
          54,
          20,
          4,
          5,
          1,
          2,
          2,
          1,
          3,
          8,
          1,
          3,
          2,
          6,
          1,
          5,
          1,
          4,
          0,
          6,
          7,
          1,
          2,
          5,
          28,
          30,
          29,
          9,
          2,
          3,
          1,
          14,
          1,
          1,
          5,
          3,
          5,
          4,
          2,
          1,
          5,
          6,
          10,
          20,
          4,
          6,
          5,
          1,
          1,
          96,
          1,
          6,
          3,
          7,
          1,
          13,
          5,
          6,
          2,
          1,
          5,
          1,
          55,
          3,
          31,
          41,
          10,
          6,
          1,
          15,
          7,
          12,
          1,
          5,
          50,
          5,
          2,
          2,
          15,
          6,
          5,
          0,
          1,
          1,
          1,
          3,
          3,
          5,
          3,
          27,
          18,
          1,
          66,
          0,
          1,
          5,
          15,
          1,
          6,
          28,
          32,
          8,
          10,
          2,
          30,
          3,
          8,
          13,
          4,
          1,
          7,
          6,
          50,
          2,
          3,
          0,
          1,
          2,
          0,
          4,
          8,
          1,
          1,
          2,
          4,
          2,
          20,
          25,
          13,
          10,
          5,
          8,
          1,
          4,
          55,
          38,
          14,
          9,
          0,
          42,
          10,
          1,
          1,
          12,
          50,
          2,
          7,
          1,
          1,
          4,
          1,
          1,
          4,
          1,
          40,
          7,
          1,
          99,
          6,
          3,
          9,
          3,
          1,
          3,
          4,
          5,
          5,
          20,
          2,
          5,
          30,
          2,
          1,
          1,
          13,
          5,
          8,
          13,
          2,
          30,
          13,
          4,
          3,
          27,
          3,
          1,
          1,
          12,
          10,
          10,
          2,
          19,
          1,
          0,
          1,
          18,
          30,
          1,
          4,
          50,
          2,
          2,
          9,
          5,
          71,
          14,
          2,
          17,
          2,
          3,
          6,
          1,
          2,
          85,
          70,
          16,
          5,
          2,
          4,
          2,
          6,
          20,
          0,
          10,
          2,
          4,
          24,
          12,
          12,
          40,
          3,
          1,
          6,
          5,
          1,
          2,
          1,
          18,
          0,
          4,
          1,
          3,
          6,
          9,
          3,
          20,
          1,
          0,
          2,
          2,
          3,
          1,
          5,
          1,
          8,
          11,
          5,
          30,
          1,
          2,
          23,
          2,
          4,
          2,
          7,
          7,
          12,
          2,
          4,
          5,
          1,
          1,
          5,
          4,
          3,
          1,
          2,
          7,
          1,
          5,
          10,
          14,
          43,
          5,
          11,
          4,
          33,
          2,
          18,
          28,
          4,
          15,
          2,
          2,
          4,
          2,
          3,
          8,
          12,
          8,
          3,
          3,
          5,
          3,
          10,
          2,
          2,
          2,
          10,
          2,
          17,
          0,
          1,
          3,
          2,
          11,
          8,
          1,
          6,
          12,
          20,
          2,
          18,
          9,
          40,
          6,
          8,
          1,
          4,
          12,
          1,
          6,
          147,
          20,
          7,
          2,
          31,
          5,
          2,
          12,
          52,
          2,
          6,
          4,
          6,
          2,
          1,
          51,
          2,
          1,
          3,
          2,
          65,
          4,
          1,
          80,
          10,
          1,
          1,
          7,
          98,
          88,
          12,
          0,
          4,
          1,
          4,
          5,
          8,
          10,
          10,
          40,
          16,
          6,
          2,
          1,
          3,
          1,
          0,
          1,
          5,
          2,
          2,
          25,
          4,
          20,
          11,
          8,
          1,
          3,
          14,
          4,
          9,
          4,
          45,
          0,
          30,
          50,
          3,
          0,
          3,
          0,
          1,
          1,
          4,
          10,
          5,
          3,
          22,
          2,
          63,
          53,
          13,
          1,
          5,
          10,
          0,
          25,
          35,
          23,
          6,
          0,
          20,
          1,
          4,
          16,
          30,
          8,
          3,
          1,
          50,
          9,
          6,
          3,
          3,
          36,
          88,
          2,
          3,
          18,
          2,
          5,
          0,
          1,
          2,
          0,
          3,
          11,
          22,
          5,
          18,
          3,
          13,
          11,
          40,
          3,
          100,
          3,
          4,
          2,
          3,
          20,
          15,
          10,
          18,
          1,
          150,
          7,
          4,
          12,
          2,
          4,
          1,
          8,
          1,
          8,
          1,
          5,
          15,
          5,
          1,
          1,
          3,
          12,
          25,
          1,
          15,
          1,
          14,
          1,
          5,
          1,
          0,
          6,
          0,
          10,
          46,
          1,
          49,
          10,
          3,
          10,
          4,
          1,
          4,
          10,
          8,
          11,
          14,
          1,
          70,
          1,
          8,
          16,
          5,
          1,
          6,
          2,
          1,
          13,
          3,
          12,
          4,
          7,
          14,
          13,
          23,
          5,
          3,
          10,
          1,
          75,
          2,
          1,
          5,
          13,
          1,
          5,
          4,
          4,
          99,
          10,
          22,
          8,
          1,
          11,
          0,
          26,
          5,
          21,
          2,
          50,
          24,
          1,
          3,
          2,
          8,
          1,
          1,
          2,
          7,
          15,
          24,
          22,
          1,
          1,
          4,
          1,
          15,
          2,
          1,
          33,
          0,
          2,
          0,
          9,
          0,
          13,
          1,
          1,
          15,
          1,
          1,
          2,
          4,
          0,
          3,
          6,
          11,
          3,
          8,
          3,
          5,
          1,
          1,
          0,
          2,
          3,
          39,
          1,
          3,
          35,
          10,
          80,
          3,
          2,
          20,
          12,
          5,
          5,
          18,
          1,
          2,
          2,
          1,
          12,
          20,
          25,
          58,
          1,
          19,
          1,
          3,
          9,
          1,
          5,
          2,
          7,
          17,
          2,
          12,
          14,
          8,
          50,
          1,
          4,
          21,
          1,
          180,
          3,
          1,
          10,
          1,
          2,
          28,
          12,
          2,
          1,
          3,
          10,
          5,
          3,
          15,
          12,
          15,
          5,
          15,
          0,
          7,
          17,
          7,
          24,
          6,
          4,
          1,
          10,
          5,
          11,
          1,
          1,
          1,
          7,
          5,
          40,
          0,
          2,
          35,
          1,
          2,
          1,
          1,
          1,
          150,
          5,
          8,
          6,
          30,
          10,
          21,
          2,
          0,
          30,
          3,
          31,
          35,
          2
         ],
         "x0": " ",
         "xaxis": "x",
         "y0": " ",
         "yaxis": "y"
        }
       ],
       "layout": {
        "boxmode": "group",
        "legend": {
         "title": {
          "text": "default_status"
         },
         "tracegroupgap": 0
        },
        "margin": {
         "t": 60
        },
        "template": {
         "data": {
          "bar": [
           {
            "error_x": {
             "color": "#2a3f5f"
            },
            "error_y": {
             "color": "#2a3f5f"
            },
            "marker": {
             "line": {
              "color": "#E5ECF6",
              "width": 0.5
             },
             "pattern": {
              "fillmode": "overlay",
              "size": 10,
              "solidity": 0.2
             }
            },
            "type": "bar"
           }
          ],
          "barpolar": [
           {
            "marker": {
             "line": {
              "color": "#E5ECF6",
              "width": 0.5
             },
             "pattern": {
              "fillmode": "overlay",
              "size": 10,
              "solidity": 0.2
             }
            },
            "type": "barpolar"
           }
          ],
          "carpet": [
           {
            "aaxis": {
             "endlinecolor": "#2a3f5f",
             "gridcolor": "white",
             "linecolor": "white",
             "minorgridcolor": "white",
             "startlinecolor": "#2a3f5f"
            },
            "baxis": {
             "endlinecolor": "#2a3f5f",
             "gridcolor": "white",
             "linecolor": "white",
             "minorgridcolor": "white",
             "startlinecolor": "#2a3f5f"
            },
            "type": "carpet"
           }
          ],
          "choropleth": [
           {
            "colorbar": {
             "outlinewidth": 0,
             "ticks": ""
            },
            "type": "choropleth"
           }
          ],
          "contour": [
           {
            "colorbar": {
             "outlinewidth": 0,
             "ticks": ""
            },
            "colorscale": [
             [
              0,
              "#0d0887"
             ],
             [
              0.1111111111111111,
              "#46039f"
             ],
             [
              0.2222222222222222,
              "#7201a8"
             ],
             [
              0.3333333333333333,
              "#9c179e"
             ],
             [
              0.4444444444444444,
              "#bd3786"
             ],
             [
              0.5555555555555556,
              "#d8576b"
             ],
             [
              0.6666666666666666,
              "#ed7953"
             ],
             [
              0.7777777777777778,
              "#fb9f3a"
             ],
             [
              0.8888888888888888,
              "#fdca26"
             ],
             [
              1,
              "#f0f921"
             ]
            ],
            "type": "contour"
           }
          ],
          "contourcarpet": [
           {
            "colorbar": {
             "outlinewidth": 0,
             "ticks": ""
            },
            "type": "contourcarpet"
           }
          ],
          "heatmap": [
           {
            "colorbar": {
             "outlinewidth": 0,
             "ticks": ""
            },
            "colorscale": [
             [
              0,
              "#0d0887"
             ],
             [
              0.1111111111111111,
              "#46039f"
             ],
             [
              0.2222222222222222,
              "#7201a8"
             ],
             [
              0.3333333333333333,
              "#9c179e"
             ],
             [
              0.4444444444444444,
              "#bd3786"
             ],
             [
              0.5555555555555556,
              "#d8576b"
             ],
             [
              0.6666666666666666,
              "#ed7953"
             ],
             [
              0.7777777777777778,
              "#fb9f3a"
             ],
             [
              0.8888888888888888,
              "#fdca26"
             ],
             [
              1,
              "#f0f921"
             ]
            ],
            "type": "heatmap"
           }
          ],
          "heatmapgl": [
           {
            "colorbar": {
             "outlinewidth": 0,
             "ticks": ""
            },
            "colorscale": [
             [
              0,
              "#0d0887"
             ],
             [
              0.1111111111111111,
              "#46039f"
             ],
             [
              0.2222222222222222,
              "#7201a8"
             ],
             [
              0.3333333333333333,
              "#9c179e"
             ],
             [
              0.4444444444444444,
              "#bd3786"
             ],
             [
              0.5555555555555556,
              "#d8576b"
             ],
             [
              0.6666666666666666,
              "#ed7953"
             ],
             [
              0.7777777777777778,
              "#fb9f3a"
             ],
             [
              0.8888888888888888,
              "#fdca26"
             ],
             [
              1,
              "#f0f921"
             ]
            ],
            "type": "heatmapgl"
           }
          ],
          "histogram": [
           {
            "marker": {
             "pattern": {
              "fillmode": "overlay",
              "size": 10,
              "solidity": 0.2
             }
            },
            "type": "histogram"
           }
          ],
          "histogram2d": [
           {
            "colorbar": {
             "outlinewidth": 0,
             "ticks": ""
            },
            "colorscale": [
             [
              0,
              "#0d0887"
             ],
             [
              0.1111111111111111,
              "#46039f"
             ],
             [
              0.2222222222222222,
              "#7201a8"
             ],
             [
              0.3333333333333333,
              "#9c179e"
             ],
             [
              0.4444444444444444,
              "#bd3786"
             ],
             [
              0.5555555555555556,
              "#d8576b"
             ],
             [
              0.6666666666666666,
              "#ed7953"
             ],
             [
              0.7777777777777778,
              "#fb9f3a"
             ],
             [
              0.8888888888888888,
              "#fdca26"
             ],
             [
              1,
              "#f0f921"
             ]
            ],
            "type": "histogram2d"
           }
          ],
          "histogram2dcontour": [
           {
            "colorbar": {
             "outlinewidth": 0,
             "ticks": ""
            },
            "colorscale": [
             [
              0,
              "#0d0887"
             ],
             [
              0.1111111111111111,
              "#46039f"
             ],
             [
              0.2222222222222222,
              "#7201a8"
             ],
             [
              0.3333333333333333,
              "#9c179e"
             ],
             [
              0.4444444444444444,
              "#bd3786"
             ],
             [
              0.5555555555555556,
              "#d8576b"
             ],
             [
              0.6666666666666666,
              "#ed7953"
             ],
             [
              0.7777777777777778,
              "#fb9f3a"
             ],
             [
              0.8888888888888888,
              "#fdca26"
             ],
             [
              1,
              "#f0f921"
             ]
            ],
            "type": "histogram2dcontour"
           }
          ],
          "mesh3d": [
           {
            "colorbar": {
             "outlinewidth": 0,
             "ticks": ""
            },
            "type": "mesh3d"
           }
          ],
          "parcoords": [
           {
            "line": {
             "colorbar": {
              "outlinewidth": 0,
              "ticks": ""
             }
            },
            "type": "parcoords"
           }
          ],
          "pie": [
           {
            "automargin": true,
            "type": "pie"
           }
          ],
          "scatter": [
           {
            "fillpattern": {
             "fillmode": "overlay",
             "size": 10,
             "solidity": 0.2
            },
            "type": "scatter"
           }
          ],
          "scatter3d": [
           {
            "line": {
             "colorbar": {
              "outlinewidth": 0,
              "ticks": ""
             }
            },
            "marker": {
             "colorbar": {
              "outlinewidth": 0,
              "ticks": ""
             }
            },
            "type": "scatter3d"
           }
          ],
          "scattercarpet": [
           {
            "marker": {
             "colorbar": {
              "outlinewidth": 0,
              "ticks": ""
             }
            },
            "type": "scattercarpet"
           }
          ],
          "scattergeo": [
           {
            "marker": {
             "colorbar": {
              "outlinewidth": 0,
              "ticks": ""
             }
            },
            "type": "scattergeo"
           }
          ],
          "scattergl": [
           {
            "marker": {
             "colorbar": {
              "outlinewidth": 0,
              "ticks": ""
             }
            },
            "type": "scattergl"
           }
          ],
          "scattermapbox": [
           {
            "marker": {
             "colorbar": {
              "outlinewidth": 0,
              "ticks": ""
             }
            },
            "type": "scattermapbox"
           }
          ],
          "scatterpolar": [
           {
            "marker": {
             "colorbar": {
              "outlinewidth": 0,
              "ticks": ""
             }
            },
            "type": "scatterpolar"
           }
          ],
          "scatterpolargl": [
           {
            "marker": {
             "colorbar": {
              "outlinewidth": 0,
              "ticks": ""
             }
            },
            "type": "scatterpolargl"
           }
          ],
          "scatterternary": [
           {
            "marker": {
             "colorbar": {
              "outlinewidth": 0,
              "ticks": ""
             }
            },
            "type": "scatterternary"
           }
          ],
          "surface": [
           {
            "colorbar": {
             "outlinewidth": 0,
             "ticks": ""
            },
            "colorscale": [
             [
              0,
              "#0d0887"
             ],
             [
              0.1111111111111111,
              "#46039f"
             ],
             [
              0.2222222222222222,
              "#7201a8"
             ],
             [
              0.3333333333333333,
              "#9c179e"
             ],
             [
              0.4444444444444444,
              "#bd3786"
             ],
             [
              0.5555555555555556,
              "#d8576b"
             ],
             [
              0.6666666666666666,
              "#ed7953"
             ],
             [
              0.7777777777777778,
              "#fb9f3a"
             ],
             [
              0.8888888888888888,
              "#fdca26"
             ],
             [
              1,
              "#f0f921"
             ]
            ],
            "type": "surface"
           }
          ],
          "table": [
           {
            "cells": {
             "fill": {
              "color": "#EBF0F8"
             },
             "line": {
              "color": "white"
             }
            },
            "header": {
             "fill": {
              "color": "#C8D4E3"
             },
             "line": {
              "color": "white"
             }
            },
            "type": "table"
           }
          ]
         },
         "layout": {
          "annotationdefaults": {
           "arrowcolor": "#2a3f5f",
           "arrowhead": 0,
           "arrowwidth": 1
          },
          "autotypenumbers": "strict",
          "coloraxis": {
           "colorbar": {
            "outlinewidth": 0,
            "ticks": ""
           }
          },
          "colorscale": {
           "diverging": [
            [
             0,
             "#8e0152"
            ],
            [
             0.1,
             "#c51b7d"
            ],
            [
             0.2,
             "#de77ae"
            ],
            [
             0.3,
             "#f1b6da"
            ],
            [
             0.4,
             "#fde0ef"
            ],
            [
             0.5,
             "#f7f7f7"
            ],
            [
             0.6,
             "#e6f5d0"
            ],
            [
             0.7,
             "#b8e186"
            ],
            [
             0.8,
             "#7fbc41"
            ],
            [
             0.9,
             "#4d9221"
            ],
            [
             1,
             "#276419"
            ]
           ],
           "sequential": [
            [
             0,
             "#0d0887"
            ],
            [
             0.1111111111111111,
             "#46039f"
            ],
            [
             0.2222222222222222,
             "#7201a8"
            ],
            [
             0.3333333333333333,
             "#9c179e"
            ],
            [
             0.4444444444444444,
             "#bd3786"
            ],
            [
             0.5555555555555556,
             "#d8576b"
            ],
            [
             0.6666666666666666,
             "#ed7953"
            ],
            [
             0.7777777777777778,
             "#fb9f3a"
            ],
            [
             0.8888888888888888,
             "#fdca26"
            ],
            [
             1,
             "#f0f921"
            ]
           ],
           "sequentialminus": [
            [
             0,
             "#0d0887"
            ],
            [
             0.1111111111111111,
             "#46039f"
            ],
            [
             0.2222222222222222,
             "#7201a8"
            ],
            [
             0.3333333333333333,
             "#9c179e"
            ],
            [
             0.4444444444444444,
             "#bd3786"
            ],
            [
             0.5555555555555556,
             "#d8576b"
            ],
            [
             0.6666666666666666,
             "#ed7953"
            ],
            [
             0.7777777777777778,
             "#fb9f3a"
            ],
            [
             0.8888888888888888,
             "#fdca26"
            ],
            [
             1,
             "#f0f921"
            ]
           ]
          },
          "colorway": [
           "#636efa",
           "#EF553B",
           "#00cc96",
           "#ab63fa",
           "#FFA15A",
           "#19d3f3",
           "#FF6692",
           "#B6E880",
           "#FF97FF",
           "#FECB52"
          ],
          "font": {
           "color": "#2a3f5f"
          },
          "geo": {
           "bgcolor": "white",
           "lakecolor": "white",
           "landcolor": "#E5ECF6",
           "showlakes": true,
           "showland": true,
           "subunitcolor": "white"
          },
          "hoverlabel": {
           "align": "left"
          },
          "hovermode": "closest",
          "mapbox": {
           "style": "light"
          },
          "paper_bgcolor": "white",
          "plot_bgcolor": "#E5ECF6",
          "polar": {
           "angularaxis": {
            "gridcolor": "white",
            "linecolor": "white",
            "ticks": ""
           },
           "bgcolor": "#E5ECF6",
           "radialaxis": {
            "gridcolor": "white",
            "linecolor": "white",
            "ticks": ""
           }
          },
          "scene": {
           "xaxis": {
            "backgroundcolor": "#E5ECF6",
            "gridcolor": "white",
            "gridwidth": 2,
            "linecolor": "white",
            "showbackground": true,
            "ticks": "",
            "zerolinecolor": "white"
           },
           "yaxis": {
            "backgroundcolor": "#E5ECF6",
            "gridcolor": "white",
            "gridwidth": 2,
            "linecolor": "white",
            "showbackground": true,
            "ticks": "",
            "zerolinecolor": "white"
           },
           "zaxis": {
            "backgroundcolor": "#E5ECF6",
            "gridcolor": "white",
            "gridwidth": 2,
            "linecolor": "white",
            "showbackground": true,
            "ticks": "",
            "zerolinecolor": "white"
           }
          },
          "shapedefaults": {
           "line": {
            "color": "#2a3f5f"
           }
          },
          "ternary": {
           "aaxis": {
            "gridcolor": "white",
            "linecolor": "white",
            "ticks": ""
           },
           "baxis": {
            "gridcolor": "white",
            "linecolor": "white",
            "ticks": ""
           },
           "bgcolor": "#E5ECF6",
           "caxis": {
            "gridcolor": "white",
            "linecolor": "white",
            "ticks": ""
           }
          },
          "title": {
           "x": 0.05
          },
          "xaxis": {
           "automargin": true,
           "gridcolor": "white",
           "linecolor": "white",
           "ticks": "",
           "title": {
            "standoff": 15
           },
           "zerolinecolor": "white",
           "zerolinewidth": 2
          },
          "yaxis": {
           "automargin": true,
           "gridcolor": "white",
           "linecolor": "white",
           "ticks": "",
           "title": {
            "standoff": 15
           },
           "zerolinecolor": "white",
           "zerolinewidth": 2
          }
         }
        },
        "xaxis": {
         "anchor": "y",
         "domain": [
          0,
          1
         ],
         "title": {
          "text": "employee_count"
         }
        },
        "yaxis": {
         "anchor": "x",
         "domain": [
          0,
          1
         ]
        }
       }
      }
     },
     "metadata": {},
     "output_type": "display_data"
    }
   ],
   "source": [
    "px.box(train, x = 'employee_count', color = 'default_status')"
   ]
  },
  {
   "cell_type": "markdown",
   "metadata": {},
   "source": [
    "From the plot above, it could be observed that in general, the companies that default have fewer employees (i.e. median 3) than companies that do not default (i.e. median 4)."
   ]
  },
  {
   "cell_type": "code",
   "execution_count": 22,
   "metadata": {},
   "outputs": [
    {
     "data": {
      "application/vnd.plotly.v1+json": {
       "config": {
        "plotlyServerURL": "https://plot.ly"
       },
       "data": [
        {
         "alignmentgroup": "True",
         "hovertemplate": "default_status=1<br>loan_amount=%{x}<extra></extra>",
         "legendgroup": "1",
         "marker": {
          "color": "#636efa"
         },
         "name": "1",
         "notched": false,
         "offsetgroup": "1",
         "orientation": "h",
         "showlegend": true,
         "type": "box",
         "x": [
          35000,
          15000,
          12500,
          78700,
          12500,
          10000,
          35000,
          25000,
          50000,
          15000,
          560000,
          25000,
          15000,
          10000,
          505000,
          103500,
          13000,
          25000,
          7500,
          50000,
          5000,
          15000,
          45185,
          75000,
          5000,
          20000,
          35000,
          35000,
          35000,
          35000,
          227500,
          35000,
          25000,
          50000,
          50000,
          10000,
          240000,
          25000,
          1147000,
          15000,
          7500,
          301592,
          100000,
          40369,
          545000,
          35000,
          5000,
          59512,
          75000,
          228198,
          5000,
          25000,
          35000,
          35000,
          80574,
          81599,
          25000,
          56965,
          45000,
          10000,
          35000,
          15000,
          60000,
          25273,
          25000,
          30000,
          35000,
          177700,
          81961,
          35000,
          181300,
          25000,
          25000,
          35000,
          20000,
          40000,
          120000,
          6000,
          197300,
          62325,
          150000,
          5000,
          15500,
          35000,
          128000,
          106000,
          5000,
          7500,
          25000,
          5000,
          10000,
          5000,
          200000,
          52300,
          341000,
          20000,
          10000,
          34999,
          15000,
          35000,
          23000,
          1665000,
          50000,
          15000,
          12853,
          306473,
          8100,
          120605,
          13570,
          26337,
          100000,
          35000,
          5000,
          5000,
          354000,
          15000,
          25000,
          35000,
          10000,
          25000,
          1232400,
          15000,
          35000,
          49128,
          33300,
          294500,
          35000,
          25100,
          25000,
          35000,
          26200,
          7500,
          15000,
          1430000,
          47025,
          5000,
          18900,
          35000,
          50000,
          350000,
          25000,
          50000,
          20000,
          49849,
          20000,
          35000,
          10000,
          34616,
          5000,
          34822,
          425000,
          49475,
          25000,
          15000,
          7500,
          5000,
          120000,
          29590,
          35000,
          35000,
          450000,
          39740,
          21300,
          5000,
          35000,
          19724,
          25000,
          34200,
          35000,
          69431,
          10000,
          25000,
          10000,
          25000,
          35000,
          20000,
          35000,
          240000,
          20400,
          35000,
          15000,
          135300,
          15000,
          35000,
          12500,
          190000,
          35000,
          5000,
          233000,
          20000,
          53371,
          99878,
          63000,
          5000,
          10000,
          20000,
          10000,
          35000,
          35000,
          65000,
          25000,
          7500,
          14900,
          7500,
          5000,
          157500,
          7500,
          11433,
          35000,
          25000,
          430000,
          49975,
          17103,
          42604,
          35000,
          25000,
          35000,
          84000,
          5000,
          77754,
          7500,
          10200,
          5000,
          64500,
          1185000,
          35000,
          33700,
          35000,
          12500,
          948884,
          19334,
          50000,
          500000,
          35000,
          7500,
          7500,
          35000,
          134565,
          30000,
          36349,
          35000,
          25100,
          35000,
          12500,
          10000,
          20000,
          20000,
          5000,
          15000,
          10000,
          60000,
          7500,
          25000,
          50000,
          10000,
          73999,
          80000,
          7500,
          35000,
          71500,
          35000,
          50000,
          35000,
          35000,
          25000,
          5000,
          21321,
          12500,
          7500,
          25000,
          35000,
          30000,
          174800,
          32000,
          35000,
          17952,
          35000,
          72200,
          7500,
          25000,
          25000,
          252500,
          287500,
          20700,
          35000,
          150000,
          25000,
          39793,
          189000,
          41000,
          7500,
          35000,
          20000,
          21200,
          50000,
          15000,
          245000,
          30456,
          15000,
          34400,
          35000,
          20000,
          35000,
          300000,
          15000,
          7500,
          5000,
          425000,
          148750,
          10000,
          35000,
          7500,
          35000,
          25000,
          15000,
          150000,
          112600,
          35000,
          12500,
          34976,
          7500,
          5000,
          12500,
          69455,
          20000,
          35000,
          20440,
          25000,
          30000,
          5000,
          25000,
          35000,
          35224,
          10000,
          60000,
          175000,
          7500,
          10000,
          10000,
          20000,
          10000,
          78000,
          35000,
          30500,
          40000,
          34100,
          25000,
          20357,
          75000,
          67500,
          15000,
          12500,
          12500,
          80000,
          10000,
          75000,
          20000,
          35000,
          29835,
          50000,
          11600,
          105000,
          20000,
          35000,
          305000,
          35000,
          35000,
          12500,
          60000,
          101497,
          137200,
          35000,
          25000,
          72200,
          35000,
          20000,
          120000,
          35000,
          50000,
          130500,
          19600,
          51968,
          74051,
          19993,
          35000,
          200000,
          35000,
          65000,
          190000,
          5000,
          51452,
          5000,
          35000,
          7500,
          35000,
          5000,
          15000,
          35000,
          35000,
          7500,
          20489,
          10000,
          220785,
          19700,
          400000,
          21671,
          40000,
          12500,
          12500,
          5000,
          18952,
          51068,
          15000,
          10000,
          129965,
          29700,
          35000,
          22000,
          30102,
          25000,
          35000,
          15000,
          220978,
          27100,
          10000,
          49851,
          23600,
          33000,
          333500,
          51800,
          220000,
          5000,
          15000,
          35000,
          25000,
          50000,
          300000,
          569000,
          50000,
          14800,
          743611,
          222400,
          139000,
          50000,
          10000,
          7500,
          25000,
          10000,
          35000,
          7500,
          39005,
          30000,
          39811,
          93200,
          25000,
          351000,
          25000,
          7500,
          5000,
          25000,
          15000,
          33720,
          14400,
          95000,
          5000,
          5000,
          59700,
          15000,
          35000,
          10000,
          20000,
          200000,
          12500,
          10000,
          99150,
          25000,
          735000,
          25000,
          7500,
          450000,
          7500,
          7500,
          57600,
          32000,
          19200,
          21148,
          50000,
          350000,
          5886,
          20000,
          110700,
          170000,
          84900,
          7500,
          25000,
          20000,
          18300,
          35000,
          5000,
          88200,
          7500,
          17200,
          15000,
          7500,
          35000,
          49920,
          35000,
          51819,
          91670,
          30000,
          36000,
          25000,
          35000,
          250000,
          47267,
          23500,
          124100,
          25000,
          44154,
          25000,
          5000,
          40000,
          22000,
          21000,
          5000,
          10300,
          200000,
          35000,
          7500,
          7100,
          5000,
          35000,
          10000,
          25000,
          110000,
          50000,
          10000,
          5000,
          35000,
          35000,
          350000,
          1775000,
          7500,
          54908,
          7500,
          35000,
          35000,
          35000,
          200000,
          17800,
          215000,
          10000,
          20000,
          20400,
          150000,
          7500,
          10000,
          35000,
          50000,
          55100,
          730400,
          35000,
          60000,
          10000,
          75000,
          50000,
          22000,
          10000,
          10000,
          10000,
          34700,
          31290,
          36600,
          25000,
          137620,
          5000,
          5000,
          45000,
          50100,
          10000,
          14695,
          5000,
          35000,
          12500,
          5000,
          7500,
          34999,
          5000,
          81325,
          31000,
          47230,
          25000,
          5000,
          1050000,
          7500,
          36250,
          35000,
          15000,
          25000,
          12500,
          384888,
          25000,
          109489,
          32500,
          254500,
          78968,
          40900,
          148500,
          5000,
          67500,
          27900,
          10000,
          15000,
          12500,
          25000,
          25000,
          19000,
          900000,
          25500,
          5000,
          49447,
          215000,
          39859,
          20000,
          7500,
          10018,
          360000,
          25000,
          5000,
          10000,
          35000,
          184569,
          28800,
          100000,
          12500,
          32179,
          15000,
          20000,
          15000,
          10000,
          1048500,
          41307,
          35000,
          5000,
          35000,
          35000,
          35000,
          35000,
          20000,
          15000,
          35000,
          60000,
          14103,
          15000,
          111566,
          128500,
          29837,
          50100,
          91400,
          7500,
          12500,
          50000,
          5000,
          50000,
          7500,
          25000,
          30600,
          5000,
          12500,
          83341,
          17100,
          51000,
          12500,
          70000,
          35000,
          135000,
          86000,
          90000,
          35000,
          67200,
          35000,
          60000,
          29100,
          15000,
          35000,
          61997,
          35000,
          25000,
          46019,
          35000,
          19736,
          350070,
          70001,
          35000,
          35000,
          5000,
          35000,
          35000,
          32225,
          35000,
          10000,
          50000,
          10000,
          18100,
          53000,
          12500,
          165000,
          25000,
          30029,
          25000,
          25000,
          150000,
          191000,
          35000,
          50000,
          25000,
          78900,
          50000,
          250000,
          20000,
          379225,
          35000,
          55309,
          27200,
          15000,
          15452,
          35000,
          5000,
          35000,
          16600,
          34100,
          85000,
          25000,
          12000,
          35000,
          200000,
          30000,
          5000,
          125336,
          12500,
          21800,
          5000,
          25000,
          25000,
          18100,
          14000,
          7500,
          20000,
          25000,
          35000,
          30000,
          15000,
          102864,
          25000,
          25000,
          35000,
          35000,
          235000,
          47620,
          7500,
          35000,
          78886,
          7500,
          66000,
          35000,
          25000,
          25100,
          60000,
          18291,
          847000,
          5000,
          35000,
          50000
         ],
         "x0": " ",
         "xaxis": "x",
         "y0": " ",
         "yaxis": "y"
        },
        {
         "alignmentgroup": "True",
         "hovertemplate": "default_status=0<br>loan_amount=%{x}<extra></extra>",
         "legendgroup": "0",
         "marker": {
          "color": "#EF553B"
         },
         "name": "0",
         "notched": false,
         "offsetgroup": "0",
         "orientation": "h",
         "showlegend": true,
         "type": "box",
         "x": [
          265000,
          255000,
          13300,
          40000,
          65000,
          10000,
          75000,
          250000,
          2000000,
          36500,
          100000,
          50000,
          1160000,
          222100,
          15400,
          33603,
          350000,
          12500,
          603000,
          10000,
          148239,
          700000,
          90592,
          64000,
          1225000,
          987000,
          84000,
          240000,
          33600,
          1144000,
          100000,
          370000,
          27000,
          232000,
          40600,
          400000,
          150000,
          141000,
          54549,
          27323,
          117000,
          35660,
          10000,
          150000,
          180000,
          60000,
          25308,
          1300000,
          15300,
          374182,
          400000,
          1528000,
          500000,
          35000,
          104400,
          170000,
          665000,
          50000,
          25000,
          57184,
          760000,
          850000,
          391000,
          1369535,
          36000,
          70255,
          2000000,
          75896,
          800000,
          1610000,
          688500,
          74800,
          27500,
          25000,
          92156,
          10000,
          35000,
          148592,
          670000,
          365000,
          2000000,
          632100,
          350000,
          332000,
          29800,
          96600,
          150000,
          10000,
          46700,
          35000,
          10150,
          35000,
          200000,
          25000,
          35000,
          787000,
          36500,
          60000,
          59652,
          35000,
          15000,
          782185,
          283750,
          240000,
          70000,
          35000,
          330000,
          12600,
          7000,
          75000,
          631915,
          447297,
          10000,
          78000,
          1200000,
          597700,
          100000,
          25000,
          86000,
          31000,
          184737,
          50000,
          347600,
          50000,
          228800,
          35000,
          15000,
          90000,
          72000,
          1320000,
          150000,
          61000,
          25000,
          273200,
          100000,
          35000,
          15000,
          3422866,
          160600,
          750000,
          150000,
          35000,
          50000,
          10200,
          30000,
          83257,
          1490635,
          402586,
          390000,
          46501,
          10000,
          150000,
          111000,
          35000,
          41000,
          50000,
          74400,
          38100,
          12800,
          100000,
          1900000,
          134600,
          1600000,
          50000,
          383000,
          598000,
          1200000,
          60000,
          400000,
          1000000,
          598000,
          19285,
          10500,
          863000,
          30400,
          171929,
          567000,
          22500,
          700000,
          100000,
          449000,
          237000,
          251000,
          30000,
          148400,
          50000,
          800000,
          843637,
          261600,
          323500,
          249000,
          2000000,
          100000,
          23000,
          20000,
          540000,
          250000,
          45000,
          10000,
          35000,
          94988,
          145000,
          50000,
          35000,
          53871,
          50000,
          35000,
          53000,
          17494,
          750000,
          679000,
          180000,
          55008,
          68000,
          350000,
          21800,
          13000,
          35000,
          10000,
          54000,
          100000,
          154600,
          500000,
          11500,
          75000,
          35000,
          5000,
          747915,
          130000,
          35000,
          150000,
          50000,
          105000,
          324000,
          150000,
          600000,
          10000,
          1405000,
          217000,
          21463,
          144100,
          35000,
          50300,
          10000,
          300000,
          35400,
          690000,
          74839,
          271900,
          189600,
          125000,
          80000,
          10000,
          13100,
          75000,
          59500,
          31819,
          1660000,
          857700,
          75000,
          1500000,
          13000,
          85000,
          60000,
          31000,
          649506,
          412000,
          344000,
          19873,
          1570500,
          329272,
          305000,
          50000,
          25000,
          30000,
          562500,
          450000,
          25000,
          950000,
          198000,
          240501,
          120000,
          240000,
          175000,
          144374,
          780000,
          185000,
          50000,
          15000,
          7400,
          82965,
          306000,
          40000,
          35000,
          175000,
          30000,
          47809,
          179500,
          105000,
          1130000,
          33085,
          65000,
          17230,
          175000,
          55000,
          350000,
          15400,
          350000,
          250000,
          52100,
          34000,
          1025000,
          250000,
          13000,
          9000,
          49867,
          562500,
          50000,
          2000000,
          15000,
          82000,
          30345,
          35000,
          250000,
          15000,
          270000,
          607600,
          511600,
          125000,
          2000000,
          80000,
          827000,
          272000,
          50000,
          60000,
          1000000,
          278900,
          10000,
          300000,
          5000,
          31900,
          25000,
          23500,
          219000,
          70200,
          51057,
          200000,
          20000,
          2000000,
          85500,
          154500,
          98587,
          290000,
          190000,
          967207,
          164000,
          25000,
          94778,
          15000,
          142833,
          213000,
          84705,
          549000,
          25000,
          35000,
          600000,
          50000,
          36914,
          1800000,
          882421,
          199000,
          50000,
          61658,
          745000,
          120000,
          8000,
          70000,
          63000,
          283000,
          45000,
          25000,
          50000,
          25284,
          63263,
          250000,
          40000,
          35000,
          75000,
          42000,
          26419,
          330036,
          470000,
          225000,
          247000,
          317000,
          2000000,
          20200,
          665000,
          25000,
          610000,
          412000,
          116500,
          25000,
          65000,
          365000,
          1000000,
          34494,
          79900,
          155000,
          1250000,
          125000,
          524000,
          33889,
          350000,
          32000,
          20444,
          500000,
          58500,
          27791,
          10000,
          49579,
          100000,
          100000,
          255000,
          40000,
          15000,
          50000,
          225000,
          28200,
          18284,
          3430,
          80000,
          1800000,
          516000,
          400000,
          767000,
          100000,
          13000,
          200000,
          115000,
          10000,
          10000,
          12500,
          13500,
          20000,
          200000,
          35000,
          200000,
          32000,
          150000,
          80000,
          30000,
          30100,
          1100000,
          31979,
          282100,
          105486,
          200000,
          100000,
          137000,
          15500,
          47500,
          1200000,
          598724,
          80000,
          221700,
          700000,
          41000,
          27000,
          275000,
          1418500,
          35000,
          200000,
          740000,
          19000,
          20000,
          1935000,
          1000000,
          20100,
          254000,
          34000,
          20000,
          600000,
          53700,
          32000,
          20000,
          60000,
          125000,
          37100,
          11000,
          100000,
          35000,
          41500,
          16000,
          2000000,
          35000,
          35000,
          16000,
          50000,
          125000,
          100000,
          365000,
          800000,
          25000,
          161000,
          19325,
          54000,
          102000,
          1400000,
          50000,
          10000,
          12000,
          297600,
          129000,
          58500,
          1080000,
          30000,
          250000,
          150000,
          180000,
          40043,
          1005000,
          39345,
          225000,
          230000,
          310762,
          59400,
          20000,
          1500000,
          35000,
          416000,
          25000,
          350000,
          26700,
          44000,
          25000,
          524300,
          80000,
          44759,
          446000,
          18000,
          144639,
          360000,
          26090,
          90879,
          170000,
          18568,
          140000,
          56500,
          26963,
          985000,
          21100,
          1429000,
          100000,
          15000,
          10000,
          36500,
          35000,
          1815000,
          100000,
          648000,
          387500,
          35000,
          15000,
          68000,
          34000,
          93831,
          100000,
          742000,
          48400,
          150000,
          30000,
          20000,
          10000,
          154000,
          87000,
          217600,
          12200,
          8100,
          10000,
          550000,
          20000,
          347000,
          742003,
          61664,
          89000,
          10000,
          27432,
          82999,
          15000,
          100000,
          337500,
          50000,
          152173,
          45000,
          80000,
          150000,
          220000,
          100000,
          35000,
          672500,
          35000,
          261403,
          1400000,
          600000,
          221000,
          30500,
          240000,
          43037,
          2000000,
          10000,
          15300,
          142000,
          150000,
          400000,
          225000,
          49970,
          10000,
          10200,
          15100,
          10000,
          2000000,
          85000,
          2000000,
          80000,
          200000,
          600000,
          85000,
          29000,
          98398,
          90000,
          162000,
          648000,
          1660000,
          25000,
          154000,
          7500,
          250000,
          994700,
          58000,
          50000,
          356500,
          56727,
          26700,
          35000,
          150627,
          10000,
          35000,
          21000,
          501000,
          1170000,
          50000,
          29000,
          105000,
          10000,
          13400,
          2000000,
          319800,
          42135,
          57418,
          32000,
          35000,
          632894,
          500000,
          1650000,
          190000,
          75000,
          26766,
          25000,
          35000,
          720000,
          373500,
          350000,
          420000,
          340000,
          312000,
          260000,
          110000,
          150000,
          427400,
          109562,
          50000,
          391000,
          20000,
          76500,
          40700,
          291919,
          165000,
          68519,
          21100,
          249500,
          235000,
          68260,
          50000,
          570000,
          784000,
          599489,
          27000,
          50000,
          300000,
          35000,
          1650000,
          25000,
          95102,
          95322,
          133500,
          8000,
          75000,
          410000,
          103000,
          80000,
          40000,
          400000,
          384125,
          204000,
          25028,
          35000,
          7500,
          919805,
          100000,
          25100,
          535000,
          18084,
          362000,
          160000,
          210000,
          350000,
          100000,
          15000,
          129195,
          53530,
          160000,
          13300,
          527400,
          10000,
          40000,
          400000,
          25000,
          250000,
          528419,
          50000,
          35000,
          1666000,
          34500,
          59018,
          297000,
          35000,
          25000,
          273100,
          105497,
          129500,
          30455,
          81617,
          30000,
          10000,
          145000,
          100000,
          475000,
          225000,
          50000,
          65902,
          50150,
          210000,
          132000,
          600000,
          70000,
          1600000,
          16500,
          4200,
          35000,
          9000,
          631300,
          50000,
          35000,
          25000,
          28000,
          48288,
          100000,
          150000,
          60307,
          32000,
          525000,
          400000,
          550000,
          32984,
          1504410,
          434497,
          180000,
          85000,
          80000,
          238000,
          35000,
          35000,
          25000,
          34676,
          15200,
          40000,
          222777,
          130000,
          566700,
          5700,
          99000,
          81500,
          25000,
          35000,
          56498,
          25000,
          25000,
          350000,
          145000,
          32920,
          215000,
          270000,
          35000,
          52000,
          500000,
          38833,
          700000,
          25000,
          780000,
          50000,
          50000,
          655000,
          25300,
          20000,
          56200,
          35000,
          49519,
          300000,
          135000,
          95000,
          220000,
          1359200,
          21000,
          150000,
          200000,
          18000,
          37534,
          875000,
          99300,
          530000,
          150000,
          123000,
          415000,
          350000,
          102500,
          193507,
          144000,
          26674,
          25000,
          50000,
          25600,
          33600,
          25000,
          30000,
          50000,
          2000000,
          20000,
          42000,
          50000,
          185000,
          50000,
          1983800,
          44499,
          42967,
          56955,
          1388000,
          15000,
          80000,
          9700,
          38700,
          169859,
          85000,
          280000,
          1249000,
          657000,
          400000,
          61754,
          225000,
          47450,
          109300,
          1390000,
          228223,
          35000,
          1200000,
          38000,
          35000,
          25000,
          693000,
          1500000,
          100000,
          35000,
          35000,
          293200,
          35000,
          31563,
          43000,
          150528,
          415000,
          20000,
          19357,
          16000,
          136512,
          51202,
          875000,
          102000,
          98000,
          350000,
          272000,
          75000,
          350000,
          20000,
          27500,
          1325000,
          880000,
          245000,
          25000,
          16144,
          565000,
          140000,
          15000,
          227500,
          50000,
          25000,
          13000,
          54762,
          90000,
          90000,
          64588,
          1118500,
          200000,
          75000,
          1941000,
          270000,
          25000,
          39879,
          16200,
          35000,
          21000,
          59100,
          366520,
          35000,
          40728,
          50000,
          1000000,
          177330,
          12500,
          406300,
          50795,
          850000,
          50000,
          30000,
          1032000,
          45947,
          35000,
          120000,
          235195,
          280000,
          765000,
          25000,
          50000,
          472000,
          649202,
          100000,
          75200,
          63000,
          300000,
          50000,
          270000,
          764900,
          246000,
          28037,
          4600,
          80000,
          30000,
          385000,
          100000,
          45286,
          130000,
          15000,
          8000,
          1161000,
          35000,
          80000,
          100000,
          276300,
          562500,
          155000,
          30900,
          285000,
          250000,
          25000,
          250000,
          50000,
          2000000,
          20000,
          250000,
          25000,
          180950,
          125000,
          380000,
          1678560,
          20000,
          32511,
          50000,
          15000,
          449751,
          25000,
          57000,
          12500,
          35000,
          127470,
          50739,
          28000,
          282532,
          1392000,
          4000000,
          553000,
          170441,
          35000,
          25000,
          960000,
          238133,
          568600,
          1800000,
          40200,
          1440000,
          47500,
          500000,
          113997,
          70498,
          35000,
          75000,
          208500,
          1201500,
          35000,
          7500,
          35000,
          489500,
          92700,
          1386900,
          310000,
          200000,
          15000,
          350000,
          8100,
          38000,
          250000,
          25000,
          100200,
          61030,
          200000,
          69165,
          13500,
          40000,
          26000,
          160336,
          165000,
          160000,
          100000,
          1288000,
          118000,
          35000,
          35000,
          30000,
          95000,
          480000,
          107400,
          117000,
          197000,
          100000,
          140000,
          1608000,
          1580000,
          12300,
          332100,
          15000,
          41964,
          440000,
          220000,
          10000,
          431000,
          10000,
          30000,
          800000,
          25000,
          495000,
          27600,
          542815,
          808000,
          24000,
          50000,
          35000,
          50000,
          22000,
          240000,
          95300,
          144000,
          50000,
          104700,
          40000,
          166000,
          938000,
          133485,
          12500,
          5100,
          34962,
          14031,
          108585,
          119600,
          23207,
          440000,
          254556,
          10000,
          180000,
          250000,
          35000,
          290000,
          359000,
          1800000,
          100000,
          100000,
          60000,
          338000,
          12007,
          267000,
          44200,
          100000,
          100000,
          40600,
          45000,
          1000000,
          220000,
          50000,
          50000,
          55000,
          420000,
          633000,
          25000,
          660000,
          291700,
          36000,
          20000,
          225000,
          501300,
          571000,
          350000,
          40000,
          100000,
          35000,
          96500,
          27000,
          810859,
          35000,
          553000,
          75012,
          44901,
          25000,
          613000,
          1177500,
          35000,
          231762,
          60550,
          25000,
          338000,
          25000,
          63979,
          52400,
          42500,
          355000,
          25000,
          2000000,
          1088897,
          245400,
          200000,
          35000,
          160000,
          48000,
          67000,
          100000,
          20000,
          150000,
          15000,
          35000,
          40000,
          720000,
          40000,
          350000,
          1395800,
          100000,
          563000,
          13131,
          50000,
          450000,
          33614,
          80000,
          399997,
          50000,
          25000,
          6000,
          144000,
          22150,
          288000,
          10000,
          125000,
          400000,
          200000,
          25000,
          50000,
          65700,
          26950,
          310000,
          85000,
          157683,
          150000,
          64000,
          275000,
          263000,
          300000,
          5000,
          40000,
          698000,
          172842,
          500000,
          30000,
          50024,
          10136,
          265655,
          35000,
          2000000,
          1000000,
          67000,
          1200000,
          30000,
          1584800,
          345700,
          617000,
          35000,
          35000,
          88398,
          149000,
          7800,
          397000,
          218000,
          15000,
          35000,
          50000,
          202000,
          199500,
          20000,
          49100,
          80000,
          35000,
          10000,
          109882,
          125000,
          60000,
          128900,
          311948,
          12000,
          135000,
          488800,
          13700,
          110000,
          310000,
          400000,
          297000,
          32625,
          500000,
          165500,
          240000,
          1696000,
          1316000,
          50000,
          25000,
          18476,
          30000,
          15200,
          60000,
          50000,
          38259,
          350000,
          5000,
          19850,
          515000,
          30000,
          156000,
          181000,
          145600,
          10000,
          26200,
          128204,
          55000,
          800000,
          350000,
          45000,
          450000,
          270000,
          350000,
          160000,
          220000,
          197800,
          760760,
          950000,
          55000,
          225000,
          10100,
          27145,
          10000,
          14600,
          90583,
          52700,
          190500,
          20000,
          67500,
          46183,
          15000,
          175000,
          450000,
          16000,
          607000,
          480000,
          575000,
          250000,
          675000,
          113036,
          240000,
          7500,
          1400000,
          2000000,
          175815,
          3400,
          22500,
          150000,
          20000,
          584500,
          50339,
          308148,
          15000,
          70000,
          182101,
          23300,
          35000,
          1679700,
          889000,
          100000,
          415009,
          425000,
          140000,
          1280000,
          669000,
          100000,
          29600,
          231551,
          75000,
          32811,
          25001,
          200150,
          1340000,
          38900,
          468000,
          100000,
          95000,
          51000,
          150000,
          11000,
          30000,
          250000,
          515000,
          352000,
          11000,
          172000,
          93313,
          127000,
          25000,
          35000,
          34999,
          66000,
          10900,
          27200,
          350000,
          150000,
          350000,
          637000,
          1400000,
          40000,
          1791000,
          35649,
          374000,
          40982,
          1155000,
          40000,
          17542,
          18000,
          50000,
          350000,
          376000,
          40349,
          315000,
          198482,
          50000,
          50000,
          5000,
          323500,
          25000,
          340200,
          49997,
          318700,
          850000,
          75000,
          175000,
          104500,
          39400,
          18000,
          15000,
          278000,
          35000,
          19823,
          25000,
          22100,
          588502,
          12500,
          86500,
          24000,
          70000,
          750000,
          303993,
          298721,
          10000,
          11000,
          45400,
          58000,
          98500,
          250000,
          25000,
          52395,
          65000,
          43500,
          75000,
          30000,
          87500,
          14000,
          441000,
          15533,
          70000,
          150000,
          846000,
          540000,
          98100,
          200000,
          70000,
          235000,
          37029,
          2000000,
          35000,
          82500,
          12500,
          1315000,
          35000,
          300000,
          80000,
          64850,
          20300,
          35500,
          7700,
          75000,
          216990,
          435000,
          3000,
          415200,
          50000,
          25000,
          406000,
          355960,
          543000,
          50000,
          56300,
          176600,
          22400,
          75000,
          88987,
          225000,
          136200,
          135600,
          1009000,
          240000,
          742900,
          179000,
          360000,
          15000,
          50000,
          29700,
          165500,
          176000,
          50000,
          1200000,
          600000,
          15999,
          967500,
          25000,
          140000,
          7100,
          300000,
          300000,
          849581,
          75979,
          21000,
          261100,
          470000,
          38000,
          181300,
          79726,
          434000,
          55500,
          185000,
          75000,
          75000,
          60000,
          19800,
          100000,
          350000,
          150000,
          161000,
          40000,
          175267,
          39418,
          100000,
          250000,
          204000,
          332500,
          381000,
          9600,
          17300,
          1596000,
          15000,
          500000,
          28373,
          150000,
          109205,
          635000,
          945500,
          344500,
          770902,
          261500,
          25000,
          20964,
          305000,
          600000,
          150000,
          327460,
          179200,
          100000,
          890000,
          84300,
          250000,
          258300,
          776537,
          434000,
          400000,
          25000,
          310500,
          50000,
          20000,
          850000,
          466300,
          275668,
          7700,
          325000,
          50000,
          60000,
          666000,
          15000,
          28000,
          75000,
          106000,
          35000,
          815000,
          200000,
          37824,
          6500,
          25000,
          70000,
          125000,
          258000,
          168000,
          20000,
          243550,
          38479,
          55000,
          250000,
          42783,
          100000,
          90000,
          61159,
          100000,
          27983,
          1000000,
          14000,
          22600,
          220000,
          76117,
          10000,
          607000,
          131116,
          37993,
          1168700,
          14000,
          1150000,
          480449,
          225000,
          19700,
          16000,
          59068,
          60000,
          500000,
          110000,
          50000,
          100000,
          130000,
          480000,
          666600,
          125000,
          105000,
          150000,
          140000,
          250000,
          564000,
          200000
         ],
         "x0": " ",
         "xaxis": "x",
         "y0": " ",
         "yaxis": "y"
        }
       ],
       "layout": {
        "boxmode": "group",
        "legend": {
         "title": {
          "text": "default_status"
         },
         "tracegroupgap": 0
        },
        "margin": {
         "t": 60
        },
        "template": {
         "data": {
          "bar": [
           {
            "error_x": {
             "color": "#2a3f5f"
            },
            "error_y": {
             "color": "#2a3f5f"
            },
            "marker": {
             "line": {
              "color": "#E5ECF6",
              "width": 0.5
             },
             "pattern": {
              "fillmode": "overlay",
              "size": 10,
              "solidity": 0.2
             }
            },
            "type": "bar"
           }
          ],
          "barpolar": [
           {
            "marker": {
             "line": {
              "color": "#E5ECF6",
              "width": 0.5
             },
             "pattern": {
              "fillmode": "overlay",
              "size": 10,
              "solidity": 0.2
             }
            },
            "type": "barpolar"
           }
          ],
          "carpet": [
           {
            "aaxis": {
             "endlinecolor": "#2a3f5f",
             "gridcolor": "white",
             "linecolor": "white",
             "minorgridcolor": "white",
             "startlinecolor": "#2a3f5f"
            },
            "baxis": {
             "endlinecolor": "#2a3f5f",
             "gridcolor": "white",
             "linecolor": "white",
             "minorgridcolor": "white",
             "startlinecolor": "#2a3f5f"
            },
            "type": "carpet"
           }
          ],
          "choropleth": [
           {
            "colorbar": {
             "outlinewidth": 0,
             "ticks": ""
            },
            "type": "choropleth"
           }
          ],
          "contour": [
           {
            "colorbar": {
             "outlinewidth": 0,
             "ticks": ""
            },
            "colorscale": [
             [
              0,
              "#0d0887"
             ],
             [
              0.1111111111111111,
              "#46039f"
             ],
             [
              0.2222222222222222,
              "#7201a8"
             ],
             [
              0.3333333333333333,
              "#9c179e"
             ],
             [
              0.4444444444444444,
              "#bd3786"
             ],
             [
              0.5555555555555556,
              "#d8576b"
             ],
             [
              0.6666666666666666,
              "#ed7953"
             ],
             [
              0.7777777777777778,
              "#fb9f3a"
             ],
             [
              0.8888888888888888,
              "#fdca26"
             ],
             [
              1,
              "#f0f921"
             ]
            ],
            "type": "contour"
           }
          ],
          "contourcarpet": [
           {
            "colorbar": {
             "outlinewidth": 0,
             "ticks": ""
            },
            "type": "contourcarpet"
           }
          ],
          "heatmap": [
           {
            "colorbar": {
             "outlinewidth": 0,
             "ticks": ""
            },
            "colorscale": [
             [
              0,
              "#0d0887"
             ],
             [
              0.1111111111111111,
              "#46039f"
             ],
             [
              0.2222222222222222,
              "#7201a8"
             ],
             [
              0.3333333333333333,
              "#9c179e"
             ],
             [
              0.4444444444444444,
              "#bd3786"
             ],
             [
              0.5555555555555556,
              "#d8576b"
             ],
             [
              0.6666666666666666,
              "#ed7953"
             ],
             [
              0.7777777777777778,
              "#fb9f3a"
             ],
             [
              0.8888888888888888,
              "#fdca26"
             ],
             [
              1,
              "#f0f921"
             ]
            ],
            "type": "heatmap"
           }
          ],
          "heatmapgl": [
           {
            "colorbar": {
             "outlinewidth": 0,
             "ticks": ""
            },
            "colorscale": [
             [
              0,
              "#0d0887"
             ],
             [
              0.1111111111111111,
              "#46039f"
             ],
             [
              0.2222222222222222,
              "#7201a8"
             ],
             [
              0.3333333333333333,
              "#9c179e"
             ],
             [
              0.4444444444444444,
              "#bd3786"
             ],
             [
              0.5555555555555556,
              "#d8576b"
             ],
             [
              0.6666666666666666,
              "#ed7953"
             ],
             [
              0.7777777777777778,
              "#fb9f3a"
             ],
             [
              0.8888888888888888,
              "#fdca26"
             ],
             [
              1,
              "#f0f921"
             ]
            ],
            "type": "heatmapgl"
           }
          ],
          "histogram": [
           {
            "marker": {
             "pattern": {
              "fillmode": "overlay",
              "size": 10,
              "solidity": 0.2
             }
            },
            "type": "histogram"
           }
          ],
          "histogram2d": [
           {
            "colorbar": {
             "outlinewidth": 0,
             "ticks": ""
            },
            "colorscale": [
             [
              0,
              "#0d0887"
             ],
             [
              0.1111111111111111,
              "#46039f"
             ],
             [
              0.2222222222222222,
              "#7201a8"
             ],
             [
              0.3333333333333333,
              "#9c179e"
             ],
             [
              0.4444444444444444,
              "#bd3786"
             ],
             [
              0.5555555555555556,
              "#d8576b"
             ],
             [
              0.6666666666666666,
              "#ed7953"
             ],
             [
              0.7777777777777778,
              "#fb9f3a"
             ],
             [
              0.8888888888888888,
              "#fdca26"
             ],
             [
              1,
              "#f0f921"
             ]
            ],
            "type": "histogram2d"
           }
          ],
          "histogram2dcontour": [
           {
            "colorbar": {
             "outlinewidth": 0,
             "ticks": ""
            },
            "colorscale": [
             [
              0,
              "#0d0887"
             ],
             [
              0.1111111111111111,
              "#46039f"
             ],
             [
              0.2222222222222222,
              "#7201a8"
             ],
             [
              0.3333333333333333,
              "#9c179e"
             ],
             [
              0.4444444444444444,
              "#bd3786"
             ],
             [
              0.5555555555555556,
              "#d8576b"
             ],
             [
              0.6666666666666666,
              "#ed7953"
             ],
             [
              0.7777777777777778,
              "#fb9f3a"
             ],
             [
              0.8888888888888888,
              "#fdca26"
             ],
             [
              1,
              "#f0f921"
             ]
            ],
            "type": "histogram2dcontour"
           }
          ],
          "mesh3d": [
           {
            "colorbar": {
             "outlinewidth": 0,
             "ticks": ""
            },
            "type": "mesh3d"
           }
          ],
          "parcoords": [
           {
            "line": {
             "colorbar": {
              "outlinewidth": 0,
              "ticks": ""
             }
            },
            "type": "parcoords"
           }
          ],
          "pie": [
           {
            "automargin": true,
            "type": "pie"
           }
          ],
          "scatter": [
           {
            "fillpattern": {
             "fillmode": "overlay",
             "size": 10,
             "solidity": 0.2
            },
            "type": "scatter"
           }
          ],
          "scatter3d": [
           {
            "line": {
             "colorbar": {
              "outlinewidth": 0,
              "ticks": ""
             }
            },
            "marker": {
             "colorbar": {
              "outlinewidth": 0,
              "ticks": ""
             }
            },
            "type": "scatter3d"
           }
          ],
          "scattercarpet": [
           {
            "marker": {
             "colorbar": {
              "outlinewidth": 0,
              "ticks": ""
             }
            },
            "type": "scattercarpet"
           }
          ],
          "scattergeo": [
           {
            "marker": {
             "colorbar": {
              "outlinewidth": 0,
              "ticks": ""
             }
            },
            "type": "scattergeo"
           }
          ],
          "scattergl": [
           {
            "marker": {
             "colorbar": {
              "outlinewidth": 0,
              "ticks": ""
             }
            },
            "type": "scattergl"
           }
          ],
          "scattermapbox": [
           {
            "marker": {
             "colorbar": {
              "outlinewidth": 0,
              "ticks": ""
             }
            },
            "type": "scattermapbox"
           }
          ],
          "scatterpolar": [
           {
            "marker": {
             "colorbar": {
              "outlinewidth": 0,
              "ticks": ""
             }
            },
            "type": "scatterpolar"
           }
          ],
          "scatterpolargl": [
           {
            "marker": {
             "colorbar": {
              "outlinewidth": 0,
              "ticks": ""
             }
            },
            "type": "scatterpolargl"
           }
          ],
          "scatterternary": [
           {
            "marker": {
             "colorbar": {
              "outlinewidth": 0,
              "ticks": ""
             }
            },
            "type": "scatterternary"
           }
          ],
          "surface": [
           {
            "colorbar": {
             "outlinewidth": 0,
             "ticks": ""
            },
            "colorscale": [
             [
              0,
              "#0d0887"
             ],
             [
              0.1111111111111111,
              "#46039f"
             ],
             [
              0.2222222222222222,
              "#7201a8"
             ],
             [
              0.3333333333333333,
              "#9c179e"
             ],
             [
              0.4444444444444444,
              "#bd3786"
             ],
             [
              0.5555555555555556,
              "#d8576b"
             ],
             [
              0.6666666666666666,
              "#ed7953"
             ],
             [
              0.7777777777777778,
              "#fb9f3a"
             ],
             [
              0.8888888888888888,
              "#fdca26"
             ],
             [
              1,
              "#f0f921"
             ]
            ],
            "type": "surface"
           }
          ],
          "table": [
           {
            "cells": {
             "fill": {
              "color": "#EBF0F8"
             },
             "line": {
              "color": "white"
             }
            },
            "header": {
             "fill": {
              "color": "#C8D4E3"
             },
             "line": {
              "color": "white"
             }
            },
            "type": "table"
           }
          ]
         },
         "layout": {
          "annotationdefaults": {
           "arrowcolor": "#2a3f5f",
           "arrowhead": 0,
           "arrowwidth": 1
          },
          "autotypenumbers": "strict",
          "coloraxis": {
           "colorbar": {
            "outlinewidth": 0,
            "ticks": ""
           }
          },
          "colorscale": {
           "diverging": [
            [
             0,
             "#8e0152"
            ],
            [
             0.1,
             "#c51b7d"
            ],
            [
             0.2,
             "#de77ae"
            ],
            [
             0.3,
             "#f1b6da"
            ],
            [
             0.4,
             "#fde0ef"
            ],
            [
             0.5,
             "#f7f7f7"
            ],
            [
             0.6,
             "#e6f5d0"
            ],
            [
             0.7,
             "#b8e186"
            ],
            [
             0.8,
             "#7fbc41"
            ],
            [
             0.9,
             "#4d9221"
            ],
            [
             1,
             "#276419"
            ]
           ],
           "sequential": [
            [
             0,
             "#0d0887"
            ],
            [
             0.1111111111111111,
             "#46039f"
            ],
            [
             0.2222222222222222,
             "#7201a8"
            ],
            [
             0.3333333333333333,
             "#9c179e"
            ],
            [
             0.4444444444444444,
             "#bd3786"
            ],
            [
             0.5555555555555556,
             "#d8576b"
            ],
            [
             0.6666666666666666,
             "#ed7953"
            ],
            [
             0.7777777777777778,
             "#fb9f3a"
            ],
            [
             0.8888888888888888,
             "#fdca26"
            ],
            [
             1,
             "#f0f921"
            ]
           ],
           "sequentialminus": [
            [
             0,
             "#0d0887"
            ],
            [
             0.1111111111111111,
             "#46039f"
            ],
            [
             0.2222222222222222,
             "#7201a8"
            ],
            [
             0.3333333333333333,
             "#9c179e"
            ],
            [
             0.4444444444444444,
             "#bd3786"
            ],
            [
             0.5555555555555556,
             "#d8576b"
            ],
            [
             0.6666666666666666,
             "#ed7953"
            ],
            [
             0.7777777777777778,
             "#fb9f3a"
            ],
            [
             0.8888888888888888,
             "#fdca26"
            ],
            [
             1,
             "#f0f921"
            ]
           ]
          },
          "colorway": [
           "#636efa",
           "#EF553B",
           "#00cc96",
           "#ab63fa",
           "#FFA15A",
           "#19d3f3",
           "#FF6692",
           "#B6E880",
           "#FF97FF",
           "#FECB52"
          ],
          "font": {
           "color": "#2a3f5f"
          },
          "geo": {
           "bgcolor": "white",
           "lakecolor": "white",
           "landcolor": "#E5ECF6",
           "showlakes": true,
           "showland": true,
           "subunitcolor": "white"
          },
          "hoverlabel": {
           "align": "left"
          },
          "hovermode": "closest",
          "mapbox": {
           "style": "light"
          },
          "paper_bgcolor": "white",
          "plot_bgcolor": "#E5ECF6",
          "polar": {
           "angularaxis": {
            "gridcolor": "white",
            "linecolor": "white",
            "ticks": ""
           },
           "bgcolor": "#E5ECF6",
           "radialaxis": {
            "gridcolor": "white",
            "linecolor": "white",
            "ticks": ""
           }
          },
          "scene": {
           "xaxis": {
            "backgroundcolor": "#E5ECF6",
            "gridcolor": "white",
            "gridwidth": 2,
            "linecolor": "white",
            "showbackground": true,
            "ticks": "",
            "zerolinecolor": "white"
           },
           "yaxis": {
            "backgroundcolor": "#E5ECF6",
            "gridcolor": "white",
            "gridwidth": 2,
            "linecolor": "white",
            "showbackground": true,
            "ticks": "",
            "zerolinecolor": "white"
           },
           "zaxis": {
            "backgroundcolor": "#E5ECF6",
            "gridcolor": "white",
            "gridwidth": 2,
            "linecolor": "white",
            "showbackground": true,
            "ticks": "",
            "zerolinecolor": "white"
           }
          },
          "shapedefaults": {
           "line": {
            "color": "#2a3f5f"
           }
          },
          "ternary": {
           "aaxis": {
            "gridcolor": "white",
            "linecolor": "white",
            "ticks": ""
           },
           "baxis": {
            "gridcolor": "white",
            "linecolor": "white",
            "ticks": ""
           },
           "bgcolor": "#E5ECF6",
           "caxis": {
            "gridcolor": "white",
            "linecolor": "white",
            "ticks": ""
           }
          },
          "title": {
           "x": 0.05
          },
          "xaxis": {
           "automargin": true,
           "gridcolor": "white",
           "linecolor": "white",
           "ticks": "",
           "title": {
            "standoff": 15
           },
           "zerolinecolor": "white",
           "zerolinewidth": 2
          },
          "yaxis": {
           "automargin": true,
           "gridcolor": "white",
           "linecolor": "white",
           "ticks": "",
           "title": {
            "standoff": 15
           },
           "zerolinecolor": "white",
           "zerolinewidth": 2
          }
         }
        },
        "xaxis": {
         "anchor": "y",
         "domain": [
          0,
          1
         ],
         "title": {
          "text": "loan_amount"
         }
        },
        "yaxis": {
         "anchor": "x",
         "domain": [
          0,
          1
         ]
        }
       }
      }
     },
     "metadata": {},
     "output_type": "display_data"
    }
   ],
   "source": [
    "px.box(train, x = 'loan_amount', color = 'default_status')"
   ]
  },
  {
   "cell_type": "markdown",
   "metadata": {},
   "source": [
    "From the plot above, it could be observed that companies tend to default on smaller loan amounts. The median default loan amount is 33k, whereas the median non-default loan amount is 95.911k."
   ]
  },
  {
   "cell_type": "code",
   "execution_count": 23,
   "metadata": {},
   "outputs": [
    {
     "data": {
      "application/vnd.plotly.v1+json": {
       "config": {
        "plotlyServerURL": "https://plot.ly"
       },
       "data": [
        {
         "alignmentgroup": "True",
         "hovertemplate": "default_status=1<br>insured_amount=%{x}<extra></extra>",
         "legendgroup": "1",
         "marker": {
          "color": "#636efa"
         },
         "name": "1",
         "notched": false,
         "offsetgroup": "1",
         "orientation": "h",
         "showlegend": true,
         "type": "box",
         "x": [
          35000,
          13500,
          11250,
          66895,
          11250,
          9000,
          35000,
          22500,
          25000,
          13500,
          504000,
          21250,
          13500,
          9000,
          50000,
          87975,
          13000,
          22500,
          6375,
          42500,
          4250,
          12750,
          12500,
          37500,
          4250,
          18000,
          35000,
          35000,
          35000,
          35000,
          204750,
          35000,
          21250,
          37500,
          25000,
          8500,
          216000,
          12500,
          1032300,
          13500,
          6750,
          87500,
          90000,
          10000,
          150000,
          35000,
          4250,
          17500,
          67500,
          50000,
          4500,
          22500,
          35000,
          35000,
          25000,
          43750,
          12500,
          15000,
          40500,
          9000,
          35000,
          13500,
          51000,
          12500,
          22500,
          15000,
          35000,
          88850,
          25000,
          35000,
          90650,
          21250,
          12500,
          35000,
          10000,
          20000,
          50000,
          3000,
          177570,
          20000,
          135000,
          4500,
          15500,
          17500,
          115200,
          53000,
          4500,
          6375,
          21250,
          4500,
          5000,
          4250,
          180000,
          44455,
          309150,
          17000,
          9000,
          35000,
          13500,
          35000,
          23000,
          1498500,
          45000,
          12750,
          5000,
          100000,
          8100,
          35000,
          5000,
          5000,
          85000,
          35000,
          4500,
          4250,
          318600,
          13500,
          22500,
          35000,
          9000,
          21250,
          924300,
          12750,
          35000,
          12500,
          33300,
          220875,
          35000,
          12550,
          22500,
          35000,
          26200,
          6750,
          13500,
          1072500,
          12500,
          4500,
          18900,
          35000,
          45000,
          315000,
          22500,
          25000,
          10000,
          12500,
          18000,
          35000,
          9000,
          35000,
          4500,
          35000,
          382500,
          12500,
          21250,
          13500,
          6375,
          4500,
          102000,
          12500,
          35000,
          35000,
          150000,
          12500,
          10650,
          4250,
          35000,
          5000,
          12500,
          34200,
          35000,
          17500,
          9000,
          22500,
          8500,
          37500,
          35000,
          18000,
          17500,
          216000,
          20400,
          35000,
          13500,
          67650,
          13500,
          35000,
          11250,
          171000,
          35000,
          4500,
          209700,
          17000,
          12500,
          50000,
          31500,
          4250,
          9000,
          18000,
          9000,
          35000,
          35000,
          32500,
          12500,
          6750,
          14900,
          6375,
          4500,
          141750,
          6375,
          10000,
          35000,
          22500,
          387000,
          12500,
          7500,
          12500,
          35000,
          21250,
          35000,
          42000,
          4500,
          12500,
          6750,
          10200,
          4500,
          58050,
          1066500,
          35000,
          28645,
          35000,
          11250,
          125000,
          8000,
          42500,
          450000,
          35000,
          6750,
          6375,
          35000,
          37500,
          15000,
          12500,
          35000,
          22590,
          35000,
          11250,
          9000,
          18000,
          18000,
          4250,
          12750,
          8500,
          30000,
          6375,
          25000,
          45000,
          8500,
          12500,
          25000,
          6375,
          35000,
          25000,
          35000,
          45000,
          35000,
          35000,
          21250,
          4500,
          5000,
          11250,
          6375,
          12500,
          17500,
          15000,
          157320,
          12500,
          35000,
          5000,
          35000,
          64980,
          6750,
          12500,
          21250,
          126250,
          143750,
          20700,
          35000,
          127500,
          21250,
          10000,
          170100,
          36900,
          6375,
          31500,
          18000,
          21200,
          25000,
          13500,
          220500,
          35000,
          13500,
          34400,
          35000,
          18000,
          35000,
          270000,
          13500,
          6375,
          4250,
          382500,
          50000,
          9000,
          35000,
          6750,
          35000,
          21250,
          12750,
          135000,
          56300,
          35000,
          11250,
          35000,
          6750,
          4500,
          11250,
          17500,
          18000,
          35000,
          10000,
          12500,
          30000,
          4500,
          21250,
          35000,
          6500,
          8500,
          51000,
          157500,
          6750,
          9000,
          9000,
          17000,
          9000,
          37500,
          35000,
          15250,
          15000,
          34100,
          12500,
          10000,
          67500,
          57375,
          13500,
          10625,
          10625,
          68000,
          8500,
          37500,
          17000,
          35000,
          29900,
          42500,
          11600,
          106250,
          17000,
          35000,
          337500,
          35000,
          35000,
          11250,
          30000,
          25000,
          116620,
          35000,
          22500,
          36100,
          35000,
          17000,
          60000,
          35000,
          45000,
          50000,
          19600,
          25000,
          25000,
          10000,
          35000,
          180000,
          35000,
          58500,
          142500,
          4500,
          25000,
          4500,
          35000,
          6750,
          35000,
          4500,
          12750,
          35000,
          35000,
          6750,
          5000,
          9000,
          50000,
          19700,
          150000,
          5000,
          20000,
          11250,
          11250,
          4500,
          35000,
          12500,
          12750,
          8500,
          117000,
          25245,
          35000,
          11000,
          7500,
          21250,
          35000,
          12750,
          50000,
          27100,
          9000,
          12500,
          11800,
          33000,
          300150,
          16500,
          198000,
          4250,
          12750,
          35000,
          22500,
          42500,
          150000,
          512100,
          25000,
          14800,
          150000,
          200160,
          69500,
          42500,
          8500,
          6750,
          22500,
          9000,
          35000,
          6750,
          17500,
          27000,
          10000,
          46600,
          12500,
          315900,
          22500,
          6750,
          4500,
          22500,
          12750,
          35000,
          7200,
          47500,
          4500,
          4500,
          17500,
          12750,
          35000,
          8500,
          10000,
          180000,
          10625,
          8500,
          25000,
          21250,
          661500,
          21250,
          6750,
          175000,
          6750,
          6750,
          25000,
          32000,
          19200,
          5000,
          45000,
          262500,
          33000,
          10000,
          94095,
          153000,
          25000,
          6375,
          22500,
          10000,
          16470,
          35000,
          4250,
          25000,
          6750,
          17200,
          13500,
          6375,
          35000,
          12500,
          35000,
          25000,
          25000,
          25500,
          32400,
          21250,
          35000,
          225000,
          12500,
          11750,
          105485,
          22500,
          12500,
          21250,
          4500,
          34000,
          22000,
          10500,
          4500,
          5150,
          150000,
          35000,
          6750,
          6390,
          4500,
          35000,
          5000,
          12500,
          99000,
          45000,
          8500,
          4500,
          35000,
          35000,
          315000,
          1597500,
          6750,
          17500,
          6375,
          35000,
          31500,
          35000,
          180000,
          17800,
          193500,
          9000,
          17000,
          10200,
          75000,
          6750,
          8500,
          35000,
          45000,
          27550,
          547800,
          35000,
          51000,
          9000,
          67500,
          25000,
          22000,
          8500,
          8500,
          9000,
          34700,
          35000,
          32940,
          12500,
          50000,
          4500,
          4250,
          12500,
          25050,
          8500,
          5000,
          4250,
          35000,
          10625,
          4500,
          6375,
          35000,
          4250,
          25000,
          31000,
          12500,
          22500,
          4500,
          1098000,
          6750,
          12500,
          35000,
          12750,
          21250,
          10625,
          292425,
          21250,
          20000,
          32500,
          229050,
          25000,
          34765,
          133650,
          4500,
          25000,
          27900,
          8500,
          13500,
          10625,
          12500,
          22500,
          35000,
          810000,
          25500,
          4500,
          12500,
          193500,
          11000,
          18000,
          6750,
          5000,
          324000,
          12500,
          4500,
          9000,
          35000,
          75000,
          28800,
          90000,
          10625,
          12500,
          12750,
          18000,
          12750,
          9000,
          786375,
          12500,
          35000,
          4500,
          35000,
          35000,
          35000,
          35000,
          18000,
          12750,
          35000,
          54000,
          6000,
          13500,
          25000,
          115650,
          27000,
          25050,
          45700,
          6750,
          10625,
          42500,
          4250,
          45000,
          6375,
          22500,
          33500,
          4500,
          11250,
          25000,
          17100,
          43350,
          10625,
          63000,
          35000,
          67500,
          73100,
          81000,
          35000,
          33600,
          35000,
          54000,
          29100,
          12750,
          31500,
          25000,
          35000,
          21250,
          11500,
          35000,
          5000,
          125000,
          17500,
          35000,
          35000,
          4500,
          35000,
          35000,
          10000,
          35000,
          8500,
          25000,
          9000,
          18100,
          26500,
          10625,
          180000,
          21250,
          10000,
          21250,
          12500,
          135000,
          171900,
          35000,
          45000,
          22500,
          37500,
          42500,
          225000,
          18000,
          50000,
          35000,
          12500,
          27200,
          13500,
          7500,
          31500,
          4250,
          35000,
          8300,
          34100,
          76500,
          22500,
          6000,
          35000,
          180000,
          30000,
          4500,
          37500,
          11250,
          21800,
          4250,
          22500,
          22500,
          18100,
          7000,
          6375,
          18000,
          22500,
          35000,
          15000,
          13500,
          25000,
          22500,
          21250,
          35000,
          35000,
          117500,
          12500,
          6750,
          35000,
          22500,
          6750,
          59400,
          35000,
          18750,
          12550,
          30000,
          19000,
          762300,
          4250,
          35000,
          25000
         ],
         "x0": " ",
         "xaxis": "x",
         "y0": " ",
         "yaxis": "y"
        },
        {
         "alignmentgroup": "True",
         "hovertemplate": "default_status=0<br>insured_amount=%{x}<extra></extra>",
         "legendgroup": "0",
         "marker": {
          "color": "#EF553B"
         },
         "name": "0",
         "notched": false,
         "offsetgroup": "0",
         "orientation": "h",
         "showlegend": true,
         "type": "box",
         "x": [
          100000,
          255000,
          6650,
          20000,
          25000,
          8500,
          37500,
          225000,
          1500000,
          32850,
          50000,
          25000,
          1044000,
          199890,
          13090,
          7500,
          175000,
          11250,
          542700,
          5000,
          50000,
          530040,
          22500,
          32000,
          1102500,
          1082000,
          71400,
          50000,
          33600,
          1211000,
          75000,
          125000,
          13500,
          208800,
          20300,
          360000,
          75000,
          141000,
          12500,
          10000,
          99450,
          12000,
          5000,
          127500,
          162000,
          51000,
          12500,
          1170000,
          7650,
          60000,
          360000,
          1259683,
          300000,
          35000,
          88740,
          170000,
          665000,
          25000,
          22500,
          25000,
          684000,
          765000,
          351900,
          1395000,
          30600,
          17500,
          2000000,
          12500,
          720000,
          1458000,
          619650,
          37400,
          13750,
          12500,
          25250,
          9000,
          17500,
          160200,
          603000,
          273750,
          1500000,
          568890,
          175000,
          332000,
          29800,
          86940,
          135000,
          5000,
          23350,
          35000,
          5000,
          35000,
          100000,
          12500,
          35000,
          708300,
          31025,
          30000,
          17500,
          35000,
          7500,
          125000,
          50000,
          216000,
          59500,
          35000,
          330000,
          12600,
          3500,
          37500,
          100000,
          100000,
          5000,
          25000,
          1080000,
          540000,
          90000,
          22500,
          86000,
          12500,
          50000,
          25000,
          260700,
          25000,
          114400,
          35000,
          7500,
          45000,
          64800,
          1188000,
          75000,
          30500,
          12500,
          136600,
          90000,
          35000,
          12750,
          1125000,
          144540,
          675000,
          135000,
          35000,
          25000,
          8670,
          15000,
          25000,
          175000,
          316500,
          351000,
          12500,
          5000,
          75000,
          94350,
          17500,
          20500,
          42500,
          17500,
          19050,
          6400,
          90000,
          1499860,
          132930,
          1440000,
          25000,
          383000,
          598000,
          1080000,
          51000,
          360000,
          900000,
          598000,
          5000,
          5250,
          647250,
          30400,
          50000,
          510300,
          11250,
          630000,
          90000,
          404100,
          213300,
          251000,
          30000,
          74200,
          25000,
          600000,
          125000,
          130800,
          340200,
          124500,
          1500000,
          75000,
          10000,
          17000,
          486000,
          125000,
          22500,
          5000,
          35000,
          25000,
          72500,
          25000,
          12500,
          25000,
          25000,
          35000,
          47700,
          5000,
          562500,
          611100,
          162000,
          12500,
          61200,
          175000,
          10900,
          6500,
          35000,
          5000,
          27000,
          50000,
          77300,
          450000,
          5750,
          37500,
          35000,
          4250,
          50000,
          65000,
          35000,
          75000,
          25000,
          78750,
          291600,
          135000,
          540000,
          5000,
          1264500,
          195300,
          7500,
          129690,
          17500,
          25150,
          5000,
          270000,
          31860,
          628110,
          12500,
          244710,
          94800,
          112500,
          68000,
          9000,
          11790,
          25000,
          29750,
          15000,
          1494000,
          917100,
          37500,
          1350000,
          11700,
          25000,
          30000,
          15500,
          125000,
          370800,
          172000,
          7500,
          1413450,
          100000,
          305000,
          25000,
          21250,
          15000,
          421875,
          337500,
          12500,
          855000,
          99000,
          50000,
          102000,
          216000,
          157500,
          40000,
          702000,
          138750,
          45000,
          7500,
          3700,
          12500,
          275400,
          12500,
          35000,
          150000,
          15000,
          12500,
          50000,
          94500,
          1130000,
          29776,
          32500,
          7500,
          157500,
          27500,
          262500,
          7700,
          175000,
          125000,
          26050,
          17000,
          922500,
          125000,
          6500,
          4500,
          12500,
          646380,
          42500,
          1500000,
          12750,
          74700,
          6000,
          35000,
          125000,
          13500,
          274000,
          455700,
          383700,
          50000,
          1500000,
          72000,
          620250,
          244800,
          25000,
          54000,
          900000,
          139450,
          5000,
          150000,
          4500,
          15950,
          22500,
          11750,
          109500,
          35100,
          12500,
          100000,
          18000,
          1749900,
          72675,
          115875,
          12500,
          145000,
          62500,
          100000,
          164000,
          12500,
          12500,
          7500,
          85000,
          106500,
          7500,
          411750,
          21250,
          35000,
          450000,
          25000,
          12500,
          1500000,
          150000,
          159000,
          25000,
          12500,
          670500,
          60000,
          4000,
          63000,
          56700,
          50000,
          22500,
          21250,
          25000,
          5000,
          20000,
          225000,
          20000,
          35000,
          37500,
          35700,
          5000,
          50000,
          450000,
          112500,
          247000,
          317000,
          1500000,
          20200,
          598500,
          12500,
          549000,
          413000,
          20000,
          10000,
          37500,
          328500,
          900000,
          35000,
          20000,
          139500,
          1125000,
          106250,
          471600,
          5000,
          175000,
          16000,
          5000,
          450000,
          29250,
          10000,
          5000,
          15000,
          50000,
          85000,
          191250,
          20000,
          12750,
          42500,
          112500,
          28200,
          7500,
          6250,
          40000,
          1494000,
          387000,
          360000,
          575250,
          85000,
          11050,
          180000,
          103500,
          5000,
          5000,
          10625,
          3750,
          20000,
          150000,
          12500,
          150000,
          16000,
          75000,
          72000,
          30000,
          31300,
          825000,
          34100,
          392400,
          12500,
          100000,
          90000,
          102750,
          7750,
          32000,
          1080000,
          87500,
          40000,
          199530,
          630000,
          10500,
          13500,
          75000,
          1350000,
          35000,
          180000,
          666000,
          9500,
          18000,
          1935000,
          900000,
          10050,
          190500,
          17000,
          10000,
          540000,
          26850,
          16000,
          18000,
          54000,
          112500,
          33390,
          12750,
          85000,
          35000,
          20750,
          5000,
          1500000,
          35000,
          35000,
          8000,
          25000,
          106250,
          50000,
          328500,
          600000,
          12500,
          161000,
          5000,
          27000,
          91800,
          1498500,
          25000,
          8500,
          10200,
          276300,
          116100,
          17500,
          972000,
          15000,
          130000,
          135000,
          162000,
          5000,
          175000,
          10000,
          202500,
          207000,
          320040,
          53460,
          10000,
          1350000,
          35000,
          374400,
          21250,
          175000,
          12500,
          39600,
          12500,
          393225,
          25000,
          10000,
          446000,
          9000,
          12600,
          324000,
          12000,
          12500,
          50000,
          5000,
          126000,
          28250,
          12500,
          738750,
          10550,
          1286100,
          50000,
          7500,
          8500,
          17500,
          35000,
          1815000,
          50000,
          648000,
          348750,
          35000,
          12750,
          61200,
          17000,
          12500,
          50000,
          556500,
          41140,
          135000,
          15000,
          10000,
          5000,
          115500,
          93150,
          195840,
          6100,
          4050,
          5000,
          412500,
          18000,
          173500,
          175000,
          17500,
          42500,
          8500,
          30000,
          37500,
          7500,
          50000,
          303750,
          25000,
          12500,
          22500,
          40000,
          135000,
          198000,
          50000,
          35000,
          649800,
          35000,
          40000,
          1050000,
          540000,
          110500,
          15250,
          216000,
          12500,
          1500000,
          8500,
          7650,
          71000,
          127500,
          360000,
          168750,
          12500,
          5000,
          9180,
          7550,
          8500,
          1500000,
          76500,
          1500000,
          40000,
          150000,
          175000,
          42500,
          26100,
          15000,
          81000,
          145800,
          648000,
          1494000,
          21250,
          35000,
          6375,
          125000,
          895230,
          101700,
          42500,
          320850,
          20000,
          26700,
          35000,
          45000,
          5000,
          35000,
          18900,
          501000,
          1170000,
          25000,
          8500,
          94500,
          9000,
          6700,
          1500000,
          287820,
          7500,
          12500,
          16000,
          35000,
          175000,
          375000,
          1485000,
          171000,
          37500,
          12500,
          22500,
          35000,
          649800,
          336150,
          175000,
          378000,
          340000,
          375000,
          195000,
          55000,
          75000,
          384660,
          50000,
          25000,
          351900,
          10000,
          68850,
          20350,
          30000,
          123750,
          12500,
          44100,
          224550,
          117500,
          25000,
          42500,
          570000,
          705600,
          175000,
          8000,
          45000,
          270000,
          35000,
          1485000,
          21250,
          25000,
          12500,
          50000,
          8000,
          25000,
          50000,
          92700,
          72000,
          20000,
          360000,
          75000,
          183600,
          7500,
          35000,
          6375,
          150000,
          85000,
          12550,
          481500,
          5000,
          271500,
          80000,
          157500,
          315000,
          90000,
          7500,
          25000,
          12500,
          144000,
          11970,
          474660,
          9000,
          36000,
          300000,
          12500,
          125000,
          72500,
          45000,
          35000,
          1499400,
          17250,
          20000,
          297000,
          35000,
          22500,
          100000,
          50000,
          116550,
          15000,
          25000,
          15000,
          8500,
          108750,
          50000,
          427500,
          202500,
          37500,
          25000,
          17500,
          157500,
          66000,
          150000,
          63000,
          1440000,
          8250,
          2100,
          35000,
          3500,
          473475,
          42500,
          29750,
          12500,
          12500,
          20000,
          90000,
          135000,
          50000,
          16000,
          472500,
          360000,
          495000,
          12500,
          175000,
          40000,
          90000,
          76500,
          72000,
          238000,
          35000,
          35000,
          12500,
          12500,
          7600,
          36000,
          25000,
          65000,
          509973,
          2850,
          49500,
          73350,
          12500,
          35000,
          9000,
          12500,
          22500,
          175000,
          130500,
          10000,
          193500,
          257400,
          35000,
          46800,
          450000,
          12500,
          630000,
          12500,
          702000,
          25000,
          25000,
          125000,
          12650,
          10000,
          50580,
          35000,
          12500,
          150000,
          121500,
          25000,
          198000,
          1223280,
          17850,
          75000,
          180000,
          9000,
          20000,
          787500,
          26500,
          125000,
          127500,
          123000,
          50000,
          315000,
          51250,
          50000,
          129600,
          12900,
          12500,
          25000,
          12800,
          33600,
          12500,
          27000,
          25000,
          1500000,
          18000,
          21000,
          25000,
          92500,
          25000,
          1487850,
          12500,
          17500,
          7500,
          1249200,
          7500,
          72000,
          4850,
          32895,
          50000,
          42500,
          62500,
          1249000,
          657000,
          300000,
          12500,
          202500,
          12500,
          98370,
          1251000,
          32500,
          35000,
          900000,
          19000,
          12500,
          22500,
          693000,
          1350000,
          85000,
          35000,
          35000,
          219900,
          35000,
          15000,
          12500,
          75000,
          373500,
          25000,
          5000,
          8000,
          25000,
          12500,
          656250,
          37500,
          24000,
          124740,
          244800,
          37500,
          315000,
          10000,
          5000,
          1192500,
          125000,
          50000,
          12500,
          5000,
          565000,
          126000,
          7500,
          204750,
          25000,
          16250,
          6500,
          17500,
          45000,
          81000,
          25000,
          838875,
          100000,
          25000,
          1455750,
          243000,
          12500,
          12500,
          8100,
          35000,
          18900,
          50235,
          50000,
          35000,
          12500,
          25000,
          900000,
          49750,
          10625,
          365670,
          10000,
          765000,
          25000,
          15000,
          774000,
          10000,
          31500,
          37500,
          37500,
          210000,
          688500,
          12500,
          25000,
          485000,
          175000,
          50000,
          37600,
          56700,
          50000,
          56250,
          292500,
          723690,
          246000,
          10000,
          2300,
          40000,
          27000,
          150000,
          90000,
          10000,
          65000,
          12750,
          4000,
          1161000,
          35000,
          40000,
          50000,
          248670,
          506250,
          77500,
          15450,
          256500,
          125000,
          22500,
          225000,
          25000,
          1500000,
          10000,
          125000,
          21250,
          100000,
          62500,
          342000,
          1499925,
          10000,
          12500,
          25000,
          7500,
          125000,
          12500,
          28500,
          10625,
          35000,
          50000,
          12500,
          14000,
          255600,
          1664000,
          4000000,
          497700,
          50000,
          35000,
          12500,
          864000,
          75000,
          255870,
          1494000,
          34170,
          1296000,
          23750,
          450000,
          25000,
          22500,
          17500,
          63750,
          25000,
          901125,
          35000,
          6375,
          12500,
          440550,
          83430,
          1267650,
          279000,
          100000,
          7500,
          125000,
          7290,
          19000,
          187500,
          21250,
          50100,
          20000,
          180000,
          10000,
          5000,
          20000,
          23400,
          12500,
          148500,
          80000,
          50000,
          1159200,
          25000,
          35000,
          35000,
          15000,
          47500,
          432000,
          53700,
          25000,
          55000,
          50000,
          50000,
          1447200,
          1970000,
          9050,
          298890,
          12750,
          17500,
          396000,
          198000,
          5000,
          431000,
          5000,
          15000,
          1152000,
          12500,
          445500,
          27600,
          431625,
          808000,
          12000,
          25000,
          35000,
          25000,
          22000,
          216000,
          47650,
          129600,
          25000,
          37500,
          20000,
          83000,
          952000,
          127500,
          11250,
          2550,
          35000,
          5000,
          25000,
          59800,
          10000,
          100000,
          100000,
          5000,
          162000,
          100000,
          35000,
          261000,
          323100,
          1499940,
          50000,
          50000,
          51000,
          169000,
          5000,
          240300,
          22100,
          90000,
          50000,
          20300,
          22500,
          900000,
          165000,
          42500,
          25000,
          25000,
          315000,
          633000,
          12500,
          594000,
          218775,
          12500,
          17000,
          202500,
          540900,
          571000,
          175000,
          20000,
          50000,
          35000,
          25000,
          5000,
          150000,
          17500,
          497700,
          37500,
          12500,
          21250,
          613000,
          1059750,
          17500,
          210150,
          25000,
          12500,
          304200,
          12500,
          12500,
          26200,
          21250,
          125000,
          12500,
          1500000,
          981000,
          220860,
          180000,
          35000,
          80000,
          40800,
          33500,
          50000,
          10000,
          37500,
          12750,
          35000,
          15000,
          648000,
          20000,
          175000,
          1046850,
          90000,
          563000,
          33900,
          42500,
          187500,
          12500,
          72000,
          100000,
          45000,
          12500,
          5400,
          72000,
          11000,
          259200,
          9000,
          62500,
          300000,
          180000,
          12500,
          25000,
          32850,
          11000,
          279000,
          42500,
          50000,
          135000,
          57600,
          206250,
          318000,
          100000,
          4250,
          20000,
          725000,
          37500,
          175000,
          27000,
          25000,
          3000,
          255600,
          35000,
          1500000,
          900000,
          33500,
          1080000,
          27000,
          1188600,
          311130,
          555300,
          35000,
          35000,
          25000,
          126650,
          7020,
          125000,
          235800,
          13500,
          35000,
          42500,
          181800,
          50000,
          10000,
          24550,
          68000,
          35000,
          5000,
          25000,
          62500,
          30000,
          77500,
          112500,
          6000,
          121500,
          439920,
          4000,
          55000,
          125000,
          360000,
          267300,
          35000,
          450000,
          149490,
          120000,
          1272000,
          1316000,
          42500,
          21250,
          5000,
          25500,
          13680,
          30000,
          45000,
          10000,
          315000,
          4500,
          5000,
          463500,
          15000,
          117000,
          162900,
          72800,
          5000,
          14450,
          50000,
          49500,
          720000,
          175000,
          22500,
          405000,
          243000,
          315000,
          144000,
          110000,
          178020,
          100000,
          855000,
          27500,
          168750,
          9090,
          6000,
          5000,
          7300,
          85500,
          26350,
          50000,
          10000,
          33750,
          10000,
          13500,
          131250,
          337500,
          8000,
          643000,
          432000,
          431250,
          225000,
          607500,
          12500,
          125000,
          6750,
          175000,
          1500000,
          87500,
          1700,
          11250,
          135000,
          10000,
          526050,
          25000,
          50000,
          7500,
          25000,
          72000,
          23300,
          35000,
          1259775,
          800100,
          90000,
          50000,
          382500,
          126000,
          960000,
          669000,
          85000,
          25160,
          25000,
          90000,
          7500,
          12500,
          75000,
          1206000,
          19450,
          421200,
          85000,
          80750,
          25500,
          75000,
          9900,
          15000,
          125000,
          580500,
          316800,
          5500,
          75000,
          25000,
          127000,
          12500,
          35000,
          35000,
          59400,
          9810,
          27200,
          175000,
          135000,
          175000,
          477750,
          1260000,
          20000,
          1791000,
          12500,
          336600,
          20000,
          1039500,
          36000,
          35000,
          9000,
          25000,
          175000,
          125000,
          17500,
          75000,
          57500,
          25000,
          25000,
          4250,
          125000,
          21250,
          306180,
          15000,
          286830,
          765000,
          25000,
          157500,
          25000,
          19700,
          9000,
          7500,
          208500,
          17500,
          7500,
          12500,
          11050,
          405000,
          10625,
          25000,
          21600,
          25000,
          562500,
          62500,
          75000,
          9000,
          9350,
          22700,
          27500,
          88650,
          225000,
          12500,
          25000,
          58500,
          39150,
          67500,
          15000,
          65625,
          5000,
          396900,
          7500,
          25000,
          135000,
          761400,
          486000,
          49050,
          180000,
          63000,
          75000,
          7500,
          1500000,
          15000,
          25000,
          11250,
          986250,
          35000,
          270000,
          68000,
          12500,
          20300,
          31950,
          3850,
          67500,
          35000,
          391500,
          2700,
          290391,
          45000,
          21250,
          532000,
          50000,
          488700,
          25000,
          28150,
          88300,
          11200,
          37500,
          20000,
          100000,
          72000,
          115260,
          1049000,
          216000,
          557175,
          161100,
          324000,
          7500,
          45000,
          14850,
          50000,
          132000,
          90000,
          1200000,
          540000,
          7500,
          870750,
          12500,
          126000,
          6390,
          225000,
          270000,
          810000,
          25000,
          10500,
          75000,
          352500,
          62500,
          50000,
          12500,
          434000,
          27750,
          166500,
          37500,
          37500,
          30000,
          9900,
          85000,
          125000,
          135000,
          120750,
          34000,
          37500,
          10000,
          90000,
          125000,
          172500,
          249375,
          381000,
          9600,
          8650,
          1436400,
          13500,
          375000,
          45000,
          135000,
          20000,
          476250,
          150000,
          310050,
          175000,
          235350,
          12500,
          5000,
          274500,
          540000,
          75000,
          1500000,
          162000,
          85000,
          801000,
          42150,
          225000,
          193725,
          594000,
          325500,
          360000,
          21250,
          279450,
          42500,
          17000,
          765000,
          419670,
          50000,
          3850,
          137500,
          25000,
          54000,
          599400,
          7500,
          12500,
          67500,
          53000,
          35000,
          815000,
          100000,
          7500,
          3250,
          22500,
          25000,
          109225,
          129000,
          168000,
          10000,
          37500,
          12500,
          49500,
          125000,
          12500,
          90000,
          45000,
          25000,
          50000,
          5000,
          1350000,
          7000,
          20340,
          90000,
          25000,
          5000,
          546300,
          35000,
          17500,
          876525,
          7000,
          1035000,
          125000,
          112500,
          9850,
          7500,
          12500,
          54000,
          450000,
          99000,
          42500,
          25000,
          117000,
          115000,
          599940,
          106250,
          94500,
          135000,
          70000,
          187500,
          564000,
          180000
         ],
         "x0": " ",
         "xaxis": "x",
         "y0": " ",
         "yaxis": "y"
        }
       ],
       "layout": {
        "boxmode": "group",
        "legend": {
         "title": {
          "text": "default_status"
         },
         "tracegroupgap": 0
        },
        "margin": {
         "t": 60
        },
        "template": {
         "data": {
          "bar": [
           {
            "error_x": {
             "color": "#2a3f5f"
            },
            "error_y": {
             "color": "#2a3f5f"
            },
            "marker": {
             "line": {
              "color": "#E5ECF6",
              "width": 0.5
             },
             "pattern": {
              "fillmode": "overlay",
              "size": 10,
              "solidity": 0.2
             }
            },
            "type": "bar"
           }
          ],
          "barpolar": [
           {
            "marker": {
             "line": {
              "color": "#E5ECF6",
              "width": 0.5
             },
             "pattern": {
              "fillmode": "overlay",
              "size": 10,
              "solidity": 0.2
             }
            },
            "type": "barpolar"
           }
          ],
          "carpet": [
           {
            "aaxis": {
             "endlinecolor": "#2a3f5f",
             "gridcolor": "white",
             "linecolor": "white",
             "minorgridcolor": "white",
             "startlinecolor": "#2a3f5f"
            },
            "baxis": {
             "endlinecolor": "#2a3f5f",
             "gridcolor": "white",
             "linecolor": "white",
             "minorgridcolor": "white",
             "startlinecolor": "#2a3f5f"
            },
            "type": "carpet"
           }
          ],
          "choropleth": [
           {
            "colorbar": {
             "outlinewidth": 0,
             "ticks": ""
            },
            "type": "choropleth"
           }
          ],
          "contour": [
           {
            "colorbar": {
             "outlinewidth": 0,
             "ticks": ""
            },
            "colorscale": [
             [
              0,
              "#0d0887"
             ],
             [
              0.1111111111111111,
              "#46039f"
             ],
             [
              0.2222222222222222,
              "#7201a8"
             ],
             [
              0.3333333333333333,
              "#9c179e"
             ],
             [
              0.4444444444444444,
              "#bd3786"
             ],
             [
              0.5555555555555556,
              "#d8576b"
             ],
             [
              0.6666666666666666,
              "#ed7953"
             ],
             [
              0.7777777777777778,
              "#fb9f3a"
             ],
             [
              0.8888888888888888,
              "#fdca26"
             ],
             [
              1,
              "#f0f921"
             ]
            ],
            "type": "contour"
           }
          ],
          "contourcarpet": [
           {
            "colorbar": {
             "outlinewidth": 0,
             "ticks": ""
            },
            "type": "contourcarpet"
           }
          ],
          "heatmap": [
           {
            "colorbar": {
             "outlinewidth": 0,
             "ticks": ""
            },
            "colorscale": [
             [
              0,
              "#0d0887"
             ],
             [
              0.1111111111111111,
              "#46039f"
             ],
             [
              0.2222222222222222,
              "#7201a8"
             ],
             [
              0.3333333333333333,
              "#9c179e"
             ],
             [
              0.4444444444444444,
              "#bd3786"
             ],
             [
              0.5555555555555556,
              "#d8576b"
             ],
             [
              0.6666666666666666,
              "#ed7953"
             ],
             [
              0.7777777777777778,
              "#fb9f3a"
             ],
             [
              0.8888888888888888,
              "#fdca26"
             ],
             [
              1,
              "#f0f921"
             ]
            ],
            "type": "heatmap"
           }
          ],
          "heatmapgl": [
           {
            "colorbar": {
             "outlinewidth": 0,
             "ticks": ""
            },
            "colorscale": [
             [
              0,
              "#0d0887"
             ],
             [
              0.1111111111111111,
              "#46039f"
             ],
             [
              0.2222222222222222,
              "#7201a8"
             ],
             [
              0.3333333333333333,
              "#9c179e"
             ],
             [
              0.4444444444444444,
              "#bd3786"
             ],
             [
              0.5555555555555556,
              "#d8576b"
             ],
             [
              0.6666666666666666,
              "#ed7953"
             ],
             [
              0.7777777777777778,
              "#fb9f3a"
             ],
             [
              0.8888888888888888,
              "#fdca26"
             ],
             [
              1,
              "#f0f921"
             ]
            ],
            "type": "heatmapgl"
           }
          ],
          "histogram": [
           {
            "marker": {
             "pattern": {
              "fillmode": "overlay",
              "size": 10,
              "solidity": 0.2
             }
            },
            "type": "histogram"
           }
          ],
          "histogram2d": [
           {
            "colorbar": {
             "outlinewidth": 0,
             "ticks": ""
            },
            "colorscale": [
             [
              0,
              "#0d0887"
             ],
             [
              0.1111111111111111,
              "#46039f"
             ],
             [
              0.2222222222222222,
              "#7201a8"
             ],
             [
              0.3333333333333333,
              "#9c179e"
             ],
             [
              0.4444444444444444,
              "#bd3786"
             ],
             [
              0.5555555555555556,
              "#d8576b"
             ],
             [
              0.6666666666666666,
              "#ed7953"
             ],
             [
              0.7777777777777778,
              "#fb9f3a"
             ],
             [
              0.8888888888888888,
              "#fdca26"
             ],
             [
              1,
              "#f0f921"
             ]
            ],
            "type": "histogram2d"
           }
          ],
          "histogram2dcontour": [
           {
            "colorbar": {
             "outlinewidth": 0,
             "ticks": ""
            },
            "colorscale": [
             [
              0,
              "#0d0887"
             ],
             [
              0.1111111111111111,
              "#46039f"
             ],
             [
              0.2222222222222222,
              "#7201a8"
             ],
             [
              0.3333333333333333,
              "#9c179e"
             ],
             [
              0.4444444444444444,
              "#bd3786"
             ],
             [
              0.5555555555555556,
              "#d8576b"
             ],
             [
              0.6666666666666666,
              "#ed7953"
             ],
             [
              0.7777777777777778,
              "#fb9f3a"
             ],
             [
              0.8888888888888888,
              "#fdca26"
             ],
             [
              1,
              "#f0f921"
             ]
            ],
            "type": "histogram2dcontour"
           }
          ],
          "mesh3d": [
           {
            "colorbar": {
             "outlinewidth": 0,
             "ticks": ""
            },
            "type": "mesh3d"
           }
          ],
          "parcoords": [
           {
            "line": {
             "colorbar": {
              "outlinewidth": 0,
              "ticks": ""
             }
            },
            "type": "parcoords"
           }
          ],
          "pie": [
           {
            "automargin": true,
            "type": "pie"
           }
          ],
          "scatter": [
           {
            "fillpattern": {
             "fillmode": "overlay",
             "size": 10,
             "solidity": 0.2
            },
            "type": "scatter"
           }
          ],
          "scatter3d": [
           {
            "line": {
             "colorbar": {
              "outlinewidth": 0,
              "ticks": ""
             }
            },
            "marker": {
             "colorbar": {
              "outlinewidth": 0,
              "ticks": ""
             }
            },
            "type": "scatter3d"
           }
          ],
          "scattercarpet": [
           {
            "marker": {
             "colorbar": {
              "outlinewidth": 0,
              "ticks": ""
             }
            },
            "type": "scattercarpet"
           }
          ],
          "scattergeo": [
           {
            "marker": {
             "colorbar": {
              "outlinewidth": 0,
              "ticks": ""
             }
            },
            "type": "scattergeo"
           }
          ],
          "scattergl": [
           {
            "marker": {
             "colorbar": {
              "outlinewidth": 0,
              "ticks": ""
             }
            },
            "type": "scattergl"
           }
          ],
          "scattermapbox": [
           {
            "marker": {
             "colorbar": {
              "outlinewidth": 0,
              "ticks": ""
             }
            },
            "type": "scattermapbox"
           }
          ],
          "scatterpolar": [
           {
            "marker": {
             "colorbar": {
              "outlinewidth": 0,
              "ticks": ""
             }
            },
            "type": "scatterpolar"
           }
          ],
          "scatterpolargl": [
           {
            "marker": {
             "colorbar": {
              "outlinewidth": 0,
              "ticks": ""
             }
            },
            "type": "scatterpolargl"
           }
          ],
          "scatterternary": [
           {
            "marker": {
             "colorbar": {
              "outlinewidth": 0,
              "ticks": ""
             }
            },
            "type": "scatterternary"
           }
          ],
          "surface": [
           {
            "colorbar": {
             "outlinewidth": 0,
             "ticks": ""
            },
            "colorscale": [
             [
              0,
              "#0d0887"
             ],
             [
              0.1111111111111111,
              "#46039f"
             ],
             [
              0.2222222222222222,
              "#7201a8"
             ],
             [
              0.3333333333333333,
              "#9c179e"
             ],
             [
              0.4444444444444444,
              "#bd3786"
             ],
             [
              0.5555555555555556,
              "#d8576b"
             ],
             [
              0.6666666666666666,
              "#ed7953"
             ],
             [
              0.7777777777777778,
              "#fb9f3a"
             ],
             [
              0.8888888888888888,
              "#fdca26"
             ],
             [
              1,
              "#f0f921"
             ]
            ],
            "type": "surface"
           }
          ],
          "table": [
           {
            "cells": {
             "fill": {
              "color": "#EBF0F8"
             },
             "line": {
              "color": "white"
             }
            },
            "header": {
             "fill": {
              "color": "#C8D4E3"
             },
             "line": {
              "color": "white"
             }
            },
            "type": "table"
           }
          ]
         },
         "layout": {
          "annotationdefaults": {
           "arrowcolor": "#2a3f5f",
           "arrowhead": 0,
           "arrowwidth": 1
          },
          "autotypenumbers": "strict",
          "coloraxis": {
           "colorbar": {
            "outlinewidth": 0,
            "ticks": ""
           }
          },
          "colorscale": {
           "diverging": [
            [
             0,
             "#8e0152"
            ],
            [
             0.1,
             "#c51b7d"
            ],
            [
             0.2,
             "#de77ae"
            ],
            [
             0.3,
             "#f1b6da"
            ],
            [
             0.4,
             "#fde0ef"
            ],
            [
             0.5,
             "#f7f7f7"
            ],
            [
             0.6,
             "#e6f5d0"
            ],
            [
             0.7,
             "#b8e186"
            ],
            [
             0.8,
             "#7fbc41"
            ],
            [
             0.9,
             "#4d9221"
            ],
            [
             1,
             "#276419"
            ]
           ],
           "sequential": [
            [
             0,
             "#0d0887"
            ],
            [
             0.1111111111111111,
             "#46039f"
            ],
            [
             0.2222222222222222,
             "#7201a8"
            ],
            [
             0.3333333333333333,
             "#9c179e"
            ],
            [
             0.4444444444444444,
             "#bd3786"
            ],
            [
             0.5555555555555556,
             "#d8576b"
            ],
            [
             0.6666666666666666,
             "#ed7953"
            ],
            [
             0.7777777777777778,
             "#fb9f3a"
            ],
            [
             0.8888888888888888,
             "#fdca26"
            ],
            [
             1,
             "#f0f921"
            ]
           ],
           "sequentialminus": [
            [
             0,
             "#0d0887"
            ],
            [
             0.1111111111111111,
             "#46039f"
            ],
            [
             0.2222222222222222,
             "#7201a8"
            ],
            [
             0.3333333333333333,
             "#9c179e"
            ],
            [
             0.4444444444444444,
             "#bd3786"
            ],
            [
             0.5555555555555556,
             "#d8576b"
            ],
            [
             0.6666666666666666,
             "#ed7953"
            ],
            [
             0.7777777777777778,
             "#fb9f3a"
            ],
            [
             0.8888888888888888,
             "#fdca26"
            ],
            [
             1,
             "#f0f921"
            ]
           ]
          },
          "colorway": [
           "#636efa",
           "#EF553B",
           "#00cc96",
           "#ab63fa",
           "#FFA15A",
           "#19d3f3",
           "#FF6692",
           "#B6E880",
           "#FF97FF",
           "#FECB52"
          ],
          "font": {
           "color": "#2a3f5f"
          },
          "geo": {
           "bgcolor": "white",
           "lakecolor": "white",
           "landcolor": "#E5ECF6",
           "showlakes": true,
           "showland": true,
           "subunitcolor": "white"
          },
          "hoverlabel": {
           "align": "left"
          },
          "hovermode": "closest",
          "mapbox": {
           "style": "light"
          },
          "paper_bgcolor": "white",
          "plot_bgcolor": "#E5ECF6",
          "polar": {
           "angularaxis": {
            "gridcolor": "white",
            "linecolor": "white",
            "ticks": ""
           },
           "bgcolor": "#E5ECF6",
           "radialaxis": {
            "gridcolor": "white",
            "linecolor": "white",
            "ticks": ""
           }
          },
          "scene": {
           "xaxis": {
            "backgroundcolor": "#E5ECF6",
            "gridcolor": "white",
            "gridwidth": 2,
            "linecolor": "white",
            "showbackground": true,
            "ticks": "",
            "zerolinecolor": "white"
           },
           "yaxis": {
            "backgroundcolor": "#E5ECF6",
            "gridcolor": "white",
            "gridwidth": 2,
            "linecolor": "white",
            "showbackground": true,
            "ticks": "",
            "zerolinecolor": "white"
           },
           "zaxis": {
            "backgroundcolor": "#E5ECF6",
            "gridcolor": "white",
            "gridwidth": 2,
            "linecolor": "white",
            "showbackground": true,
            "ticks": "",
            "zerolinecolor": "white"
           }
          },
          "shapedefaults": {
           "line": {
            "color": "#2a3f5f"
           }
          },
          "ternary": {
           "aaxis": {
            "gridcolor": "white",
            "linecolor": "white",
            "ticks": ""
           },
           "baxis": {
            "gridcolor": "white",
            "linecolor": "white",
            "ticks": ""
           },
           "bgcolor": "#E5ECF6",
           "caxis": {
            "gridcolor": "white",
            "linecolor": "white",
            "ticks": ""
           }
          },
          "title": {
           "x": 0.05
          },
          "xaxis": {
           "automargin": true,
           "gridcolor": "white",
           "linecolor": "white",
           "ticks": "",
           "title": {
            "standoff": 15
           },
           "zerolinecolor": "white",
           "zerolinewidth": 2
          },
          "yaxis": {
           "automargin": true,
           "gridcolor": "white",
           "linecolor": "white",
           "ticks": "",
           "title": {
            "standoff": 15
           },
           "zerolinecolor": "white",
           "zerolinewidth": 2
          }
         }
        },
        "xaxis": {
         "anchor": "y",
         "domain": [
          0,
          1
         ],
         "title": {
          "text": "insured_amount"
         }
        },
        "yaxis": {
         "anchor": "x",
         "domain": [
          0,
          1
         ]
        }
       }
      }
     },
     "metadata": {},
     "output_type": "display_data"
    }
   ],
   "source": [
    "px.box(train, x = 'insured_amount', color = 'default_status')"
   ]
  },
  {
   "cell_type": "markdown",
   "metadata": {},
   "source": [
    "From the plot above, it could be observed that companies tend to default when the insured amount is lesser. The median default insured amount is 22.5k, whereas the median non-default insured amount is 50k."
   ]
  },
  {
   "cell_type": "code",
   "execution_count": 24,
   "metadata": {},
   "outputs": [
    {
     "data": {
      "application/vnd.plotly.v1+json": {
       "config": {
        "plotlyServerURL": "https://plot.ly"
       },
       "data": [
        {
         "alignmentgroup": "True",
         "hovertemplate": "default_status=1<br>loan_insured_amount_diff=%{x}<extra></extra>",
         "legendgroup": "1",
         "marker": {
          "color": "#636efa"
         },
         "name": "1",
         "notched": false,
         "offsetgroup": "1",
         "orientation": "h",
         "showlegend": true,
         "type": "box",
         "x": [
          0,
          1500,
          1250,
          11805,
          1250,
          1000,
          0,
          2500,
          25000,
          1500,
          56000,
          3750,
          1500,
          1000,
          455000,
          15525,
          0,
          2500,
          1125,
          7500,
          750,
          2250,
          32685,
          37500,
          750,
          2000,
          0,
          0,
          0,
          0,
          22750,
          0,
          3750,
          12500,
          25000,
          1500,
          24000,
          12500,
          114700,
          1500,
          750,
          214092,
          10000,
          30369,
          395000,
          0,
          750,
          42012,
          7500,
          178198,
          500,
          2500,
          0,
          0,
          55574,
          37849,
          12500,
          41965,
          4500,
          1000,
          0,
          1500,
          9000,
          12773,
          2500,
          15000,
          0,
          88850,
          56961,
          0,
          90650,
          3750,
          12500,
          0,
          10000,
          20000,
          70000,
          3000,
          19730,
          42325,
          15000,
          500,
          0,
          17500,
          12800,
          53000,
          500,
          1125,
          3750,
          500,
          5000,
          750,
          20000,
          7845,
          31850,
          3000,
          1000,
          -1,
          1500,
          0,
          0,
          166500,
          5000,
          2250,
          7853,
          206473,
          0,
          85605,
          8570,
          21337,
          15000,
          0,
          500,
          750,
          35400,
          1500,
          2500,
          0,
          1000,
          3750,
          308100,
          2250,
          0,
          36628,
          0,
          73625,
          0,
          12550,
          2500,
          0,
          0,
          750,
          1500,
          357500,
          34525,
          500,
          0,
          0,
          5000,
          35000,
          2500,
          25000,
          10000,
          37349,
          2000,
          0,
          1000,
          -384,
          500,
          -178,
          42500,
          36975,
          3750,
          1500,
          1125,
          500,
          18000,
          17090,
          0,
          0,
          300000,
          27240,
          10650,
          750,
          0,
          14724,
          12500,
          0,
          0,
          51931,
          1000,
          2500,
          1500,
          -12500,
          0,
          2000,
          17500,
          24000,
          0,
          0,
          1500,
          67650,
          1500,
          0,
          1250,
          19000,
          0,
          500,
          23300,
          3000,
          40871,
          49878,
          31500,
          750,
          1000,
          2000,
          1000,
          0,
          0,
          32500,
          12500,
          750,
          0,
          1125,
          500,
          15750,
          1125,
          1433,
          0,
          2500,
          43000,
          37475,
          9603,
          30104,
          0,
          3750,
          0,
          42000,
          500,
          65254,
          750,
          0,
          500,
          6450,
          118500,
          0,
          5055,
          0,
          1250,
          823884,
          11334,
          7500,
          50000,
          0,
          750,
          1125,
          0,
          97065,
          15000,
          23849,
          0,
          2510,
          0,
          1250,
          1000,
          2000,
          2000,
          750,
          2250,
          1500,
          30000,
          1125,
          0,
          5000,
          1500,
          61499,
          55000,
          1125,
          0,
          46500,
          0,
          5000,
          0,
          0,
          3750,
          500,
          16321,
          1250,
          1125,
          12500,
          17500,
          15000,
          17480,
          19500,
          0,
          12952,
          0,
          7220,
          750,
          12500,
          3750,
          126250,
          143750,
          0,
          0,
          22500,
          3750,
          29793,
          18900,
          4100,
          1125,
          3500,
          2000,
          0,
          25000,
          1500,
          24500,
          -4544,
          1500,
          0,
          0,
          2000,
          0,
          30000,
          1500,
          1125,
          750,
          42500,
          98750,
          1000,
          0,
          750,
          0,
          3750,
          2250,
          15000,
          56300,
          0,
          1250,
          -24,
          750,
          500,
          1250,
          51955,
          2000,
          0,
          10440,
          12500,
          0,
          500,
          3750,
          0,
          28724,
          1500,
          9000,
          17500,
          750,
          1000,
          1000,
          3000,
          1000,
          40500,
          0,
          15250,
          25000,
          0,
          12500,
          10357,
          7500,
          10125,
          1500,
          1875,
          1875,
          12000,
          1500,
          37500,
          3000,
          0,
          -65,
          7500,
          0,
          -1250,
          3000,
          0,
          -32500,
          0,
          0,
          1250,
          30000,
          76497,
          20580,
          0,
          2500,
          36100,
          0,
          3000,
          60000,
          0,
          5000,
          80500,
          0,
          26968,
          49051,
          9993,
          0,
          20000,
          0,
          6500,
          47500,
          500,
          26452,
          500,
          0,
          750,
          0,
          500,
          2250,
          0,
          0,
          750,
          15489,
          1000,
          170785,
          0,
          250000,
          16671,
          20000,
          1250,
          1250,
          500,
          -16048,
          38568,
          2250,
          1500,
          12965,
          4455,
          0,
          11000,
          22602,
          3750,
          0,
          2250,
          170978,
          0,
          1000,
          37351,
          11800,
          0,
          33350,
          35300,
          22000,
          750,
          2250,
          0,
          2500,
          7500,
          150000,
          56900,
          25000,
          0,
          593611,
          22240,
          69500,
          7500,
          1500,
          750,
          2500,
          1000,
          0,
          750,
          21505,
          3000,
          29811,
          46600,
          12500,
          35100,
          2500,
          750,
          500,
          2500,
          2250,
          -1280,
          7200,
          47500,
          500,
          500,
          42200,
          2250,
          0,
          1500,
          10000,
          20000,
          1875,
          1500,
          74150,
          3750,
          73500,
          3750,
          750,
          275000,
          750,
          750,
          32600,
          0,
          0,
          16148,
          5000,
          87500,
          -27114,
          10000,
          16605,
          17000,
          59900,
          1125,
          2500,
          10000,
          1830,
          0,
          750,
          63200,
          750,
          0,
          1500,
          1125,
          0,
          37420,
          0,
          26819,
          66670,
          4500,
          3600,
          3750,
          0,
          25000,
          34767,
          11750,
          18615,
          2500,
          31654,
          3750,
          500,
          6000,
          0,
          10500,
          500,
          5150,
          50000,
          0,
          750,
          710,
          500,
          0,
          5000,
          12500,
          11000,
          5000,
          1500,
          500,
          0,
          0,
          35000,
          177500,
          750,
          37408,
          1125,
          0,
          3500,
          0,
          20000,
          0,
          21500,
          1000,
          3000,
          10200,
          75000,
          750,
          1500,
          0,
          5000,
          27550,
          182600,
          0,
          9000,
          1000,
          7500,
          25000,
          0,
          1500,
          1500,
          1000,
          0,
          -3710,
          3660,
          12500,
          87620,
          500,
          750,
          32500,
          25050,
          1500,
          9695,
          750,
          0,
          1875,
          500,
          1125,
          -1,
          750,
          56325,
          0,
          34730,
          2500,
          500,
          -48000,
          750,
          23750,
          0,
          2250,
          3750,
          1875,
          92463,
          3750,
          89489,
          0,
          25450,
          53968,
          6135,
          14850,
          500,
          42500,
          0,
          1500,
          1500,
          1875,
          12500,
          2500,
          -16000,
          90000,
          0,
          500,
          36947,
          21500,
          28859,
          2000,
          750,
          5018,
          36000,
          12500,
          500,
          1000,
          0,
          109569,
          0,
          10000,
          1875,
          19679,
          2250,
          2000,
          2250,
          1000,
          262125,
          28807,
          0,
          500,
          0,
          0,
          0,
          0,
          2000,
          2250,
          0,
          6000,
          8103,
          1500,
          86566,
          12850,
          2837,
          25050,
          45700,
          750,
          1875,
          7500,
          750,
          5000,
          1125,
          2500,
          -2900,
          500,
          1250,
          58341,
          0,
          7650,
          1875,
          7000,
          0,
          67500,
          12900,
          9000,
          0,
          33600,
          0,
          6000,
          0,
          2250,
          3500,
          36997,
          0,
          3750,
          34519,
          0,
          14736,
          225070,
          52501,
          0,
          0,
          500,
          0,
          0,
          22225,
          0,
          1500,
          25000,
          1000,
          0,
          26500,
          1875,
          -15000,
          3750,
          20029,
          3750,
          12500,
          15000,
          19100,
          0,
          5000,
          2500,
          41400,
          7500,
          25000,
          2000,
          329225,
          0,
          42809,
          0,
          1500,
          7952,
          3500,
          750,
          0,
          8300,
          0,
          8500,
          2500,
          6000,
          0,
          20000,
          0,
          500,
          87836,
          1250,
          0,
          750,
          2500,
          2500,
          0,
          7000,
          1125,
          2000,
          2500,
          0,
          15000,
          1500,
          77864,
          2500,
          3750,
          0,
          0,
          117500,
          35120,
          750,
          0,
          56386,
          750,
          6600,
          0,
          6250,
          12550,
          30000,
          -709,
          84700,
          750,
          0,
          25000
         ],
         "x0": " ",
         "xaxis": "x",
         "y0": " ",
         "yaxis": "y"
        },
        {
         "alignmentgroup": "True",
         "hovertemplate": "default_status=0<br>loan_insured_amount_diff=%{x}<extra></extra>",
         "legendgroup": "0",
         "marker": {
          "color": "#EF553B"
         },
         "name": "0",
         "notched": false,
         "offsetgroup": "0",
         "orientation": "h",
         "showlegend": true,
         "type": "box",
         "x": [
          165000,
          0,
          6650,
          20000,
          40000,
          1500,
          37500,
          25000,
          500000,
          3650,
          50000,
          25000,
          116000,
          22210,
          2310,
          26103,
          175000,
          1250,
          60300,
          5000,
          98239,
          169960,
          68092,
          32000,
          122500,
          -95000,
          12600,
          190000,
          0,
          -67000,
          25000,
          245000,
          13500,
          23200,
          20300,
          40000,
          75000,
          0,
          42049,
          17323,
          17550,
          23660,
          5000,
          22500,
          18000,
          9000,
          12808,
          130000,
          7650,
          314182,
          40000,
          268317,
          200000,
          0,
          15660,
          0,
          0,
          25000,
          2500,
          32184,
          76000,
          85000,
          39100,
          -25465,
          5400,
          52755,
          0,
          63396,
          80000,
          152000,
          68850,
          37400,
          13750,
          12500,
          66906,
          1000,
          17500,
          -11608,
          67000,
          91250,
          500000,
          63210,
          175000,
          0,
          0,
          9660,
          15000,
          5000,
          23350,
          0,
          5150,
          0,
          100000,
          12500,
          0,
          78700,
          5475,
          30000,
          42152,
          0,
          7500,
          657185,
          233750,
          24000,
          10500,
          0,
          0,
          0,
          3500,
          37500,
          531915,
          347297,
          5000,
          53000,
          120000,
          57700,
          10000,
          2500,
          0,
          18500,
          134737,
          25000,
          86900,
          25000,
          114400,
          0,
          7500,
          45000,
          7200,
          132000,
          75000,
          30500,
          12500,
          136600,
          10000,
          0,
          2250,
          2297866,
          16060,
          75000,
          15000,
          0,
          25000,
          1530,
          15000,
          58257,
          1315635,
          86086,
          39000,
          34001,
          5000,
          75000,
          16650,
          17500,
          20500,
          7500,
          56900,
          19050,
          6400,
          10000,
          400140,
          1670,
          160000,
          25000,
          0,
          0,
          120000,
          9000,
          40000,
          100000,
          0,
          14285,
          5250,
          215750,
          0,
          121929,
          56700,
          11250,
          70000,
          10000,
          44900,
          23700,
          0,
          0,
          74200,
          25000,
          200000,
          718637,
          130800,
          -16700,
          124500,
          500000,
          25000,
          13000,
          3000,
          54000,
          125000,
          22500,
          5000,
          0,
          69988,
          72500,
          25000,
          22500,
          28871,
          25000,
          0,
          5300,
          12494,
          187500,
          67900,
          18000,
          42508,
          6800,
          175000,
          10900,
          6500,
          0,
          5000,
          27000,
          50000,
          77300,
          50000,
          5750,
          37500,
          0,
          750,
          697915,
          65000,
          0,
          75000,
          25000,
          26250,
          32400,
          15000,
          60000,
          5000,
          140500,
          21700,
          13963,
          14410,
          17500,
          25150,
          5000,
          30000,
          3540,
          61890,
          62339,
          27190,
          94800,
          12500,
          12000,
          1000,
          1310,
          50000,
          29750,
          16819,
          166000,
          -59400,
          37500,
          150000,
          1300,
          60000,
          30000,
          15500,
          524506,
          41200,
          172000,
          12373,
          157050,
          229272,
          0,
          25000,
          3750,
          15000,
          140625,
          112500,
          12500,
          95000,
          99000,
          190501,
          18000,
          24000,
          17500,
          104374,
          78000,
          46250,
          5000,
          7500,
          3700,
          70465,
          30600,
          27500,
          0,
          25000,
          15000,
          35309,
          129500,
          10500,
          0,
          3309,
          32500,
          9730,
          17500,
          27500,
          87500,
          7700,
          175000,
          125000,
          26050,
          17000,
          102500,
          125000,
          6500,
          4500,
          37367,
          -83880,
          7500,
          500000,
          2250,
          7300,
          24345,
          0,
          125000,
          1500,
          -4000,
          151900,
          127900,
          75000,
          500000,
          8000,
          206750,
          27200,
          25000,
          6000,
          100000,
          139450,
          5000,
          150000,
          500,
          15950,
          2500,
          11750,
          109500,
          35100,
          38557,
          100000,
          2000,
          250100,
          12825,
          38625,
          86087,
          145000,
          127500,
          867207,
          0,
          12500,
          82278,
          7500,
          57833,
          106500,
          77205,
          137250,
          3750,
          0,
          150000,
          25000,
          24414,
          300000,
          732421,
          40000,
          25000,
          49158,
          74500,
          60000,
          4000,
          7000,
          6300,
          233000,
          22500,
          3750,
          25000,
          20284,
          43263,
          25000,
          20000,
          0,
          37500,
          6300,
          21419,
          280036,
          20000,
          112500,
          0,
          0,
          500000,
          0,
          66500,
          12500,
          61000,
          -1000,
          96500,
          15000,
          27500,
          36500,
          100000,
          -506,
          59900,
          15500,
          125000,
          18750,
          52400,
          28889,
          175000,
          16000,
          15444,
          50000,
          29250,
          17791,
          5000,
          34579,
          50000,
          15000,
          63750,
          20000,
          2250,
          7500,
          112500,
          0,
          10784,
          -2820,
          40000,
          306000,
          129000,
          40000,
          191750,
          15000,
          1950,
          20000,
          11500,
          5000,
          5000,
          1875,
          9750,
          0,
          50000,
          22500,
          50000,
          16000,
          75000,
          8000,
          0,
          -1200,
          275000,
          -2121,
          -110300,
          92986,
          100000,
          10000,
          34250,
          7750,
          15500,
          120000,
          511224,
          40000,
          22170,
          70000,
          30500,
          13500,
          200000,
          68500,
          0,
          20000,
          74000,
          9500,
          2000,
          0,
          100000,
          10050,
          63500,
          17000,
          10000,
          60000,
          26850,
          16000,
          2000,
          6000,
          12500,
          3710,
          -1750,
          15000,
          0,
          20750,
          11000,
          500000,
          0,
          0,
          8000,
          25000,
          18750,
          50000,
          36500,
          200000,
          12500,
          0,
          14325,
          27000,
          10200,
          -98500,
          25000,
          1500,
          1800,
          21300,
          12900,
          41000,
          108000,
          15000,
          120000,
          15000,
          18000,
          35043,
          830000,
          29345,
          22500,
          23000,
          -9278,
          5940,
          10000,
          150000,
          0,
          41600,
          3750,
          175000,
          14200,
          4400,
          12500,
          131075,
          55000,
          34759,
          0,
          9000,
          132039,
          36000,
          14090,
          78379,
          120000,
          13568,
          14000,
          28250,
          14463,
          246250,
          10550,
          142900,
          50000,
          7500,
          1500,
          19000,
          0,
          0,
          50000,
          0,
          38750,
          0,
          2250,
          6800,
          17000,
          81331,
          50000,
          185500,
          7260,
          15000,
          15000,
          10000,
          5000,
          38500,
          -6150,
          21760,
          6100,
          4050,
          5000,
          137500,
          2000,
          173500,
          567003,
          44164,
          46500,
          1500,
          -2568,
          45499,
          7500,
          50000,
          33750,
          25000,
          139673,
          22500,
          40000,
          15000,
          22000,
          50000,
          0,
          22700,
          0,
          221403,
          350000,
          60000,
          110500,
          15250,
          24000,
          30537,
          500000,
          1500,
          7650,
          71000,
          22500,
          40000,
          56250,
          37470,
          5000,
          1020,
          7550,
          1500,
          500000,
          8500,
          500000,
          40000,
          50000,
          425000,
          42500,
          2900,
          83398,
          9000,
          16200,
          0,
          166000,
          3750,
          119000,
          1125,
          125000,
          99470,
          -43700,
          7500,
          35650,
          36727,
          0,
          0,
          105627,
          5000,
          0,
          2100,
          0,
          0,
          25000,
          20500,
          10500,
          1000,
          6700,
          500000,
          31980,
          34635,
          44918,
          16000,
          0,
          457894,
          125000,
          165000,
          19000,
          37500,
          14266,
          2500,
          0,
          70200,
          37350,
          175000,
          42000,
          0,
          -63000,
          65000,
          55000,
          75000,
          42740,
          59562,
          25000,
          39100,
          10000,
          7650,
          20350,
          261919,
          41250,
          56019,
          -23000,
          24950,
          117500,
          43260,
          7500,
          0,
          78400,
          424489,
          19000,
          5000,
          30000,
          0,
          165000,
          3750,
          70102,
          82822,
          83500,
          0,
          50000,
          360000,
          10300,
          8000,
          20000,
          40000,
          309125,
          20400,
          17528,
          0,
          1125,
          769805,
          15000,
          12550,
          53500,
          13084,
          90500,
          80000,
          52500,
          35000,
          10000,
          7500,
          104195,
          41030,
          16000,
          1330,
          52740,
          1000,
          4000,
          100000,
          12500,
          125000,
          455919,
          5000,
          0,
          166600,
          17250,
          39018,
          0,
          0,
          2500,
          173100,
          55497,
          12950,
          15455,
          56617,
          15000,
          1500,
          36250,
          50000,
          47500,
          22500,
          12500,
          40902,
          32650,
          52500,
          66000,
          450000,
          7000,
          160000,
          8250,
          2100,
          0,
          5500,
          157825,
          7500,
          5250,
          12500,
          15500,
          28288,
          10000,
          15000,
          10307,
          16000,
          52500,
          40000,
          55000,
          20484,
          1329410,
          394497,
          90000,
          8500,
          8000,
          0,
          0,
          0,
          12500,
          22176,
          7600,
          4000,
          197777,
          65000,
          56727,
          2850,
          49500,
          8150,
          12500,
          0,
          47498,
          12500,
          2500,
          175000,
          14500,
          22920,
          21500,
          12600,
          0,
          5200,
          50000,
          26333,
          70000,
          12500,
          78000,
          25000,
          25000,
          530000,
          12650,
          10000,
          5620,
          0,
          37019,
          150000,
          13500,
          70000,
          22000,
          135920,
          3150,
          75000,
          20000,
          9000,
          17534,
          87500,
          72800,
          405000,
          22500,
          0,
          365000,
          35000,
          51250,
          143507,
          14400,
          13774,
          12500,
          25000,
          12800,
          0,
          12500,
          3000,
          25000,
          500000,
          2000,
          21000,
          25000,
          92500,
          25000,
          495950,
          31999,
          25467,
          49455,
          138800,
          7500,
          8000,
          4850,
          5805,
          119859,
          42500,
          217500,
          0,
          0,
          100000,
          49254,
          22500,
          34950,
          10930,
          139000,
          195723,
          0,
          300000,
          19000,
          22500,
          2500,
          0,
          150000,
          15000,
          0,
          0,
          73300,
          0,
          16563,
          30500,
          75528,
          41500,
          -5000,
          14357,
          8000,
          111512,
          38702,
          218750,
          64500,
          74000,
          225260,
          27200,
          37500,
          35000,
          10000,
          22500,
          132500,
          755000,
          195000,
          12500,
          11144,
          0,
          14000,
          7500,
          22750,
          25000,
          8750,
          6500,
          37262,
          45000,
          9000,
          39588,
          279625,
          100000,
          50000,
          485250,
          27000,
          12500,
          27379,
          8100,
          0,
          2100,
          8865,
          316520,
          0,
          28228,
          25000,
          100000,
          127580,
          1875,
          40630,
          40795,
          85000,
          25000,
          15000,
          258000,
          35947,
          3500,
          82500,
          197695,
          70000,
          76500,
          12500,
          25000,
          -13000,
          474202,
          50000,
          37600,
          6300,
          250000,
          -6250,
          -22500,
          41210,
          0,
          18037,
          2300,
          40000,
          3000,
          235000,
          10000,
          35286,
          65000,
          2250,
          4000,
          0,
          0,
          40000,
          50000,
          27630,
          56250,
          77500,
          15450,
          28500,
          125000,
          2500,
          25000,
          25000,
          500000,
          10000,
          125000,
          3750,
          80950,
          62500,
          38000,
          178635,
          10000,
          20011,
          25000,
          7500,
          324751,
          12500,
          28500,
          1875,
          0,
          77470,
          38239,
          14000,
          26932,
          -272000,
          0,
          55300,
          120441,
          0,
          12500,
          96000,
          163133,
          312730,
          306000,
          6030,
          144000,
          23750,
          50000,
          88997,
          47998,
          17500,
          11250,
          183500,
          300375,
          0,
          1125,
          22500,
          48950,
          9270,
          119250,
          31000,
          100000,
          7500,
          225000,
          810,
          19000,
          62500,
          3750,
          50100,
          41030,
          20000,
          59165,
          8500,
          20000,
          2600,
          147836,
          16500,
          80000,
          50000,
          128800,
          93000,
          0,
          0,
          15000,
          47500,
          48000,
          53700,
          92000,
          142000,
          50000,
          90000,
          160800,
          -390000,
          3250,
          33210,
          2250,
          24464,
          44000,
          22000,
          5000,
          0,
          5000,
          15000,
          -352000,
          12500,
          49500,
          0,
          111190,
          0,
          12000,
          25000,
          0,
          25000,
          0,
          24000,
          47650,
          14400,
          25000,
          67200,
          20000,
          83000,
          -14000,
          5985,
          1250,
          2550,
          -38,
          9031,
          83585,
          59800,
          13207,
          340000,
          154556,
          5000,
          18000,
          150000,
          0,
          29000,
          35900,
          300060,
          50000,
          50000,
          9000,
          169000,
          7007,
          26700,
          22100,
          10000,
          50000,
          20300,
          22500,
          100000,
          55000,
          7500,
          25000,
          30000,
          105000,
          0,
          12500,
          66000,
          72925,
          23500,
          3000,
          22500,
          -39600,
          0,
          175000,
          20000,
          50000,
          0,
          71500,
          22000,
          660859,
          17500,
          55300,
          37512,
          32401,
          3750,
          0,
          117750,
          17500,
          21612,
          35550,
          12500,
          33800,
          12500,
          51479,
          26200,
          21250,
          230000,
          12500,
          500000,
          107897,
          24540,
          20000,
          0,
          80000,
          7200,
          33500,
          50000,
          10000,
          112500,
          2250,
          0,
          25000,
          72000,
          20000,
          175000,
          348950,
          10000,
          0,
          -20769,
          7500,
          262500,
          21114,
          8000,
          299997,
          5000,
          12500,
          600,
          72000,
          11150,
          28800,
          1000,
          62500,
          100000,
          20000,
          12500,
          25000,
          32850,
          15950,
          31000,
          42500,
          107683,
          15000,
          6400,
          68750,
          -55000,
          200000,
          750,
          20000,
          -27000,
          135342,
          325000,
          3000,
          25024,
          7136,
          10055,
          0,
          500000,
          100000,
          33500,
          120000,
          3000,
          396200,
          34570,
          61700,
          0,
          0,
          63398,
          22350,
          780,
          272000,
          -17800,
          1500,
          0,
          7500,
          20200,
          149500,
          10000,
          24550,
          12000,
          0,
          5000,
          84882,
          62500,
          30000,
          51400,
          199448,
          6000,
          13500,
          48880,
          9700,
          55000,
          185000,
          40000,
          29700,
          -2375,
          50000,
          16010,
          120000,
          424000,
          0,
          7500,
          3750,
          13476,
          4500,
          1520,
          30000,
          5000,
          28259,
          35000,
          500,
          14850,
          51500,
          15000,
          39000,
          18100,
          72800,
          5000,
          11750,
          78204,
          5500,
          80000,
          175000,
          22500,
          45000,
          27000,
          35000,
          16000,
          110000,
          19780,
          660760,
          95000,
          27500,
          56250,
          1010,
          21145,
          5000,
          7300,
          5083,
          26350,
          140500,
          10000,
          33750,
          36183,
          1500,
          43750,
          112500,
          8000,
          -36000,
          48000,
          143750,
          25000,
          67500,
          100536,
          115000,
          750,
          1225000,
          500000,
          88315,
          1700,
          11250,
          15000,
          10000,
          58450,
          25339,
          258148,
          7500,
          45000,
          110101,
          0,
          0,
          419925,
          88900,
          10000,
          365009,
          42500,
          14000,
          320000,
          0,
          15000,
          4440,
          206551,
          -15000,
          25311,
          12501,
          125150,
          134000,
          19450,
          46800,
          15000,
          14250,
          25500,
          75000,
          1100,
          15000,
          125000,
          -65500,
          35200,
          5500,
          97000,
          68313,
          0,
          12500,
          0,
          -1,
          6600,
          1090,
          0,
          175000,
          15000,
          175000,
          159250,
          140000,
          20000,
          0,
          23149,
          37400,
          20982,
          115500,
          4000,
          -17458,
          9000,
          25000,
          175000,
          251000,
          22849,
          240000,
          140982,
          25000,
          25000,
          750,
          198500,
          3750,
          34020,
          34997,
          31870,
          85000,
          50000,
          17500,
          79500,
          19700,
          9000,
          7500,
          69500,
          17500,
          12323,
          12500,
          11050,
          183502,
          1875,
          61500,
          2400,
          45000,
          187500,
          241493,
          223721,
          1000,
          1650,
          22700,
          30500,
          9850,
          25000,
          12500,
          27395,
          6500,
          4350,
          7500,
          15000,
          21875,
          9000,
          44100,
          8033,
          45000,
          15000,
          84600,
          54000,
          49050,
          20000,
          7000,
          160000,
          29529,
          500000,
          20000,
          57500,
          1250,
          328750,
          0,
          30000,
          12000,
          52350,
          0,
          3550,
          3850,
          7500,
          181990,
          43500,
          300,
          124809,
          5000,
          3750,
          -126000,
          305960,
          54300,
          25000,
          28150,
          88300,
          11200,
          37500,
          68987,
          125000,
          64200,
          20340,
          -40000,
          24000,
          185725,
          17900,
          36000,
          7500,
          5000,
          14850,
          115500,
          44000,
          -40000,
          0,
          60000,
          8499,
          96750,
          12500,
          14000,
          710,
          75000,
          30000,
          39581,
          50979,
          10500,
          186100,
          117500,
          -24500,
          131300,
          67226,
          0,
          27750,
          18500,
          37500,
          37500,
          30000,
          9900,
          15000,
          225000,
          15000,
          40250,
          6000,
          137767,
          29418,
          10000,
          125000,
          31500,
          83125,
          0,
          0,
          8650,
          159600,
          1500,
          125000,
          -16627,
          15000,
          89205,
          158750,
          795500,
          34450,
          595902,
          26150,
          12500,
          15964,
          30500,
          60000,
          75000,
          -1172540,
          17200,
          15000,
          89000,
          42150,
          25000,
          64575,
          182537,
          108500,
          40000,
          3750,
          31050,
          7500,
          3000,
          85000,
          46630,
          225668,
          3850,
          187500,
          25000,
          6000,
          66600,
          7500,
          15500,
          7500,
          53000,
          0,
          0,
          100000,
          30324,
          3250,
          2500,
          45000,
          15775,
          129000,
          0,
          10000,
          206050,
          25979,
          5500,
          125000,
          30283,
          10000,
          45000,
          36159,
          50000,
          22983,
          -350000,
          7000,
          2260,
          130000,
          51117,
          5000,
          60700,
          96116,
          20493,
          292175,
          7000,
          115000,
          355449,
          112500,
          9850,
          8500,
          46568,
          6000,
          50000,
          11000,
          7500,
          75000,
          13000,
          365000,
          66660,
          18750,
          10500,
          15000,
          70000,
          62500,
          0,
          20000
         ],
         "x0": " ",
         "xaxis": "x",
         "y0": " ",
         "yaxis": "y"
        }
       ],
       "layout": {
        "boxmode": "group",
        "legend": {
         "title": {
          "text": "default_status"
         },
         "tracegroupgap": 0
        },
        "margin": {
         "t": 60
        },
        "template": {
         "data": {
          "bar": [
           {
            "error_x": {
             "color": "#2a3f5f"
            },
            "error_y": {
             "color": "#2a3f5f"
            },
            "marker": {
             "line": {
              "color": "#E5ECF6",
              "width": 0.5
             },
             "pattern": {
              "fillmode": "overlay",
              "size": 10,
              "solidity": 0.2
             }
            },
            "type": "bar"
           }
          ],
          "barpolar": [
           {
            "marker": {
             "line": {
              "color": "#E5ECF6",
              "width": 0.5
             },
             "pattern": {
              "fillmode": "overlay",
              "size": 10,
              "solidity": 0.2
             }
            },
            "type": "barpolar"
           }
          ],
          "carpet": [
           {
            "aaxis": {
             "endlinecolor": "#2a3f5f",
             "gridcolor": "white",
             "linecolor": "white",
             "minorgridcolor": "white",
             "startlinecolor": "#2a3f5f"
            },
            "baxis": {
             "endlinecolor": "#2a3f5f",
             "gridcolor": "white",
             "linecolor": "white",
             "minorgridcolor": "white",
             "startlinecolor": "#2a3f5f"
            },
            "type": "carpet"
           }
          ],
          "choropleth": [
           {
            "colorbar": {
             "outlinewidth": 0,
             "ticks": ""
            },
            "type": "choropleth"
           }
          ],
          "contour": [
           {
            "colorbar": {
             "outlinewidth": 0,
             "ticks": ""
            },
            "colorscale": [
             [
              0,
              "#0d0887"
             ],
             [
              0.1111111111111111,
              "#46039f"
             ],
             [
              0.2222222222222222,
              "#7201a8"
             ],
             [
              0.3333333333333333,
              "#9c179e"
             ],
             [
              0.4444444444444444,
              "#bd3786"
             ],
             [
              0.5555555555555556,
              "#d8576b"
             ],
             [
              0.6666666666666666,
              "#ed7953"
             ],
             [
              0.7777777777777778,
              "#fb9f3a"
             ],
             [
              0.8888888888888888,
              "#fdca26"
             ],
             [
              1,
              "#f0f921"
             ]
            ],
            "type": "contour"
           }
          ],
          "contourcarpet": [
           {
            "colorbar": {
             "outlinewidth": 0,
             "ticks": ""
            },
            "type": "contourcarpet"
           }
          ],
          "heatmap": [
           {
            "colorbar": {
             "outlinewidth": 0,
             "ticks": ""
            },
            "colorscale": [
             [
              0,
              "#0d0887"
             ],
             [
              0.1111111111111111,
              "#46039f"
             ],
             [
              0.2222222222222222,
              "#7201a8"
             ],
             [
              0.3333333333333333,
              "#9c179e"
             ],
             [
              0.4444444444444444,
              "#bd3786"
             ],
             [
              0.5555555555555556,
              "#d8576b"
             ],
             [
              0.6666666666666666,
              "#ed7953"
             ],
             [
              0.7777777777777778,
              "#fb9f3a"
             ],
             [
              0.8888888888888888,
              "#fdca26"
             ],
             [
              1,
              "#f0f921"
             ]
            ],
            "type": "heatmap"
           }
          ],
          "heatmapgl": [
           {
            "colorbar": {
             "outlinewidth": 0,
             "ticks": ""
            },
            "colorscale": [
             [
              0,
              "#0d0887"
             ],
             [
              0.1111111111111111,
              "#46039f"
             ],
             [
              0.2222222222222222,
              "#7201a8"
             ],
             [
              0.3333333333333333,
              "#9c179e"
             ],
             [
              0.4444444444444444,
              "#bd3786"
             ],
             [
              0.5555555555555556,
              "#d8576b"
             ],
             [
              0.6666666666666666,
              "#ed7953"
             ],
             [
              0.7777777777777778,
              "#fb9f3a"
             ],
             [
              0.8888888888888888,
              "#fdca26"
             ],
             [
              1,
              "#f0f921"
             ]
            ],
            "type": "heatmapgl"
           }
          ],
          "histogram": [
           {
            "marker": {
             "pattern": {
              "fillmode": "overlay",
              "size": 10,
              "solidity": 0.2
             }
            },
            "type": "histogram"
           }
          ],
          "histogram2d": [
           {
            "colorbar": {
             "outlinewidth": 0,
             "ticks": ""
            },
            "colorscale": [
             [
              0,
              "#0d0887"
             ],
             [
              0.1111111111111111,
              "#46039f"
             ],
             [
              0.2222222222222222,
              "#7201a8"
             ],
             [
              0.3333333333333333,
              "#9c179e"
             ],
             [
              0.4444444444444444,
              "#bd3786"
             ],
             [
              0.5555555555555556,
              "#d8576b"
             ],
             [
              0.6666666666666666,
              "#ed7953"
             ],
             [
              0.7777777777777778,
              "#fb9f3a"
             ],
             [
              0.8888888888888888,
              "#fdca26"
             ],
             [
              1,
              "#f0f921"
             ]
            ],
            "type": "histogram2d"
           }
          ],
          "histogram2dcontour": [
           {
            "colorbar": {
             "outlinewidth": 0,
             "ticks": ""
            },
            "colorscale": [
             [
              0,
              "#0d0887"
             ],
             [
              0.1111111111111111,
              "#46039f"
             ],
             [
              0.2222222222222222,
              "#7201a8"
             ],
             [
              0.3333333333333333,
              "#9c179e"
             ],
             [
              0.4444444444444444,
              "#bd3786"
             ],
             [
              0.5555555555555556,
              "#d8576b"
             ],
             [
              0.6666666666666666,
              "#ed7953"
             ],
             [
              0.7777777777777778,
              "#fb9f3a"
             ],
             [
              0.8888888888888888,
              "#fdca26"
             ],
             [
              1,
              "#f0f921"
             ]
            ],
            "type": "histogram2dcontour"
           }
          ],
          "mesh3d": [
           {
            "colorbar": {
             "outlinewidth": 0,
             "ticks": ""
            },
            "type": "mesh3d"
           }
          ],
          "parcoords": [
           {
            "line": {
             "colorbar": {
              "outlinewidth": 0,
              "ticks": ""
             }
            },
            "type": "parcoords"
           }
          ],
          "pie": [
           {
            "automargin": true,
            "type": "pie"
           }
          ],
          "scatter": [
           {
            "fillpattern": {
             "fillmode": "overlay",
             "size": 10,
             "solidity": 0.2
            },
            "type": "scatter"
           }
          ],
          "scatter3d": [
           {
            "line": {
             "colorbar": {
              "outlinewidth": 0,
              "ticks": ""
             }
            },
            "marker": {
             "colorbar": {
              "outlinewidth": 0,
              "ticks": ""
             }
            },
            "type": "scatter3d"
           }
          ],
          "scattercarpet": [
           {
            "marker": {
             "colorbar": {
              "outlinewidth": 0,
              "ticks": ""
             }
            },
            "type": "scattercarpet"
           }
          ],
          "scattergeo": [
           {
            "marker": {
             "colorbar": {
              "outlinewidth": 0,
              "ticks": ""
             }
            },
            "type": "scattergeo"
           }
          ],
          "scattergl": [
           {
            "marker": {
             "colorbar": {
              "outlinewidth": 0,
              "ticks": ""
             }
            },
            "type": "scattergl"
           }
          ],
          "scattermapbox": [
           {
            "marker": {
             "colorbar": {
              "outlinewidth": 0,
              "ticks": ""
             }
            },
            "type": "scattermapbox"
           }
          ],
          "scatterpolar": [
           {
            "marker": {
             "colorbar": {
              "outlinewidth": 0,
              "ticks": ""
             }
            },
            "type": "scatterpolar"
           }
          ],
          "scatterpolargl": [
           {
            "marker": {
             "colorbar": {
              "outlinewidth": 0,
              "ticks": ""
             }
            },
            "type": "scatterpolargl"
           }
          ],
          "scatterternary": [
           {
            "marker": {
             "colorbar": {
              "outlinewidth": 0,
              "ticks": ""
             }
            },
            "type": "scatterternary"
           }
          ],
          "surface": [
           {
            "colorbar": {
             "outlinewidth": 0,
             "ticks": ""
            },
            "colorscale": [
             [
              0,
              "#0d0887"
             ],
             [
              0.1111111111111111,
              "#46039f"
             ],
             [
              0.2222222222222222,
              "#7201a8"
             ],
             [
              0.3333333333333333,
              "#9c179e"
             ],
             [
              0.4444444444444444,
              "#bd3786"
             ],
             [
              0.5555555555555556,
              "#d8576b"
             ],
             [
              0.6666666666666666,
              "#ed7953"
             ],
             [
              0.7777777777777778,
              "#fb9f3a"
             ],
             [
              0.8888888888888888,
              "#fdca26"
             ],
             [
              1,
              "#f0f921"
             ]
            ],
            "type": "surface"
           }
          ],
          "table": [
           {
            "cells": {
             "fill": {
              "color": "#EBF0F8"
             },
             "line": {
              "color": "white"
             }
            },
            "header": {
             "fill": {
              "color": "#C8D4E3"
             },
             "line": {
              "color": "white"
             }
            },
            "type": "table"
           }
          ]
         },
         "layout": {
          "annotationdefaults": {
           "arrowcolor": "#2a3f5f",
           "arrowhead": 0,
           "arrowwidth": 1
          },
          "autotypenumbers": "strict",
          "coloraxis": {
           "colorbar": {
            "outlinewidth": 0,
            "ticks": ""
           }
          },
          "colorscale": {
           "diverging": [
            [
             0,
             "#8e0152"
            ],
            [
             0.1,
             "#c51b7d"
            ],
            [
             0.2,
             "#de77ae"
            ],
            [
             0.3,
             "#f1b6da"
            ],
            [
             0.4,
             "#fde0ef"
            ],
            [
             0.5,
             "#f7f7f7"
            ],
            [
             0.6,
             "#e6f5d0"
            ],
            [
             0.7,
             "#b8e186"
            ],
            [
             0.8,
             "#7fbc41"
            ],
            [
             0.9,
             "#4d9221"
            ],
            [
             1,
             "#276419"
            ]
           ],
           "sequential": [
            [
             0,
             "#0d0887"
            ],
            [
             0.1111111111111111,
             "#46039f"
            ],
            [
             0.2222222222222222,
             "#7201a8"
            ],
            [
             0.3333333333333333,
             "#9c179e"
            ],
            [
             0.4444444444444444,
             "#bd3786"
            ],
            [
             0.5555555555555556,
             "#d8576b"
            ],
            [
             0.6666666666666666,
             "#ed7953"
            ],
            [
             0.7777777777777778,
             "#fb9f3a"
            ],
            [
             0.8888888888888888,
             "#fdca26"
            ],
            [
             1,
             "#f0f921"
            ]
           ],
           "sequentialminus": [
            [
             0,
             "#0d0887"
            ],
            [
             0.1111111111111111,
             "#46039f"
            ],
            [
             0.2222222222222222,
             "#7201a8"
            ],
            [
             0.3333333333333333,
             "#9c179e"
            ],
            [
             0.4444444444444444,
             "#bd3786"
            ],
            [
             0.5555555555555556,
             "#d8576b"
            ],
            [
             0.6666666666666666,
             "#ed7953"
            ],
            [
             0.7777777777777778,
             "#fb9f3a"
            ],
            [
             0.8888888888888888,
             "#fdca26"
            ],
            [
             1,
             "#f0f921"
            ]
           ]
          },
          "colorway": [
           "#636efa",
           "#EF553B",
           "#00cc96",
           "#ab63fa",
           "#FFA15A",
           "#19d3f3",
           "#FF6692",
           "#B6E880",
           "#FF97FF",
           "#FECB52"
          ],
          "font": {
           "color": "#2a3f5f"
          },
          "geo": {
           "bgcolor": "white",
           "lakecolor": "white",
           "landcolor": "#E5ECF6",
           "showlakes": true,
           "showland": true,
           "subunitcolor": "white"
          },
          "hoverlabel": {
           "align": "left"
          },
          "hovermode": "closest",
          "mapbox": {
           "style": "light"
          },
          "paper_bgcolor": "white",
          "plot_bgcolor": "#E5ECF6",
          "polar": {
           "angularaxis": {
            "gridcolor": "white",
            "linecolor": "white",
            "ticks": ""
           },
           "bgcolor": "#E5ECF6",
           "radialaxis": {
            "gridcolor": "white",
            "linecolor": "white",
            "ticks": ""
           }
          },
          "scene": {
           "xaxis": {
            "backgroundcolor": "#E5ECF6",
            "gridcolor": "white",
            "gridwidth": 2,
            "linecolor": "white",
            "showbackground": true,
            "ticks": "",
            "zerolinecolor": "white"
           },
           "yaxis": {
            "backgroundcolor": "#E5ECF6",
            "gridcolor": "white",
            "gridwidth": 2,
            "linecolor": "white",
            "showbackground": true,
            "ticks": "",
            "zerolinecolor": "white"
           },
           "zaxis": {
            "backgroundcolor": "#E5ECF6",
            "gridcolor": "white",
            "gridwidth": 2,
            "linecolor": "white",
            "showbackground": true,
            "ticks": "",
            "zerolinecolor": "white"
           }
          },
          "shapedefaults": {
           "line": {
            "color": "#2a3f5f"
           }
          },
          "ternary": {
           "aaxis": {
            "gridcolor": "white",
            "linecolor": "white",
            "ticks": ""
           },
           "baxis": {
            "gridcolor": "white",
            "linecolor": "white",
            "ticks": ""
           },
           "bgcolor": "#E5ECF6",
           "caxis": {
            "gridcolor": "white",
            "linecolor": "white",
            "ticks": ""
           }
          },
          "title": {
           "x": 0.05
          },
          "xaxis": {
           "automargin": true,
           "gridcolor": "white",
           "linecolor": "white",
           "ticks": "",
           "title": {
            "standoff": 15
           },
           "zerolinecolor": "white",
           "zerolinewidth": 2
          },
          "yaxis": {
           "automargin": true,
           "gridcolor": "white",
           "linecolor": "white",
           "ticks": "",
           "title": {
            "standoff": 15
           },
           "zerolinecolor": "white",
           "zerolinewidth": 2
          }
         }
        },
        "xaxis": {
         "anchor": "y",
         "domain": [
          0,
          1
         ],
         "title": {
          "text": "loan_insured_amount_diff"
         }
        },
        "yaxis": {
         "anchor": "x",
         "domain": [
          0,
          1
         ]
        }
       }
      }
     },
     "metadata": {},
     "output_type": "display_data"
    }
   ],
   "source": [
    "px.box(train, x = 'loan_insured_amount_diff', color = 'default_status')"
   ]
  },
  {
   "cell_type": "markdown",
   "metadata": {},
   "source": [
    "From the plot above, it could be observed that companies tend to default when the difference between the loan amount and insured amount, loan_insured_amount_diff is lesser. The median default loan_insured_amount_diff is 2250, whereas the median non-default loan_insured_amount_diff is 24.75k."
   ]
  },
  {
   "cell_type": "code",
   "execution_count": 25,
   "metadata": {},
   "outputs": [
    {
     "data": {
      "application/vnd.plotly.v1+json": {
       "config": {
        "plotlyServerURL": "https://plot.ly"
       },
       "data": [
        {
         "alignmentgroup": "True",
         "hovertemplate": "default_status=1<br>insured_loan_ratio=%{x}<extra></extra>",
         "legendgroup": "1",
         "marker": {
          "color": "#636efa"
         },
         "name": "1",
         "notched": false,
         "offsetgroup": "1",
         "orientation": "h",
         "showlegend": true,
         "type": "box",
         "x": [
          1,
          0.9,
          0.9,
          0.85,
          0.9,
          0.9,
          1,
          0.9,
          0.5,
          0.9,
          0.9,
          0.85,
          0.9,
          0.9,
          0.09900990099009901,
          0.85,
          1,
          0.9,
          0.85,
          0.85,
          0.85,
          0.85,
          0.27664047803474606,
          0.5,
          0.85,
          0.9,
          1,
          1,
          1,
          1,
          0.9,
          1,
          0.85,
          0.75,
          0.5,
          0.85,
          0.9,
          0.5,
          0.9,
          0.9,
          0.9,
          0.290127059073185,
          0.9,
          0.24771483068691322,
          0.27522935779816515,
          1,
          0.85,
          0.2940583411748891,
          0.9,
          0.21910796764213533,
          0.9,
          0.9,
          1,
          1,
          0.3102737855884032,
          0.5361585313545509,
          0.5,
          0.2633195821995962,
          0.9,
          0.9,
          1,
          0.9,
          0.85,
          0.49459897914770706,
          0.9,
          0.5,
          1,
          0.5,
          0.30502312075255306,
          1,
          0.5,
          0.85,
          0.5,
          1,
          0.5,
          0.5,
          0.4166666666666667,
          0.5,
          0.9,
          0.32089851584436424,
          0.9,
          0.9,
          1,
          0.5,
          0.9,
          0.5,
          0.9,
          0.85,
          0.85,
          0.9,
          0.5,
          0.85,
          0.9,
          0.85,
          0.9065982404692082,
          0.85,
          0.9,
          1.0000285722449214,
          0.9,
          1,
          1,
          0.9,
          0.9,
          0.85,
          0.3890142379211079,
          0.32629301765571517,
          1,
          0.2902035570664566,
          0.36845983787767134,
          0.18984698333143488,
          0.85,
          1,
          0.9,
          0.85,
          0.9,
          0.9,
          0.9,
          1,
          0.9,
          0.85,
          0.75,
          0.85,
          1,
          0.2544373880475493,
          1,
          0.75,
          1,
          0.5,
          0.9,
          1,
          1,
          0.9,
          0.9,
          0.75,
          0.2658160552897395,
          0.9,
          1,
          1,
          0.9,
          0.9,
          0.9,
          0.5,
          0.5,
          0.2507572870067604,
          0.9,
          1,
          0.9,
          1.0110931361220246,
          0.9,
          1.005111710987307,
          0.9,
          0.25265285497726125,
          0.85,
          0.9,
          0.85,
          0.9,
          0.85,
          0.4224400135180804,
          1,
          1,
          0.3333333333333333,
          0.3145445395067942,
          0.5,
          0.85,
          1,
          0.2534982762117218,
          0.5,
          1,
          1,
          0.2520487966470309,
          0.9,
          0.9,
          0.85,
          1.5,
          1,
          0.9,
          0.5,
          0.9,
          1,
          1,
          0.9,
          0.5,
          0.9,
          1,
          0.9,
          0.9,
          1,
          0.9,
          0.9,
          0.85,
          0.23420958947743156,
          0.500610745109033,
          0.5,
          0.85,
          0.9,
          0.9,
          0.9,
          1,
          1,
          0.5,
          0.5,
          0.9,
          1,
          0.85,
          0.9,
          0.9,
          0.85,
          0.8746610688358262,
          1,
          0.9,
          0.9,
          0.25012506253126565,
          0.4385195579722856,
          0.2933996807811473,
          1,
          0.85,
          1,
          0.5,
          0.9,
          0.16076343339249427,
          0.9,
          1,
          0.9,
          0.9,
          0.9,
          1,
          0.85,
          1,
          0.9,
          0.1317336997989217,
          0.41377883521257885,
          0.85,
          0.9,
          1,
          0.9,
          0.85,
          1,
          0.27867573291717757,
          0.5,
          0.3438884150870726,
          1,
          0.9,
          1,
          0.9,
          0.9,
          0.9,
          0.9,
          0.85,
          0.85,
          0.85,
          0.5,
          0.85,
          1,
          0.9,
          0.85,
          0.16892120163785998,
          0.3125,
          0.85,
          1,
          0.34965034965034963,
          1,
          0.9,
          1,
          1,
          0.85,
          0.9,
          0.23451057642699685,
          0.9,
          0.85,
          0.5,
          0.5,
          0.5,
          0.9,
          0.390625,
          1,
          0.2785204991087344,
          1,
          0.9,
          0.9,
          0.5,
          0.85,
          0.5,
          0.5,
          1,
          1,
          0.85,
          0.85,
          0.25130047998391675,
          0.9,
          0.9,
          0.85,
          0.9,
          0.9,
          1,
          0.5,
          0.9,
          0.9,
          1.1491988442343053,
          0.9,
          1,
          1,
          0.9,
          1,
          0.9,
          0.9,
          0.85,
          0.85,
          0.9,
          0.33613445378151263,
          0.9,
          1,
          0.9,
          1,
          0.85,
          0.85,
          0.9,
          0.5,
          1,
          0.9,
          1.0006861848124429,
          0.9,
          0.9,
          0.9,
          0.25196170182132316,
          0.9,
          1,
          0.4892367906066536,
          0.5,
          1,
          0.9,
          0.85,
          1,
          0.18453327276856687,
          0.85,
          0.85,
          0.9,
          0.9,
          0.9,
          0.9,
          0.85,
          0.9,
          0.4807692307692308,
          1,
          0.5,
          0.375,
          1,
          0.5,
          0.49123151741415727,
          0.9,
          0.85,
          0.9,
          0.85,
          0.85,
          0.85,
          0.85,
          0.5,
          0.85,
          1,
          1.0021786492374727,
          0.85,
          1,
          1.0119047619047619,
          0.85,
          1,
          1.1065573770491803,
          1,
          1,
          0.9,
          0.5,
          0.24631269889750437,
          0.85,
          1,
          0.9,
          0.5,
          1,
          0.85,
          0.5,
          1,
          0.9,
          0.3831417624521073,
          1,
          0.4810652709359606,
          0.3376051640085887,
          0.500175061271445,
          1,
          0.9,
          1,
          0.9,
          0.75,
          0.9,
          0.48588976133094924,
          0.9,
          1,
          0.9,
          1,
          0.9,
          0.85,
          1,
          1,
          0.9,
          0.24403338376689931,
          0.9,
          0.22646466018977737,
          1,
          0.375,
          0.23072308615200038,
          0.5,
          0.9,
          0.9,
          0.9,
          1.8467707893626002,
          0.24477167697971333,
          0.85,
          0.85,
          0.9002423729465625,
          0.85,
          1,
          0.5,
          0.2491528802072952,
          0.85,
          1,
          0.85,
          0.22626686819502395,
          1,
          0.9,
          0.2507472267356723,
          0.5,
          1,
          0.9,
          0.3185328185328185,
          0.9,
          0.85,
          0.85,
          1,
          0.9,
          0.85,
          0.5,
          0.9,
          0.5,
          1,
          0.20171837156793002,
          0.9,
          0.5,
          0.85,
          0.85,
          0.9,
          0.9,
          0.9,
          1,
          0.9,
          0.44866042815023716,
          0.9,
          0.25118685790359446,
          0.5,
          0.5,
          0.9,
          0.9,
          0.9,
          0.9,
          0.9,
          0.85,
          1.0379596678529064,
          0.5,
          0.5,
          0.9,
          0.9,
          0.2931323283082077,
          0.85,
          1,
          0.85,
          0.5,
          0.9,
          0.85,
          0.85,
          0.2521432173474534,
          0.85,
          0.9,
          0.85,
          0.9,
          0.3888888888888889,
          0.9,
          0.9,
          0.4340277777777778,
          1,
          1,
          0.23642897673538868,
          0.9,
          0.75,
          5.606523955147808,
          0.5,
          0.85,
          0.9,
          0.2944640753828033,
          0.85,
          0.9,
          0.5,
          0.9,
          1,
          0.85,
          0.2834467120181406,
          0.9,
          1,
          0.9,
          0.85,
          1,
          0.250400641025641,
          1,
          0.48244852274262334,
          0.2727173557325188,
          0.85,
          0.9,
          0.85,
          1,
          0.9,
          0.26445511667759747,
          0.5,
          0.85,
          0.9,
          0.28310005888481227,
          0.85,
          0.9,
          0.85,
          1,
          0.5,
          0.9,
          0.5,
          0.75,
          1,
          0.9,
          0.9,
          0.9,
          1,
          0.5,
          0.5,
          0.9,
          0.9,
          0.85,
          0.9,
          1,
          1,
          0.9,
          0.9,
          0.9,
          0.3187149413564508,
          0.85,
          1,
          0.9,
          1,
          0.9,
          1,
          0.9,
          0.9,
          0.85,
          0.5,
          0.5,
          0.9,
          0.85,
          1,
          0.9,
          0.5,
          0.75,
          1,
          0.85,
          0.9,
          0.9,
          0.5,
          1,
          0.85,
          0.85,
          0.9,
          1,
          1.1185682326621924,
          0.9,
          0.5,
          0.36331928498764715,
          0.9,
          0.85,
          0.2777777777777778,
          0.5,
          0.85,
          0.3402517863218782,
          0.85,
          1,
          0.85,
          0.9,
          0.85,
          1.0000285722449214,
          0.85,
          0.3074085459575776,
          1,
          0.26466229091679017,
          0.9,
          0.9,
          1.0457142857142858,
          0.9,
          0.3448275862068966,
          1,
          0.85,
          0.85,
          0.85,
          0.7597664775207333,
          0.85,
          0.1826667519111509,
          1,
          0.9,
          0.316583932732246,
          0.85,
          0.9,
          0.9,
          0.37037037037037035,
          1,
          0.85,
          0.9,
          0.85,
          0.5,
          0.9,
          1.8421052631578947,
          0.9,
          1,
          0.9,
          0.25279592290735536,
          0.9,
          0.27597280413457437,
          0.9,
          0.9,
          0.4991016170892394,
          0.9,
          0.5,
          0.9,
          0.9,
          1,
          0.406352095964111,
          1,
          0.9,
          0.85,
          0.38845209608751047,
          0.85,
          0.9,
          0.85,
          0.9,
          0.75,
          0.3026121480620718,
          1,
          0.9,
          1,
          1,
          1,
          1,
          0.9,
          0.85,
          1,
          0.9,
          0.4254413954477771,
          0.9,
          0.22408260581180647,
          0.9,
          0.9049167141468646,
          0.5,
          0.5,
          0.9,
          0.85,
          0.85,
          0.85,
          0.9,
          0.85,
          0.9,
          1.0947712418300655,
          0.9,
          0.9,
          0.2999724025389664,
          1,
          0.85,
          0.85,
          0.9,
          1,
          0.5,
          0.85,
          0.9,
          1,
          0.5,
          1,
          0.9,
          1,
          0.85,
          0.9,
          0.4032453183218543,
          1,
          0.85,
          0.24989678176405397,
          1,
          0.25334414268342115,
          0.35707144285428627,
          0.24999642862244825,
          1,
          1,
          0.9,
          1,
          1,
          0.3103180760279286,
          1,
          0.85,
          0.5,
          0.9,
          1,
          0.5,
          0.85,
          1.0909090909090908,
          0.85,
          0.3330114222917846,
          0.85,
          0.5,
          0.9,
          0.9,
          1,
          0.9,
          0.9,
          0.4752851711026616,
          0.85,
          0.9,
          0.9,
          0.1318478475838882,
          1,
          0.22600300131985754,
          1,
          0.9,
          0.48537406161014757,
          0.9,
          0.85,
          1,
          0.5,
          1,
          0.9,
          0.9,
          0.5,
          1,
          0.9,
          1,
          0.9,
          0.2991957617923023,
          0.9,
          1,
          0.85,
          0.9,
          0.9,
          1,
          0.5,
          0.85,
          0.9,
          0.9,
          1,
          0.5,
          0.9,
          0.24303935293202675,
          0.9,
          0.85,
          1,
          1,
          0.5,
          0.2624947501049979,
          0.9,
          1,
          0.2852217123443957,
          0.9,
          0.9,
          1,
          0.75,
          0.5,
          0.5,
          1.0387622327920836,
          0.9,
          0.85,
          1,
          0.5
         ],
         "x0": " ",
         "xaxis": "x",
         "y0": " ",
         "yaxis": "y"
        },
        {
         "alignmentgroup": "True",
         "hovertemplate": "default_status=0<br>insured_loan_ratio=%{x}<extra></extra>",
         "legendgroup": "0",
         "marker": {
          "color": "#EF553B"
         },
         "name": "0",
         "notched": false,
         "offsetgroup": "0",
         "orientation": "h",
         "showlegend": true,
         "type": "box",
         "x": [
          0.37735849056603776,
          1,
          0.5,
          0.5,
          0.38461538461538464,
          0.85,
          0.5,
          0.9,
          0.75,
          0.9,
          0.5,
          0.5,
          0.9,
          0.9,
          0.85,
          0.2231943576466387,
          0.5,
          0.9,
          0.9,
          0.5,
          0.337293154972713,
          0.7572,
          0.24836630166019075,
          0.5,
          0.9,
          1.0962512664640325,
          0.85,
          0.20833333333333334,
          1,
          1.0585664335664335,
          0.75,
          0.33783783783783783,
          0.5,
          0.9,
          0.5,
          0.9,
          0.5,
          1,
          0.22915177180149957,
          0.36599202137393405,
          0.85,
          0.33651149747616377,
          0.5,
          0.85,
          0.9,
          0.85,
          0.49391496759917813,
          0.9,
          0.5,
          0.16034977631206204,
          0.9,
          0.8243998691099477,
          0.6,
          1,
          0.85,
          1,
          1,
          0.5,
          0.9,
          0.43718522663682147,
          0.9,
          0.9,
          0.9,
          1.0185939023099082,
          0.85,
          0.24909259127464237,
          1,
          0.16469906187414357,
          0.9,
          0.9055900621118013,
          0.9,
          0.5,
          0.5,
          0.5,
          0.2739919267329311,
          0.9,
          0.5,
          1.0781199526219447,
          0.9,
          0.75,
          0.75,
          0.9,
          0.5,
          1,
          1,
          0.9,
          0.9,
          0.5,
          0.5,
          1,
          0.49261083743842365,
          1,
          0.5,
          0.5,
          1,
          0.9,
          0.85,
          0.5,
          0.29336820223965665,
          1,
          0.5,
          0.15980874089889222,
          0.1762114537444934,
          0.9,
          0.85,
          1,
          1,
          1,
          0.5,
          0.5,
          0.1582491316078903,
          0.22356510327589946,
          0.5,
          0.32051282051282054,
          0.9,
          0.9034632758909151,
          0.9,
          0.9,
          1,
          0.4032258064516129,
          0.27065503932617724,
          0.5,
          0.75,
          0.5,
          0.5,
          1,
          0.5,
          0.5,
          0.9,
          0.9,
          0.5,
          0.5,
          0.5,
          0.5,
          0.9,
          1,
          0.85,
          0.328671937493317,
          0.9,
          0.9,
          0.9,
          1,
          0.5,
          0.85,
          0.5,
          0.30027505194758397,
          0.11739963170058398,
          0.7861674275806908,
          0.9,
          0.2688114234102492,
          0.5,
          0.5,
          0.85,
          0.5,
          0.5,
          0.85,
          0.23521505376344087,
          0.5,
          0.5,
          0.9,
          0.7894,
          0.987592867756315,
          0.9,
          0.5,
          1,
          1,
          0.9,
          0.85,
          0.9,
          0.9,
          1,
          0.25926886180969666,
          0.5,
          0.75,
          1,
          0.29081772126866323,
          0.9,
          0.5,
          0.9,
          0.9,
          0.9,
          0.9,
          1,
          1,
          0.5,
          0.5,
          0.75,
          0.14816799168362696,
          0.5,
          1.0516228748068006,
          0.5,
          0.75,
          0.75,
          0.43478260869565216,
          0.85,
          0.9,
          0.5,
          0.5,
          0.5,
          1,
          0.26319113993346527,
          0.5,
          0.5,
          0.35714285714285715,
          0.4640715784002525,
          0.5,
          1,
          0.9,
          0.2858122784954842,
          0.75,
          0.9,
          0.9,
          0.22723967422920302,
          0.9,
          0.5,
          0.5,
          0.5,
          1,
          0.5,
          0.5,
          0.5,
          0.5,
          0.9,
          0.5,
          0.5,
          1,
          0.85,
          0.06685251666298977,
          0.5,
          1,
          0.5,
          0.5,
          0.75,
          0.9,
          0.9,
          0.9,
          0.5,
          0.9,
          0.9,
          0.3494385686996226,
          0.9,
          0.5,
          0.5,
          0.5,
          0.9,
          0.9,
          0.9103043478260869,
          0.1670252141263245,
          0.9,
          0.5,
          0.9,
          0.85,
          0.9,
          0.9,
          0.3333333333333333,
          0.5,
          0.47141644929130394,
          0.9,
          1.0692549842602308,
          0.5,
          0.9,
          0.9,
          0.29411764705882354,
          0.5,
          0.5,
          0.1924539573152519,
          0.9,
          0.5,
          0.37739646756906353,
          0.9,
          0.30370028426346607,
          1,
          0.5,
          0.85,
          0.5,
          0.75,
          0.75,
          0.5,
          0.9,
          0.5,
          0.20789934345387337,
          0.85,
          0.9,
          0.9,
          0.2770581960740854,
          0.9,
          0.75,
          0.9,
          0.5,
          0.5,
          0.150665943470138,
          0.9,
          0.3125,
          1,
          0.8571428571428571,
          0.5,
          0.26145704783618146,
          0.2785515320334262,
          0.9,
          1,
          0.8999848874112135,
          0.5,
          0.4352872896111434,
          0.9,
          0.5,
          0.75,
          0.5,
          0.5,
          0.5,
          0.5,
          0.5,
          0.9,
          0.5,
          0.5,
          0.5,
          0.2506667736178234,
          1.14912,
          0.85,
          0.75,
          0.85,
          0.9109756097560976,
          0.1977261492832427,
          1,
          0.5,
          0.9,
          1.0148148148148148,
          0.75,
          0.75,
          0.4,
          0.75,
          0.9,
          0.75,
          0.9,
          0.5,
          0.9,
          0.9,
          0.5,
          0.5,
          0.5,
          0.9,
          0.5,
          0.9,
          0.5,
          0.5,
          0.5,
          0.24482441193176255,
          0.5,
          0.9,
          0.87495,
          0.85,
          0.75,
          0.12679156481077627,
          0.5,
          0.32894736842105265,
          0.10339048414662011,
          1,
          0.5,
          0.13188714680622085,
          0.5,
          0.5951005719966674,
          0.5,
          0.08854258898530193,
          0.75,
          0.85,
          1,
          0.75,
          0.5,
          0.33862491195752287,
          0.8333333333333334,
          0.169986888344679,
          0.7989949748743719,
          0.5,
          0.20273119465438386,
          0.9,
          0.5,
          0.5,
          0.9,
          0.9,
          0.17667844522968199,
          0.5,
          0.85,
          0.5,
          0.19775352001265623,
          0.31614055609123815,
          0.9,
          0.5,
          1,
          0.5,
          0.85,
          0.18925773117831862,
          0.1514986243924905,
          0.9574468085106383,
          0.5,
          1,
          1,
          0.75,
          1,
          0.9,
          0.5,
          0.9,
          1.0024271844660195,
          0.17167381974248927,
          0.4,
          0.5769230769230769,
          0.9,
          0.9,
          1.0146692178349859,
          0.2503128911138924,
          0.9,
          0.9,
          0.85,
          0.9,
          0.14754049986721354,
          0.5,
          0.5,
          0.24457053414204658,
          0.9,
          0.5,
          0.3598287215285524,
          0.5,
          0.3025474495250005,
          0.5,
          0.85,
          0.75,
          0.5,
          0.85,
          0.85,
          0.5,
          1,
          0.4101947057536644,
          1.8221574344023324,
          0.5,
          0.83,
          0.75,
          0.9,
          0.75,
          0.85,
          0.85,
          0.9,
          0.9,
          0.5,
          0.5,
          0.85,
          0.2777777777777778,
          1,
          0.75,
          0.35714285714285715,
          0.75,
          0.5,
          0.5,
          0.9,
          1,
          1.0398671096345515,
          0.75,
          1.0663247756340097,
          1.39099610067352,
          0.11849913732628027,
          0.5,
          0.9,
          0.75,
          0.5,
          0.6736842105263158,
          0.9,
          0.14614413318991723,
          0.5,
          0.9,
          0.9,
          0.25609756097560976,
          0.5,
          0.2727272727272727,
          0.9517095523440254,
          1,
          0.9,
          0.9,
          0.5,
          0.9,
          1,
          0.9,
          0.5,
          0.75,
          0.5,
          0.5,
          0.9,
          0.5,
          0.5,
          0.9,
          0.9,
          0.9,
          0.9,
          1.1590909090909092,
          0.85,
          1,
          0.5,
          0.3125,
          0.75,
          1,
          1,
          0.5,
          0.5,
          0.85,
          0.5,
          0.9,
          0.75,
          0.5,
          1,
          0.258732212160414,
          0.5,
          0.9,
          1.0703571428571428,
          0.5,
          0.85,
          0.85,
          0.9284274193548387,
          0.9,
          0.29914529914529914,
          0.9,
          0.5,
          0.52,
          0.9,
          0.9,
          0.12486576929800465,
          0.17412935323383086,
          0.25416190113102044,
          0.9,
          0.9,
          1.0298556451561,
          0.9,
          0.5,
          0.9,
          1,
          0.9,
          0.85,
          0.5,
          0.4681647940074906,
          0.9,
          0.5,
          0.75,
          0.3125,
          0.22341875377019146,
          1,
          0.5,
          0.0871134341360214,
          0.9,
          0.45994633959371406,
          0.13754552756962554,
          0.29411764705882354,
          0.26928048255062476,
          0.9,
          0.5,
          0.4635982642880985,
          0.75,
          0.5,
          0.9,
          0.5,
          0.5,
          0.85,
          0.4794520547945205,
          1,
          1,
          0.5,
          1,
          0.9,
          1,
          0.85,
          0.9,
          0.5,
          0.13321823278021122,
          0.5,
          0.75,
          0.85,
          0.9,
          0.5,
          0.5,
          0.5,
          0.75,
          1.0706896551724139,
          0.9,
          0.5,
          0.5,
          0.5,
          0.75,
          0.9,
          0.5,
          0.23584810304001466,
          0.2837960560456668,
          0.47752808988764045,
          0.85,
          1.0936132983377078,
          0.45181267244183665,
          0.5,
          0.5,
          0.9,
          0.5,
          0.08214335000295717,
          0.5,
          0.5,
          0.9,
          0.9,
          0.5,
          1,
          0.9662453531598513,
          1,
          0.1530204320531899,
          0.75,
          0.9,
          0.5,
          0.5,
          0.9,
          0.2904477542579641,
          0.75,
          0.85,
          0.5,
          0.5,
          0.85,
          0.9,
          0.75,
          0.25015009005403244,
          0.5,
          0.9,
          0.5,
          0.85,
          0.75,
          0.9,
          0.75,
          0.5,
          0.75,
          0.2916666666666667,
          0.5,
          0.9,
          0.15244212280737413,
          0.9,
          0.9,
          1,
          0.9,
          0.85,
          0.22727272727272727,
          0.85,
          0.5,
          0.9,
          1.7534482758620689,
          0.85,
          0.9,
          0.3525657975919756,
          1,
          1,
          0.2987512199008146,
          0.5,
          1,
          0.9,
          1,
          1,
          0.5,
          0.29310344827586204,
          0.9,
          0.9,
          0.5,
          0.75,
          0.9,
          0.17799928800284798,
          0.21770176599672578,
          0.5,
          1,
          0.27650759842880485,
          0.75,
          0.9,
          0.9,
          0.5,
          0.46701038631099157,
          0.9,
          1,
          0.9025,
          0.9,
          0.5,
          0.9,
          1,
          1.2019230769230769,
          0.75,
          0.5,
          0.5,
          0.9,
          0.4563626074733941,
          0.5,
          0.9,
          0.5,
          0.9,
          0.5,
          0.10276823365385604,
          0.75,
          0.18243115048380742,
          2.090047393364929,
          0.9,
          0.5,
          0.366246703779666,
          0.85,
          1,
          0.9,
          0.2919152811811393,
          0.2962962962962963,
          0.9,
          0.9,
          1,
          0.9,
          0.85,
          0.2628756493028538,
          0.1311344705314618,
          0.37453183520599254,
          1,
          0.3333333333333333,
          0.12195121951219512,
          0.9,
          0.9,
          0.5,
          0.9,
          0.195248942401562,
          0.9,
          0.29966437589899314,
          1,
          0.85,
          0.16307804371578757,
          0.85,
          0.5,
          0.9,
          0.27648750276487505,
          0.75,
          0.5,
          0.75,
          0.9,
          0.9,
          0.5,
          0.19350594063237742,
          0.2335139174294788,
          0.9,
          0.9,
          0.9,
          0.9,
          0.9,
          0.75,
          0.5,
          0.5,
          0.1372017281740437,
          0.9,
          1,
          0.9,
          0.5,
          0.33887966383137347,
          1,
          1,
          0.9,
          0.3661662394727206,
          0.4739471264585723,
          0.9,
          0.49252996223936957,
          0.3063087346998787,
          0.5,
          0.85,
          0.75,
          0.5,
          0.9,
          0.9,
          0.75,
          0.37935115777973355,
          0.3489531405782652,
          0.75,
          0.5,
          0.25,
          0.9,
          0.9,
          0.5,
          0.5,
          1,
          0.3888888888888889,
          0.75,
          0.85,
          0.85,
          0.5,
          0.44642857142857145,
          0.414181577203446,
          0.9,
          0.9,
          0.829091150281062,
          0.5,
          0.9,
          0.9,
          0.9,
          0.37897162260489936,
          0.1163246721306027,
          0.09206047452571595,
          0.5,
          0.9,
          0.9,
          1,
          1,
          1,
          0.5,
          0.3604798708040143,
          0.5,
          0.9,
          0.11221984316154719,
          0.5,
          0.8998994176813129,
          0.5,
          0.5,
          0.9,
          0.5,
          1,
          0.15929767425395588,
          0.5,
          0.9,
          0.5,
          0.9,
          0.3037667071688943,
          0.9,
          0.9533333333333334,
          1,
          0.9,
          0.9,
          0.32189117503154535,
          0.9,
          0.5,
          0.9,
          0.5,
          0.5,
          0.19083969465648856,
          0.5,
          0.5,
          0.9,
          1,
          0.25242836083119613,
          0.5,
          0.9,
          0.2631578947368421,
          0.9,
          0.9,
          0.85,
          0.5,
          0.9,
          0.5,
          0.5328502158043374,
          0.9,
          0.26686807653575023,
          0.2358490566037736,
          0.85,
          1,
          0.12048192771084337,
          0.9,
          0.5,
          0.25838858542585025,
          0.9,
          0.483617005323536,
          0.5,
          0.5,
          0.5,
          1,
          0.5,
          0.9,
          0.5,
          0.75,
          0.9,
          0.5,
          0.5,
          0.5,
          0.5,
          0.75,
          0.280905188880649,
          0.40728931505574045,
          0.1316829075585989,
          0.9,
          0.5,
          0.9,
          0.5,
          0.85,
          0.294361794194008,
          0.5,
          0.22321428571428573,
          1,
          1,
          0.75,
          0.20241603782750914,
          0.9,
          0.26343519494204426,
          0.9,
          0.9,
          0.14240457797855607,
          1,
          0.75,
          0.5,
          0.35714285714285715,
          0.9,
          1,
          0.9,
          0.85,
          1,
          1,
          0.75,
          1,
          0.47523999619808005,
          0.29069767441860467,
          0.49824617346938777,
          0.9,
          1.25,
          0.2583044893320246,
          0.5,
          0.18313408345053914,
          0.24413108862935043,
          0.75,
          0.36764705882352944,
          0.24489795918367346,
          0.3564,
          0.9,
          0.5,
          0.9,
          0.5,
          0.18181818181818182,
          0.9,
          0.14204545454545456,
          0.20408163265306123,
          0.5,
          0.3097125867195243,
          1,
          0.9,
          0.5,
          0.9,
          0.5,
          0.65,
          0.5,
          0.3195646616266754,
          0.5,
          0.9,
          0.38706880535083915,
          0.75,
          0.5,
          0.3333333333333333,
          0.75,
          0.9,
          0.5,
          0.31344818074675895,
          0.5,
          1,
          0.9,
          0.85,
          0.1364182036450944,
          1,
          0.3069141622471027,
          0.5,
          0.9,
          0.2805503862854565,
          0.85,
          0.9,
          0.1968697706467172,
          0.9,
          0.5,
          0.5,
          0.75,
          0.21764206585848914,
          0.9,
          0.3125,
          0.1594421650120113,
          0.75,
          0.9,
          0.5,
          0.5,
          1.027542372881356,
          0.2695617080662105,
          0.5,
          0.5,
          0.9,
          0.16666666666666666,
          1.125,
          1.0833333333333333,
          0.9461236762975552,
          1,
          0.3566715411777294,
          0.5,
          0.5,
          0.9,
          0.38961038961038963,
          0.9,
          0.2208187960959237,
          0.5,
          0.85,
          0.5,
          1,
          1,
          0.5,
          0.5,
          0.9,
          0.9,
          0.5,
          0.5,
          0.9,
          0.5,
          0.9,
          0.9,
          0.5,
          0.75,
          0.5,
          0.5,
          0.85,
          0.5526388505111909,
          0.5,
          0.9,
          0.8935784243637404,
          0.5,
          0.38448525114576604,
          0.5,
          0.5,
          0.27793156657795093,
          0.5,
          0.5,
          0.85,
          1,
          0.39224915666431315,
          0.24635881668933168,
          0.5,
          0.904676284456274,
          1.1954022988505748,
          1,
          0.9,
          0.2933566454080884,
          1,
          0.5,
          0.9,
          0.31495004892224093,
          0.45,
          0.83,
          0.85,
          0.9,
          0.5,
          0.9,
          0.2193040167723712,
          0.3191579902975971,
          0.5,
          0.85,
          0.11990407673860912,
          0.75,
          1,
          0.85,
          0.35714285714285715,
          0.9,
          0.9,
          0.9140168721609344,
          0.9,
          0.5,
          0.5,
          0.35714285714285715,
          0.9,
          0.5,
          0.75,
          0.85,
          0.5,
          0.3277076847452073,
          0.9,
          0.1445817971517386,
          0.37037037037037035,
          0.5,
          0.9,
          0.07796128130925058,
          0.9,
          0.5,
          0.5,
          0.9,
          0.211864406779661,
          1,
          1,
          0.5,
          0.5,
          0.9,
          0.5,
          0.21367521367521367,
          0.27918781725888325,
          0.5,
          0.35714285714285715,
          0.9,
          1.2468354430379747,
          0.7357723577235772,
          0.9,
          0.85,
          0.4170241159088743,
          0.9,
          0.9,
          0.5,
          1,
          0.5,
          0.5,
          1.44,
          0.5,
          0.9,
          1,
          0.7951604137689636,
          1,
          0.5,
          0.5,
          1,
          0.5,
          1,
          0.9,
          0.5,
          0.9,
          0.5,
          0.35816618911174786,
          0.5,
          0.5,
          1.0149253731343284,
          0.9551635015170243,
          0.9,
          0.5,
          1.001086894342429,
          0.3563537880407669,
          0.23023437859741216,
          0.5,
          0.4309044684793381,
          0.22727272727272727,
          0.39284086802118195,
          0.5,
          0.9,
          0.4,
          1,
          0.9,
          0.9,
          0.8333,
          0.5,
          0.5,
          0.85,
          0.5,
          0.41642375281086036,
          0.9,
          0.5,
          0.9,
          0.5,
          0.5,
          0.5,
          0.9,
          0.75,
          0.85,
          0.5,
          0.45454545454545453,
          0.75,
          1,
          0.5,
          0.9,
          0.75,
          0.3472222222222222,
          0.85,
          0.9,
          1.0789946140035906,
          1,
          0.5,
          0.5,
          0.5,
          1,
          0.25906735751295334,
          0.18518518518518517,
          0.1849890054867739,
          0.5,
          0.9,
          0.49992001279795234,
          0.27839023629763254,
          0.85,
          1,
          0.9,
          0.5,
          0.9067491650917752,
          0.41288191577208916,
          0.5,
          0.9,
          0.5,
          0.19537660794948342,
          0.5,
          0.5,
          0.352112676056338,
          0.5,
          0.75,
          0.9009116564743956,
          0.9,
          0.9,
          1,
          0.5,
          0.85,
          0.5,
          0.5,
          0.5,
          0.25,
          0.85,
          1,
          0.375,
          0.9,
          0.5,
          0.5,
          0.75,
          0.9,
          1,
          2.58167694768106,
          0.85,
          0.4166666666666667,
          0.3718688641637413,
          0.9,
          0.2500018750140626,
          0.9,
          0.5,
          0.9,
          0.5,
          0.4966139954853273,
          0.9,
          0.9,
          0.5,
          0.75,
          0.9,
          0.5,
          0.5,
          0.5,
          0.40816326530612246,
          0.9,
          0.5,
          0.3170918868869821,
          0.9,
          0.9,
          0.75,
          1.209125475285171,
          0.3333333333333333,
          0.85,
          0.5,
          1.0386819484240688,
          0.21696115527475962,
          0.35,
          0.9,
          0.4997601151447305,
          0.2959747434885556,
          0.9621501571587209,
          1,
          0.75,
          0.9,
          0.5,
          0.9,
          0.9,
          0.75,
          0.9,
          0.9,
          1,
          1,
          0.2828118283219077,
          0.85,
          0.9,
          0.3148614609571788,
          1.081651376146789,
          0.9,
          1,
          0.85,
          0.9,
          0.2506265664160401,
          0.5,
          0.5,
          0.85,
          1,
          0.5,
          0.22751679073915654,
          0.5,
          0.5,
          0.6012412723041117,
          0.36063702924846447,
          0.5,
          0.9,
          0.9,
          0.291970802919708,
          0.5,
          0.4032258064516129,
          0.9,
          0.9,
          1.0727969348659003,
          0.9,
          0.9032628398791541,
          0.5,
          0.75,
          1,
          0.85,
          0.85,
          0.27062134661182075,
          0.85,
          0.9,
          0.5,
          0.9,
          0.261376408165399,
          0.9,
          0.9,
          0.2518891687657431,
          0.9,
          0.5,
          0.75,
          0.9,
          0.5,
          0.5,
          0.5515267175572519,
          0.3900034320302019,
          0.9,
          0.9,
          0.5,
          0.5,
          0.9,
          0.9,
          0.9,
          0.9,
          0.5,
          0.9,
          0.1314474998685525,
          0.9,
          0.5,
          0.75,
          0.9,
          0.22103518143304476,
          0.5,
          0.5,
          0.9438857180707196,
          0.5,
          0.26246719160104987,
          0.5,
          0.5,
          0.21652989195158392,
          0.9,
          0.75,
          0.75,
          0.5,
          1.0593080724876442,
          0.9,
          0.75,
          0.9,
          0.9,
          0.11058423864963375,
          0.5208333333333334,
          0.9,
          0.125,
          0.75,
          0.4976822227910019,
          0.5,
          0.5,
          0.9,
          0.5,
          0.9,
          0.49663282941655573,
          0.16225969339408336,
          0.5,
          0.35714285714285715,
          0.3953849786656855,
          1,
          1,
          0.75,
          0.9,
          0.9,
          0.12047931490642372,
          0.9,
          0.9,
          0.75,
          1,
          0.85,
          0.85,
          0.1079675751778226,
          1.2,
          0.22858187802870988,
          0.499980000799968,
          0.3747189607794154,
          0.9,
          0.5,
          0.9,
          0.85,
          0.85,
          0.5,
          0.5,
          0.9,
          0.5,
          0.5,
          1.1271844660194175,
          0.9,
          0.5,
          0.436046511627907,
          0.26791551016471443,
          1,
          0.5,
          1,
          1.0000285722449214,
          0.9,
          0.9,
          1,
          0.5,
          0.9,
          0.5,
          0.75,
          0.9,
          0.5,
          1,
          0.35064097169626074,
          0.9,
          0.48801913034990974,
          0.9,
          0.9,
          1.9952114924181963,
          0.5,
          0.5,
          0.5,
          0.3324468085106383,
          0.4337158293885846,
          0.23809523809523808,
          0.2896988139982467,
          0.5,
          0.5,
          0.85,
          0.38639876352395675,
          0.85,
          0.9,
          0.3000180010800648,
          0.9,
          0.9,
          0.3333333333333333,
          0.9,
          0.23923444976076555,
          0.5,
          0.5,
          0.5,
          0.75,
          0.5,
          0.3783483831912425,
          0.5,
          0.5,
          0.6881879755718757,
          0.85,
          0.28901734104046245,
          0.9,
          0.35714285714285715,
          0.75,
          0.20559683940090726,
          0.2510703967916551,
          0.9,
          0.85,
          0.5,
          0.47413793103448276,
          0.9,
          0.9,
          0.5,
          0.47714476572192005,
          0.9,
          0.9,
          0.9,
          0.5,
          0.75,
          0.35714285714285715,
          0.9,
          0.4828429794630786,
          0.35714285714285715,
          0.9,
          0.9,
          0.9,
          0.5,
          0.9,
          0.9,
          0.3191489361702128,
          0.20254395203759215,
          0.75,
          0.42857142857142855,
          0.30303030303030304,
          0.9,
          0.75,
          1,
          0.9,
          0.85,
          0.19275250578257516,
          1,
          0.9,
          0.5,
          0.9,
          0.1612977556569427,
          0.9,
          0.9,
          0.6994002890173411,
          0.9,
          0.85,
          1.3103448275862069,
          0.14046522081132712,
          0.9,
          0.5,
          0.5,
          0.5,
          0.5,
          0.5,
          0.22475193005719937,
          0.4444444444444444,
          0.5286343612334802,
          0.85,
          1.039643211100099,
          0.9,
          0.75,
          0.9,
          0.9,
          0.5,
          0.9,
          0.5,
          0.3021148036253776,
          0.75,
          1.8,
          1,
          0.9,
          0.46877929870616913,
          0.9,
          0.5,
          0.9,
          0.9,
          0.75,
          0.9,
          0.9534111520855575,
          0.3290382868950631,
          0.5,
          0.2872462657985446,
          0.75,
          1.644736842105263,
          0.27578599007170435,
          0.1567869954594486,
          1,
          0.5,
          0.9,
          0.5,
          0.5,
          0.5,
          0.5,
          0.85,
          0.35714285714285715,
          0.9,
          0.75,
          0.85,
          0.2139592735654744,
          0.2536912070627632,
          0.9,
          0.5,
          0.8455882352941176,
          0.75,
          1,
          1,
          0.5,
          0.9,
          0.9,
          0.75,
          1.586014873295034,
          0.9,
          0.1831417975367428,
          0.75,
          0.15864621893178213,
          0.9,
          0.2270068050154235,
          0.9,
          0.5,
          0.23850410227055904,
          0.9,
          0.9,
          0.5,
          4.580712148048617,
          0.9040178571428571,
          0.85,
          0.9,
          0.5,
          0.9,
          0.75,
          0.7649345749140093,
          0.75,
          0.9,
          0.85,
          0.9,
          0.85,
          0.85,
          0.9,
          0.9,
          0.1813775991409957,
          0.5,
          0.4230769230769231,
          0.5,
          0.9,
          0.9,
          0.5,
          0.44642857142857145,
          0.9,
          0.5,
          1,
          1,
          0.5,
          0.19828680203045684,
          0.5,
          0.9,
          0.35714285714285715,
          0.8738,
          0.5,
          1,
          0.5,
          0.15397249024840895,
          0.3248525169573014,
          0.9,
          0.5,
          0.29217212444195123,
          0.9,
          0.5,
          0.4087705815987835,
          0.5,
          0.17867991280420256,
          1.35,
          0.5,
          0.9,
          0.4090909090909091,
          0.3284417410039807,
          0.5,
          0.9,
          0.26693919887733,
          0.4606111652146448,
          0.75,
          0.5,
          0.9,
          0.2601732962291523,
          0.5,
          0.5,
          0.46875,
          0.21162050518046996,
          0.9,
          0.9,
          0.9,
          0.85,
          0.25,
          0.9,
          0.23958333333333334,
          0.9,
          0.85,
          0.9,
          0.9,
          0.5,
          0.75,
          1,
          0.9
         ],
         "x0": " ",
         "xaxis": "x",
         "y0": " ",
         "yaxis": "y"
        }
       ],
       "layout": {
        "boxmode": "group",
        "legend": {
         "title": {
          "text": "default_status"
         },
         "tracegroupgap": 0
        },
        "margin": {
         "t": 60
        },
        "template": {
         "data": {
          "bar": [
           {
            "error_x": {
             "color": "#2a3f5f"
            },
            "error_y": {
             "color": "#2a3f5f"
            },
            "marker": {
             "line": {
              "color": "#E5ECF6",
              "width": 0.5
             },
             "pattern": {
              "fillmode": "overlay",
              "size": 10,
              "solidity": 0.2
             }
            },
            "type": "bar"
           }
          ],
          "barpolar": [
           {
            "marker": {
             "line": {
              "color": "#E5ECF6",
              "width": 0.5
             },
             "pattern": {
              "fillmode": "overlay",
              "size": 10,
              "solidity": 0.2
             }
            },
            "type": "barpolar"
           }
          ],
          "carpet": [
           {
            "aaxis": {
             "endlinecolor": "#2a3f5f",
             "gridcolor": "white",
             "linecolor": "white",
             "minorgridcolor": "white",
             "startlinecolor": "#2a3f5f"
            },
            "baxis": {
             "endlinecolor": "#2a3f5f",
             "gridcolor": "white",
             "linecolor": "white",
             "minorgridcolor": "white",
             "startlinecolor": "#2a3f5f"
            },
            "type": "carpet"
           }
          ],
          "choropleth": [
           {
            "colorbar": {
             "outlinewidth": 0,
             "ticks": ""
            },
            "type": "choropleth"
           }
          ],
          "contour": [
           {
            "colorbar": {
             "outlinewidth": 0,
             "ticks": ""
            },
            "colorscale": [
             [
              0,
              "#0d0887"
             ],
             [
              0.1111111111111111,
              "#46039f"
             ],
             [
              0.2222222222222222,
              "#7201a8"
             ],
             [
              0.3333333333333333,
              "#9c179e"
             ],
             [
              0.4444444444444444,
              "#bd3786"
             ],
             [
              0.5555555555555556,
              "#d8576b"
             ],
             [
              0.6666666666666666,
              "#ed7953"
             ],
             [
              0.7777777777777778,
              "#fb9f3a"
             ],
             [
              0.8888888888888888,
              "#fdca26"
             ],
             [
              1,
              "#f0f921"
             ]
            ],
            "type": "contour"
           }
          ],
          "contourcarpet": [
           {
            "colorbar": {
             "outlinewidth": 0,
             "ticks": ""
            },
            "type": "contourcarpet"
           }
          ],
          "heatmap": [
           {
            "colorbar": {
             "outlinewidth": 0,
             "ticks": ""
            },
            "colorscale": [
             [
              0,
              "#0d0887"
             ],
             [
              0.1111111111111111,
              "#46039f"
             ],
             [
              0.2222222222222222,
              "#7201a8"
             ],
             [
              0.3333333333333333,
              "#9c179e"
             ],
             [
              0.4444444444444444,
              "#bd3786"
             ],
             [
              0.5555555555555556,
              "#d8576b"
             ],
             [
              0.6666666666666666,
              "#ed7953"
             ],
             [
              0.7777777777777778,
              "#fb9f3a"
             ],
             [
              0.8888888888888888,
              "#fdca26"
             ],
             [
              1,
              "#f0f921"
             ]
            ],
            "type": "heatmap"
           }
          ],
          "heatmapgl": [
           {
            "colorbar": {
             "outlinewidth": 0,
             "ticks": ""
            },
            "colorscale": [
             [
              0,
              "#0d0887"
             ],
             [
              0.1111111111111111,
              "#46039f"
             ],
             [
              0.2222222222222222,
              "#7201a8"
             ],
             [
              0.3333333333333333,
              "#9c179e"
             ],
             [
              0.4444444444444444,
              "#bd3786"
             ],
             [
              0.5555555555555556,
              "#d8576b"
             ],
             [
              0.6666666666666666,
              "#ed7953"
             ],
             [
              0.7777777777777778,
              "#fb9f3a"
             ],
             [
              0.8888888888888888,
              "#fdca26"
             ],
             [
              1,
              "#f0f921"
             ]
            ],
            "type": "heatmapgl"
           }
          ],
          "histogram": [
           {
            "marker": {
             "pattern": {
              "fillmode": "overlay",
              "size": 10,
              "solidity": 0.2
             }
            },
            "type": "histogram"
           }
          ],
          "histogram2d": [
           {
            "colorbar": {
             "outlinewidth": 0,
             "ticks": ""
            },
            "colorscale": [
             [
              0,
              "#0d0887"
             ],
             [
              0.1111111111111111,
              "#46039f"
             ],
             [
              0.2222222222222222,
              "#7201a8"
             ],
             [
              0.3333333333333333,
              "#9c179e"
             ],
             [
              0.4444444444444444,
              "#bd3786"
             ],
             [
              0.5555555555555556,
              "#d8576b"
             ],
             [
              0.6666666666666666,
              "#ed7953"
             ],
             [
              0.7777777777777778,
              "#fb9f3a"
             ],
             [
              0.8888888888888888,
              "#fdca26"
             ],
             [
              1,
              "#f0f921"
             ]
            ],
            "type": "histogram2d"
           }
          ],
          "histogram2dcontour": [
           {
            "colorbar": {
             "outlinewidth": 0,
             "ticks": ""
            },
            "colorscale": [
             [
              0,
              "#0d0887"
             ],
             [
              0.1111111111111111,
              "#46039f"
             ],
             [
              0.2222222222222222,
              "#7201a8"
             ],
             [
              0.3333333333333333,
              "#9c179e"
             ],
             [
              0.4444444444444444,
              "#bd3786"
             ],
             [
              0.5555555555555556,
              "#d8576b"
             ],
             [
              0.6666666666666666,
              "#ed7953"
             ],
             [
              0.7777777777777778,
              "#fb9f3a"
             ],
             [
              0.8888888888888888,
              "#fdca26"
             ],
             [
              1,
              "#f0f921"
             ]
            ],
            "type": "histogram2dcontour"
           }
          ],
          "mesh3d": [
           {
            "colorbar": {
             "outlinewidth": 0,
             "ticks": ""
            },
            "type": "mesh3d"
           }
          ],
          "parcoords": [
           {
            "line": {
             "colorbar": {
              "outlinewidth": 0,
              "ticks": ""
             }
            },
            "type": "parcoords"
           }
          ],
          "pie": [
           {
            "automargin": true,
            "type": "pie"
           }
          ],
          "scatter": [
           {
            "fillpattern": {
             "fillmode": "overlay",
             "size": 10,
             "solidity": 0.2
            },
            "type": "scatter"
           }
          ],
          "scatter3d": [
           {
            "line": {
             "colorbar": {
              "outlinewidth": 0,
              "ticks": ""
             }
            },
            "marker": {
             "colorbar": {
              "outlinewidth": 0,
              "ticks": ""
             }
            },
            "type": "scatter3d"
           }
          ],
          "scattercarpet": [
           {
            "marker": {
             "colorbar": {
              "outlinewidth": 0,
              "ticks": ""
             }
            },
            "type": "scattercarpet"
           }
          ],
          "scattergeo": [
           {
            "marker": {
             "colorbar": {
              "outlinewidth": 0,
              "ticks": ""
             }
            },
            "type": "scattergeo"
           }
          ],
          "scattergl": [
           {
            "marker": {
             "colorbar": {
              "outlinewidth": 0,
              "ticks": ""
             }
            },
            "type": "scattergl"
           }
          ],
          "scattermapbox": [
           {
            "marker": {
             "colorbar": {
              "outlinewidth": 0,
              "ticks": ""
             }
            },
            "type": "scattermapbox"
           }
          ],
          "scatterpolar": [
           {
            "marker": {
             "colorbar": {
              "outlinewidth": 0,
              "ticks": ""
             }
            },
            "type": "scatterpolar"
           }
          ],
          "scatterpolargl": [
           {
            "marker": {
             "colorbar": {
              "outlinewidth": 0,
              "ticks": ""
             }
            },
            "type": "scatterpolargl"
           }
          ],
          "scatterternary": [
           {
            "marker": {
             "colorbar": {
              "outlinewidth": 0,
              "ticks": ""
             }
            },
            "type": "scatterternary"
           }
          ],
          "surface": [
           {
            "colorbar": {
             "outlinewidth": 0,
             "ticks": ""
            },
            "colorscale": [
             [
              0,
              "#0d0887"
             ],
             [
              0.1111111111111111,
              "#46039f"
             ],
             [
              0.2222222222222222,
              "#7201a8"
             ],
             [
              0.3333333333333333,
              "#9c179e"
             ],
             [
              0.4444444444444444,
              "#bd3786"
             ],
             [
              0.5555555555555556,
              "#d8576b"
             ],
             [
              0.6666666666666666,
              "#ed7953"
             ],
             [
              0.7777777777777778,
              "#fb9f3a"
             ],
             [
              0.8888888888888888,
              "#fdca26"
             ],
             [
              1,
              "#f0f921"
             ]
            ],
            "type": "surface"
           }
          ],
          "table": [
           {
            "cells": {
             "fill": {
              "color": "#EBF0F8"
             },
             "line": {
              "color": "white"
             }
            },
            "header": {
             "fill": {
              "color": "#C8D4E3"
             },
             "line": {
              "color": "white"
             }
            },
            "type": "table"
           }
          ]
         },
         "layout": {
          "annotationdefaults": {
           "arrowcolor": "#2a3f5f",
           "arrowhead": 0,
           "arrowwidth": 1
          },
          "autotypenumbers": "strict",
          "coloraxis": {
           "colorbar": {
            "outlinewidth": 0,
            "ticks": ""
           }
          },
          "colorscale": {
           "diverging": [
            [
             0,
             "#8e0152"
            ],
            [
             0.1,
             "#c51b7d"
            ],
            [
             0.2,
             "#de77ae"
            ],
            [
             0.3,
             "#f1b6da"
            ],
            [
             0.4,
             "#fde0ef"
            ],
            [
             0.5,
             "#f7f7f7"
            ],
            [
             0.6,
             "#e6f5d0"
            ],
            [
             0.7,
             "#b8e186"
            ],
            [
             0.8,
             "#7fbc41"
            ],
            [
             0.9,
             "#4d9221"
            ],
            [
             1,
             "#276419"
            ]
           ],
           "sequential": [
            [
             0,
             "#0d0887"
            ],
            [
             0.1111111111111111,
             "#46039f"
            ],
            [
             0.2222222222222222,
             "#7201a8"
            ],
            [
             0.3333333333333333,
             "#9c179e"
            ],
            [
             0.4444444444444444,
             "#bd3786"
            ],
            [
             0.5555555555555556,
             "#d8576b"
            ],
            [
             0.6666666666666666,
             "#ed7953"
            ],
            [
             0.7777777777777778,
             "#fb9f3a"
            ],
            [
             0.8888888888888888,
             "#fdca26"
            ],
            [
             1,
             "#f0f921"
            ]
           ],
           "sequentialminus": [
            [
             0,
             "#0d0887"
            ],
            [
             0.1111111111111111,
             "#46039f"
            ],
            [
             0.2222222222222222,
             "#7201a8"
            ],
            [
             0.3333333333333333,
             "#9c179e"
            ],
            [
             0.4444444444444444,
             "#bd3786"
            ],
            [
             0.5555555555555556,
             "#d8576b"
            ],
            [
             0.6666666666666666,
             "#ed7953"
            ],
            [
             0.7777777777777778,
             "#fb9f3a"
            ],
            [
             0.8888888888888888,
             "#fdca26"
            ],
            [
             1,
             "#f0f921"
            ]
           ]
          },
          "colorway": [
           "#636efa",
           "#EF553B",
           "#00cc96",
           "#ab63fa",
           "#FFA15A",
           "#19d3f3",
           "#FF6692",
           "#B6E880",
           "#FF97FF",
           "#FECB52"
          ],
          "font": {
           "color": "#2a3f5f"
          },
          "geo": {
           "bgcolor": "white",
           "lakecolor": "white",
           "landcolor": "#E5ECF6",
           "showlakes": true,
           "showland": true,
           "subunitcolor": "white"
          },
          "hoverlabel": {
           "align": "left"
          },
          "hovermode": "closest",
          "mapbox": {
           "style": "light"
          },
          "paper_bgcolor": "white",
          "plot_bgcolor": "#E5ECF6",
          "polar": {
           "angularaxis": {
            "gridcolor": "white",
            "linecolor": "white",
            "ticks": ""
           },
           "bgcolor": "#E5ECF6",
           "radialaxis": {
            "gridcolor": "white",
            "linecolor": "white",
            "ticks": ""
           }
          },
          "scene": {
           "xaxis": {
            "backgroundcolor": "#E5ECF6",
            "gridcolor": "white",
            "gridwidth": 2,
            "linecolor": "white",
            "showbackground": true,
            "ticks": "",
            "zerolinecolor": "white"
           },
           "yaxis": {
            "backgroundcolor": "#E5ECF6",
            "gridcolor": "white",
            "gridwidth": 2,
            "linecolor": "white",
            "showbackground": true,
            "ticks": "",
            "zerolinecolor": "white"
           },
           "zaxis": {
            "backgroundcolor": "#E5ECF6",
            "gridcolor": "white",
            "gridwidth": 2,
            "linecolor": "white",
            "showbackground": true,
            "ticks": "",
            "zerolinecolor": "white"
           }
          },
          "shapedefaults": {
           "line": {
            "color": "#2a3f5f"
           }
          },
          "ternary": {
           "aaxis": {
            "gridcolor": "white",
            "linecolor": "white",
            "ticks": ""
           },
           "baxis": {
            "gridcolor": "white",
            "linecolor": "white",
            "ticks": ""
           },
           "bgcolor": "#E5ECF6",
           "caxis": {
            "gridcolor": "white",
            "linecolor": "white",
            "ticks": ""
           }
          },
          "title": {
           "x": 0.05
          },
          "xaxis": {
           "automargin": true,
           "gridcolor": "white",
           "linecolor": "white",
           "ticks": "",
           "title": {
            "standoff": 15
           },
           "zerolinecolor": "white",
           "zerolinewidth": 2
          },
          "yaxis": {
           "automargin": true,
           "gridcolor": "white",
           "linecolor": "white",
           "ticks": "",
           "title": {
            "standoff": 15
           },
           "zerolinecolor": "white",
           "zerolinewidth": 2
          }
         }
        },
        "xaxis": {
         "anchor": "y",
         "domain": [
          0,
          1
         ],
         "title": {
          "text": "insured_loan_ratio"
         }
        },
        "yaxis": {
         "anchor": "x",
         "domain": [
          0,
          1
         ]
        }
       }
      }
     },
     "metadata": {},
     "output_type": "display_data"
    }
   ],
   "source": [
    "px.box(train, x = 'insured_loan_ratio', color = 'default_status')"
   ]
  },
  {
   "cell_type": "markdown",
   "metadata": {},
   "source": [
    "From the plot above, it could be observed that companies tend to default when the insured_loan_ratio is higher. The median default insured_loan_ratio is 0.9, whereas the median non-default insured_loan_ratio is 0.75."
   ]
  },
  {
   "cell_type": "markdown",
   "metadata": {},
   "source": [
    "## Encode categorical features into numerical values"
   ]
  },
  {
   "cell_type": "code",
   "execution_count": 26,
   "metadata": {},
   "outputs": [],
   "source": [
    "train, test, encoder_dict = encode_categorical_features(train, test)"
   ]
  },
  {
   "cell_type": "markdown",
   "metadata": {},
   "source": [
    "## Perform Nested Stratified K-Fold Cross-Validation\n",
    "\n",
    "We perform nested stratified k-fold cross-validation to estimate:\n",
    "- The average model performance on the full train dataset\n",
    "- The final number of boosting rounds required for training with the full train dataset\n",
    "\n",
    "### How this works\n",
    "\n",
    "1) We first stratify split our train dataset into N partitions, based on the default_status label.\n",
    "2) We keep 1 partition as the held-out test set and use the remaining N - 1 partitions for model training and validation.\n",
    "3) We then further stratify split the N - 1 parititions dataset into another K partitions, based on the default_status label and perform K-fold cross validation with it. How this works is that we use K - 1 partitions for training and the remaining 1 partition for hyperparameter tuning. We repeat this process iteratively until all K partitions have been used for hyperparameter tuning. From these series of experiments, we estimate the optimal set of hyperparameters to use for training on the full N - 1 partitions dataset.\n",
    "4) Following which, we train our model with the full N - 1 partitions dataset and the optimal set of hyperparameters.\n",
    "5) After that, we compute the performance of our model (i.e. trained on N - 1 partitions dataset) on the held-out test set.\n",
    "6) We repeat steps 2 - 5 iteratively until all N partitions have been used as the held-out test set.\n",
    "7) Finally, we compute the average test performance of the models based on all N held-out test sets."
   ]
  },
  {
   "cell_type": "code",
   "execution_count": 27,
   "metadata": {},
   "outputs": [
    {
     "name": "stdout",
     "output_type": "stream",
     "text": [
      "Outer train shape: (1920, 14)\n",
      "test shape: (481, 14)\n",
      "Inner train shape: (1536, 14)\n",
      "val shape: (384, 14)\n",
      "[LightGBM] [Info] Number of positive: 494, number of negative: 1042\n",
      "[LightGBM] [Warning] Auto-choosing col-wise multi-threading, the overhead of testing was 0.000152 seconds.\n",
      "You can set `force_col_wise=true` to remove the overhead.\n",
      "[LightGBM] [Info] Total Bins 1250\n",
      "[LightGBM] [Info] Number of data points in the train set: 1536, number of used features: 11\n",
      "[LightGBM] [Info] [binary:BoostFromScore]: pavg=0.321615 -> initscore=-0.746362\n",
      "[LightGBM] [Info] Start training from score -0.746362\n",
      "Training until validation scores don't improve for 5 rounds\n",
      "Early stopping, best iteration is:\n",
      "[60]\tvalid_0's binary_logloss: 0.281848\n",
      "Best iteration: 60\n",
      "Validation accuracy: 0.8958333333333334\n",
      "Inner train shape: (1536, 14)\n",
      "val shape: (384, 14)\n",
      "[LightGBM] [Info] Number of positive: 494, number of negative: 1042\n",
      "[LightGBM] [Warning] Auto-choosing col-wise multi-threading, the overhead of testing was 0.000561 seconds.\n",
      "You can set `force_col_wise=true` to remove the overhead.\n",
      "[LightGBM] [Info] Total Bins 1252\n",
      "[LightGBM] [Info] Number of data points in the train set: 1536, number of used features: 11\n",
      "[LightGBM] [Info] [binary:BoostFromScore]: pavg=0.321615 -> initscore=-0.746362\n",
      "[LightGBM] [Info] Start training from score -0.746362\n",
      "Training until validation scores don't improve for 5 rounds\n",
      "Early stopping, best iteration is:\n",
      "[54]\tvalid_0's binary_logloss: 0.222113\n",
      "Best iteration: 54\n",
      "Validation accuracy: 0.921875\n",
      "Inner train shape: (1536, 14)\n",
      "val shape: (384, 14)\n",
      "[LightGBM] [Info] Number of positive: 494, number of negative: 1042\n",
      "[LightGBM] [Warning] Auto-choosing col-wise multi-threading, the overhead of testing was 0.000135 seconds.\n",
      "You can set `force_col_wise=true` to remove the overhead.\n",
      "[LightGBM] [Info] Total Bins 1250\n",
      "[LightGBM] [Info] Number of data points in the train set: 1536, number of used features: 11\n",
      "[LightGBM] [Info] [binary:BoostFromScore]: pavg=0.321615 -> initscore=-0.746362\n",
      "[LightGBM] [Info] Start training from score -0.746362\n",
      "Training until validation scores don't improve for 5 rounds\n",
      "Early stopping, best iteration is:\n",
      "[30]\tvalid_0's binary_logloss: 0.335548\n",
      "Best iteration: 30\n",
      "Validation accuracy: 0.8619791666666666\n",
      "Inner train shape: (1536, 14)\n",
      "val shape: (384, 14)\n",
      "[LightGBM] [Info] Number of positive: 495, number of negative: 1041\n",
      "[LightGBM] [Warning] Auto-choosing col-wise multi-threading, the overhead of testing was 0.000142 seconds.\n",
      "You can set `force_col_wise=true` to remove the overhead.\n",
      "[LightGBM] [Info] Total Bins 1251\n",
      "[LightGBM] [Info] Number of data points in the train set: 1536, number of used features: 11\n",
      "[LightGBM] [Info] [binary:BoostFromScore]: pavg=0.322266 -> initscore=-0.743379\n",
      "[LightGBM] [Info] Start training from score -0.743379\n",
      "Training until validation scores don't improve for 5 rounds\n",
      "Early stopping, best iteration is:\n",
      "[63]\tvalid_0's binary_logloss: 0.255137\n",
      "Best iteration: 63\n",
      "Validation accuracy: 0.8828125\n",
      "Inner train shape: (1536, 14)\n",
      "val shape: (384, 14)\n",
      "[LightGBM] [Info] Number of positive: 495, number of negative: 1041\n",
      "[LightGBM] [Warning] Auto-choosing col-wise multi-threading, the overhead of testing was 0.000137 seconds.\n",
      "You can set `force_col_wise=true` to remove the overhead.\n",
      "[LightGBM] [Info] Total Bins 1248\n",
      "[LightGBM] [Info] Number of data points in the train set: 1536, number of used features: 11\n",
      "[LightGBM] [Info] [binary:BoostFromScore]: pavg=0.322266 -> initscore=-0.743379\n",
      "[LightGBM] [Info] Start training from score -0.743379\n",
      "Training until validation scores don't improve for 5 rounds\n",
      "Early stopping, best iteration is:\n",
      "[63]\tvalid_0's binary_logloss: 0.248313\n",
      "Best iteration: 63\n",
      "Validation accuracy: 0.9010416666666666\n",
      "Average best iteration: 54.0\n",
      "Scaled average best iteration: 67\n",
      "[LightGBM] [Info] Number of positive: 618, number of negative: 1302\n",
      "[LightGBM] [Warning] Auto-choosing row-wise multi-threading, the overhead of testing was 0.000694 seconds.\n",
      "You can set `force_row_wise=true` to remove the overhead.\n",
      "And if memory is not enough, you can set `force_col_wise=true`.\n",
      "[LightGBM] [Info] Total Bins 1269\n",
      "[LightGBM] [Info] Number of data points in the train set: 1920, number of used features: 11\n",
      "[LightGBM] [Info] [binary:BoostFromScore]: pavg=0.321875 -> initscore=-0.745168\n",
      "[LightGBM] [Info] Start training from score -0.745168\n",
      "Test accuracy: 0.9230769230769231\n",
      "Outer train shape: (1921, 14)\n",
      "test shape: (480, 14)\n",
      "Inner train shape: (1536, 14)\n",
      "val shape: (385, 14)\n",
      "[LightGBM] [Info] Number of positive: 494, number of negative: 1042\n",
      "[LightGBM] [Warning] Auto-choosing col-wise multi-threading, the overhead of testing was 0.000132 seconds.\n",
      "You can set `force_col_wise=true` to remove the overhead.\n",
      "[LightGBM] [Info] Total Bins 1247\n",
      "[LightGBM] [Info] Number of data points in the train set: 1536, number of used features: 11\n",
      "[LightGBM] [Info] [binary:BoostFromScore]: pavg=0.321615 -> initscore=-0.746362\n",
      "[LightGBM] [Info] Start training from score -0.746362\n",
      "Training until validation scores don't improve for 5 rounds\n",
      "Early stopping, best iteration is:\n",
      "[44]\tvalid_0's binary_logloss: 0.250855\n",
      "Best iteration: 44\n",
      "Validation accuracy: 0.8961038961038961\n",
      "Inner train shape: (1537, 14)\n",
      "val shape: (384, 14)\n",
      "[LightGBM] [Info] Number of positive: 494, number of negative: 1043\n",
      "[LightGBM] [Warning] Auto-choosing col-wise multi-threading, the overhead of testing was 0.000143 seconds.\n",
      "You can set `force_col_wise=true` to remove the overhead.\n",
      "[LightGBM] [Info] Total Bins 1253\n",
      "[LightGBM] [Info] Number of data points in the train set: 1537, number of used features: 11\n",
      "[LightGBM] [Info] [binary:BoostFromScore]: pavg=0.321405 -> initscore=-0.747321\n",
      "[LightGBM] [Info] Start training from score -0.747321\n",
      "Training until validation scores don't improve for 5 rounds\n",
      "Early stopping, best iteration is:\n",
      "[50]\tvalid_0's binary_logloss: 0.223282\n",
      "Best iteration: 50\n",
      "Validation accuracy: 0.9192708333333334\n",
      "Inner train shape: (1537, 14)\n",
      "val shape: (384, 14)\n",
      "[LightGBM] [Info] Number of positive: 494, number of negative: 1043\n",
      "[LightGBM] [Warning] Auto-choosing col-wise multi-threading, the overhead of testing was 0.000126 seconds.\n",
      "You can set `force_col_wise=true` to remove the overhead.\n",
      "[LightGBM] [Info] Total Bins 1241\n",
      "[LightGBM] [Info] Number of data points in the train set: 1537, number of used features: 11\n",
      "[LightGBM] [Info] [binary:BoostFromScore]: pavg=0.321405 -> initscore=-0.747321\n",
      "[LightGBM] [Info] Start training from score -0.747321\n",
      "Training until validation scores don't improve for 5 rounds\n",
      "Early stopping, best iteration is:\n",
      "[48]\tvalid_0's binary_logloss: 0.257452\n",
      "Best iteration: 48\n",
      "Validation accuracy: 0.8802083333333334\n",
      "Inner train shape: (1537, 14)\n",
      "val shape: (384, 14)\n",
      "[LightGBM] [Info] Number of positive: 495, number of negative: 1042\n",
      "[LightGBM] [Warning] Auto-choosing col-wise multi-threading, the overhead of testing was 0.000144 seconds.\n",
      "You can set `force_col_wise=true` to remove the overhead.\n",
      "[LightGBM] [Info] Total Bins 1253\n",
      "[LightGBM] [Info] Number of data points in the train set: 1537, number of used features: 11\n",
      "[LightGBM] [Info] [binary:BoostFromScore]: pavg=0.322056 -> initscore=-0.744339\n",
      "[LightGBM] [Info] Start training from score -0.744339\n",
      "Training until validation scores don't improve for 5 rounds\n",
      "Early stopping, best iteration is:\n",
      "[53]\tvalid_0's binary_logloss: 0.278266\n",
      "Best iteration: 53\n",
      "Validation accuracy: 0.8776041666666666\n",
      "Inner train shape: (1537, 14)\n",
      "val shape: (384, 14)\n",
      "[LightGBM] [Info] Number of positive: 495, number of negative: 1042\n",
      "[LightGBM] [Warning] Auto-choosing col-wise multi-threading, the overhead of testing was 0.000148 seconds.\n",
      "You can set `force_col_wise=true` to remove the overhead.\n",
      "[LightGBM] [Info] Total Bins 1243\n",
      "[LightGBM] [Info] Number of data points in the train set: 1537, number of used features: 11\n",
      "[LightGBM] [Info] [binary:BoostFromScore]: pavg=0.322056 -> initscore=-0.744339\n",
      "[LightGBM] [Info] Start training from score -0.744339\n",
      "Training until validation scores don't improve for 5 rounds\n",
      "Early stopping, best iteration is:\n",
      "[43]\tvalid_0's binary_logloss: 0.261752\n",
      "Best iteration: 43\n",
      "Validation accuracy: 0.8854166666666666\n",
      "Average best iteration: 47.6\n",
      "Scaled average best iteration: 59\n",
      "[LightGBM] [Info] Number of positive: 618, number of negative: 1303\n",
      "[LightGBM] [Warning] Auto-choosing col-wise multi-threading, the overhead of testing was 0.000158 seconds.\n",
      "You can set `force_col_wise=true` to remove the overhead.\n",
      "[LightGBM] [Info] Total Bins 1267\n",
      "[LightGBM] [Info] Number of data points in the train set: 1921, number of used features: 11\n",
      "[LightGBM] [Info] [binary:BoostFromScore]: pavg=0.321707 -> initscore=-0.745936\n",
      "[LightGBM] [Info] Start training from score -0.745936\n",
      "Test accuracy: 0.8979166666666667\n",
      "Outer train shape: (1921, 14)\n",
      "test shape: (480, 14)\n",
      "Inner train shape: (1536, 14)\n",
      "val shape: (385, 14)\n",
      "[LightGBM] [Info] Number of positive: 494, number of negative: 1042\n",
      "[LightGBM] [Warning] Auto-choosing col-wise multi-threading, the overhead of testing was 0.000124 seconds.\n",
      "You can set `force_col_wise=true` to remove the overhead.\n",
      "[LightGBM] [Info] Total Bins 1247\n",
      "[LightGBM] [Info] Number of data points in the train set: 1536, number of used features: 11\n",
      "[LightGBM] [Info] [binary:BoostFromScore]: pavg=0.321615 -> initscore=-0.746362\n",
      "[LightGBM] [Info] Start training from score -0.746362\n",
      "Training until validation scores don't improve for 5 rounds\n",
      "Early stopping, best iteration is:\n",
      "[50]\tvalid_0's binary_logloss: 0.258908\n",
      "Best iteration: 50\n",
      "Validation accuracy: 0.8805194805194805\n",
      "Inner train shape: (1537, 14)\n",
      "val shape: (384, 14)\n",
      "[LightGBM] [Info] Number of positive: 494, number of negative: 1043\n",
      "[LightGBM] [Warning] Auto-choosing col-wise multi-threading, the overhead of testing was 0.000141 seconds.\n",
      "You can set `force_col_wise=true` to remove the overhead.\n",
      "[LightGBM] [Info] Total Bins 1249\n",
      "[LightGBM] [Info] Number of data points in the train set: 1537, number of used features: 11\n",
      "[LightGBM] [Info] [binary:BoostFromScore]: pavg=0.321405 -> initscore=-0.747321\n",
      "[LightGBM] [Info] Start training from score -0.747321\n",
      "Training until validation scores don't improve for 5 rounds\n",
      "Early stopping, best iteration is:\n",
      "[34]\tvalid_0's binary_logloss: 0.301894\n",
      "Best iteration: 34\n",
      "Validation accuracy: 0.8697916666666666\n",
      "Inner train shape: (1537, 14)\n",
      "val shape: (384, 14)\n",
      "[LightGBM] [Info] Number of positive: 494, number of negative: 1043\n",
      "[LightGBM] [Warning] Auto-choosing col-wise multi-threading, the overhead of testing was 0.000130 seconds.\n",
      "You can set `force_col_wise=true` to remove the overhead.\n",
      "[LightGBM] [Info] Total Bins 1249\n",
      "[LightGBM] [Info] Number of data points in the train set: 1537, number of used features: 11\n",
      "[LightGBM] [Info] [binary:BoostFromScore]: pavg=0.321405 -> initscore=-0.747321\n",
      "[LightGBM] [Info] Start training from score -0.747321\n",
      "Training until validation scores don't improve for 5 rounds\n",
      "Early stopping, best iteration is:\n",
      "[56]\tvalid_0's binary_logloss: 0.248482\n",
      "Best iteration: 56\n",
      "Validation accuracy: 0.90625\n",
      "Inner train shape: (1537, 14)\n",
      "val shape: (384, 14)\n",
      "[LightGBM] [Info] Number of positive: 495, number of negative: 1042\n",
      "[LightGBM] [Warning] Auto-choosing col-wise multi-threading, the overhead of testing was 0.000180 seconds.\n",
      "You can set `force_col_wise=true` to remove the overhead.\n",
      "[LightGBM] [Info] Total Bins 1256\n",
      "[LightGBM] [Info] Number of data points in the train set: 1537, number of used features: 11\n",
      "[LightGBM] [Info] [binary:BoostFromScore]: pavg=0.322056 -> initscore=-0.744339\n",
      "[LightGBM] [Info] Start training from score -0.744339\n",
      "Training until validation scores don't improve for 5 rounds\n",
      "Early stopping, best iteration is:\n",
      "[43]\tvalid_0's binary_logloss: 0.293417\n",
      "Best iteration: 43\n",
      "Validation accuracy: 0.8828125\n",
      "Inner train shape: (1537, 14)\n",
      "val shape: (384, 14)\n",
      "[LightGBM] [Info] Number of positive: 495, number of negative: 1042\n",
      "[LightGBM] [Warning] Auto-choosing col-wise multi-threading, the overhead of testing was 0.000124 seconds.\n",
      "You can set `force_col_wise=true` to remove the overhead.\n",
      "[LightGBM] [Info] Total Bins 1254\n",
      "[LightGBM] [Info] Number of data points in the train set: 1537, number of used features: 11\n",
      "[LightGBM] [Info] [binary:BoostFromScore]: pavg=0.322056 -> initscore=-0.744339\n",
      "[LightGBM] [Info] Start training from score -0.744339\n",
      "Training until validation scores don't improve for 5 rounds\n",
      "Early stopping, best iteration is:\n",
      "[54]\tvalid_0's binary_logloss: 0.232413\n",
      "Best iteration: 54\n",
      "Validation accuracy: 0.9088541666666666\n",
      "Average best iteration: 47.4\n",
      "Scaled average best iteration: 59\n",
      "[LightGBM] [Info] Number of positive: 618, number of negative: 1303\n",
      "[LightGBM] [Warning] Auto-choosing col-wise multi-threading, the overhead of testing was 0.000152 seconds.\n",
      "You can set `force_col_wise=true` to remove the overhead.\n",
      "[LightGBM] [Info] Total Bins 1269\n",
      "[LightGBM] [Info] Number of data points in the train set: 1921, number of used features: 11\n",
      "[LightGBM] [Info] [binary:BoostFromScore]: pavg=0.321707 -> initscore=-0.745936\n",
      "[LightGBM] [Info] Start training from score -0.745936\n",
      "Test accuracy: 0.9145833333333333\n",
      "Outer train shape: (1921, 14)\n",
      "test shape: (480, 14)\n",
      "Inner train shape: (1536, 14)\n",
      "val shape: (385, 14)\n",
      "[LightGBM] [Info] Number of positive: 495, number of negative: 1041\n",
      "[LightGBM] [Warning] Auto-choosing col-wise multi-threading, the overhead of testing was 0.000138 seconds.\n",
      "You can set `force_col_wise=true` to remove the overhead.\n",
      "[LightGBM] [Info] Total Bins 1242\n",
      "[LightGBM] [Info] Number of data points in the train set: 1536, number of used features: 11\n",
      "[LightGBM] [Info] [binary:BoostFromScore]: pavg=0.322266 -> initscore=-0.743379\n",
      "[LightGBM] [Info] Start training from score -0.743379\n",
      "Training until validation scores don't improve for 5 rounds\n",
      "Early stopping, best iteration is:\n",
      "[36]\tvalid_0's binary_logloss: 0.236268\n",
      "Best iteration: 36\n",
      "Validation accuracy: 0.9116883116883117\n",
      "Inner train shape: (1537, 14)\n",
      "val shape: (384, 14)\n",
      "[LightGBM] [Info] Number of positive: 495, number of negative: 1042\n",
      "[LightGBM] [Warning] Auto-choosing col-wise multi-threading, the overhead of testing was 0.000142 seconds.\n",
      "You can set `force_col_wise=true` to remove the overhead.\n",
      "[LightGBM] [Info] Total Bins 1253\n",
      "[LightGBM] [Info] Number of data points in the train set: 1537, number of used features: 11\n",
      "[LightGBM] [Info] [binary:BoostFromScore]: pavg=0.322056 -> initscore=-0.744339\n",
      "[LightGBM] [Info] Start training from score -0.744339\n",
      "Training until validation scores don't improve for 5 rounds\n",
      "Early stopping, best iteration is:\n",
      "[34]\tvalid_0's binary_logloss: 0.284573\n",
      "Best iteration: 34\n",
      "Validation accuracy: 0.8697916666666666\n",
      "Inner train shape: (1537, 14)\n",
      "val shape: (384, 14)\n",
      "[LightGBM] [Info] Number of positive: 495, number of negative: 1042\n",
      "[LightGBM] [Warning] Auto-choosing col-wise multi-threading, the overhead of testing was 0.000143 seconds.\n",
      "You can set `force_col_wise=true` to remove the overhead.\n",
      "[LightGBM] [Info] Total Bins 1243\n",
      "[LightGBM] [Info] Number of data points in the train set: 1537, number of used features: 11\n",
      "[LightGBM] [Info] [binary:BoostFromScore]: pavg=0.322056 -> initscore=-0.744339\n",
      "[LightGBM] [Info] Start training from score -0.744339\n",
      "Training until validation scores don't improve for 5 rounds\n",
      "Early stopping, best iteration is:\n",
      "[54]\tvalid_0's binary_logloss: 0.244987\n",
      "Best iteration: 54\n",
      "Validation accuracy: 0.8932291666666666\n",
      "Inner train shape: (1537, 14)\n",
      "val shape: (384, 14)\n",
      "[LightGBM] [Info] Number of positive: 495, number of negative: 1042\n",
      "[LightGBM] [Warning] Auto-choosing col-wise multi-threading, the overhead of testing was 0.000125 seconds.\n",
      "You can set `force_col_wise=true` to remove the overhead.\n",
      "[LightGBM] [Info] Total Bins 1251\n",
      "[LightGBM] [Info] Number of data points in the train set: 1537, number of used features: 11\n",
      "[LightGBM] [Info] [binary:BoostFromScore]: pavg=0.322056 -> initscore=-0.744339\n",
      "[LightGBM] [Info] Start training from score -0.744339\n",
      "Training until validation scores don't improve for 5 rounds\n",
      "Early stopping, best iteration is:\n",
      "[61]\tvalid_0's binary_logloss: 0.263548\n",
      "Best iteration: 61\n",
      "Validation accuracy: 0.8828125\n",
      "Inner train shape: (1537, 14)\n",
      "val shape: (384, 14)\n",
      "[LightGBM] [Info] Number of positive: 496, number of negative: 1041\n",
      "[LightGBM] [Warning] Auto-choosing col-wise multi-threading, the overhead of testing was 0.003128 seconds.\n",
      "You can set `force_col_wise=true` to remove the overhead.\n",
      "[LightGBM] [Info] Total Bins 1252\n",
      "[LightGBM] [Info] Number of data points in the train set: 1537, number of used features: 11\n",
      "[LightGBM] [Info] [binary:BoostFromScore]: pavg=0.322707 -> initscore=-0.741361\n",
      "[LightGBM] [Info] Start training from score -0.741361\n",
      "Training until validation scores don't improve for 5 rounds\n",
      "Early stopping, best iteration is:\n",
      "[57]\tvalid_0's binary_logloss: 0.264164\n",
      "Best iteration: 57\n",
      "Validation accuracy: 0.8880208333333334\n",
      "Average best iteration: 48.4\n",
      "Scaled average best iteration: 60\n",
      "[LightGBM] [Info] Number of positive: 619, number of negative: 1302\n",
      "[LightGBM] [Warning] Auto-choosing col-wise multi-threading, the overhead of testing was 0.000148 seconds.\n",
      "You can set `force_col_wise=true` to remove the overhead.\n",
      "[LightGBM] [Info] Total Bins 1269\n",
      "[LightGBM] [Info] Number of data points in the train set: 1921, number of used features: 11\n",
      "[LightGBM] [Info] [binary:BoostFromScore]: pavg=0.322228 -> initscore=-0.743552\n",
      "[LightGBM] [Info] Start training from score -0.743552\n",
      "Test accuracy: 0.9\n",
      "Outer train shape: (1921, 14)\n",
      "test shape: (480, 14)\n",
      "Inner train shape: (1536, 14)\n",
      "val shape: (385, 14)\n",
      "[LightGBM] [Info] Number of positive: 495, number of negative: 1041\n",
      "[LightGBM] [Warning] Auto-choosing col-wise multi-threading, the overhead of testing was 0.000147 seconds.\n",
      "You can set `force_col_wise=true` to remove the overhead.\n",
      "[LightGBM] [Info] Total Bins 1249\n",
      "[LightGBM] [Info] Number of data points in the train set: 1536, number of used features: 11\n",
      "[LightGBM] [Info] [binary:BoostFromScore]: pavg=0.322266 -> initscore=-0.743379\n",
      "[LightGBM] [Info] Start training from score -0.743379\n",
      "Training until validation scores don't improve for 5 rounds\n",
      "Early stopping, best iteration is:\n",
      "[52]\tvalid_0's binary_logloss: 0.247448\n",
      "Best iteration: 52\n",
      "Validation accuracy: 0.8883116883116883\n",
      "Inner train shape: (1537, 14)\n",
      "val shape: (384, 14)\n",
      "[LightGBM] [Info] Number of positive: 495, number of negative: 1042\n",
      "[LightGBM] [Warning] Auto-choosing col-wise multi-threading, the overhead of testing was 0.000133 seconds.\n",
      "You can set `force_col_wise=true` to remove the overhead.\n",
      "[LightGBM] [Info] Total Bins 1250\n",
      "[LightGBM] [Info] Number of data points in the train set: 1537, number of used features: 11\n",
      "[LightGBM] [Info] [binary:BoostFromScore]: pavg=0.322056 -> initscore=-0.744339\n",
      "[LightGBM] [Info] Start training from score -0.744339\n",
      "Training until validation scores don't improve for 5 rounds\n",
      "Early stopping, best iteration is:\n",
      "[55]\tvalid_0's binary_logloss: 0.261386\n",
      "Best iteration: 55\n",
      "Validation accuracy: 0.8880208333333334\n",
      "Inner train shape: (1537, 14)\n",
      "val shape: (384, 14)\n",
      "[LightGBM] [Info] Number of positive: 495, number of negative: 1042\n",
      "[LightGBM] [Warning] Auto-choosing col-wise multi-threading, the overhead of testing was 0.000127 seconds.\n",
      "You can set `force_col_wise=true` to remove the overhead.\n",
      "[LightGBM] [Info] Total Bins 1249\n",
      "[LightGBM] [Info] Number of data points in the train set: 1537, number of used features: 11\n",
      "[LightGBM] [Info] [binary:BoostFromScore]: pavg=0.322056 -> initscore=-0.744339\n",
      "[LightGBM] [Info] Start training from score -0.744339\n",
      "Training until validation scores don't improve for 5 rounds\n",
      "Early stopping, best iteration is:\n",
      "[38]\tvalid_0's binary_logloss: 0.32511\n",
      "Best iteration: 38\n",
      "Validation accuracy: 0.8489583333333334\n",
      "Inner train shape: (1537, 14)\n",
      "val shape: (384, 14)\n",
      "[LightGBM] [Info] Number of positive: 495, number of negative: 1042\n",
      "[LightGBM] [Warning] Auto-choosing col-wise multi-threading, the overhead of testing was 0.000140 seconds.\n",
      "You can set `force_col_wise=true` to remove the overhead.\n",
      "[LightGBM] [Info] Total Bins 1248\n",
      "[LightGBM] [Info] Number of data points in the train set: 1537, number of used features: 11\n",
      "[LightGBM] [Info] [binary:BoostFromScore]: pavg=0.322056 -> initscore=-0.744339\n",
      "[LightGBM] [Info] Start training from score -0.744339\n",
      "Training until validation scores don't improve for 5 rounds\n",
      "Early stopping, best iteration is:\n",
      "[40]\tvalid_0's binary_logloss: 0.216731\n",
      "Best iteration: 40\n",
      "Validation accuracy: 0.9166666666666666\n",
      "Inner train shape: (1537, 14)\n",
      "val shape: (384, 14)\n",
      "[LightGBM] [Info] Number of positive: 496, number of negative: 1041\n",
      "[LightGBM] [Warning] Auto-choosing col-wise multi-threading, the overhead of testing was 0.000124 seconds.\n",
      "You can set `force_col_wise=true` to remove the overhead.\n",
      "[LightGBM] [Info] Total Bins 1253\n",
      "[LightGBM] [Info] Number of data points in the train set: 1537, number of used features: 11\n",
      "[LightGBM] [Info] [binary:BoostFromScore]: pavg=0.322707 -> initscore=-0.741361\n",
      "[LightGBM] [Info] Start training from score -0.741361\n",
      "Training until validation scores don't improve for 5 rounds\n",
      "Early stopping, best iteration is:\n",
      "[49]\tvalid_0's binary_logloss: 0.251924\n",
      "Best iteration: 49\n",
      "Validation accuracy: 0.890625\n",
      "Average best iteration: 46.8\n",
      "Scaled average best iteration: 58\n",
      "[LightGBM] [Info] Number of positive: 619, number of negative: 1302\n",
      "[LightGBM] [Warning] Auto-choosing col-wise multi-threading, the overhead of testing was 0.000180 seconds.\n",
      "You can set `force_col_wise=true` to remove the overhead.\n",
      "[LightGBM] [Info] Total Bins 1265\n",
      "[LightGBM] [Info] Number of data points in the train set: 1921, number of used features: 11\n",
      "[LightGBM] [Info] [binary:BoostFromScore]: pavg=0.322228 -> initscore=-0.743552\n",
      "[LightGBM] [Info] Start training from score -0.743552\n",
      "Test accuracy: 0.8916666666666667\n"
     ]
    }
   ],
   "source": [
    "num_folds = 5\n",
    "\n",
    "# Factor to scale num_boost_rounds by in lightgbm model training\n",
    "# Factor is calculated based on the ratio of full dataset size / dataset size used for training during each fold of cross validation\n",
    "scaling_factor = num_folds / (num_folds - 1)\n",
    "\n",
    "features = ['industry', 'state', 'term', 'employee_count',\n",
    "       'business_new', 'business_type', 'other_loans', 'loan_amount',\n",
    "       'insured_amount', 'loan_insured_amount_diff', 'insured_loan_ratio']\n",
    "cat_features = ['industry', 'state', 'business_new', 'business_type', 'other_loans']\n",
    "\n",
    "# Perform nested stratified k fold cross validation\n",
    "stratified_kfold_results = nested_stratified_kfold_cv(train, features, cat_features, num_folds = 5, scaling_factor = scaling_factor)"
   ]
  },
  {
   "cell_type": "markdown",
   "metadata": {},
   "source": [
    "### Compute average model performance metrics on validation and test sets"
   ]
  },
  {
   "cell_type": "code",
   "execution_count": 28,
   "metadata": {},
   "outputs": [
    {
     "name": "stdout",
     "output_type": "stream",
     "text": [
      "Average validation model accuracy: 0.889939935064935\n",
      "Average test model accuracy: 0.9054487179487181\n",
      "Average test num_boost_rounds: 60\n"
     ]
    }
   ],
   "source": [
    "avg_val_acc = np.mean(stratified_kfold_results['val_acc'])\n",
    "avg_test_acc = np.mean(stratified_kfold_results['test_acc'])\n",
    "avg_num_boost_rounds = int(np.mean(stratified_kfold_results['test_num_boost_rounds']))\n",
    "\n",
    "print(f'Average validation model accuracy: {avg_val_acc}')\n",
    "print(f'Average test model accuracy: {avg_test_acc}')\n",
    "print(f'Average test num_boost_rounds: {avg_num_boost_rounds}')"
   ]
  },
  {
   "cell_type": "markdown",
   "metadata": {},
   "source": [
    "## Train model on full train dataset"
   ]
  },
  {
   "cell_type": "code",
   "execution_count": 29,
   "metadata": {},
   "outputs": [
    {
     "name": "stdout",
     "output_type": "stream",
     "text": [
      " Number of iterations used to train model on full dataset: 75\n",
      "[LightGBM] [Info] Number of positive: 773, number of negative: 1628\n",
      "[LightGBM] [Warning] Auto-choosing col-wise multi-threading, the overhead of testing was 0.001259 seconds.\n",
      "You can set `force_col_wise=true` to remove the overhead.\n",
      "[LightGBM] [Info] Total Bins 1281\n",
      "[LightGBM] [Info] Number of data points in the train set: 2401, number of used features: 11\n",
      "[LightGBM] [Info] [binary:BoostFromScore]: pavg=0.321949 -> initscore=-0.744828\n",
      "[LightGBM] [Info] Start training from score -0.744828\n"
     ]
    }
   ],
   "source": [
    "model_path = './models/model_final.txt'\n",
    "full_num_boost_rounds = int(np.mean(stratified_kfold_results['test_num_boost_rounds']) * scaling_factor)\n",
    "print(f' Number of iterations used to train model on full dataset: {full_num_boost_rounds}')\n",
    "final_model = train_lgb_model(\n",
    "    train = train, \n",
    "    num_boost_rounds = full_num_boost_rounds, \n",
    "    features = features, \n",
    "    cat_features = cat_features,\n",
    "    model_path = model_path,\n",
    ")"
   ]
  },
  {
   "cell_type": "markdown",
   "metadata": {},
   "source": [
    "Run model inference on test dataset and save the inference results to a csv file."
   ]
  },
  {
   "cell_type": "code",
   "execution_count": 30,
   "metadata": {},
   "outputs": [
    {
     "name": "stdout",
     "output_type": "stream",
     "text": [
      "test shape: (601, 13)\n",
      "Submissions shape: (601, 2)\n",
      "Saved submissions to submissions_addison.csv.\n"
     ]
    }
   ],
   "source": [
    "generate_submissions(final_model, test, features = features)"
   ]
  },
  {
   "cell_type": "markdown",
   "metadata": {},
   "source": [
    "### Explain how different features impact model predictions with SHAP values"
   ]
  },
  {
   "cell_type": "code",
   "execution_count": 31,
   "metadata": {},
   "outputs": [
    {
     "name": "stderr",
     "output_type": "stream",
     "text": [
      "IProgress not found. Please update jupyter and ipywidgets. See https://ipywidgets.readthedocs.io/en/stable/user_install.html\n",
      "Permutation explainer: 602it [01:06,  8.00it/s]                         \n"
     ]
    }
   ],
   "source": [
    "import shap\n",
    "\n",
    "explainer = shap.Explainer(final_model.predict, test[features])\n",
    "shap_values = explainer(test[features])"
   ]
  },
  {
   "cell_type": "markdown",
   "metadata": {},
   "source": [
    "### Overall Feature Importance"
   ]
  },
  {
   "cell_type": "code",
   "execution_count": 32,
   "metadata": {},
   "outputs": [
    {
     "data": {
      "image/png": "[encoded data removed]",
      "text/plain": [
       "<Figure size 800x700 with 1 Axes>"
      ]
     },
     "metadata": {},
     "output_type": "display_data"
    }
   ],
   "source": [
    "max_display = 11\n",
    "shap.plots.bar(shap_values, max_display = max_display)"
   ]
  },
  {
   "cell_type": "markdown",
   "metadata": {},
   "source": []
  },
  {
   "cell_type": "markdown",
   "metadata": {},
   "source": [
    "### Effect of feature values on model predictions"
   ]
  },
  {
   "cell_type": "code",
   "execution_count": 36,
   "metadata": {},
   "outputs": [
    {
     "data": {
      "image/png": "[encoded data removed]",
      "text/plain": [
       "<Figure size 800x590 with 2 Axes>"
      ]
     },
     "metadata": {},
     "output_type": "display_data"
    }
   ],
   "source": [
    "shap.summary_plot(shap_values)"
   ]
  },
  {
   "cell_type": "markdown",
   "metadata": {},
   "source": []
  },
  {
   "cell_type": "markdown",
   "metadata": {},
   "source": [
    "### Local contribution of feature values on model prediction for a single observation"
   ]
  },
  {
   "cell_type": "code",
   "execution_count": 37,
   "metadata": {},
   "outputs": [
    {
     "data": {
      "text/html": [
       "<div>\n",
       "<style scoped>\n",
       "    .dataframe tbody tr th:only-of-type {\n",
       "        vertical-align: middle;\n",
       "    }\n",
       "\n",
       "    .dataframe tbody tr th {\n",
       "        vertical-align: top;\n",
       "    }\n",
       "\n",
       "    .dataframe thead th {\n",
       "        text-align: right;\n",
       "    }\n",
       "</style>\n",
       "<table border=\"1\" class=\"dataframe\">\n",
       "  <thead>\n",
       "    <tr style=\"text-align: right;\">\n",
       "      <th></th>\n",
       "      <th>id</th>\n",
       "      <th>industry</th>\n",
       "      <th>state</th>\n",
       "      <th>request_date</th>\n",
       "      <th>term</th>\n",
       "      <th>employee_count</th>\n",
       "      <th>business_new</th>\n",
       "      <th>business_type</th>\n",
       "      <th>other_loans</th>\n",
       "      <th>loan_amount</th>\n",
       "      <th>insured_amount</th>\n",
       "      <th>loan_insured_amount_diff</th>\n",
       "      <th>insured_loan_ratio</th>\n",
       "      <th>default_status</th>\n",
       "    </tr>\n",
       "  </thead>\n",
       "  <tbody>\n",
       "    <tr>\n",
       "      <th>0</th>\n",
       "      <td>3999155010</td>\n",
       "      <td>10</td>\n",
       "      <td>4</td>\n",
       "      <td>2010-03-26</td>\n",
       "      <td>91</td>\n",
       "      <td>1</td>\n",
       "      <td>0</td>\n",
       "      <td>1</td>\n",
       "      <td>0</td>\n",
       "      <td>270000.0</td>\n",
       "      <td>243000.0</td>\n",
       "      <td>27000.0</td>\n",
       "      <td>0.9</td>\n",
       "      <td>0</td>\n",
       "    </tr>\n",
       "  </tbody>\n",
       "</table>\n",
       "</div>"
      ],
      "text/plain": [
       "           id  industry  state request_date  term  employee_count  \\\n",
       "0  3999155010        10      4   2010-03-26    91               1   \n",
       "\n",
       "   business_new  business_type  other_loans  loan_amount  insured_amount  \\\n",
       "0             0              1            0     270000.0        243000.0   \n",
       "\n",
       "   loan_insured_amount_diff  insured_loan_ratio  default_status  \n",
       "0                   27000.0                 0.9               0  "
      ]
     },
     "execution_count": 37,
     "metadata": {},
     "output_type": "execute_result"
    }
   ],
   "source": [
    "test.head(1)"
   ]
  },
  {
   "cell_type": "code",
   "execution_count": 40,
   "metadata": {},
   "outputs": [
    {
     "data": {
      "image/png": "[encoded data removed]",
      "text/plain": [
       "<Figure size 800x700 with 3 Axes>"
      ]
     },
     "metadata": {},
     "output_type": "display_data"
    }
   ],
   "source": [
    "shap.plots.waterfall(shap_values[0], max_display = max_display)"
   ]
  },
  {
   "cell_type": "code",
   "execution_count": null,
   "metadata": {},
   "outputs": [],
   "source": [
    "# TODO:\n",
    "# 1) A presentation to share your findings and takeaways to your non-technical business stakeholders to convince them that your approach is correct, effective, and deployable. "
   ]
  }
 ],
 "metadata": {
  "kernelspec": {
   "display_name": "loan-default",
   "language": "python",
   "name": "python3"
  },
  "language_info": {
   "codemirror_mode": {
    "name": "ipython",
    "version": 3
   },
   "file_extension": ".py",
   "mimetype": "text/x-python",
   "name": "python",
   "nbconvert_exporter": "python",
   "pygments_lexer": "ipython3",
   "version": "3.10.12"
  },
  "orig_nbformat": 4
 },
 "nbformat": 4,
 "nbformat_minor": 2
}
