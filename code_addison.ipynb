{
 "cells": [
  {
   "cell_type": "code",
   "execution_count": 1,
   "metadata": {},
   "outputs": [],
   "source": [
    "import pandas as pd\n",
    "\n",
    "train = pd.read_csv('data/train.csv')\n",
    "test = pd.read_csv('data/test.csv')"
   ]
  },
  {
   "cell_type": "code",
   "execution_count": 2,
   "metadata": {},
   "outputs": [],
   "source": [
    "def check_missing_columns(df: pd.DataFrame) -> pd.Series:\n",
    "    \"\"\"Check if any of the columns in the dataframe contains missing values.\n",
    "\n",
    "    Args:\n",
    "        df (pd.DataFrame): Dataframe to check.\n",
    "\n",
    "    Returns:\n",
    "        pd.Series: Series of boolean values to denote whether the column contains missing values.\n",
    "    \"\"\"\n",
    "    return df.isnull().any()"
   ]
  },
  {
   "cell_type": "markdown",
   "metadata": {},
   "source": [
    "### Sanity Checks\n",
    "\n",
    "#### Check for missing values in the datasets\n",
    "\n",
    "Check if the train dataset contains any missing values in its columns."
   ]
  },
  {
   "cell_type": "code",
   "execution_count": 3,
   "metadata": {},
   "outputs": [
    {
     "data": {
      "text/plain": [
       "id                False\n",
       "industry           True\n",
       "state             False\n",
       "request_date      False\n",
       "term              False\n",
       "employee_count    False\n",
       "business_new      False\n",
       "business_type     False\n",
       "location          False\n",
       "other_loans       False\n",
       "loan_amount       False\n",
       "insured_amount    False\n",
       "default_status    False\n",
       "dtype: bool"
      ]
     },
     "execution_count": 3,
     "metadata": {},
     "output_type": "execute_result"
    }
   ],
   "source": [
    "check_missing_columns(train)"
   ]
  },
  {
   "cell_type": "markdown",
   "metadata": {},
   "source": [
    "Industry column in train dataset contains missing values. Let's dive deeper to see how many records contains missing industry."
   ]
  },
  {
   "cell_type": "code",
   "execution_count": 4,
   "metadata": {},
   "outputs": [
    {
     "data": {
      "text/html": [
       "<div>\n",
       "<style scoped>\n",
       "    .dataframe tbody tr th:only-of-type {\n",
       "        vertical-align: middle;\n",
       "    }\n",
       "\n",
       "    .dataframe tbody tr th {\n",
       "        vertical-align: top;\n",
       "    }\n",
       "\n",
       "    .dataframe thead th {\n",
       "        text-align: right;\n",
       "    }\n",
       "</style>\n",
       "<table border=\"1\" class=\"dataframe\">\n",
       "  <thead>\n",
       "    <tr style=\"text-align: right;\">\n",
       "      <th></th>\n",
       "      <th>id</th>\n",
       "      <th>industry</th>\n",
       "      <th>state</th>\n",
       "      <th>request_date</th>\n",
       "      <th>term</th>\n",
       "      <th>employee_count</th>\n",
       "      <th>business_new</th>\n",
       "      <th>business_type</th>\n",
       "      <th>location</th>\n",
       "      <th>other_loans</th>\n",
       "      <th>loan_amount</th>\n",
       "      <th>insured_amount</th>\n",
       "      <th>default_status</th>\n",
       "    </tr>\n",
       "  </thead>\n",
       "  <tbody>\n",
       "    <tr>\n",
       "      <th>1946</th>\n",
       "      <td>3771775001</td>\n",
       "      <td>NaN</td>\n",
       "      <td>NH</td>\n",
       "      <td>20-Nov-09</td>\n",
       "      <td>12</td>\n",
       "      <td>1</td>\n",
       "      <td>New</td>\n",
       "      <td>0</td>\n",
       "      <td>Rural</td>\n",
       "      <td>N</td>\n",
       "      <td>$100.00</td>\n",
       "      <td>$75,000.00</td>\n",
       "      <td>0</td>\n",
       "    </tr>\n",
       "  </tbody>\n",
       "</table>\n",
       "</div>"
      ],
      "text/plain": [
       "              id industry state request_date  term  employee_count  \\\n",
       "1946  3771775001      NaN    NH    20-Nov-09    12               1   \n",
       "\n",
       "     business_new  business_type location other_loans loan_amount  \\\n",
       "1946          New              0    Rural           N     $100.00   \n",
       "\n",
       "     insured_amount  default_status  \n",
       "1946     $75,000.00               0  "
      ]
     },
     "execution_count": 4,
     "metadata": {},
     "output_type": "execute_result"
    }
   ],
   "source": [
    "train[train.industry.isna()]"
   ]
  },
  {
   "cell_type": "markdown",
   "metadata": {},
   "source": [
    "Let's replace that missing value with 'Unknown'"
   ]
  },
  {
   "cell_type": "code",
   "execution_count": 6,
   "metadata": {},
   "outputs": [],
   "source": [
    "train.industry = train.industry.fillna('Unknown')"
   ]
  },
  {
   "cell_type": "markdown",
   "metadata": {},
   "source": [
    "\n",
    "Check if the test dataset contains any missing values in its columns."
   ]
  },
  {
   "cell_type": "code",
   "execution_count": 8,
   "metadata": {},
   "outputs": [
    {
     "data": {
      "text/plain": [
       "id                False\n",
       "industry          False\n",
       "state             False\n",
       "request_date      False\n",
       "term              False\n",
       "employee_count    False\n",
       "business_new      False\n",
       "business_type     False\n",
       "location          False\n",
       "other_loans       False\n",
       "loan_amount       False\n",
       "insured_amount    False\n",
       "dtype: bool"
      ]
     },
     "execution_count": 8,
     "metadata": {},
     "output_type": "execute_result"
    }
   ],
   "source": [
    "check_missing_columns(test)"
   ]
  },
  {
   "cell_type": "markdown",
   "metadata": {},
   "source": [
    "Test dataset does not contain any missing values."
   ]
  },
  {
   "cell_type": "markdown",
   "metadata": {},
   "source": [
    "Check if the test dataset contains categorical values that are not present in train dataset."
   ]
  },
  {
   "cell_type": "code",
   "execution_count": 18,
   "metadata": {},
   "outputs": [],
   "source": [
    "def check_categories(test: pd.DataFrame, train: pd.DataFrame, categorical_fields: list = []) -> list:\n",
    "    \"\"\"Check if test dataset contains categorical values not present in train dataset. \n",
    "\n",
    "    Args:\n",
    "        test (pd.DataFrame): test dataset.\n",
    "        train (pd.DataFrame): train dataset.\n",
    "        categorical_fields (list, optional): columns to check. Defaults to [].\n",
    "\n",
    "    Returns:\n",
    "        list: list of columns in test dataset which contains categorical values not present in train dataset\n",
    "    \"\"\"\n",
    "    columns_missing_categories = []\n",
    "\n",
    "    for field in categorical_fields:\n",
    "        unique_train_categories = set(train[field].unique())\n",
    "        unique_test_categories = set(test[field].unique())\n",
    "\n",
    "        print(f'Checking categorical column: {field}')\n",
    "        print(f'Unique categories in train: {unique_train_categories}')\n",
    "        print(f'Unique categories in test: {unique_test_categories}')\n",
    "\n",
    "        missing_values = unique_test_categories - unique_train_categories\n",
    "        print(f'Categories in test but not train: {missing_values}\\n')\n",
    "\n",
    "        if missing_values:\n",
    "            columns_missing_categories.append(field)\n",
    "    \n",
    "    return columns_missing_categories"
   ]
  },
  {
   "cell_type": "code",
   "execution_count": 20,
   "metadata": {},
   "outputs": [
    {
     "name": "stdout",
     "output_type": "stream",
     "text": [
      "Checking categorical column: industry\n",
      "Unique categories in train: {'Transportation', 'Education', 'Others', 'Administration', 'Energy', 'Engineering', 'Trading', 'Agriculture', 'Entertainment', 'Finance', 'Unknown', 'Real Estate', 'Hotel', 'Healthcare', 'Manufacturing', 'Consulting', 'Construction'}\n",
      "Unique categories in test: {'Transportation', 'Others', 'Administration', 'Education', 'Energy', 'Trading', 'Engineering', 'Agriculture', 'Entertainment', 'Finance', 'Real Estate', 'Hotel', 'Healthcare', 'Manufacturing', 'Consulting', 'Construction'}\n",
      "Categories in test but not train: set()\n",
      "\n",
      "Checking categorical column: state\n",
      "Unique categories in train: {'NM', 'NC', 'MA', 'WA', 'WY', 'AK', 'MI', 'CA', 'OH', 'LA', 'MS', 'VA', 'MD', 'IN', 'ID', 'OR', 'IL', 'SD', 'FL', 'IA', 'NJ', 'NV', 'NY', 'MN', 'AR', 'TN', 'UT', 'KY', 'SC', 'MO', 'VT', 'GA', 'PA', 'MT', 'ME', 'KS', 'AL', 'DE', 'ND', 'NE', 'HI', 'NH', 'WV', 'CO', 'CT', 'OK', 'TX', 'WI', 'AZ', 'RI'}\n",
      "Unique categories in test: {'NM', 'NC', 'MA', 'WA', 'AK', 'MI', 'CA', 'OH', 'LA', 'MS', 'VA', 'MD', 'IN', 'ID', 'OR', 'IL', 'SD', 'FL', 'MN', 'NJ', 'NV', 'NY', 'AR', 'IA', 'TN', 'UT', 'KY', 'SC', 'MO', 'VT', 'GA', 'PA', 'MT', 'ME', 'AL', 'KS', 'DE', 'ND', 'NE', 'HI', 'NH', 'CO', 'CT', 'OK', 'TX', 'WI', 'AZ'}\n",
      "Categories in test but not train: set()\n",
      "\n",
      "Checking categorical column: business_new\n",
      "Unique categories in train: {'Existing', 'New'}\n",
      "Unique categories in test: {'Existing', 'New'}\n",
      "Categories in test but not train: set()\n",
      "\n",
      "Checking categorical column: business_type\n",
      "Unique categories in train: {0, 1}\n",
      "Unique categories in test: {0, 1}\n",
      "Categories in test but not train: set()\n",
      "\n",
      "Checking categorical column: location\n",
      "Unique categories in train: {'Rural'}\n",
      "Unique categories in test: {'Rural'}\n",
      "Categories in test but not train: set()\n",
      "\n",
      "Checking categorical column: other_loans\n",
      "Unique categories in train: {'Y', 'N'}\n",
      "Unique categories in test: {'Y', 'N'}\n",
      "Categories in test but not train: set()\n",
      "\n"
     ]
    },
    {
     "data": {
      "text/plain": [
       "[]"
      ]
     },
     "execution_count": 20,
     "metadata": {},
     "output_type": "execute_result"
    }
   ],
   "source": [
    "columns_missing_categories = check_categories(\n",
    "    test, train, \n",
    "    categorical_fields = ['industry', 'state', 'business_new', 'business_type', 'location', 'other_loans']\n",
    ")\n",
    "columns_missing_categories"
   ]
  },
  {
   "cell_type": "markdown",
   "metadata": {},
   "source": [
    "All of the categorical values present in test dataset can also be found in the train dataset."
   ]
  },
  {
   "cell_type": "code",
   "execution_count": 10,
   "metadata": {},
   "outputs": [
    {
     "data": {
      "text/html": [
       "<div>\n",
       "<style scoped>\n",
       "    .dataframe tbody tr th:only-of-type {\n",
       "        vertical-align: middle;\n",
       "    }\n",
       "\n",
       "    .dataframe tbody tr th {\n",
       "        vertical-align: top;\n",
       "    }\n",
       "\n",
       "    .dataframe thead th {\n",
       "        text-align: right;\n",
       "    }\n",
       "</style>\n",
       "<table border=\"1\" class=\"dataframe\">\n",
       "  <thead>\n",
       "    <tr style=\"text-align: right;\">\n",
       "      <th></th>\n",
       "      <th>id</th>\n",
       "      <th>industry</th>\n",
       "      <th>state</th>\n",
       "      <th>request_date</th>\n",
       "      <th>term</th>\n",
       "      <th>employee_count</th>\n",
       "      <th>business_new</th>\n",
       "      <th>business_type</th>\n",
       "      <th>location</th>\n",
       "      <th>other_loans</th>\n",
       "      <th>loan_amount</th>\n",
       "      <th>insured_amount</th>\n",
       "      <th>default_status</th>\n",
       "    </tr>\n",
       "  </thead>\n",
       "  <tbody>\n",
       "    <tr>\n",
       "      <th>0</th>\n",
       "      <td>4050975007</td>\n",
       "      <td>Others</td>\n",
       "      <td>VA</td>\n",
       "      <td>27-Apr-10</td>\n",
       "      <td>34</td>\n",
       "      <td>4</td>\n",
       "      <td>New</td>\n",
       "      <td>0</td>\n",
       "      <td>Rural</td>\n",
       "      <td>N</td>\n",
       "      <td>$35,000.00</td>\n",
       "      <td>$35,000.00</td>\n",
       "      <td>1</td>\n",
       "    </tr>\n",
       "  </tbody>\n",
       "</table>\n",
       "</div>"
      ],
      "text/plain": [
       "           id industry state request_date  term  employee_count business_new  \\\n",
       "0  4050975007   Others    VA    27-Apr-10    34               4          New   \n",
       "\n",
       "   business_type location other_loans loan_amount insured_amount  \\\n",
       "0              0    Rural           N  $35,000.00     $35,000.00   \n",
       "\n",
       "   default_status  \n",
       "0               1  "
      ]
     },
     "execution_count": 10,
     "metadata": {},
     "output_type": "execute_result"
    }
   ],
   "source": [
    "train.head(1)"
   ]
  },
  {
   "cell_type": "code",
   "execution_count": 11,
   "metadata": {},
   "outputs": [
    {
     "data": {
      "text/plain": [
       "Index(['id', 'industry', 'state', 'request_date', 'term', 'employee_count',\n",
       "       'business_new', 'business_type', 'location', 'other_loans',\n",
       "       'loan_amount', 'insured_amount', 'default_status'],\n",
       "      dtype='object')"
      ]
     },
     "execution_count": 11,
     "metadata": {},
     "output_type": "execute_result"
    }
   ],
   "source": [
    "train.columns"
   ]
  },
  {
   "cell_type": "code",
   "execution_count": null,
   "metadata": {},
   "outputs": [],
   "source": [
    "# TODO:\n",
    "# 1) Sanity check for missing values in train, test (Done)\n",
    "# 2) Sanity check for categorical values that exist in test but not in train (Done)\n",
    "# 3) Cast 'request_date' to pandas datetime\n",
    "# 4) Cast 'loan_amount' and 'insured_amount' to float\n",
    "# 5) Create new feature, 'loan_insured_amount_diff', 'loan_amount' - 'insured_amount' \n",
    "# 6) Check request_date distribution, i.e. min and max date (I don't think we should generate features based on this, but if really want, we can generate day of week (1 - 7), day of month (1 - 31), week number (1 - 52), month (1 - 12), year (2009 - 2010))\n",
    "# 7) Check probability distribution of categorical features ('industry', 'state', 'business_new', 'business_type', 'location', 'other_loans') (5 bar plots?)\n",
    "# 8) Check distribution of 'term', 'employee_count', 'loan_amount', 'insured_amount' and 'loan_insured_amount_diff' + date based features (df.describe) (5 + 5 box/violin plots?)\n",
    "# 9) Plot probability of default_status vs each categorical value (in 1 plot) for each categorical feature (5 bar plots)\n",
    "# 10) Plot distribution of numerical feature for each default_status (5 + 5 bar/violin plots?)\n",
    "# 11) Encode categorical features with LabelEncoder ('industry', 'state', 'business_new', 'business_type', 'location', 'other_loans')\n",
    "# 12) Add steps 3, 4, 5, 6, 11 to pipeline for data preprocessing before ingestion into model for inference\n",
    "# 13) Perform stratified k-fold validation to estimate the final number of training iterations and the average model performance on full dataset; total 16 features\n",
    "# 14) Train model on full dataset based on the final number of training iterations derived from step 13\n",
    "# 15) Use SHAP values to explain the contribution of each feature on the predictions (train/test dataset) + generate feature importance\n",
    "# 16) Perform probability calibration (i.e. Platt Scaling/Isotonic Regression via CalibratedClassifierCV class) on the trained LightGBM model as the scores returned by the model is not true probability; have to perform this step in each fold of k-fold cross validation\n",
    "# 17) Calculate ROC AUC based on calibrated probabilities\n",
    "# 18) Plot ROC AUC/Precision Recall curve to determine the optimal probability threshold to set to predict default_status 1\n",
    "# 19) Try multiple models (i.e Logistic Regression, LinearSVC) as part of model selection?\n",
    "# 20) Feature selection? Feature importance based on SHAP values\n",
    "# 21) A presentation to share your findings and takeaways to your non-technical business stakeholders to convince them that your approach is correct, effective, and deployable. "
   ]
  },
  {
   "cell_type": "code",
   "execution_count": 26,
   "metadata": {},
   "outputs": [
    {
     "data": {
      "text/plain": [
       "business_type\n",
       "0    2270\n",
       "1     132\n",
       "Name: count, dtype: int64"
      ]
     },
     "execution_count": 26,
     "metadata": {},
     "output_type": "execute_result"
    }
   ],
   "source": [
    "train.business_type.value_counts(dropna = False)"
   ]
  },
  {
   "cell_type": "code",
   "execution_count": 25,
   "metadata": {},
   "outputs": [
    {
     "data": {
      "text/plain": [
       "Index(['id', 'industry', 'state', 'request_date', 'term', 'employee_count',\n",
       "       'business_new', 'business_type', 'location', 'other_loans',\n",
       "       'loan_amount', 'insured_amount', 'default_status'],\n",
       "      dtype='object')"
      ]
     },
     "execution_count": 25,
     "metadata": {},
     "output_type": "execute_result"
    }
   ],
   "source": [
    "train.columns"
   ]
  },
  {
   "cell_type": "code",
   "execution_count": 24,
   "metadata": {},
   "outputs": [
    {
     "data": {
      "text/html": [
       "<div>\n",
       "<style scoped>\n",
       "    .dataframe tbody tr th:only-of-type {\n",
       "        vertical-align: middle;\n",
       "    }\n",
       "\n",
       "    .dataframe tbody tr th {\n",
       "        vertical-align: top;\n",
       "    }\n",
       "\n",
       "    .dataframe thead th {\n",
       "        text-align: right;\n",
       "    }\n",
       "</style>\n",
       "<table border=\"1\" class=\"dataframe\">\n",
       "  <thead>\n",
       "    <tr style=\"text-align: right;\">\n",
       "      <th></th>\n",
       "      <th>index</th>\n",
       "      <th>0</th>\n",
       "    </tr>\n",
       "  </thead>\n",
       "  <tbody>\n",
       "    <tr>\n",
       "      <th>0</th>\n",
       "      <td>id</td>\n",
       "      <td>False</td>\n",
       "    </tr>\n",
       "    <tr>\n",
       "      <th>1</th>\n",
       "      <td>industry</td>\n",
       "      <td>True</td>\n",
       "    </tr>\n",
       "    <tr>\n",
       "      <th>2</th>\n",
       "      <td>state</td>\n",
       "      <td>False</td>\n",
       "    </tr>\n",
       "    <tr>\n",
       "      <th>3</th>\n",
       "      <td>request_date</td>\n",
       "      <td>False</td>\n",
       "    </tr>\n",
       "    <tr>\n",
       "      <th>4</th>\n",
       "      <td>term</td>\n",
       "      <td>False</td>\n",
       "    </tr>\n",
       "    <tr>\n",
       "      <th>5</th>\n",
       "      <td>employee_count</td>\n",
       "      <td>False</td>\n",
       "    </tr>\n",
       "    <tr>\n",
       "      <th>6</th>\n",
       "      <td>business_new</td>\n",
       "      <td>False</td>\n",
       "    </tr>\n",
       "    <tr>\n",
       "      <th>7</th>\n",
       "      <td>business_type</td>\n",
       "      <td>False</td>\n",
       "    </tr>\n",
       "    <tr>\n",
       "      <th>8</th>\n",
       "      <td>location</td>\n",
       "      <td>False</td>\n",
       "    </tr>\n",
       "    <tr>\n",
       "      <th>9</th>\n",
       "      <td>other_loans</td>\n",
       "      <td>False</td>\n",
       "    </tr>\n",
       "    <tr>\n",
       "      <th>10</th>\n",
       "      <td>loan_amount</td>\n",
       "      <td>False</td>\n",
       "    </tr>\n",
       "    <tr>\n",
       "      <th>11</th>\n",
       "      <td>insured_amount</td>\n",
       "      <td>False</td>\n",
       "    </tr>\n",
       "    <tr>\n",
       "      <th>12</th>\n",
       "      <td>default_status</td>\n",
       "      <td>False</td>\n",
       "    </tr>\n",
       "  </tbody>\n",
       "</table>\n",
       "</div>"
      ],
      "text/plain": [
       "             index      0\n",
       "0               id  False\n",
       "1         industry   True\n",
       "2            state  False\n",
       "3     request_date  False\n",
       "4             term  False\n",
       "5   employee_count  False\n",
       "6     business_new  False\n",
       "7    business_type  False\n",
       "8         location  False\n",
       "9      other_loans  False\n",
       "10     loan_amount  False\n",
       "11  insured_amount  False\n",
       "12  default_status  False"
      ]
     },
     "execution_count": 24,
     "metadata": {},
     "output_type": "execute_result"
    }
   ],
   "source": [
    "train.isnull().any().reset_index()"
   ]
  },
  {
   "cell_type": "code",
   "execution_count": 22,
   "metadata": {},
   "outputs": [
    {
     "data": {
      "text/plain": [
       "{'Administration',\n",
       " 'Agriculture',\n",
       " 'Construction',\n",
       " 'Consulting',\n",
       " 'Education',\n",
       " 'Energy',\n",
       " 'Engineering',\n",
       " 'Entertainment',\n",
       " 'Finance',\n",
       " 'Healthcare',\n",
       " 'Hotel',\n",
       " 'Manufacturing',\n",
       " 'Others',\n",
       " 'Real Estate',\n",
       " 'Trading',\n",
       " 'Transportation',\n",
       " nan}"
      ]
     },
     "execution_count": 22,
     "metadata": {},
     "output_type": "execute_result"
    }
   ],
   "source": [
    "set(train.industry.unique())"
   ]
  },
  {
   "cell_type": "code",
   "execution_count": 19,
   "metadata": {},
   "outputs": [
    {
     "data": {
      "text/plain": [
       "array(['Hotel', 'Construction', 'Transportation', 'Healthcare',\n",
       "       'Consulting', 'Others', 'Trading', 'Manufacturing',\n",
       "       'Administration', 'Agriculture', 'Finance', 'Entertainment',\n",
       "       'Engineering', 'Real Estate', 'Education', 'Energy'], dtype=object)"
      ]
     },
     "execution_count": 19,
     "metadata": {},
     "output_type": "execute_result"
    }
   ],
   "source": [
    "test.industry.unique()"
   ]
  },
  {
   "cell_type": "code",
   "execution_count": 16,
   "metadata": {},
   "outputs": [
    {
     "data": {
      "text/html": [
       "<div>\n",
       "<style scoped>\n",
       "    .dataframe tbody tr th:only-of-type {\n",
       "        vertical-align: middle;\n",
       "    }\n",
       "\n",
       "    .dataframe tbody tr th {\n",
       "        vertical-align: top;\n",
       "    }\n",
       "\n",
       "    .dataframe thead th {\n",
       "        text-align: right;\n",
       "    }\n",
       "</style>\n",
       "<table border=\"1\" class=\"dataframe\">\n",
       "  <thead>\n",
       "    <tr style=\"text-align: right;\">\n",
       "      <th></th>\n",
       "      <th>id</th>\n",
       "      <th>industry</th>\n",
       "      <th>state</th>\n",
       "      <th>request_date</th>\n",
       "      <th>term</th>\n",
       "      <th>employee_count</th>\n",
       "      <th>business_new</th>\n",
       "      <th>business_type</th>\n",
       "      <th>location</th>\n",
       "      <th>other_loans</th>\n",
       "      <th>loan_amount</th>\n",
       "      <th>insured_amount</th>\n",
       "      <th>default_status</th>\n",
       "    </tr>\n",
       "  </thead>\n",
       "  <tbody>\n",
       "    <tr>\n",
       "      <th>1946</th>\n",
       "      <td>3771775001</td>\n",
       "      <td>NaN</td>\n",
       "      <td>NH</td>\n",
       "      <td>20-Nov-09</td>\n",
       "      <td>12</td>\n",
       "      <td>1</td>\n",
       "      <td>New</td>\n",
       "      <td>0</td>\n",
       "      <td>Rural</td>\n",
       "      <td>N</td>\n",
       "      <td>$100.00</td>\n",
       "      <td>$75,000.00</td>\n",
       "      <td>0</td>\n",
       "    </tr>\n",
       "  </tbody>\n",
       "</table>\n",
       "</div>"
      ],
      "text/plain": [
       "              id industry state request_date  term  employee_count  \\\n",
       "1946  3771775001      NaN    NH    20-Nov-09    12               1   \n",
       "\n",
       "     business_new  business_type location other_loans loan_amount  \\\n",
       "1946          New              0    Rural           N     $100.00   \n",
       "\n",
       "     insured_amount  default_status  \n",
       "1946     $75,000.00               0  "
      ]
     },
     "execution_count": 16,
     "metadata": {},
     "output_type": "execute_result"
    }
   ],
   "source": [
    "train[train.industry.isna()]"
   ]
  },
  {
   "cell_type": "code",
   "execution_count": 13,
   "metadata": {},
   "outputs": [
    {
     "data": {
      "text/plain": [
       "0      2010-04-27\n",
       "1      2009-11-05\n",
       "2      2010-02-26\n",
       "3      2010-06-10\n",
       "4      2010-09-23\n",
       "          ...    \n",
       "2397   2009-11-12\n",
       "2398   2010-07-08\n",
       "2399   2010-05-28\n",
       "2400   2010-08-12\n",
       "2401   2010-05-20\n",
       "Name: request_date, Length: 2402, dtype: datetime64[ns]"
      ]
     },
     "execution_count": 13,
     "metadata": {},
     "output_type": "execute_result"
    }
   ],
   "source": [
    "pd.to_datetime(train.request_date, format = '%d-%b-%y')"
   ]
  },
  {
   "cell_type": "code",
   "execution_count": 6,
   "metadata": {},
   "outputs": [
    {
     "data": {
      "text/plain": [
       "2402"
      ]
     },
     "execution_count": 6,
     "metadata": {},
     "output_type": "execute_result"
    }
   ],
   "source": [
    "len(train.id.unique())"
   ]
  },
  {
   "cell_type": "code",
   "execution_count": 4,
   "metadata": {},
   "outputs": [
    {
     "data": {
      "text/plain": [
       "id                 int64\n",
       "industry          object\n",
       "state             object\n",
       "request_date      object\n",
       "term               int64\n",
       "employee_count     int64\n",
       "business_new      object\n",
       "business_type      int64\n",
       "location          object\n",
       "other_loans       object\n",
       "loan_amount       object\n",
       "insured_amount    object\n",
       "default_status     int64\n",
       "dtype: object"
      ]
     },
     "execution_count": 4,
     "metadata": {},
     "output_type": "execute_result"
    }
   ],
   "source": [
    "train.dtypes"
   ]
  },
  {
   "cell_type": "code",
   "execution_count": 7,
   "metadata": {},
   "outputs": [
    {
     "data": {
      "text/html": [
       "<div>\n",
       "<style scoped>\n",
       "    .dataframe tbody tr th:only-of-type {\n",
       "        vertical-align: middle;\n",
       "    }\n",
       "\n",
       "    .dataframe tbody tr th {\n",
       "        vertical-align: top;\n",
       "    }\n",
       "\n",
       "    .dataframe thead th {\n",
       "        text-align: right;\n",
       "    }\n",
       "</style>\n",
       "<table border=\"1\" class=\"dataframe\">\n",
       "  <thead>\n",
       "    <tr style=\"text-align: right;\">\n",
       "      <th></th>\n",
       "      <th>id</th>\n",
       "      <th>industry</th>\n",
       "      <th>state</th>\n",
       "      <th>request_date</th>\n",
       "      <th>term</th>\n",
       "      <th>employee_count</th>\n",
       "      <th>business_new</th>\n",
       "      <th>business_type</th>\n",
       "      <th>location</th>\n",
       "      <th>other_loans</th>\n",
       "      <th>loan_amount</th>\n",
       "      <th>insured_amount</th>\n",
       "      <th>default_status</th>\n",
       "    </tr>\n",
       "  </thead>\n",
       "  <tbody>\n",
       "    <tr>\n",
       "      <th>0</th>\n",
       "      <td>4050975007</td>\n",
       "      <td>Others</td>\n",
       "      <td>VA</td>\n",
       "      <td>27-Apr-10</td>\n",
       "      <td>34</td>\n",
       "      <td>4</td>\n",
       "      <td>New</td>\n",
       "      <td>0</td>\n",
       "      <td>Rural</td>\n",
       "      <td>N</td>\n",
       "      <td>$35,000.00</td>\n",
       "      <td>$35,000.00</td>\n",
       "      <td>1</td>\n",
       "    </tr>\n",
       "    <tr>\n",
       "      <th>1</th>\n",
       "      <td>3735095001</td>\n",
       "      <td>Manufacturing</td>\n",
       "      <td>CA</td>\n",
       "      <td>05-Nov-09</td>\n",
       "      <td>107</td>\n",
       "      <td>1</td>\n",
       "      <td>New</td>\n",
       "      <td>0</td>\n",
       "      <td>Rural</td>\n",
       "      <td>N</td>\n",
       "      <td>$15,000.00</td>\n",
       "      <td>$13,500.00</td>\n",
       "      <td>1</td>\n",
       "    </tr>\n",
       "    <tr>\n",
       "      <th>2</th>\n",
       "      <td>3936555004</td>\n",
       "      <td>Trading</td>\n",
       "      <td>CA</td>\n",
       "      <td>26-Feb-10</td>\n",
       "      <td>84</td>\n",
       "      <td>1</td>\n",
       "      <td>New</td>\n",
       "      <td>0</td>\n",
       "      <td>Rural</td>\n",
       "      <td>Y</td>\n",
       "      <td>$265,000.00</td>\n",
       "      <td>$100,000.00</td>\n",
       "      <td>0</td>\n",
       "    </tr>\n",
       "    <tr>\n",
       "      <th>3</th>\n",
       "      <td>4130405000</td>\n",
       "      <td>Engineering</td>\n",
       "      <td>MI</td>\n",
       "      <td>10-Jun-10</td>\n",
       "      <td>240</td>\n",
       "      <td>21</td>\n",
       "      <td>New</td>\n",
       "      <td>0</td>\n",
       "      <td>Rural</td>\n",
       "      <td>N</td>\n",
       "      <td>$255,000.00</td>\n",
       "      <td>$255,000.00</td>\n",
       "      <td>0</td>\n",
       "    </tr>\n",
       "    <tr>\n",
       "      <th>4</th>\n",
       "      <td>4263615008</td>\n",
       "      <td>Education</td>\n",
       "      <td>NH</td>\n",
       "      <td>23-Sep-10</td>\n",
       "      <td>36</td>\n",
       "      <td>1</td>\n",
       "      <td>Existing</td>\n",
       "      <td>0</td>\n",
       "      <td>Rural</td>\n",
       "      <td>N</td>\n",
       "      <td>$13,300.00</td>\n",
       "      <td>$6,650.00</td>\n",
       "      <td>0</td>\n",
       "    </tr>\n",
       "  </tbody>\n",
       "</table>\n",
       "</div>"
      ],
      "text/plain": [
       "           id       industry state request_date  term  employee_count  \\\n",
       "0  4050975007         Others    VA    27-Apr-10    34               4   \n",
       "1  3735095001  Manufacturing    CA    05-Nov-09   107               1   \n",
       "2  3936555004        Trading    CA    26-Feb-10    84               1   \n",
       "3  4130405000    Engineering    MI    10-Jun-10   240              21   \n",
       "4  4263615008      Education    NH    23-Sep-10    36               1   \n",
       "\n",
       "  business_new  business_type location other_loans  loan_amount  \\\n",
       "0          New              0    Rural           N   $35,000.00   \n",
       "1          New              0    Rural           N   $15,000.00   \n",
       "2          New              0    Rural           Y  $265,000.00   \n",
       "3          New              0    Rural           N  $255,000.00   \n",
       "4     Existing              0    Rural           N   $13,300.00   \n",
       "\n",
       "  insured_amount  default_status  \n",
       "0     $35,000.00               1  \n",
       "1     $13,500.00               1  \n",
       "2    $100,000.00               0  \n",
       "3    $255,000.00               0  \n",
       "4      $6,650.00               0  "
      ]
     },
     "execution_count": 7,
     "metadata": {},
     "output_type": "execute_result"
    }
   ],
   "source": [
    "train.head()"
   ]
  },
  {
   "cell_type": "code",
   "execution_count": 10,
   "metadata": {},
   "outputs": [
    {
     "data": {
      "text/plain": [
       "other_loans\n",
       "N    0.724813\n",
       "Y    0.275187\n",
       "Name: count, dtype: float64"
      ]
     },
     "execution_count": 10,
     "metadata": {},
     "output_type": "execute_result"
    }
   ],
   "source": [
    "train.other_loans.value_counts(dropna = False) / train.shape[0]"
   ]
  }
 ],
 "metadata": {
  "kernelspec": {
   "display_name": "loan-default",
   "language": "python",
   "name": "python3"
  },
  "language_info": {
   "codemirror_mode": {
    "name": "ipython",
    "version": 3
   },
   "file_extension": ".py",
   "mimetype": "text/x-python",
   "name": "python",
   "nbconvert_exporter": "python",
   "pygments_lexer": "ipython3",
   "version": "3.10.12"
  },
  "orig_nbformat": 4
 },
 "nbformat": 4,
 "nbformat_minor": 2
}
